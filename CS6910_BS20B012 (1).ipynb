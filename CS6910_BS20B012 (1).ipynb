{
 "cells": [
  {
   "cell_type": "markdown",
   "metadata": {
    "id": "sp4aikCcW-5K"
   },
   "source": [
    "### IMPORTING LIBRARIES"
   ]
  },
  {
   "cell_type": "code",
   "execution_count": 1,
   "metadata": {
    "id": "am22A5hWwqIl"
   },
   "outputs": [],
   "source": [
    "from keras.datasets import fashion_mnist\n",
    "import numpy as np\n",
    "import matplotlib.pyplot as plt\n",
    "import copy \n",
    "import random\n",
    "import tensorflow as tf\n",
    "from tqdm import tqdm"
   ]
  },
  {
   "cell_type": "code",
   "execution_count": 2,
   "metadata": {
    "colab": {
     "base_uri": "https://localhost:8080/"
    },
    "id": "-0uslSo6wvaS",
    "outputId": "9bc776f2-e0da-41fc-8275-0034a92221e9"
   },
   "outputs": [],
   "source": [
    "!pip install wandb -qqq\n",
    "import wandb"
   ]
  },
  {
   "cell_type": "code",
   "execution_count": 3,
   "metadata": {
    "id": "XHQSqKz-wxOF"
   },
   "outputs": [],
   "source": [
    "# A function to load and return our dataset followed by another function to convert label to name\n",
    "def load_dataset():\n",
    "    (X_train, Y_train), (X_test, Y_test) = fashion_mnist.load_data()\n",
    "    return {\n",
    "            'X_train': X_train,\n",
    "            'Y_train': Y_train,\n",
    "            'X_test': X_test,\n",
    "            'Y_test': Y_test\n",
    "        }\n",
    "\n",
    "#A dictionary is created for the class labels and class id \n",
    "class_labels={0:'T-shirt',1:'Trouser',2:'Pullover',3:'Dress',4:'Coat',5:'Sandal',6:'Shirt',7:'Sneaker',8:'Bag',9:'Ankle_Boot'}\n",
    "\n",
    "def label_to_name(label):\n",
    "  if enumerate(label):\n",
    "    l_names=[]\n",
    "    for l in label:\n",
    "      l_names.append(class_labels[l])\n",
    "    return l_names\n",
    "  else:\n",
    "    return class_labels[label]"
   ]
  },
  {
   "cell_type": "markdown",
   "metadata": {
    "id": "qhRK9L8oXnZ-"
   },
   "source": [
    "### WANDB LOGIN"
   ]
  },
  {
   "cell_type": "code",
   "execution_count": 4,
   "metadata": {
    "colab": {
     "base_uri": "https://localhost:8080/"
    },
    "id": "2JOXMolAx20p",
    "outputId": "23094042-71c0-48ea-8f0d-89cd72ea90d2"
   },
   "outputs": [
    {
     "name": "stderr",
     "output_type": "stream",
     "text": [
      "wandb: ERROR Find detailed error logs at: C:\\Users\\bones\\wandb\\debug-cli.bones.log\n",
      "Error: api_key not configured (no-tty). call wandb login [your_api_key]\n"
     ]
    }
   ],
   "source": [
    "#Wandb login\n",
    "!wandb login --relogin\n",
    "entity_name=\"bs20b012\"\n",
    "project_name=\"CS6910\""
   ]
  },
  {
   "cell_type": "code",
   "execution_count": 5,
   "metadata": {
    "id": "gQ_OCNeEw3h7"
   },
   "outputs": [],
   "source": [
    "''' \n",
    "A function used for loading the images and plots from the dataset acordingly\n",
    "'''\n",
    "def log_images():\n",
    "  images=[]\n",
    "  labels=[]\n",
    "  dataset=load_dataset()\n",
    "  X_train=dataset['X_train']\n",
    "  y_train=dataset['Y_train']\n",
    "  wandb.init(entity=entity_name,project=project_name, name=\"log_images\")\n",
    "  for i in range(100):\n",
    "    if len(labels)==10:\n",
    "      break\n",
    "    if class_labels[y_train[i]] not in labels:\n",
    "      images.append(X_train[i])\n",
    "      labels.append(class_labels[y_train[i]])\n",
    "  wandb.log({\"Images\": [wandb.Image(img, caption=caption) for img, caption in zip(images,labels)]})"
   ]
  },
  {
   "cell_type": "code",
   "execution_count": 6,
   "metadata": {
    "id": "SMeU4Vsicaoh"
   },
   "outputs": [],
   "source": [
    "''' \n",
    "The following class conatins all required functions for the layer construction such as,\n",
    "1)Sigmoid\n",
    "2)Sigmoid derivative\n",
    "3)Relu\n",
    "4)Relu derivative\n",
    "5)Tanh\n",
    "6)Tanh derivative\n",
    "7)Softmax derivative\n",
    "\n",
    "Softmax (final layer activation)\n",
    "Derivative function to calculate gradient \n",
    "'''\n",
    "\n",
    "class activation(): \n",
    "  def __init__(self,a):\n",
    "    self.a=a\n",
    "\n",
    "  def sigmoid(self,a):\n",
    "    try:\n",
    "      return (1.0/(1.0+np.exp(-a)))\n",
    "    except:\n",
    "      print(\"error\")\n",
    "\n",
    "  def relu(self,a):\n",
    "    return (np.maximum(0,a))\n",
    "\n",
    "  def tanh(self,a):\n",
    "    return np.tanh(a)\n",
    "\n",
    "  def softmax(self,a):\n",
    "    try:\n",
    "      return(np.exp(a)/np.sum(np.exp(a)))\n",
    "    except:\n",
    "      print(\"error\")\n",
    "\n",
    "  def sigmoid_derivative(self,x):\n",
    "    return self.sigmoid(x)*(1-self.sigmoid(x))\n",
    "\n",
    "  def tanh_derivative(self,x):\n",
    "    return 1.0 -self.tanh(x)**2\n",
    "\n",
    "  def relu_derivative(self,x):\n",
    "    return 1. * (x>0)\n",
    "     \n",
    "  def softmax_derivative(self,x):\n",
    "    return self.softmax(x) * (1-self.softmax(x))\n",
    "\n",
    "  def derivative(self,x,activation):\n",
    "    if activation == \"sigmoid\":\n",
    "      return self.sigmoid_derivative(x)\n",
    "    elif activation == \"tanh\":\n",
    "      return self.tanh_derivative(x)\n",
    "    elif activation == \"relu\":\n",
    "      return self.relu_derivative(x)"
   ]
  },
  {
   "cell_type": "code",
   "execution_count": 7,
   "metadata": {
    "id": "55iTx2uL1Z_0"
   },
   "outputs": [],
   "source": [
    "''' \n",
    "This class contains several weight init methodssuch as:\n",
    "\n",
    "1) Xavier(layers) : With n being the number of inputs to the node, the xavier initialization method \n",
    "                generates a random number with a homogeneous probability distribution (U) \n",
    "                between -(1/sqrt(n)) and 1/sqrt(n).\n",
    "\n",
    "2) Random(layers) : Random initialization using numpy random library\n",
    "\n",
    "'''\n",
    "\n",
    "class weights():\n",
    "  def __init__(self,layers):\n",
    "    self.layers=layers\n",
    "\n",
    "  def Xavier(self,layers):\n",
    "    params = {}\n",
    "    for i in range(1,len(layers)):\n",
    "       norm_xav=np.sqrt(6)/np.sqrt(layers[i]+layers[i-1])\n",
    "       params[\"w\"+str(i)]=np.random.randn(layers[i],layers[i-1])*norm_xav\n",
    "       params[\"b\"+str(i)]=np.zeros((layers[i],1))\n",
    "    return params\n",
    "\n",
    "  def Random(self,layers):\n",
    "    params = {}\n",
    "    for i in range(1,len(layers)):\n",
    "       params[\"w\"+str(i)]=0.01*np.random.randn(layers[i],layers[i-1])\n",
    "       params[\"b\"+str(i)]=0.01*np.random.randn(layers[i],1)\n",
    "    return params\n",
    "\n",
    "  def weight_init(self,init_type = \"random\"):\n",
    "    params={}\n",
    "    if(init_type==\"xavier\"):\n",
    "      params = self.Xavier(self.layers)\n",
    "    elif(init_type==\"random\"):\n",
    "      params = self.Random(self.layers)\n",
    "    else:\n",
    "      print(\"invalid activation function\")\n",
    "    return params"
   ]
  },
  {
   "cell_type": "code",
   "execution_count": 8,
   "metadata": {
    "id": "gP-wp4N2ajjW"
   },
   "outputs": [],
   "source": [
    "''' \n",
    "LOSS FUNCTIONS:\n",
    "\n",
    "The following loss functions are defined in the given snippet below,\n",
    "1) Mean Squared loss\n",
    "2) CrossEntropy loss\n",
    "\n",
    "\n",
    "\n",
    "L2 REGULARIZATION:\n",
    "\n",
    "The regularization method of L2 regularization method is included, \n",
    "it is added to the existing loss function chosen \n",
    "The value of lambda is an hyperparameter that  can be personalized to user's wish\n",
    "'''\n",
    "\n",
    "def squared_loss(y, y_hat):\n",
    "  error = np.sum(((y - y_hat)**2) / (2 * len(y)))\n",
    "  return error\n",
    "\n",
    "def CrossEntropy(y, y_hat):\n",
    "  if y_hat == 0:\n",
    "    error = - np.sum( np.multiply(y ,np.clip(np.log(y_hat,1e-8,1-1e-8) )))/len(y)\n",
    "  else:\n",
    "    error = - np.sum( np.multiply(y , np.log(y_hat)))/len(y)\n",
    "  return error\n",
    "\n",
    "def loss_calc(loss_name, y, y_hat, lambd, layers, parameters):\n",
    "  loss=0\n",
    "  if(loss_name == \"squared_loss\"):\n",
    "    loss=squared_loss(y, y_hat)\n",
    "  elif(loss_name == \"cross_entropy\"):\n",
    "    loss= CrossEntropy(y, y_hat)\n",
    "\n",
    "  reg_loss = 0.0\n",
    "  for i in range(len(layers)-1, 0, -1):\n",
    "    reg_loss = reg_loss + (np.sum(parameters[\"w\"+str(i)]))**2\n",
    "  reg_loss = loss + ((lambd/(2*len(y)))*(reg_loss))\n",
    "  return reg_loss"
   ]
  },
  {
   "cell_type": "code",
   "execution_count": 9,
   "metadata": {
    "id": "CqEVmsE7qx6S"
   },
   "outputs": [],
   "source": [
    "'''\n",
    "The Class Network is used to perform forward as well as backward pass \n",
    "FUNCTIONS:\n",
    "def __init__(X,y,params,active,layers,loss_type) is the function used for intializing instances \n",
    "forward_prop() is the function for forward propagation\n",
    "backward_prop() is the function for backward propagation\n",
    "\n",
    "'''\n",
    "\n",
    "class network():\n",
    "  def __init__(self,X,y,params,active,layers,loss_type):\n",
    "    self.X=X\n",
    "    self.y=y\n",
    "    self.params=params\n",
    "    self.active=active\n",
    "    self.layers=layers\n",
    "    self.loss_type=loss_type\n",
    "\n",
    "  def forward_prop(self):\n",
    "   out=copy.deepcopy(self.X)\n",
    "   out=out.reshape(-1,1)\n",
    "   h=[out]\n",
    "   a=[out] \n",
    "\n",
    "   act=activation(a)\n",
    "\n",
    "   if(self.active==\"sigmoid\"):\n",
    "     for i in range(1,len(self.layers)-1):\n",
    "       weights = self.params[\"w\"+str(i)]\n",
    "       biases = self.params[\"b\"+str(i)]\n",
    "\n",
    "       out = np.dot(weights,h[i-1])+biases\n",
    "       a.append(out)\n",
    "       post_a = act.sigmoid(out)\n",
    "       h.append(post_a)\n",
    "  \n",
    "   elif(self.active==\"tanh\"):\n",
    "     for i in range(1,len(self.layers)-1):\n",
    "       weights=self.params[\"w\"+str(i)]\n",
    "       biases=self.params[\"b\"+str(i)]\n",
    "      \n",
    "       out=np.dot(weights,h[i-1])+biases\n",
    "       a.append(out)\n",
    "       post_a=act.tanh(out)\n",
    "       h.append(post_a)\n",
    "  \n",
    "   elif(self.active==\"relu\"):\n",
    "     for i in range(1,len(self.layers)-1):\n",
    "       weights=self.params[\"w\"+str(i)]\n",
    "       biases=self.params[\"b\"+str(i)]\n",
    "      \n",
    "       out=np.dot(weights,h[i-1])+biases\n",
    "       a.append(out)\n",
    "       post_a=act.relu(out)\n",
    "       h.append(post_a)       \n",
    "\n",
    "   else:\n",
    "     print(\"Invalid activation function\") \n",
    "   weights=self.params[\"w\"+str(len(self.layers)-1)]\n",
    "   biases=self.params[\"b\"+str(len(self.layers)-1)]\n",
    "  \n",
    "   out=np.dot(weights,h[len(self.layers)-2])+biases\n",
    "   a.append(out)\n",
    "   y_hat=act.softmax(out)\n",
    "   h.append(y_hat)\n",
    "   return h,a,y_hat\n",
    "\n",
    "  def backward_prop(self,y,y_hat,h,a,params,layers):\n",
    "    grad = {}\n",
    "    act=activation(self.active)\n",
    "    if self.loss_type == \"squared_loss\":\n",
    "      grad[\"dh\"+str(len(layers)-1)] = (y_hat - y)\n",
    "      grad[\"da\"+str(len(layers)-1)] = (y_hat - y) * act.softmax_derivative(a[len(layers)-1])\n",
    "\n",
    "    elif self.loss_type == 'cross_entropy':\n",
    "      grad[\"da\"+str(len(layers)-1)] = -(y-y_hat)\n",
    "      grad[\"dh\"+str(len(layers)-1)] = -(y/y_hat)\n",
    "\n",
    "    for i in range(len(layers)-1, 0, -1 ):\n",
    "      grad[\"dw\"+str(i)] = np.dot(grad[\"da\"+str(i)], np.transpose(h[i-1]))\n",
    "      grad[\"db\"+str(i)] = grad[\"da\"+str(i)]\n",
    "      if i > 1:\n",
    "        grad[\"dh\"+str(i-1)] = np.dot(np.transpose(params[\"w\"+str(i)]), grad[\"da\"+str(i)])\n",
    "        grad[\"da\"+str(i-1)] = np.multiply(grad[\"dh\" + str(i-1)], act.derivative(a[i-1],self.active))\n",
    "    return grad"
   ]
  },
  {
   "cell_type": "markdown",
   "metadata": {
    "id": "gVF5mLBuYYdF"
   },
   "source": [
    "### DEFINING IMPORTANT FUNCTIONS"
   ]
  },
  {
   "cell_type": "code",
   "execution_count": 10,
   "metadata": {
    "id": "eEc2_5l8n0p2"
   },
   "outputs": [],
   "source": [
    "''' \n",
    "Following are the functions for running inference, accuracy calculation, and gradient calculation\n",
    "1) run_inference : a function to get preds from the model\n",
    "2) accuracy_calc : a function to calc the accuracy\n",
    "3) calculate_grad : a function to calculate gradients\n",
    "'''\n",
    "\n",
    "def accuracy_calc(res,y_t):\n",
    "    acc=0.0   \n",
    "    for x in range(len(res)):\n",
    "      if(res[x].argmax()==y_t[x].argmax()):\n",
    "        acc+=1\n",
    "    acc=acc/len(y_t)\n",
    "    return(acc*100)\n",
    "\n",
    "\n",
    "def run_inference(X,y,parameters,activation,layers):\n",
    "    result = []\n",
    "    for i in range(len(X)):\n",
    "      nn=network(X[i], y[i], parameters, activation, layers,\"squared_loss\")\n",
    "      h,a,y_hat = nn.forward_prop()\n",
    "      y_hat = y_hat.flatten()\n",
    "      result.append(y_hat)\n",
    "    return result\n",
    "\n",
    "\n",
    "def calculate_grad(X, Y, parameters, activation, layers, loss_function):\n",
    "  grads={}\n",
    "  grads.clear() \n",
    "  for j in range(len(X)):\n",
    "    y = np.reshape(Y[j], (-1,1))\n",
    "\n",
    "    nn=network(X[j], y, parameters, activation, layers, loss_function)\n",
    "    h,a,y_hat = nn.forward_prop()\n",
    "    new_grads = nn.backward_prop(y,y_hat,h,a,parameters,layers)\n",
    "\n",
    "    if j == 0:\n",
    "      grads = copy.deepcopy(new_grads)\n",
    "    else:\n",
    "      for k in range(len(layers)-1,0,-1):\n",
    "        grads[\"dw\"+str(k)] += new_grads[\"dw\"+str(k)]\n",
    "        grads[\"db\"+str(k)] += new_grads[\"db\"+str(k)]\n",
    "  return grads"
   ]
  },
  {
   "cell_type": "code",
   "execution_count": 11,
   "metadata": {
    "id": "LsynyUWa5Y8R"
   },
   "outputs": [],
   "source": [
    "''' \n",
    "GRADIENTS FUNCTIONS:\n",
    "The following functions include several functions for performing gradient descent.\n",
    "The arguments are: X_train, y_train, eta, max_epochs, layers, mini_batch_size, lambd,loss_function, activation, parameters,optimiser,wandb_log\n",
    "The function finds derivatives per layer and updates the weights and biases accordingly \n",
    "\n",
    "The classes for each optimizers are given below,\n",
    "Optimisers Classes are:\n",
    "1)SGD\n",
    "2)NAG\n",
    "3)RMSprop\n",
    "4)Momentumgd\n",
    "5)adam\n",
    "6)nadam\n",
    "\n",
    "'''\n",
    "\n",
    "\n",
    "def gradient_descent(X_train, y_train, eta, max_epochs, layers, mini_batch_size, lambd,loss_function, activation, parameters,optimiser,wandb_log=False):\n",
    "  grads={}\n",
    "  train_loss = []\n",
    "  val_loss = []\n",
    "  train_acc = []\n",
    "  val_acc = []\n",
    "\n",
    "  for t in tqdm(range(max_epochs)):\n",
    "    for i in range(0, len(X_train), mini_batch_size):\n",
    "\n",
    "      grads.clear()\n",
    "\n",
    "      if str(optimiser) == \"nesterovacc_gd\":\n",
    "        opt=optimiser(grads, eta, max_epochs,layers,mini_batch_size,lambd,parameters,i,t)\n",
    "        param_lookahead,update_history=opt.paramlookahead()\n",
    "\n",
    "      X = X_train[i:i + mini_batch_size]\n",
    "      Y = y_train[i:i + mini_batch_size]\n",
    "      \n",
    "      if str(optimiser) == \"nesterovacc_gd\":\n",
    "        grads = calculate_grad(X,Y,param_lookahead,activation,layers,loss_function)\n",
    "      else: \n",
    "        grads = calculate_grad(X,Y,parameters,activation,layers,loss_function)\n",
    "\n",
    "      opt=optimiser(grads, eta, max_epochs,layers,mini_batch_size,lambd,parameters,i,t)\n",
    "      parameters=opt.get_params()\n",
    "    \n",
    "    #Calculating train loss \n",
    "    res = run_inference(X_train,y_train,parameters, activation, layers)\n",
    "    train_err = loss_calc(loss_function,y_train,res,lambd,layers,parameters) \n",
    "    train_ac=accuracy_calc(res, y_train)\n",
    "    train_loss.append(train_err)\n",
    "    train_acc.append(train_ac)\n",
    "\n",
    "    #Calculating validation loss\n",
    "    res = run_inference(X_val, y_val, parameters, activation, layers)\n",
    "    val_err = loss_calc(loss_function, y_val, res, lambd, layers, parameters )\n",
    "    val_ac=accuracy_calc(res, y_val)\n",
    "    val_loss.append(val_err)\n",
    "    val_acc.append(val_ac)\n",
    "\n",
    "    if(wandb_log==True):\n",
    "      log_dict = {\"Train_Accuracy\": train_ac, \"Validation_Accuracy\": val_ac, \\\n",
    "                  \"Train_Loss\": train_err, \"Validation_loss\": val_err, \"epoch\": t}\n",
    "                  \n",
    "      wandb.log(log_dict)\n",
    "\n",
    "  return parameters, train_acc, val_acc"
   ]
  },
  {
   "cell_type": "markdown",
   "metadata": {
    "id": "xn2hqhEXo8ii"
   },
   "source": [
    "### CLASSES OF OPTIMIZERS\n",
    "\n"
   ]
  },
  {
   "cell_type": "code",
   "execution_count": 12,
   "metadata": {
    "id": "xUM1PAe8D0Yt"
   },
   "outputs": [],
   "source": [
    "class stochastic_gd():\n",
    "  def __init__(self,grads, eta, max_epochs,layers,mini_batch_size,lambd,parameters,i,t):\n",
    "    self.grads=grads\n",
    "    self.eta=eta\n",
    "    self.layers=layers\n",
    "    self.mini_batch_size=mini_batch_size\n",
    "    self.parameters=parameters\n",
    "    self.lambd=lambd\n",
    "    self.i=i\n",
    "    self.t=t\n",
    "\n",
    "  def get_params(self):\n",
    "    for j in range(len(self.layers)-1,0,-1):\n",
    "        self.parameters[\"w\"+str(j)] = (1-((self.eta*self.lambd)/self.mini_batch_size))*self.parameters[\"w\"+str(j)] - (self.eta * self.grads[\"dw\"+str(j)])\n",
    "        self.parameters[\"b\"+str(j)] = self.parameters[\"b\"+str(j)] - (self.eta * self.grads[\"db\"+str(j)])\n",
    "    return self.parameters\n",
    "\n",
    "\n",
    "\n",
    "class momentum_gd():\n",
    "  def __init__(self,grads, eta, max_epochs,layers,mini_batch_size,lambd,parameters,i,t):\n",
    "    self.grads=grads\n",
    "    self.eta=eta\n",
    "    self.layers=layers\n",
    "    self.mini_batch_size=mini_batch_size\n",
    "    self.parameters=parameters\n",
    "    self.lambd=lambd\n",
    "    self.gamma=0.9\n",
    "    self.i=i\n",
    "    self.t=t\n",
    "\n",
    "  def get_update_history(self):\n",
    "    update_history={}\n",
    "    for j in range(len(self.layers)-1, 0, -1):\n",
    "          update_history[\"w\"+str(j)] = self.eta*self.grads[\"dw\"+str(j)]\n",
    "          update_history[\"b\"+str(j)] = self.eta*self.grads[\"db\"+str(j)]\n",
    "    for j in range(len(self.layers)-1, 0, -1):\n",
    "          update_history[\"w\"+str(j)] = (self.gamma*update_history[\"w\"+str(j)]) + (self.eta*self.grads[\"dw\"+str(j)])\n",
    "          update_history[\"b\"+str(j)] = (self.gamma*update_history[\"b\"+str(j)]) + (self.eta*self.grads[\"db\"+str(j)])\n",
    "    return update_history\n",
    "\n",
    "  def get_params(self):\n",
    "    update_history=self.get_update_history()\n",
    "    for j in range(len(self.layers)-1,0,-1):\n",
    "        self.parameters[\"w\"+str(j)] = (1-((self.eta*self.lambd)/self.mini_batch_size))*self.parameters[\"w\"+str(j)] - update_history[\"w\"+str(j)]\n",
    "        self.parameters[\"b\"+str(j)] = self.parameters[\"b\"+str(j)] - update_history[\"b\"+str(j)]\n",
    "    return self.parameters\n",
    "\n",
    "\n",
    "class nesterovacc_gd():\n",
    "  def __init__(self,grads, eta, max_epochs,layers,mini_batch_size,lambd,parameters,i,t):\n",
    "    self.grads=grads\n",
    "    self.eta=eta\n",
    "    self.layers=layers\n",
    "    self.mini_batch_size=mini_batch_size\n",
    "    self.parameters=parameters\n",
    "    self.lambd=lambd\n",
    "    self.i=i\n",
    "    self.t=t\n",
    "\n",
    "  def paramlookahead(self):\n",
    "    update_history={}\n",
    "    if self.i==0:\n",
    "        param_lookahead = copy.deepcopy(self.parameters)\n",
    "    else:\n",
    "        for j in range(len(self.layers)-1, 0, -1):\n",
    "          param_lookahead['w'+str(j)] = self.parameters['w'+str(j)] + (self.gamma*update_history[\"w\"+str(j)])\n",
    "    return param_lookahead,update_history\n",
    "\n",
    "  def get_params(self,update_history):\n",
    "    param_lookahead,update_history=self.paramlookahead()\n",
    "    if self.i == 0 :\n",
    "        for j in range(len(self.layers)-1, 0, -1):\n",
    "          update_history[\"w\"+str(j)] = self.eta*self.grads[\"dw\"+str(j)]\n",
    "          update_history[\"b\"+str(j)] = self.eta*self.grads[\"db\"+str(j)]\n",
    "    else:\n",
    "        for j in range(len(self.layers)-1, 0, -1):\n",
    "          update_history[\"w\"+str(j)] = (self.gamma*update_history[\"w\"+str(j)]) + (self.eta*self.grads[\"dw\"+str(j)])\n",
    "          update_history[\"b\"+str(j)] = (self.gamma*update_history[\"b\"+str(j)]) + (self.eta*self.grads[\"db\"+str(j)])\n",
    "    for j in range(len(self.layers)-1,0,-1):\n",
    "        self.parameters[\"w\"+str(j)] = (1-((self.eta*self.lambd)/self.mini_batch_size))*self.parameters[\"w\"+str(j)] - update_history[\"w\"+str(j)]\n",
    "        self.parameters[\"b\"+str(j)] = self.parameters[\"b\"+str(j)] - update_history[\"b\"+str(j)]\n",
    "    return self.parameters\n",
    "\n",
    "\n",
    "\n",
    "class rmsprop():\n",
    "  def __init__(self,grads, eta, max_epochs,layers,mini_batch_size,lambd,parameters,i,t):\n",
    "    self.grads=grads\n",
    "    self.eta=eta\n",
    "    self.layers=layers\n",
    "    self.mini_batch_size=mini_batch_size\n",
    "    self.parameters=parameters\n",
    "    self.lambd=lambd\n",
    "    self.i=i\n",
    "    self.beta = 0.9 \n",
    "    self.epsilon=1e-8\n",
    "    self.t=t\n",
    "\n",
    "  def momenta(self):\n",
    "    update_history={}\n",
    "    v={}\n",
    "    for i in range(len(self.layers)-1,0,-1):\n",
    "      update_history[\"w\"+str(i)]=np.zeros((self.layers[i],self.layers[i-1]))\n",
    "      update_history[\"b\"+str(i)]=np.zeros((self.layers[i],1))\n",
    "    for i in range(len(self.layers)-1,0,-1):\n",
    "      v[\"w\"+str(i)]=np.zeros((self.layers[i],self.layers[i-1]))\n",
    "      v[\"b\"+str(i)]=np.zeros((self.layers[i],1))\n",
    "    return v,update_history\n",
    "     \n",
    "  def get_params(self):\n",
    "    v,update_history=self.momenta()\n",
    "    for iq in range(len(self.layers)-1,0,-1):\n",
    "        v[\"w\"+str(iq)]=self.beta*v[\"w\"+str(iq)]+(1-self.beta)*self.grads[\"dw\"+str(iq)]**2\n",
    "        v[\"b\"+str(iq)]=self.beta*v[\"b\"+str(iq)]+(1-self.beta)*self.grads[\"db\"+str(iq)]**2     \n",
    "        update_history[\"w\"+str(iq)]=self.eta*np.multiply(np.reciprocal(np.sqrt(v[\"w\"+str(iq)]+self.epsilon)),self.grads[\"dw\"+str(iq)])\n",
    "        update_history[\"b\"+str(iq)]=self.eta*np.multiply(np.reciprocal(np.sqrt(v[\"b\"+str(iq)]+self.epsilon)),self.grads[\"db\"+str(iq)])\n",
    "    for j in range(len(self.layers)-1,0,-1):\n",
    "        self.parameters[\"w\"+str(j)] = (1-((self.eta*self.lambd)/self.mini_batch_size))*self.parameters[\"w\"+str(j)] - update_history[\"w\"+str(j)]\n",
    "        self.parameters[\"b\"+str(j)] = self.parameters[\"b\"+str(j)] - update_history[\"b\"+str(j)]\n",
    "    return self.parameters\n",
    "\n",
    "\n",
    "class adam():\n",
    "  def __init__(self,grads, eta, max_epochs,layers,mini_batch_size,lambd,parameters,i,t):\n",
    "    self.grads=grads\n",
    "    self.eta=eta\n",
    "    self.layers=layers\n",
    "    self.mini_batch_size=mini_batch_size\n",
    "    self.parameters=parameters\n",
    "    self.lambd=lambd\n",
    "    self.i=i\n",
    "    self.beta1=0.9 \n",
    "    self.epsilon=1e-8\n",
    "    self.beta2=0.999\n",
    "    self.t=t\n",
    "  \n",
    "  def momenta(self):\n",
    "    update_history={}\n",
    "    v={}\n",
    "    m={}\n",
    "    for i in range(len(self.layers)-1,0,-1):\n",
    "      update_history[\"w\"+str(i)]=np.zeros((self.layers[i],self.layers[i-1]))\n",
    "      update_history[\"b\"+str(i)]=np.zeros((self.layers[i],1))\n",
    "    for i in range(len(self.layers)-1,0,-1):\n",
    "      v[\"w\"+str(i)]=np.zeros((self.layers[i],self.layers[i-1]))\n",
    "      v[\"b\"+str(i)]=np.zeros((self.layers[i],1))\n",
    "    for i in range(len(self.layers)-1,0,-1):\n",
    "      m[\"w\"+str(i)]=np.zeros((self.layers[i],self.layers[i-1]))\n",
    "      m[\"b\"+str(i)]=np.zeros((self.layers[i],1))\n",
    "    return m,v,update_history\n",
    "     \n",
    "  def get_params(self):\n",
    "    m,v,update_history=self.momenta()\n",
    "    for iq in range(len(self.layers)-1,0,-1):\n",
    "          m[\"w\"+str(iq)]=self.beta1*m[\"w\"+str(iq)]+(1-self.beta1)*self.grads[\"dw\"+str(iq)]\n",
    "          m[\"b\"+str(iq)]=self.beta1*m[\"b\"+str(iq)]+(1-self.beta1)*self.grads[\"db\"+str(iq)]    \n",
    "          v[\"w\"+str(iq)]=self.beta2*v[\"w\"+str(iq)]+(1-self.beta2)*(self.grads[\"dw\"+str(iq)])**2\n",
    "          v[\"b\"+str(iq)]=self.beta2*v[\"b\"+str(iq)]+(1-self.beta2)*(self.grads[\"db\"+str(iq)])**2\n",
    "          mw_hat=m[\"w\"+str(iq)]/(1-np.power(self.beta1,self.t+1))\n",
    "          mb_hat=m[\"b\"+str(iq)]/(1-np.power(self.beta1,self.t+1))\n",
    "          vw_hat=v[\"w\"+str(iq)]/(1-np.power(self.beta2,self.t+1))\n",
    "          vb_hat=v[\"b\"+str(iq)]/(1-np.power(self.beta2,self.t+1))\n",
    "          update_history[\"w\"+str(iq)]=self.eta*np.multiply(np.reciprocal(np.sqrt(vw_hat+self.epsilon)),mw_hat)\n",
    "          update_history[\"b\"+str(iq)]=self.eta*np.multiply(np.reciprocal(np.sqrt(vb_hat+self.epsilon)),mb_hat)\n",
    "\n",
    "    for j in range(len(self.layers)-1,0,-1):\n",
    "          self.parameters[\"w\"+str(j)] = (1-((self.eta*self.lambd)/self.mini_batch_size))*self.parameters[\"w\"+str(j)] - update_history[\"w\"+str(j)]\n",
    "          self.parameters[\"b\"+str(j)] = self.parameters[\"b\"+str(j)] - update_history[\"b\"+str(j)]\n",
    "    return self.parameters\n",
    "\n",
    "\n",
    "class nadam():\n",
    "  def __init__(self,grads, eta, max_epochs,layers,mini_batch_size,lambd,parameters,i,t):\n",
    "    self.grads=grads\n",
    "    self.eta=eta\n",
    "    self.layers=layers\n",
    "    self.mini_batch_size=mini_batch_size\n",
    "    self.parameters=parameters\n",
    "    self.lambd=lambd\n",
    "    self.i=i\n",
    "    self.beta1=0.9 \n",
    "    self.epsilon=1e-8\n",
    "    self.beta2=0.999\n",
    "    self.t=t\n",
    "  \n",
    "  def momenta(self):\n",
    "    update_history={}\n",
    "    v={}\n",
    "    m={}\n",
    "    for i in range(len(self.layers)-1,0,-1):\n",
    "      update_history[\"w\"+str(i)]=np.zeros((self.layers[i],self.layers[i-1]))\n",
    "      update_history[\"b\"+str(i)]=np.zeros((self.layers[i],1))\n",
    "    for i in range(len(self.layers)-1,0,-1):\n",
    "      v[\"w\"+str(i)]=np.zeros((self.layers[i],self.layers[i-1]))\n",
    "      v[\"b\"+str(i)]=np.zeros((self.layers[i],1))\n",
    "    for i in range(len(self.layers)-1,0,-1):\n",
    "      m[\"w\"+str(i)]=np.zeros((self.layers[i],self.layers[i-1]))\n",
    "      m[\"b\"+str(i)]=np.zeros((self.layers[i],1))\n",
    "    return m,v,update_history\n",
    "     \n",
    "  def get_params(self):\n",
    "    m,v,update_history=self.momenta()\n",
    "    for iq in range(len(self.layers)-1,0,-1):\n",
    "          m[\"w\"+str(iq)]=self.beta1*m[\"w\"+str(iq)]+(1-self.beta1)*self.grads[\"dw\"+str(iq)]\n",
    "          m[\"b\"+str(iq)]=self.beta1*m[\"b\"+str(iq)]+(1-self.beta1)*self.grads[\"db\"+str(iq)]    \n",
    "          v[\"w\"+str(iq)]=self.beta2*v[\"w\"+str(iq)]+(1-self.beta2)*(self.grads[\"dw\"+str(iq)])**2\n",
    "          v[\"b\"+str(iq)]=self.beta2*v[\"b\"+str(iq)]+(1-self.beta2)*(self.grads[\"db\"+str(iq)])**2\n",
    "          mw_hat=m[\"w\"+str(iq)]/(1-np.power(self.beta1,self.t+1))\n",
    "          mb_hat=m[\"b\"+str(iq)]/(1-np.power(self.beta1,self.t+1))\n",
    "          vw_hat=v[\"w\"+str(iq)]/(1-np.power(self.beta2,self.t+1))\n",
    "          vb_hat=v[\"b\"+str(iq)]/(1-np.power(self.beta2,self.t+1))\n",
    "          update_history[\"w\"+str(iq)]=self.eta*np.multiply(np.reciprocal(np.sqrt(vw_hat+self.epsilon)),(self.beta1*mw_hat+(1-self.beta1)*self.grads[\"dw\"+str(iq)]))*(1/(1-np.power(self.beta1,self.t+1)))\n",
    "          update_history[\"b\"+str(iq)]=self.eta*np.multiply(np.reciprocal(np.sqrt(vb_hat+self.epsilon)),(self.beta1*mb_hat+(1-self.beta1)*self.grads[\"db\"+str(iq)]))*(1/(1-np.power(self.beta1,self.t+1)))\n",
    "\n",
    "    for j in range(len(self.layers)-1,0,-1):\n",
    "          self.parameters[\"w\"+str(j)] = (1-((self.eta*self.lambd)/self.mini_batch_size))*self.parameters[\"w\"+str(j)] - update_history[\"w\"+str(j)]\n",
    "          self.parameters[\"b\"+str(j)] = self.parameters[\"b\"+str(j)] - update_history[\"b\"+str(j)]\n",
    "\n",
    "    return self.parameters"
   ]
  },
  {
   "cell_type": "markdown",
   "metadata": {
    "id": "MOKKhqlasNtr"
   },
   "source": [
    "### DATASET LOADING AND PRE-PROCESSING\n"
   ]
  },
  {
   "cell_type": "code",
   "execution_count": 13,
   "metadata": {
    "colab": {
     "base_uri": "https://localhost:8080/"
    },
    "id": "E-QmsesIsPqS",
    "outputId": "da503b30-b97e-4580-dde6-9afd63cfcea1"
   },
   "outputs": [],
   "source": [
    "''' \n",
    "We use test train split from sklearn, 0.1 times the train data is used for validation\n",
    "we create an empty train val test list and append normalised image data to it \n",
    "'''\n",
    "# CLASSES AND LABELS DEFINED\n",
    "from sklearn.model_selection import train_test_split\n",
    "(train_x,train_y),(test_x,test_y)=fashion_mnist.load_data()\n",
    "num_classes = 10\n",
    "labels=['T-shirt/top','Trouser','Pullover','Dress','Coat','Sandal','Shirt','Sneaker','Bag','Ankle boot']\n",
    "\n",
    "\n",
    "# TRAIN VALIDATION SPLIT IN RATIO 90:10\n",
    "train_x, val_x, train_y, val_y = train_test_split(train_x, train_y, test_size=0.1, random_state=40)\n",
    "  \n",
    "X_train=np.zeros((len(train_x),784))\n",
    "X_val=np.zeros((len(val_x),784))\n",
    "X_test=np.zeros((len(test_x),784))\n",
    "  \n",
    "# IMAGE PIXEL NORMALIZATION\n",
    "for i in range(len(train_x)):\n",
    "  X_train[i]=(copy.deepcopy(train_x[i].flatten()))/255.0 \n",
    "for i in range(len(val_x)):\n",
    "  X_val[i]=(copy.deepcopy(val_x[i].flatten()))/255.0\n",
    "for i in range(len(test_x)):\n",
    "  X_test[i]=(copy.deepcopy(test_x[i].flatten()))/255.0\n",
    "\n",
    "# ONE HOT ENCODING\n",
    "y_train = np.zeros((train_y.size, 10))\n",
    "y_train[np.arange(train_y.size), train_y] = 1\n",
    "\n",
    "y_val = np.zeros((val_y.size, 10))\n",
    "y_val[np.arange(val_y.size), val_y] = 1\n",
    "\n",
    "y_test = np.zeros((test_y.size, 10))\n",
    "y_test[np.arange(test_y.size), test_y] = 1\n"
   ]
  },
  {
   "cell_type": "code",
   "execution_count": 14,
   "metadata": {
    "id": "2CE-wU16tAGm"
   },
   "outputs": [],
   "source": [
    "'''\n",
    "The following is the training function used for traininth model appropriately\n",
    "'''\n",
    "\n",
    "def train(X_train=X_train, y_train=y_train, layers=[784,16,10],wandb_log=True, learning_rate = 0.0001, initialization_type = \"random\", activation_function = \"sigmoid\", loss_function = \"cross_entropy\", mini_batch_Size = 32, max_epochs = 5, lambd = 0,optimization_function = adam):\n",
    "\n",
    "  # Configuration dictionary is being intialized as we do usually in the case of wandb visualization\n",
    "  config_defaults = {\n",
    "      'number_hidden_layers': 2,\n",
    "      'number_neurons': 32,\n",
    "      'learning_rate': 0.001,\n",
    "      'initialization_type': \"xavier\",\n",
    "      'activation_function':'sigmoid',\n",
    "      'mini_batch_size' : 64,\n",
    "      'max_epochs': 5,\n",
    "      'lambd': 0,\n",
    "      'optimization_function': \"nadam\",\n",
    "      'loss_function' : \"cross_entropy\"\n",
    "  }\n",
    "\n",
    "  # Wandb run is being intialized uing init and config in-built functions\n",
    "  wandb.init(config=config_defaults)\n",
    "  config = wandb.config\n",
    "\n",
    "  # Neural layers being defined\n",
    "  layers = [784]\n",
    "  for i in range(config.number_hidden_layers):\n",
    "    layers = layers + [config.number_neurons]\n",
    "  layers  = layers + [10]\n",
    "\n",
    "  # Extraction of hyperparameters and calling them\n",
    "  learning_rate = config.learning_rate\n",
    "  initialization_type = config.initialization_type\n",
    "  activation_function = config.activation_function\n",
    "  loss_function = config.loss_function\n",
    "  mini_batch_size = config.mini_batch_size\n",
    "  max_epochs = config.max_epochs\n",
    "  lambd = config.lambd\n",
    "  opt_fun = config.optimization_function\n",
    "  hidden_layers=config.number_hidden_layers\n",
    "\n",
    "  if opt_fun == \"adam\":\n",
    "    optimization_function = adam\n",
    "  elif opt_fun == \"nadam\":\n",
    "    optimization_function = nadam\n",
    "  elif opt_fun == \"stochastic_gd\":\n",
    "    optimization_function = stochastic_gd\n",
    "  elif opt_fun == \"momentum_gd\":\n",
    "    optimization_function = momentum_gd\n",
    "  elif opt_fun == \"nesterov-acc_gd\":\n",
    "    optimization_function = nesterovacc_gd\n",
    "  elif opt_fun == \"rmsprop\":\n",
    "    optimization_function = rmsprop\n",
    "  else:\n",
    "    print(\"Wrong optimization function\")\n",
    "    exit()\n",
    "\n",
    "  name_run = str(hidden_layers) + \"_\" + initialization_type[0] + \"_\" + \\\n",
    "  activation_function[:4] + \"_\" + str(learning_rate) + \"_\" + opt_fun[:4]\n",
    "\n",
    "  # wandb run name and log defined\n",
    "  wandb.run.name = name_run\n",
    "  wandb_log=True\n",
    "  \n",
    "  w=weights(layers)\n",
    "  parameters = w.weight_init(init_type = initialization_type)\n",
    "  parameters, train_acc, val_acc = gradient_descent(X_train, y_train,learning_rate, max_epochs, layers, mini_batch_Size, lambd, loss_function, activation_function, parameters,optimization_function,wandb_log)\n",
    "  \n",
    "  # printing accuracies\n",
    "  print(\"Training Accuracy:\",train_acc[-1])\n",
    "  print(\"Validation Accuracy:\",val_acc[-1])\n",
    "  \n",
    "  # running and saving the wandb run progresses\n",
    "  wandb.run.save()\n",
    "  wandb.run.finish()"
   ]
  },
  {
   "cell_type": "code",
   "execution_count": 15,
   "metadata": {
    "id": "C1k4ufNRtHHt"
   },
   "outputs": [],
   "source": [
    "''' \n",
    "Hyperparameters sweeps using wandb functionality\n",
    "Optimally Bayes sweep function is chosen but the following are a few more sweep functions\n",
    "1)Grid search\n",
    "2)Random\n",
    "3)Bayes - widely used\n",
    "\n",
    "'''\n",
    "\n",
    "def do_sweep(entity_name,project_name):\n",
    "\n",
    "  hyperparameters = {\n",
    "      \"learning_rate\":{\n",
    "        'values': [0.001, 0.0001]\n",
    "      },\n",
    "\n",
    "      \"number_hidden_layers\": {\n",
    "          'values' : [3, 4, 5]\n",
    "      },\n",
    "\n",
    "      \"number_neurons\": {\n",
    "        'values': [32, 64, 128]\n",
    "      },\n",
    "\n",
    "      \"initialization_type\": {\n",
    "          'values' : [\"xavier\", \"random\"]\n",
    "      },\n",
    "\n",
    "      \"activation_function\": {\n",
    "          'values': [\"sigmoid\", \"tanh\", \"relu\"]\n",
    "      },\n",
    "\n",
    "      \"mini_batch_size\": {\n",
    "          'values': [16,32,64]\n",
    "      },\n",
    "\n",
    "      \"max_epochs\": {\n",
    "          'values': [5, 10]\n",
    "      },\n",
    "\n",
    "      \"lambd\": {\n",
    "          'values': [0, 0.0005, 0.5]\n",
    "      },\n",
    "\n",
    "      \"optimization_function\": {\n",
    "          'values': [\"stochastic_gd\",\"momentum_gd\",\"rmsprop\",\"adam\",\"nadam\"]\n",
    "      }\n",
    "\n",
    "  }\n",
    "\n",
    "\n",
    "  #Using bayes method for hyperparameter sweeps to curb the unnecessary configurations\n",
    "  sweep_config = {\n",
    "      'method' : 'bayes',\n",
    "      'metric' :{\n",
    "          'name': 'Validation_Accuracy',\n",
    "          'goal': 'maximize'\n",
    "      },\n",
    "      'parameters': hyperparameters\n",
    "  }\n",
    "\n",
    "  sweep_id = wandb.sweep(sweep_config, entity=entity_name, project=project_name)\n",
    "  wandb.agent(sweep_id, train)"
   ]
  },
  {
   "cell_type": "code",
   "execution_count": 16,
   "metadata": {
    "colab": {
     "background_save": true,
     "base_uri": "https://localhost:8080/",
     "height": 1000,
     "referenced_widgets": [
      "4615076314914edab20a0ebea23b5cae",
      "dc1355461734480a989376baff69c8b6",
      "a9a0e607d012455cb7ccc8fb30f621c6",
      "733f89a65877494cb28aa3f94df38393",
      "687bb980b9ee4974878af46ed5b5e407",
      "522e585412c94be1867fc73175cdb0fb",
      "5bcb63cc25aa41f3895bf83dcdfd24a9",
      "3ceb9da6056e4404b02b7c224b466b02"
     ]
    },
    "id": "jows10uAtPGK",
    "outputId": "82f41f2a-02f6-463c-ab34-19d59ac4f917",
    "scrolled": true
   },
   "outputs": [
    {
     "name": "stdout",
     "output_type": "stream",
     "text": [
      "Create sweep with ID: 4c8n6myl\n",
      "Sweep URL: https://wandb.ai/bs20b012/CS6910/sweeps/4c8n6myl\n"
     ]
    },
    {
     "name": "stderr",
     "output_type": "stream",
     "text": [
      "\u001b[34m\u001b[1mwandb\u001b[0m: Agent Starting Run: zpxp9ar7 with config:\n",
      "\u001b[34m\u001b[1mwandb\u001b[0m: \tactivation_function: tanh\n",
      "\u001b[34m\u001b[1mwandb\u001b[0m: \tinitialization_type: random\n",
      "\u001b[34m\u001b[1mwandb\u001b[0m: \tlambd: 0\n",
      "\u001b[34m\u001b[1mwandb\u001b[0m: \tlearning_rate: 0.0001\n",
      "\u001b[34m\u001b[1mwandb\u001b[0m: \tmax_epochs: 5\n",
      "\u001b[34m\u001b[1mwandb\u001b[0m: \tmini_batch_size: 64\n",
      "\u001b[34m\u001b[1mwandb\u001b[0m: \tnumber_hidden_layers: 5\n",
      "\u001b[34m\u001b[1mwandb\u001b[0m: \tnumber_neurons: 32\n",
      "\u001b[34m\u001b[1mwandb\u001b[0m: \toptimization_function: rmsprop\n",
      "\u001b[34m\u001b[1mwandb\u001b[0m: Currently logged in as: \u001b[33mbs20b012\u001b[0m. Use \u001b[1m`wandb login --relogin`\u001b[0m to force relogin\n"
     ]
    },
    {
     "data": {
      "text/html": [
       "Tracking run with wandb version 0.14.0"
      ],
      "text/plain": [
       "<IPython.core.display.HTML object>"
      ]
     },
     "metadata": {},
     "output_type": "display_data"
    },
    {
     "data": {
      "text/html": [
       "Run data is saved locally in <code>C:\\Users\\bones\\wandb\\run-20230320_143043-zpxp9ar7</code>"
      ],
      "text/plain": [
       "<IPython.core.display.HTML object>"
      ]
     },
     "metadata": {},
     "output_type": "display_data"
    },
    {
     "data": {
      "text/html": [
       "Syncing run <strong><a href='https://wandb.ai/bs20b012/CS6910/runs/zpxp9ar7' target=\"_blank\">soft-sweep-1</a></strong> to <a href='https://wandb.ai/bs20b012/CS6910' target=\"_blank\">Weights & Biases</a> (<a href='https://wandb.me/run' target=\"_blank\">docs</a>)<br/>Sweep page: <a href='https://wandb.ai/bs20b012/CS6910/sweeps/4c8n6myl' target=\"_blank\">https://wandb.ai/bs20b012/CS6910/sweeps/4c8n6myl</a>"
      ],
      "text/plain": [
       "<IPython.core.display.HTML object>"
      ]
     },
     "metadata": {},
     "output_type": "display_data"
    },
    {
     "data": {
      "text/html": [
       " View project at <a href='https://wandb.ai/bs20b012/CS6910' target=\"_blank\">https://wandb.ai/bs20b012/CS6910</a>"
      ],
      "text/plain": [
       "<IPython.core.display.HTML object>"
      ]
     },
     "metadata": {},
     "output_type": "display_data"
    },
    {
     "data": {
      "text/html": [
       " View sweep at <a href='https://wandb.ai/bs20b012/CS6910/sweeps/4c8n6myl' target=\"_blank\">https://wandb.ai/bs20b012/CS6910/sweeps/4c8n6myl</a>"
      ],
      "text/plain": [
       "<IPython.core.display.HTML object>"
      ]
     },
     "metadata": {},
     "output_type": "display_data"
    },
    {
     "data": {
      "text/html": [
       " View run at <a href='https://wandb.ai/bs20b012/CS6910/runs/zpxp9ar7' target=\"_blank\">https://wandb.ai/bs20b012/CS6910/runs/zpxp9ar7</a>"
      ],
      "text/plain": [
       "<IPython.core.display.HTML object>"
      ]
     },
     "metadata": {},
     "output_type": "display_data"
    },
    {
     "name": "stderr",
     "output_type": "stream",
     "text": [
      "100%|████████████████████████████████████████████████████████████████████████████████████| 5/5 [01:30<00:00, 18.18s/it]\n",
      "\u001b[34m\u001b[1mwandb\u001b[0m: \u001b[33mWARNING\u001b[0m Calling wandb.run.save without any arguments is deprecated.Changes to attributes are automatically persisted.\n"
     ]
    },
    {
     "name": "stdout",
     "output_type": "stream",
     "text": [
      "Training Accuracy: 73.01666666666667\n",
      "Validation Accuracy: 72.06666666666666\n"
     ]
    },
    {
     "data": {
      "text/html": [
       "Waiting for W&B process to finish... <strong style=\"color:green\">(success).</strong>"
      ],
      "text/plain": [
       "<IPython.core.display.HTML object>"
      ]
     },
     "metadata": {},
     "output_type": "display_data"
    },
    {
     "data": {
      "text/html": [
       "<style>\n",
       "    table.wandb td:nth-child(1) { padding: 0 10px; text-align: left ; width: auto;} td:nth-child(2) {text-align: left ; width: 100%}\n",
       "    .wandb-row { display: flex; flex-direction: row; flex-wrap: wrap; justify-content: flex-start; width: 100% }\n",
       "    .wandb-col { display: flex; flex-direction: column; flex-basis: 100%; flex: 1; padding: 10px; }\n",
       "    </style>\n",
       "<div class=\"wandb-row\"><div class=\"wandb-col\"><h3>Run history:</h3><br/><table class=\"wandb\"><tr><td>Train_Accuracy</td><td>▁▂▄▇█</td></tr><tr><td>Train_Loss</td><td>█▇▅▂▁</td></tr><tr><td>Validation_Accuracy</td><td>▁▂▄▇█</td></tr><tr><td>Validation_loss</td><td>█▇▄▂▁</td></tr><tr><td>epoch</td><td>▁▃▅▆█</td></tr></table><br/></div><div class=\"wandb-col\"><h3>Run summary:</h3><br/><table class=\"wandb\"><tr><td>Train_Accuracy</td><td>73.01667</td></tr><tr><td>Train_Loss</td><td>0.86293</td></tr><tr><td>Validation_Accuracy</td><td>72.06667</td></tr><tr><td>Validation_loss</td><td>0.88996</td></tr><tr><td>epoch</td><td>4</td></tr></table><br/></div></div>"
      ],
      "text/plain": [
       "<IPython.core.display.HTML object>"
      ]
     },
     "metadata": {},
     "output_type": "display_data"
    },
    {
     "data": {
      "text/html": [
       " View run <strong style=\"color:#cdcd00\">soft-sweep-1</strong> at: <a href='https://wandb.ai/bs20b012/CS6910/runs/zpxp9ar7' target=\"_blank\">https://wandb.ai/bs20b012/CS6910/runs/zpxp9ar7</a><br/>Synced 6 W&B file(s), 0 media file(s), 0 artifact file(s) and 0 other file(s)"
      ],
      "text/plain": [
       "<IPython.core.display.HTML object>"
      ]
     },
     "metadata": {},
     "output_type": "display_data"
    },
    {
     "data": {
      "text/html": [
       "Find logs at: <code>.\\wandb\\run-20230320_143043-zpxp9ar7\\logs</code>"
      ],
      "text/plain": [
       "<IPython.core.display.HTML object>"
      ]
     },
     "metadata": {},
     "output_type": "display_data"
    },
    {
     "name": "stderr",
     "output_type": "stream",
     "text": [
      "\u001b[34m\u001b[1mwandb\u001b[0m: Agent Starting Run: pc8nqtfo with config:\n",
      "\u001b[34m\u001b[1mwandb\u001b[0m: \tactivation_function: tanh\n",
      "\u001b[34m\u001b[1mwandb\u001b[0m: \tinitialization_type: random\n",
      "\u001b[34m\u001b[1mwandb\u001b[0m: \tlambd: 0.0005\n",
      "\u001b[34m\u001b[1mwandb\u001b[0m: \tlearning_rate: 0.0001\n",
      "\u001b[34m\u001b[1mwandb\u001b[0m: \tmax_epochs: 5\n",
      "\u001b[34m\u001b[1mwandb\u001b[0m: \tmini_batch_size: 16\n",
      "\u001b[34m\u001b[1mwandb\u001b[0m: \tnumber_hidden_layers: 3\n",
      "\u001b[34m\u001b[1mwandb\u001b[0m: \tnumber_neurons: 64\n",
      "\u001b[34m\u001b[1mwandb\u001b[0m: \toptimization_function: rmsprop\n"
     ]
    },
    {
     "data": {
      "text/html": [
       "Tracking run with wandb version 0.14.0"
      ],
      "text/plain": [
       "<IPython.core.display.HTML object>"
      ]
     },
     "metadata": {},
     "output_type": "display_data"
    },
    {
     "data": {
      "text/html": [
       "Run data is saved locally in <code>C:\\Users\\bones\\wandb\\run-20230320_143236-pc8nqtfo</code>"
      ],
      "text/plain": [
       "<IPython.core.display.HTML object>"
      ]
     },
     "metadata": {},
     "output_type": "display_data"
    },
    {
     "data": {
      "text/html": [
       "Syncing run <strong><a href='https://wandb.ai/bs20b012/CS6910/runs/pc8nqtfo' target=\"_blank\">restful-sweep-2</a></strong> to <a href='https://wandb.ai/bs20b012/CS6910' target=\"_blank\">Weights & Biases</a> (<a href='https://wandb.me/run' target=\"_blank\">docs</a>)<br/>Sweep page: <a href='https://wandb.ai/bs20b012/CS6910/sweeps/4c8n6myl' target=\"_blank\">https://wandb.ai/bs20b012/CS6910/sweeps/4c8n6myl</a>"
      ],
      "text/plain": [
       "<IPython.core.display.HTML object>"
      ]
     },
     "metadata": {},
     "output_type": "display_data"
    },
    {
     "data": {
      "text/html": [
       " View project at <a href='https://wandb.ai/bs20b012/CS6910' target=\"_blank\">https://wandb.ai/bs20b012/CS6910</a>"
      ],
      "text/plain": [
       "<IPython.core.display.HTML object>"
      ]
     },
     "metadata": {},
     "output_type": "display_data"
    },
    {
     "data": {
      "text/html": [
       " View sweep at <a href='https://wandb.ai/bs20b012/CS6910/sweeps/4c8n6myl' target=\"_blank\">https://wandb.ai/bs20b012/CS6910/sweeps/4c8n6myl</a>"
      ],
      "text/plain": [
       "<IPython.core.display.HTML object>"
      ]
     },
     "metadata": {},
     "output_type": "display_data"
    },
    {
     "data": {
      "text/html": [
       " View run at <a href='https://wandb.ai/bs20b012/CS6910/runs/pc8nqtfo' target=\"_blank\">https://wandb.ai/bs20b012/CS6910/runs/pc8nqtfo</a>"
      ],
      "text/plain": [
       "<IPython.core.display.HTML object>"
      ]
     },
     "metadata": {},
     "output_type": "display_data"
    },
    {
     "name": "stderr",
     "output_type": "stream",
     "text": [
      "100%|████████████████████████████████████████████████████████████████████████████████████| 5/5 [01:30<00:00, 18.20s/it]"
     ]
    },
    {
     "name": "stdout",
     "output_type": "stream",
     "text": [
      "Training Accuracy: 84.15925925925926\n",
      "Validation Accuracy: 83.38333333333333\n"
     ]
    },
    {
     "name": "stderr",
     "output_type": "stream",
     "text": [
      "\n"
     ]
    },
    {
     "data": {
      "text/html": [
       "Waiting for W&B process to finish... <strong style=\"color:green\">(success).</strong>"
      ],
      "text/plain": [
       "<IPython.core.display.HTML object>"
      ]
     },
     "metadata": {},
     "output_type": "display_data"
    },
    {
     "data": {
      "text/html": [
       "<style>\n",
       "    table.wandb td:nth-child(1) { padding: 0 10px; text-align: left ; width: auto;} td:nth-child(2) {text-align: left ; width: 100%}\n",
       "    .wandb-row { display: flex; flex-direction: row; flex-wrap: wrap; justify-content: flex-start; width: 100% }\n",
       "    .wandb-col { display: flex; flex-direction: column; flex-basis: 100%; flex: 1; padding: 10px; }\n",
       "    </style>\n",
       "<div class=\"wandb-row\"><div class=\"wandb-col\"><h3>Run history:</h3><br/><table class=\"wandb\"><tr><td>Train_Accuracy</td><td>▁▆▇██</td></tr><tr><td>Train_Loss</td><td>█▃▂▂▁</td></tr><tr><td>Validation_Accuracy</td><td>▁▆▇██</td></tr><tr><td>Validation_loss</td><td>█▃▂▂▁</td></tr><tr><td>epoch</td><td>▁▃▅▆█</td></tr></table><br/></div><div class=\"wandb-col\"><h3>Run summary:</h3><br/><table class=\"wandb\"><tr><td>Train_Accuracy</td><td>84.15926</td></tr><tr><td>Train_Loss</td><td>0.49657</td></tr><tr><td>Validation_Accuracy</td><td>83.38333</td></tr><tr><td>Validation_loss</td><td>0.51202</td></tr><tr><td>epoch</td><td>4</td></tr></table><br/></div></div>"
      ],
      "text/plain": [
       "<IPython.core.display.HTML object>"
      ]
     },
     "metadata": {},
     "output_type": "display_data"
    },
    {
     "data": {
      "text/html": [
       " View run <strong style=\"color:#cdcd00\">restful-sweep-2</strong> at: <a href='https://wandb.ai/bs20b012/CS6910/runs/pc8nqtfo' target=\"_blank\">https://wandb.ai/bs20b012/CS6910/runs/pc8nqtfo</a><br/>Synced 6 W&B file(s), 0 media file(s), 0 artifact file(s) and 0 other file(s)"
      ],
      "text/plain": [
       "<IPython.core.display.HTML object>"
      ]
     },
     "metadata": {},
     "output_type": "display_data"
    },
    {
     "data": {
      "text/html": [
       "Find logs at: <code>.\\wandb\\run-20230320_143236-pc8nqtfo\\logs</code>"
      ],
      "text/plain": [
       "<IPython.core.display.HTML object>"
      ]
     },
     "metadata": {},
     "output_type": "display_data"
    },
    {
     "name": "stderr",
     "output_type": "stream",
     "text": [
      "\u001b[34m\u001b[1mwandb\u001b[0m: Agent Starting Run: y7n9m6ff with config:\n",
      "\u001b[34m\u001b[1mwandb\u001b[0m: \tactivation_function: tanh\n",
      "\u001b[34m\u001b[1mwandb\u001b[0m: \tinitialization_type: xavier\n",
      "\u001b[34m\u001b[1mwandb\u001b[0m: \tlambd: 0.0005\n",
      "\u001b[34m\u001b[1mwandb\u001b[0m: \tlearning_rate: 0.001\n",
      "\u001b[34m\u001b[1mwandb\u001b[0m: \tmax_epochs: 5\n",
      "\u001b[34m\u001b[1mwandb\u001b[0m: \tmini_batch_size: 32\n",
      "\u001b[34m\u001b[1mwandb\u001b[0m: \tnumber_hidden_layers: 3\n",
      "\u001b[34m\u001b[1mwandb\u001b[0m: \tnumber_neurons: 128\n",
      "\u001b[34m\u001b[1mwandb\u001b[0m: \toptimization_function: nadam\n"
     ]
    },
    {
     "data": {
      "text/html": [
       "Tracking run with wandb version 0.14.0"
      ],
      "text/plain": [
       "<IPython.core.display.HTML object>"
      ]
     },
     "metadata": {},
     "output_type": "display_data"
    },
    {
     "data": {
      "text/html": [
       "Run data is saved locally in <code>C:\\Users\\bones\\wandb\\run-20230320_143428-y7n9m6ff</code>"
      ],
      "text/plain": [
       "<IPython.core.display.HTML object>"
      ]
     },
     "metadata": {},
     "output_type": "display_data"
    },
    {
     "data": {
      "text/html": [
       "Syncing run <strong><a href='https://wandb.ai/bs20b012/CS6910/runs/y7n9m6ff' target=\"_blank\">warm-sweep-3</a></strong> to <a href='https://wandb.ai/bs20b012/CS6910' target=\"_blank\">Weights & Biases</a> (<a href='https://wandb.me/run' target=\"_blank\">docs</a>)<br/>Sweep page: <a href='https://wandb.ai/bs20b012/CS6910/sweeps/4c8n6myl' target=\"_blank\">https://wandb.ai/bs20b012/CS6910/sweeps/4c8n6myl</a>"
      ],
      "text/plain": [
       "<IPython.core.display.HTML object>"
      ]
     },
     "metadata": {},
     "output_type": "display_data"
    },
    {
     "data": {
      "text/html": [
       " View project at <a href='https://wandb.ai/bs20b012/CS6910' target=\"_blank\">https://wandb.ai/bs20b012/CS6910</a>"
      ],
      "text/plain": [
       "<IPython.core.display.HTML object>"
      ]
     },
     "metadata": {},
     "output_type": "display_data"
    },
    {
     "data": {
      "text/html": [
       " View sweep at <a href='https://wandb.ai/bs20b012/CS6910/sweeps/4c8n6myl' target=\"_blank\">https://wandb.ai/bs20b012/CS6910/sweeps/4c8n6myl</a>"
      ],
      "text/plain": [
       "<IPython.core.display.HTML object>"
      ]
     },
     "metadata": {},
     "output_type": "display_data"
    },
    {
     "data": {
      "text/html": [
       " View run at <a href='https://wandb.ai/bs20b012/CS6910/runs/y7n9m6ff' target=\"_blank\">https://wandb.ai/bs20b012/CS6910/runs/y7n9m6ff</a>"
      ],
      "text/plain": [
       "<IPython.core.display.HTML object>"
      ]
     },
     "metadata": {},
     "output_type": "display_data"
    },
    {
     "name": "stderr",
     "output_type": "stream",
     "text": [
      "100%|████████████████████████████████████████████████████████████████████████████████████| 5/5 [04:19<00:00, 51.82s/it]"
     ]
    },
    {
     "name": "stdout",
     "output_type": "stream",
     "text": [
      "Training Accuracy: 84.46666666666667\n",
      "Validation Accuracy: 83.38333333333333\n"
     ]
    },
    {
     "name": "stderr",
     "output_type": "stream",
     "text": [
      "\n"
     ]
    },
    {
     "data": {
      "text/html": [
       "Waiting for W&B process to finish... <strong style=\"color:green\">(success).</strong>"
      ],
      "text/plain": [
       "<IPython.core.display.HTML object>"
      ]
     },
     "metadata": {},
     "output_type": "display_data"
    },
    {
     "data": {
      "text/html": [
       "<style>\n",
       "    table.wandb td:nth-child(1) { padding: 0 10px; text-align: left ; width: auto;} td:nth-child(2) {text-align: left ; width: 100%}\n",
       "    .wandb-row { display: flex; flex-direction: row; flex-wrap: wrap; justify-content: flex-start; width: 100% }\n",
       "    .wandb-col { display: flex; flex-direction: column; flex-basis: 100%; flex: 1; padding: 10px; }\n",
       "    </style>\n",
       "<div class=\"wandb-row\"><div class=\"wandb-col\"><h3>Run history:</h3><br/><table class=\"wandb\"><tr><td>Train_Accuracy</td><td>▁▄▇██</td></tr><tr><td>Train_Loss</td><td>█▄▁▁▁</td></tr><tr><td>Validation_Accuracy</td><td>▁▄▇██</td></tr><tr><td>Validation_loss</td><td>█▄▂▁▂</td></tr><tr><td>epoch</td><td>▁▃▅▆█</td></tr></table><br/></div><div class=\"wandb-col\"><h3>Run summary:</h3><br/><table class=\"wandb\"><tr><td>Train_Accuracy</td><td>84.46667</td></tr><tr><td>Train_Loss</td><td>0.60497</td></tr><tr><td>Validation_Accuracy</td><td>83.38333</td></tr><tr><td>Validation_loss</td><td>0.66189</td></tr><tr><td>epoch</td><td>4</td></tr></table><br/></div></div>"
      ],
      "text/plain": [
       "<IPython.core.display.HTML object>"
      ]
     },
     "metadata": {},
     "output_type": "display_data"
    },
    {
     "data": {
      "text/html": [
       " View run <strong style=\"color:#cdcd00\">warm-sweep-3</strong> at: <a href='https://wandb.ai/bs20b012/CS6910/runs/y7n9m6ff' target=\"_blank\">https://wandb.ai/bs20b012/CS6910/runs/y7n9m6ff</a><br/>Synced 6 W&B file(s), 0 media file(s), 0 artifact file(s) and 0 other file(s)"
      ],
      "text/plain": [
       "<IPython.core.display.HTML object>"
      ]
     },
     "metadata": {},
     "output_type": "display_data"
    },
    {
     "data": {
      "text/html": [
       "Find logs at: <code>.\\wandb\\run-20230320_143428-y7n9m6ff\\logs</code>"
      ],
      "text/plain": [
       "<IPython.core.display.HTML object>"
      ]
     },
     "metadata": {},
     "output_type": "display_data"
    },
    {
     "name": "stderr",
     "output_type": "stream",
     "text": [
      "\u001b[34m\u001b[1mwandb\u001b[0m: Agent Starting Run: 4luqjvta with config:\n",
      "\u001b[34m\u001b[1mwandb\u001b[0m: \tactivation_function: tanh\n",
      "\u001b[34m\u001b[1mwandb\u001b[0m: \tinitialization_type: random\n",
      "\u001b[34m\u001b[1mwandb\u001b[0m: \tlambd: 0.0005\n",
      "\u001b[34m\u001b[1mwandb\u001b[0m: \tlearning_rate: 0.0001\n",
      "\u001b[34m\u001b[1mwandb\u001b[0m: \tmax_epochs: 10\n",
      "\u001b[34m\u001b[1mwandb\u001b[0m: \tmini_batch_size: 16\n",
      "\u001b[34m\u001b[1mwandb\u001b[0m: \tnumber_hidden_layers: 4\n",
      "\u001b[34m\u001b[1mwandb\u001b[0m: \tnumber_neurons: 64\n",
      "\u001b[34m\u001b[1mwandb\u001b[0m: \toptimization_function: adam\n"
     ]
    },
    {
     "data": {
      "text/html": [
       "Tracking run with wandb version 0.14.0"
      ],
      "text/plain": [
       "<IPython.core.display.HTML object>"
      ]
     },
     "metadata": {},
     "output_type": "display_data"
    },
    {
     "data": {
      "text/html": [
       "Run data is saved locally in <code>C:\\Users\\bones\\wandb\\run-20230320_143906-4luqjvta</code>"
      ],
      "text/plain": [
       "<IPython.core.display.HTML object>"
      ]
     },
     "metadata": {},
     "output_type": "display_data"
    },
    {
     "data": {
      "text/html": [
       "Syncing run <strong><a href='https://wandb.ai/bs20b012/CS6910/runs/4luqjvta' target=\"_blank\">fresh-sweep-4</a></strong> to <a href='https://wandb.ai/bs20b012/CS6910' target=\"_blank\">Weights & Biases</a> (<a href='https://wandb.me/run' target=\"_blank\">docs</a>)<br/>Sweep page: <a href='https://wandb.ai/bs20b012/CS6910/sweeps/4c8n6myl' target=\"_blank\">https://wandb.ai/bs20b012/CS6910/sweeps/4c8n6myl</a>"
      ],
      "text/plain": [
       "<IPython.core.display.HTML object>"
      ]
     },
     "metadata": {},
     "output_type": "display_data"
    },
    {
     "data": {
      "text/html": [
       " View project at <a href='https://wandb.ai/bs20b012/CS6910' target=\"_blank\">https://wandb.ai/bs20b012/CS6910</a>"
      ],
      "text/plain": [
       "<IPython.core.display.HTML object>"
      ]
     },
     "metadata": {},
     "output_type": "display_data"
    },
    {
     "data": {
      "text/html": [
       " View sweep at <a href='https://wandb.ai/bs20b012/CS6910/sweeps/4c8n6myl' target=\"_blank\">https://wandb.ai/bs20b012/CS6910/sweeps/4c8n6myl</a>"
      ],
      "text/plain": [
       "<IPython.core.display.HTML object>"
      ]
     },
     "metadata": {},
     "output_type": "display_data"
    },
    {
     "data": {
      "text/html": [
       " View run at <a href='https://wandb.ai/bs20b012/CS6910/runs/4luqjvta' target=\"_blank\">https://wandb.ai/bs20b012/CS6910/runs/4luqjvta</a>"
      ],
      "text/plain": [
       "<IPython.core.display.HTML object>"
      ]
     },
     "metadata": {},
     "output_type": "display_data"
    },
    {
     "name": "stderr",
     "output_type": "stream",
     "text": [
      "100%|██████████████████████████████████████████████████████████████████████████████████| 10/10 [03:39<00:00, 21.96s/it]"
     ]
    },
    {
     "name": "stdout",
     "output_type": "stream",
     "text": [
      "Training Accuracy: 73.40185185185184\n",
      "Validation Accuracy: 72.41666666666666\n"
     ]
    },
    {
     "name": "stderr",
     "output_type": "stream",
     "text": [
      "\n"
     ]
    },
    {
     "data": {
      "text/html": [
       "Waiting for W&B process to finish... <strong style=\"color:green\">(success).</strong>"
      ],
      "text/plain": [
       "<IPython.core.display.HTML object>"
      ]
     },
     "metadata": {},
     "output_type": "display_data"
    },
    {
     "data": {
      "text/html": [
       "<style>\n",
       "    table.wandb td:nth-child(1) { padding: 0 10px; text-align: left ; width: auto;} td:nth-child(2) {text-align: left ; width: 100%}\n",
       "    .wandb-row { display: flex; flex-direction: row; flex-wrap: wrap; justify-content: flex-start; width: 100% }\n",
       "    .wandb-col { display: flex; flex-direction: column; flex-basis: 100%; flex: 1; padding: 10px; }\n",
       "    </style>\n",
       "<div class=\"wandb-row\"><div class=\"wandb-col\"><h3>Run history:</h3><br/><table class=\"wandb\"><tr><td>Train_Accuracy</td><td>▁▂▂▄▄▄▆▇▇█</td></tr><tr><td>Train_Loss</td><td>██▆▅▄▄▃▂▂▁</td></tr><tr><td>Validation_Accuracy</td><td>▁▁▂▄▄▄▆▇▇█</td></tr><tr><td>Validation_loss</td><td>██▆▅▄▄▃▂▁▁</td></tr><tr><td>epoch</td><td>▁▂▃▃▄▅▆▆▇█</td></tr></table><br/></div><div class=\"wandb-col\"><h3>Run summary:</h3><br/><table class=\"wandb\"><tr><td>Train_Accuracy</td><td>73.40185</td></tr><tr><td>Train_Loss</td><td>0.79388</td></tr><tr><td>Validation_Accuracy</td><td>72.41667</td></tr><tr><td>Validation_loss</td><td>0.81101</td></tr><tr><td>epoch</td><td>9</td></tr></table><br/></div></div>"
      ],
      "text/plain": [
       "<IPython.core.display.HTML object>"
      ]
     },
     "metadata": {},
     "output_type": "display_data"
    },
    {
     "data": {
      "text/html": [
       " View run <strong style=\"color:#cdcd00\">fresh-sweep-4</strong> at: <a href='https://wandb.ai/bs20b012/CS6910/runs/4luqjvta' target=\"_blank\">https://wandb.ai/bs20b012/CS6910/runs/4luqjvta</a><br/>Synced 6 W&B file(s), 0 media file(s), 0 artifact file(s) and 0 other file(s)"
      ],
      "text/plain": [
       "<IPython.core.display.HTML object>"
      ]
     },
     "metadata": {},
     "output_type": "display_data"
    },
    {
     "data": {
      "text/html": [
       "Find logs at: <code>.\\wandb\\run-20230320_143906-4luqjvta\\logs</code>"
      ],
      "text/plain": [
       "<IPython.core.display.HTML object>"
      ]
     },
     "metadata": {},
     "output_type": "display_data"
    },
    {
     "name": "stderr",
     "output_type": "stream",
     "text": [
      "\u001b[34m\u001b[1mwandb\u001b[0m: Agent Starting Run: cbuw44bi with config:\n",
      "\u001b[34m\u001b[1mwandb\u001b[0m: \tactivation_function: tanh\n",
      "\u001b[34m\u001b[1mwandb\u001b[0m: \tinitialization_type: random\n",
      "\u001b[34m\u001b[1mwandb\u001b[0m: \tlambd: 0.5\n",
      "\u001b[34m\u001b[1mwandb\u001b[0m: \tlearning_rate: 0.001\n",
      "\u001b[34m\u001b[1mwandb\u001b[0m: \tmax_epochs: 5\n",
      "\u001b[34m\u001b[1mwandb\u001b[0m: \tmini_batch_size: 32\n",
      "\u001b[34m\u001b[1mwandb\u001b[0m: \tnumber_hidden_layers: 3\n",
      "\u001b[34m\u001b[1mwandb\u001b[0m: \tnumber_neurons: 128\n",
      "\u001b[34m\u001b[1mwandb\u001b[0m: \toptimization_function: nadam\n"
     ]
    },
    {
     "data": {
      "text/html": [
       "Tracking run with wandb version 0.14.0"
      ],
      "text/plain": [
       "<IPython.core.display.HTML object>"
      ]
     },
     "metadata": {},
     "output_type": "display_data"
    },
    {
     "data": {
      "text/html": [
       "Run data is saved locally in <code>C:\\Users\\bones\\wandb\\run-20230320_144304-cbuw44bi</code>"
      ],
      "text/plain": [
       "<IPython.core.display.HTML object>"
      ]
     },
     "metadata": {},
     "output_type": "display_data"
    },
    {
     "data": {
      "text/html": [
       "Syncing run <strong><a href='https://wandb.ai/bs20b012/CS6910/runs/cbuw44bi' target=\"_blank\">sweet-sweep-5</a></strong> to <a href='https://wandb.ai/bs20b012/CS6910' target=\"_blank\">Weights & Biases</a> (<a href='https://wandb.me/run' target=\"_blank\">docs</a>)<br/>Sweep page: <a href='https://wandb.ai/bs20b012/CS6910/sweeps/4c8n6myl' target=\"_blank\">https://wandb.ai/bs20b012/CS6910/sweeps/4c8n6myl</a>"
      ],
      "text/plain": [
       "<IPython.core.display.HTML object>"
      ]
     },
     "metadata": {},
     "output_type": "display_data"
    },
    {
     "data": {
      "text/html": [
       " View project at <a href='https://wandb.ai/bs20b012/CS6910' target=\"_blank\">https://wandb.ai/bs20b012/CS6910</a>"
      ],
      "text/plain": [
       "<IPython.core.display.HTML object>"
      ]
     },
     "metadata": {},
     "output_type": "display_data"
    },
    {
     "data": {
      "text/html": [
       " View sweep at <a href='https://wandb.ai/bs20b012/CS6910/sweeps/4c8n6myl' target=\"_blank\">https://wandb.ai/bs20b012/CS6910/sweeps/4c8n6myl</a>"
      ],
      "text/plain": [
       "<IPython.core.display.HTML object>"
      ]
     },
     "metadata": {},
     "output_type": "display_data"
    },
    {
     "data": {
      "text/html": [
       " View run at <a href='https://wandb.ai/bs20b012/CS6910/runs/cbuw44bi' target=\"_blank\">https://wandb.ai/bs20b012/CS6910/runs/cbuw44bi</a>"
      ],
      "text/plain": [
       "<IPython.core.display.HTML object>"
      ]
     },
     "metadata": {},
     "output_type": "display_data"
    },
    {
     "name": "stderr",
     "output_type": "stream",
     "text": [
      "100%|████████████████████████████████████████████████████████████████████████████████████| 5/5 [04:03<00:00, 48.74s/it]"
     ]
    },
    {
     "name": "stdout",
     "output_type": "stream",
     "text": [
      "Training Accuracy: 85.32777777777778\n",
      "Validation Accuracy: 84.43333333333334\n"
     ]
    },
    {
     "name": "stderr",
     "output_type": "stream",
     "text": [
      "\n"
     ]
    },
    {
     "data": {
      "text/html": [
       "Waiting for W&B process to finish... <strong style=\"color:green\">(success).</strong>"
      ],
      "text/plain": [
       "<IPython.core.display.HTML object>"
      ]
     },
     "metadata": {},
     "output_type": "display_data"
    },
    {
     "data": {
      "text/html": [
       "<style>\n",
       "    table.wandb td:nth-child(1) { padding: 0 10px; text-align: left ; width: auto;} td:nth-child(2) {text-align: left ; width: 100%}\n",
       "    .wandb-row { display: flex; flex-direction: row; flex-wrap: wrap; justify-content: flex-start; width: 100% }\n",
       "    .wandb-col { display: flex; flex-direction: column; flex-basis: 100%; flex: 1; padding: 10px; }\n",
       "    </style>\n",
       "<div class=\"wandb-row\"><div class=\"wandb-col\"><h3>Run history:</h3><br/><table class=\"wandb\"><tr><td>Train_Accuracy</td><td>▁▆▇██</td></tr><tr><td>Train_Loss</td><td>█▅▁▃▂</td></tr><tr><td>Validation_Accuracy</td><td>▁▆███</td></tr><tr><td>Validation_loss</td><td>█▅▁▃▂</td></tr><tr><td>epoch</td><td>▁▃▅▆█</td></tr></table><br/></div><div class=\"wandb-col\"><h3>Run summary:</h3><br/><table class=\"wandb\"><tr><td>Train_Accuracy</td><td>85.32778</td></tr><tr><td>Train_Loss</td><td>6.86488</td></tr><tr><td>Validation_Accuracy</td><td>84.43333</td></tr><tr><td>Validation_loss</td><td>57.39555</td></tr><tr><td>epoch</td><td>4</td></tr></table><br/></div></div>"
      ],
      "text/plain": [
       "<IPython.core.display.HTML object>"
      ]
     },
     "metadata": {},
     "output_type": "display_data"
    },
    {
     "data": {
      "text/html": [
       " View run <strong style=\"color:#cdcd00\">sweet-sweep-5</strong> at: <a href='https://wandb.ai/bs20b012/CS6910/runs/cbuw44bi' target=\"_blank\">https://wandb.ai/bs20b012/CS6910/runs/cbuw44bi</a><br/>Synced 6 W&B file(s), 0 media file(s), 0 artifact file(s) and 0 other file(s)"
      ],
      "text/plain": [
       "<IPython.core.display.HTML object>"
      ]
     },
     "metadata": {},
     "output_type": "display_data"
    },
    {
     "data": {
      "text/html": [
       "Find logs at: <code>.\\wandb\\run-20230320_144304-cbuw44bi\\logs</code>"
      ],
      "text/plain": [
       "<IPython.core.display.HTML object>"
      ]
     },
     "metadata": {},
     "output_type": "display_data"
    },
    {
     "name": "stderr",
     "output_type": "stream",
     "text": [
      "\u001b[34m\u001b[1mwandb\u001b[0m: Agent Starting Run: f0g4nux8 with config:\n",
      "\u001b[34m\u001b[1mwandb\u001b[0m: \tactivation_function: relu\n",
      "\u001b[34m\u001b[1mwandb\u001b[0m: \tinitialization_type: random\n",
      "\u001b[34m\u001b[1mwandb\u001b[0m: \tlambd: 0.5\n",
      "\u001b[34m\u001b[1mwandb\u001b[0m: \tlearning_rate: 0.001\n",
      "\u001b[34m\u001b[1mwandb\u001b[0m: \tmax_epochs: 10\n",
      "\u001b[34m\u001b[1mwandb\u001b[0m: \tmini_batch_size: 32\n",
      "\u001b[34m\u001b[1mwandb\u001b[0m: \tnumber_hidden_layers: 3\n",
      "\u001b[34m\u001b[1mwandb\u001b[0m: \tnumber_neurons: 128\n",
      "\u001b[34m\u001b[1mwandb\u001b[0m: \toptimization_function: nadam\n"
     ]
    },
    {
     "data": {
      "text/html": [
       "Tracking run with wandb version 0.14.0"
      ],
      "text/plain": [
       "<IPython.core.display.HTML object>"
      ]
     },
     "metadata": {},
     "output_type": "display_data"
    },
    {
     "data": {
      "text/html": [
       "Run data is saved locally in <code>C:\\Users\\bones\\wandb\\run-20230320_144730-f0g4nux8</code>"
      ],
      "text/plain": [
       "<IPython.core.display.HTML object>"
      ]
     },
     "metadata": {},
     "output_type": "display_data"
    },
    {
     "data": {
      "text/html": [
       "Syncing run <strong><a href='https://wandb.ai/bs20b012/CS6910/runs/f0g4nux8' target=\"_blank\">elated-sweep-6</a></strong> to <a href='https://wandb.ai/bs20b012/CS6910' target=\"_blank\">Weights & Biases</a> (<a href='https://wandb.me/run' target=\"_blank\">docs</a>)<br/>Sweep page: <a href='https://wandb.ai/bs20b012/CS6910/sweeps/4c8n6myl' target=\"_blank\">https://wandb.ai/bs20b012/CS6910/sweeps/4c8n6myl</a>"
      ],
      "text/plain": [
       "<IPython.core.display.HTML object>"
      ]
     },
     "metadata": {},
     "output_type": "display_data"
    },
    {
     "data": {
      "text/html": [
       " View project at <a href='https://wandb.ai/bs20b012/CS6910' target=\"_blank\">https://wandb.ai/bs20b012/CS6910</a>"
      ],
      "text/plain": [
       "<IPython.core.display.HTML object>"
      ]
     },
     "metadata": {},
     "output_type": "display_data"
    },
    {
     "data": {
      "text/html": [
       " View sweep at <a href='https://wandb.ai/bs20b012/CS6910/sweeps/4c8n6myl' target=\"_blank\">https://wandb.ai/bs20b012/CS6910/sweeps/4c8n6myl</a>"
      ],
      "text/plain": [
       "<IPython.core.display.HTML object>"
      ]
     },
     "metadata": {},
     "output_type": "display_data"
    },
    {
     "data": {
      "text/html": [
       " View run at <a href='https://wandb.ai/bs20b012/CS6910/runs/f0g4nux8' target=\"_blank\">https://wandb.ai/bs20b012/CS6910/runs/f0g4nux8</a>"
      ],
      "text/plain": [
       "<IPython.core.display.HTML object>"
      ]
     },
     "metadata": {},
     "output_type": "display_data"
    },
    {
     "name": "stderr",
     "output_type": "stream",
     "text": [
      "  0%|                                                                                           | 0/10 [00:00<?, ?it/s]C:\\Users\\bones\\AppData\\Local\\Temp\\ipykernel_8632\\2674793555.py:77: RuntimeWarning: invalid value encountered in divide\n",
      "  grad[\"dh\"+str(len(layers)-1)] = -(y/y_hat)\n",
      "C:\\Users\\bones\\AppData\\Local\\Temp\\ipykernel_8632\\2780041360.py:33: RuntimeWarning: invalid value encountered in divide\n",
      "  return(np.exp(a)/np.sum(np.exp(a)))\n",
      "100%|██████████████████████████████████████████████████████████████████████████████████| 10/10 [08:21<00:00, 50.16s/it]"
     ]
    },
    {
     "name": "stdout",
     "output_type": "stream",
     "text": [
      "Training Accuracy: 10.048148148148147\n",
      "Validation Accuracy: 9.566666666666666\n"
     ]
    },
    {
     "name": "stderr",
     "output_type": "stream",
     "text": [
      "\n"
     ]
    },
    {
     "data": {
      "text/html": [
       "Waiting for W&B process to finish... <strong style=\"color:green\">(success).</strong>"
      ],
      "text/plain": [
       "<IPython.core.display.HTML object>"
      ]
     },
     "metadata": {},
     "output_type": "display_data"
    },
    {
     "data": {
      "text/html": [
       "<style>\n",
       "    table.wandb td:nth-child(1) { padding: 0 10px; text-align: left ; width: auto;} td:nth-child(2) {text-align: left ; width: 100%}\n",
       "    .wandb-row { display: flex; flex-direction: row; flex-wrap: wrap; justify-content: flex-start; width: 100% }\n",
       "    .wandb-col { display: flex; flex-direction: column; flex-basis: 100%; flex: 1; padding: 10px; }\n",
       "    </style>\n",
       "<div class=\"wandb-row\"><div class=\"wandb-col\"><h3>Run history:</h3><br/><table class=\"wandb\"><tr><td>Train_Accuracy</td><td>▁▁▁▁▁▁▁▁▁▁</td></tr><tr><td>Validation_Accuracy</td><td>▁▁▁▁▁▁▁▁▁▁</td></tr><tr><td>epoch</td><td>▁▂▃▃▄▅▆▆▇█</td></tr></table><br/></div><div class=\"wandb-col\"><h3>Run summary:</h3><br/><table class=\"wandb\"><tr><td>Train_Accuracy</td><td>10.04815</td></tr><tr><td>Train_Loss</td><td>nan</td></tr><tr><td>Validation_Accuracy</td><td>9.56667</td></tr><tr><td>Validation_loss</td><td>nan</td></tr><tr><td>epoch</td><td>9</td></tr></table><br/></div></div>"
      ],
      "text/plain": [
       "<IPython.core.display.HTML object>"
      ]
     },
     "metadata": {},
     "output_type": "display_data"
    },
    {
     "data": {
      "text/html": [
       " View run <strong style=\"color:#cdcd00\">elated-sweep-6</strong> at: <a href='https://wandb.ai/bs20b012/CS6910/runs/f0g4nux8' target=\"_blank\">https://wandb.ai/bs20b012/CS6910/runs/f0g4nux8</a><br/>Synced 6 W&B file(s), 0 media file(s), 0 artifact file(s) and 0 other file(s)"
      ],
      "text/plain": [
       "<IPython.core.display.HTML object>"
      ]
     },
     "metadata": {},
     "output_type": "display_data"
    },
    {
     "data": {
      "text/html": [
       "Find logs at: <code>.\\wandb\\run-20230320_144730-f0g4nux8\\logs</code>"
      ],
      "text/plain": [
       "<IPython.core.display.HTML object>"
      ]
     },
     "metadata": {},
     "output_type": "display_data"
    },
    {
     "name": "stderr",
     "output_type": "stream",
     "text": [
      "\u001b[34m\u001b[1mwandb\u001b[0m: Agent Starting Run: hrivhb58 with config:\n",
      "\u001b[34m\u001b[1mwandb\u001b[0m: \tactivation_function: tanh\n",
      "\u001b[34m\u001b[1mwandb\u001b[0m: \tinitialization_type: random\n",
      "\u001b[34m\u001b[1mwandb\u001b[0m: \tlambd: 0\n",
      "\u001b[34m\u001b[1mwandb\u001b[0m: \tlearning_rate: 0.001\n",
      "\u001b[34m\u001b[1mwandb\u001b[0m: \tmax_epochs: 5\n",
      "\u001b[34m\u001b[1mwandb\u001b[0m: \tmini_batch_size: 16\n",
      "\u001b[34m\u001b[1mwandb\u001b[0m: \tnumber_hidden_layers: 4\n",
      "\u001b[34m\u001b[1mwandb\u001b[0m: \tnumber_neurons: 64\n",
      "\u001b[34m\u001b[1mwandb\u001b[0m: \toptimization_function: momentum_gd\n"
     ]
    },
    {
     "data": {
      "text/html": [
       "Tracking run with wandb version 0.14.0"
      ],
      "text/plain": [
       "<IPython.core.display.HTML object>"
      ]
     },
     "metadata": {},
     "output_type": "display_data"
    },
    {
     "data": {
      "text/html": [
       "Run data is saved locally in <code>C:\\Users\\bones\\wandb\\run-20230320_145632-hrivhb58</code>"
      ],
      "text/plain": [
       "<IPython.core.display.HTML object>"
      ]
     },
     "metadata": {},
     "output_type": "display_data"
    },
    {
     "data": {
      "text/html": [
       "Syncing run <strong><a href='https://wandb.ai/bs20b012/CS6910/runs/hrivhb58' target=\"_blank\">royal-sweep-7</a></strong> to <a href='https://wandb.ai/bs20b012/CS6910' target=\"_blank\">Weights & Biases</a> (<a href='https://wandb.me/run' target=\"_blank\">docs</a>)<br/>Sweep page: <a href='https://wandb.ai/bs20b012/CS6910/sweeps/4c8n6myl' target=\"_blank\">https://wandb.ai/bs20b012/CS6910/sweeps/4c8n6myl</a>"
      ],
      "text/plain": [
       "<IPython.core.display.HTML object>"
      ]
     },
     "metadata": {},
     "output_type": "display_data"
    },
    {
     "data": {
      "text/html": [
       " View project at <a href='https://wandb.ai/bs20b012/CS6910' target=\"_blank\">https://wandb.ai/bs20b012/CS6910</a>"
      ],
      "text/plain": [
       "<IPython.core.display.HTML object>"
      ]
     },
     "metadata": {},
     "output_type": "display_data"
    },
    {
     "data": {
      "text/html": [
       " View sweep at <a href='https://wandb.ai/bs20b012/CS6910/sweeps/4c8n6myl' target=\"_blank\">https://wandb.ai/bs20b012/CS6910/sweeps/4c8n6myl</a>"
      ],
      "text/plain": [
       "<IPython.core.display.HTML object>"
      ]
     },
     "metadata": {},
     "output_type": "display_data"
    },
    {
     "data": {
      "text/html": [
       " View run at <a href='https://wandb.ai/bs20b012/CS6910/runs/hrivhb58' target=\"_blank\">https://wandb.ai/bs20b012/CS6910/runs/hrivhb58</a>"
      ],
      "text/plain": [
       "<IPython.core.display.HTML object>"
      ]
     },
     "metadata": {},
     "output_type": "display_data"
    },
    {
     "name": "stderr",
     "output_type": "stream",
     "text": [
      "100%|████████████████████████████████████████████████████████████████████████████████████| 5/5 [02:08<00:00, 25.69s/it]"
     ]
    },
    {
     "name": "stdout",
     "output_type": "stream",
     "text": [
      "Training Accuracy: 9.974074074074075\n",
      "Validation Accuracy: 10.233333333333333\n"
     ]
    },
    {
     "name": "stderr",
     "output_type": "stream",
     "text": [
      "\n"
     ]
    },
    {
     "data": {
      "text/html": [
       "Waiting for W&B process to finish... <strong style=\"color:green\">(success).</strong>"
      ],
      "text/plain": [
       "<IPython.core.display.HTML object>"
      ]
     },
     "metadata": {},
     "output_type": "display_data"
    },
    {
     "data": {
      "text/html": [
       "<style>\n",
       "    table.wandb td:nth-child(1) { padding: 0 10px; text-align: left ; width: auto;} td:nth-child(2) {text-align: left ; width: 100%}\n",
       "    .wandb-row { display: flex; flex-direction: row; flex-wrap: wrap; justify-content: flex-start; width: 100% }\n",
       "    .wandb-col { display: flex; flex-direction: column; flex-basis: 100%; flex: 1; padding: 10px; }\n",
       "    </style>\n",
       "<div class=\"wandb-row\"><div class=\"wandb-col\"><h3>Run history:</h3><br/><table class=\"wandb\"><tr><td>Train_Accuracy</td><td>▁▁▁▁▁</td></tr><tr><td>Train_Loss</td><td>███▇▁</td></tr><tr><td>Validation_Accuracy</td><td>▁▁▁▁▁</td></tr><tr><td>Validation_loss</td><td>███▇▁</td></tr><tr><td>epoch</td><td>▁▃▅▆█</td></tr></table><br/></div><div class=\"wandb-col\"><h3>Run summary:</h3><br/><table class=\"wandb\"><tr><td>Train_Accuracy</td><td>9.97407</td></tr><tr><td>Train_Loss</td><td>2.30251</td></tr><tr><td>Validation_Accuracy</td><td>10.23333</td></tr><tr><td>Validation_loss</td><td>2.30232</td></tr><tr><td>epoch</td><td>4</td></tr></table><br/></div></div>"
      ],
      "text/plain": [
       "<IPython.core.display.HTML object>"
      ]
     },
     "metadata": {},
     "output_type": "display_data"
    },
    {
     "data": {
      "text/html": [
       " View run <strong style=\"color:#cdcd00\">royal-sweep-7</strong> at: <a href='https://wandb.ai/bs20b012/CS6910/runs/hrivhb58' target=\"_blank\">https://wandb.ai/bs20b012/CS6910/runs/hrivhb58</a><br/>Synced 6 W&B file(s), 0 media file(s), 0 artifact file(s) and 0 other file(s)"
      ],
      "text/plain": [
       "<IPython.core.display.HTML object>"
      ]
     },
     "metadata": {},
     "output_type": "display_data"
    },
    {
     "data": {
      "text/html": [
       "Find logs at: <code>.\\wandb\\run-20230320_145632-hrivhb58\\logs</code>"
      ],
      "text/plain": [
       "<IPython.core.display.HTML object>"
      ]
     },
     "metadata": {},
     "output_type": "display_data"
    },
    {
     "name": "stderr",
     "output_type": "stream",
     "text": [
      "\u001b[34m\u001b[1mwandb\u001b[0m: Agent Starting Run: c1fx7afn with config:\n",
      "\u001b[34m\u001b[1mwandb\u001b[0m: \tactivation_function: tanh\n",
      "\u001b[34m\u001b[1mwandb\u001b[0m: \tinitialization_type: xavier\n",
      "\u001b[34m\u001b[1mwandb\u001b[0m: \tlambd: 0.0005\n",
      "\u001b[34m\u001b[1mwandb\u001b[0m: \tlearning_rate: 0.0001\n",
      "\u001b[34m\u001b[1mwandb\u001b[0m: \tmax_epochs: 10\n",
      "\u001b[34m\u001b[1mwandb\u001b[0m: \tmini_batch_size: 64\n",
      "\u001b[34m\u001b[1mwandb\u001b[0m: \tnumber_hidden_layers: 4\n",
      "\u001b[34m\u001b[1mwandb\u001b[0m: \tnumber_neurons: 32\n",
      "\u001b[34m\u001b[1mwandb\u001b[0m: \toptimization_function: adam\n"
     ]
    },
    {
     "data": {
      "text/html": [
       "Tracking run with wandb version 0.14.0"
      ],
      "text/plain": [
       "<IPython.core.display.HTML object>"
      ]
     },
     "metadata": {},
     "output_type": "display_data"
    },
    {
     "data": {
      "text/html": [
       "Run data is saved locally in <code>C:\\Users\\bones\\wandb\\run-20230320_145901-c1fx7afn</code>"
      ],
      "text/plain": [
       "<IPython.core.display.HTML object>"
      ]
     },
     "metadata": {},
     "output_type": "display_data"
    },
    {
     "data": {
      "text/html": [
       "Syncing run <strong><a href='https://wandb.ai/bs20b012/CS6910/runs/c1fx7afn' target=\"_blank\">wobbly-sweep-8</a></strong> to <a href='https://wandb.ai/bs20b012/CS6910' target=\"_blank\">Weights & Biases</a> (<a href='https://wandb.me/run' target=\"_blank\">docs</a>)<br/>Sweep page: <a href='https://wandb.ai/bs20b012/CS6910/sweeps/4c8n6myl' target=\"_blank\">https://wandb.ai/bs20b012/CS6910/sweeps/4c8n6myl</a>"
      ],
      "text/plain": [
       "<IPython.core.display.HTML object>"
      ]
     },
     "metadata": {},
     "output_type": "display_data"
    },
    {
     "data": {
      "text/html": [
       " View project at <a href='https://wandb.ai/bs20b012/CS6910' target=\"_blank\">https://wandb.ai/bs20b012/CS6910</a>"
      ],
      "text/plain": [
       "<IPython.core.display.HTML object>"
      ]
     },
     "metadata": {},
     "output_type": "display_data"
    },
    {
     "data": {
      "text/html": [
       " View sweep at <a href='https://wandb.ai/bs20b012/CS6910/sweeps/4c8n6myl' target=\"_blank\">https://wandb.ai/bs20b012/CS6910/sweeps/4c8n6myl</a>"
      ],
      "text/plain": [
       "<IPython.core.display.HTML object>"
      ]
     },
     "metadata": {},
     "output_type": "display_data"
    },
    {
     "data": {
      "text/html": [
       " View run at <a href='https://wandb.ai/bs20b012/CS6910/runs/c1fx7afn' target=\"_blank\">https://wandb.ai/bs20b012/CS6910/runs/c1fx7afn</a>"
      ],
      "text/plain": [
       "<IPython.core.display.HTML object>"
      ]
     },
     "metadata": {},
     "output_type": "display_data"
    },
    {
     "name": "stderr",
     "output_type": "stream",
     "text": [
      "100%|██████████████████████████████████████████████████████████████████████████████████| 10/10 [03:42<00:00, 22.22s/it]"
     ]
    },
    {
     "name": "stdout",
     "output_type": "stream",
     "text": [
      "Training Accuracy: 85.03888888888889\n",
      "Validation Accuracy: 84.25\n"
     ]
    },
    {
     "name": "stderr",
     "output_type": "stream",
     "text": [
      "\n"
     ]
    },
    {
     "data": {
      "text/html": [
       "Waiting for W&B process to finish... <strong style=\"color:green\">(success).</strong>"
      ],
      "text/plain": [
       "<IPython.core.display.HTML object>"
      ]
     },
     "metadata": {},
     "output_type": "display_data"
    },
    {
     "data": {
      "application/vnd.jupyter.widget-view+json": {
       "model_id": "b7888216425747a28342104748583800",
       "version_major": 2,
       "version_minor": 0
      },
      "text/plain": [
       "VBox(children=(Label(value='0.001 MB of 0.001 MB uploaded (0.000 MB deduped)\\r'), FloatProgress(value=1.0, max…"
      ]
     },
     "metadata": {},
     "output_type": "display_data"
    },
    {
     "data": {
      "text/html": [
       "<style>\n",
       "    table.wandb td:nth-child(1) { padding: 0 10px; text-align: left ; width: auto;} td:nth-child(2) {text-align: left ; width: 100%}\n",
       "    .wandb-row { display: flex; flex-direction: row; flex-wrap: wrap; justify-content: flex-start; width: 100% }\n",
       "    .wandb-col { display: flex; flex-direction: column; flex-basis: 100%; flex: 1; padding: 10px; }\n",
       "    </style>\n",
       "<div class=\"wandb-row\"><div class=\"wandb-col\"><h3>Run history:</h3><br/><table class=\"wandb\"><tr><td>Train_Accuracy</td><td>▁▄▅▆▇▇▇███</td></tr><tr><td>Train_Loss</td><td>█▅▃▃▂▂▂▁▁▁</td></tr><tr><td>Validation_Accuracy</td><td>▁▄▆▇▇▇████</td></tr><tr><td>Validation_loss</td><td>█▅▃▃▂▂▂▁▁▁</td></tr><tr><td>epoch</td><td>▁▂▃▃▄▅▆▆▇█</td></tr></table><br/></div><div class=\"wandb-col\"><h3>Run summary:</h3><br/><table class=\"wandb\"><tr><td>Train_Accuracy</td><td>85.03889</td></tr><tr><td>Train_Loss</td><td>0.43251</td></tr><tr><td>Validation_Accuracy</td><td>84.25</td></tr><tr><td>Validation_loss</td><td>0.45662</td></tr><tr><td>epoch</td><td>9</td></tr></table><br/></div></div>"
      ],
      "text/plain": [
       "<IPython.core.display.HTML object>"
      ]
     },
     "metadata": {},
     "output_type": "display_data"
    },
    {
     "data": {
      "text/html": [
       " View run <strong style=\"color:#cdcd00\">wobbly-sweep-8</strong> at: <a href='https://wandb.ai/bs20b012/CS6910/runs/c1fx7afn' target=\"_blank\">https://wandb.ai/bs20b012/CS6910/runs/c1fx7afn</a><br/>Synced 6 W&B file(s), 0 media file(s), 0 artifact file(s) and 0 other file(s)"
      ],
      "text/plain": [
       "<IPython.core.display.HTML object>"
      ]
     },
     "metadata": {},
     "output_type": "display_data"
    },
    {
     "data": {
      "text/html": [
       "Find logs at: <code>.\\wandb\\run-20230320_145901-c1fx7afn\\logs</code>"
      ],
      "text/plain": [
       "<IPython.core.display.HTML object>"
      ]
     },
     "metadata": {},
     "output_type": "display_data"
    },
    {
     "name": "stderr",
     "output_type": "stream",
     "text": [
      "\u001b[34m\u001b[1mwandb\u001b[0m: Sweep Agent: Waiting for job.\n",
      "\u001b[34m\u001b[1mwandb\u001b[0m: Job received.\n",
      "\u001b[34m\u001b[1mwandb\u001b[0m: Agent Starting Run: 977d254t with config:\n",
      "\u001b[34m\u001b[1mwandb\u001b[0m: \tactivation_function: sigmoid\n",
      "\u001b[34m\u001b[1mwandb\u001b[0m: \tinitialization_type: xavier\n",
      "\u001b[34m\u001b[1mwandb\u001b[0m: \tlambd: 0.0005\n",
      "\u001b[34m\u001b[1mwandb\u001b[0m: \tlearning_rate: 0.0001\n",
      "\u001b[34m\u001b[1mwandb\u001b[0m: \tmax_epochs: 5\n",
      "\u001b[34m\u001b[1mwandb\u001b[0m: \tmini_batch_size: 16\n",
      "\u001b[34m\u001b[1mwandb\u001b[0m: \tnumber_hidden_layers: 5\n",
      "\u001b[34m\u001b[1mwandb\u001b[0m: \tnumber_neurons: 64\n",
      "\u001b[34m\u001b[1mwandb\u001b[0m: \toptimization_function: adam\n"
     ]
    },
    {
     "data": {
      "text/html": [
       "Tracking run with wandb version 0.14.0"
      ],
      "text/plain": [
       "<IPython.core.display.HTML object>"
      ]
     },
     "metadata": {},
     "output_type": "display_data"
    },
    {
     "data": {
      "text/html": [
       "Run data is saved locally in <code>C:\\Users\\bones\\wandb\\run-20230320_150310-977d254t</code>"
      ],
      "text/plain": [
       "<IPython.core.display.HTML object>"
      ]
     },
     "metadata": {},
     "output_type": "display_data"
    },
    {
     "data": {
      "text/html": [
       "Syncing run <strong><a href='https://wandb.ai/bs20b012/CS6910/runs/977d254t' target=\"_blank\">ruby-sweep-9</a></strong> to <a href='https://wandb.ai/bs20b012/CS6910' target=\"_blank\">Weights & Biases</a> (<a href='https://wandb.me/run' target=\"_blank\">docs</a>)<br/>Sweep page: <a href='https://wandb.ai/bs20b012/CS6910/sweeps/4c8n6myl' target=\"_blank\">https://wandb.ai/bs20b012/CS6910/sweeps/4c8n6myl</a>"
      ],
      "text/plain": [
       "<IPython.core.display.HTML object>"
      ]
     },
     "metadata": {},
     "output_type": "display_data"
    },
    {
     "data": {
      "text/html": [
       " View project at <a href='https://wandb.ai/bs20b012/CS6910' target=\"_blank\">https://wandb.ai/bs20b012/CS6910</a>"
      ],
      "text/plain": [
       "<IPython.core.display.HTML object>"
      ]
     },
     "metadata": {},
     "output_type": "display_data"
    },
    {
     "data": {
      "text/html": [
       " View sweep at <a href='https://wandb.ai/bs20b012/CS6910/sweeps/4c8n6myl' target=\"_blank\">https://wandb.ai/bs20b012/CS6910/sweeps/4c8n6myl</a>"
      ],
      "text/plain": [
       "<IPython.core.display.HTML object>"
      ]
     },
     "metadata": {},
     "output_type": "display_data"
    },
    {
     "data": {
      "text/html": [
       " View run at <a href='https://wandb.ai/bs20b012/CS6910/runs/977d254t' target=\"_blank\">https://wandb.ai/bs20b012/CS6910/runs/977d254t</a>"
      ],
      "text/plain": [
       "<IPython.core.display.HTML object>"
      ]
     },
     "metadata": {},
     "output_type": "display_data"
    },
    {
     "name": "stderr",
     "output_type": "stream",
     "text": [
      "100%|████████████████████████████████████████████████████████████████████████████████████| 5/5 [02:43<00:00, 32.60s/it]"
     ]
    },
    {
     "name": "stdout",
     "output_type": "stream",
     "text": [
      "Training Accuracy: 70.94814814814815\n",
      "Validation Accuracy: 71.55\n"
     ]
    },
    {
     "name": "stderr",
     "output_type": "stream",
     "text": [
      "\n"
     ]
    },
    {
     "data": {
      "text/html": [
       "Waiting for W&B process to finish... <strong style=\"color:green\">(success).</strong>"
      ],
      "text/plain": [
       "<IPython.core.display.HTML object>"
      ]
     },
     "metadata": {},
     "output_type": "display_data"
    },
    {
     "data": {
      "text/html": [
       "<style>\n",
       "    table.wandb td:nth-child(1) { padding: 0 10px; text-align: left ; width: auto;} td:nth-child(2) {text-align: left ; width: 100%}\n",
       "    .wandb-row { display: flex; flex-direction: row; flex-wrap: wrap; justify-content: flex-start; width: 100% }\n",
       "    .wandb-col { display: flex; flex-direction: column; flex-basis: 100%; flex: 1; padding: 10px; }\n",
       "    </style>\n",
       "<div class=\"wandb-row\"><div class=\"wandb-col\"><h3>Run history:</h3><br/><table class=\"wandb\"><tr><td>Train_Accuracy</td><td>▁▄▇▇█</td></tr><tr><td>Train_Loss</td><td>█▄▃▂▁</td></tr><tr><td>Validation_Accuracy</td><td>▁▄▇▇█</td></tr><tr><td>Validation_loss</td><td>█▄▃▂▁</td></tr><tr><td>epoch</td><td>▁▃▅▆█</td></tr></table><br/></div><div class=\"wandb-col\"><h3>Run summary:</h3><br/><table class=\"wandb\"><tr><td>Train_Accuracy</td><td>70.94815</td></tr><tr><td>Train_Loss</td><td>0.78667</td></tr><tr><td>Validation_Accuracy</td><td>71.55</td></tr><tr><td>Validation_loss</td><td>0.7865</td></tr><tr><td>epoch</td><td>4</td></tr></table><br/></div></div>"
      ],
      "text/plain": [
       "<IPython.core.display.HTML object>"
      ]
     },
     "metadata": {},
     "output_type": "display_data"
    },
    {
     "data": {
      "text/html": [
       " View run <strong style=\"color:#cdcd00\">ruby-sweep-9</strong> at: <a href='https://wandb.ai/bs20b012/CS6910/runs/977d254t' target=\"_blank\">https://wandb.ai/bs20b012/CS6910/runs/977d254t</a><br/>Synced 6 W&B file(s), 0 media file(s), 0 artifact file(s) and 0 other file(s)"
      ],
      "text/plain": [
       "<IPython.core.display.HTML object>"
      ]
     },
     "metadata": {},
     "output_type": "display_data"
    },
    {
     "data": {
      "text/html": [
       "Find logs at: <code>.\\wandb\\run-20230320_150310-977d254t\\logs</code>"
      ],
      "text/plain": [
       "<IPython.core.display.HTML object>"
      ]
     },
     "metadata": {},
     "output_type": "display_data"
    },
    {
     "name": "stderr",
     "output_type": "stream",
     "text": [
      "\u001b[34m\u001b[1mwandb\u001b[0m: Sweep Agent: Waiting for job.\n",
      "\u001b[34m\u001b[1mwandb\u001b[0m: Job received.\n",
      "\u001b[34m\u001b[1mwandb\u001b[0m: Agent Starting Run: zv0wf3ib with config:\n",
      "\u001b[34m\u001b[1mwandb\u001b[0m: \tactivation_function: relu\n",
      "\u001b[34m\u001b[1mwandb\u001b[0m: \tinitialization_type: random\n",
      "\u001b[34m\u001b[1mwandb\u001b[0m: \tlambd: 0.5\n",
      "\u001b[34m\u001b[1mwandb\u001b[0m: \tlearning_rate: 0.0001\n",
      "\u001b[34m\u001b[1mwandb\u001b[0m: \tmax_epochs: 10\n",
      "\u001b[34m\u001b[1mwandb\u001b[0m: \tmini_batch_size: 64\n",
      "\u001b[34m\u001b[1mwandb\u001b[0m: \tnumber_hidden_layers: 3\n",
      "\u001b[34m\u001b[1mwandb\u001b[0m: \tnumber_neurons: 64\n",
      "\u001b[34m\u001b[1mwandb\u001b[0m: \toptimization_function: momentum_gd\n"
     ]
    },
    {
     "data": {
      "text/html": [
       "Tracking run with wandb version 0.14.0"
      ],
      "text/plain": [
       "<IPython.core.display.HTML object>"
      ]
     },
     "metadata": {},
     "output_type": "display_data"
    },
    {
     "data": {
      "text/html": [
       "Run data is saved locally in <code>C:\\Users\\bones\\wandb\\run-20230320_150622-zv0wf3ib</code>"
      ],
      "text/plain": [
       "<IPython.core.display.HTML object>"
      ]
     },
     "metadata": {},
     "output_type": "display_data"
    },
    {
     "data": {
      "text/html": [
       "Syncing run <strong><a href='https://wandb.ai/bs20b012/CS6910/runs/zv0wf3ib' target=\"_blank\">icy-sweep-10</a></strong> to <a href='https://wandb.ai/bs20b012/CS6910' target=\"_blank\">Weights & Biases</a> (<a href='https://wandb.me/run' target=\"_blank\">docs</a>)<br/>Sweep page: <a href='https://wandb.ai/bs20b012/CS6910/sweeps/4c8n6myl' target=\"_blank\">https://wandb.ai/bs20b012/CS6910/sweeps/4c8n6myl</a>"
      ],
      "text/plain": [
       "<IPython.core.display.HTML object>"
      ]
     },
     "metadata": {},
     "output_type": "display_data"
    },
    {
     "data": {
      "text/html": [
       " View project at <a href='https://wandb.ai/bs20b012/CS6910' target=\"_blank\">https://wandb.ai/bs20b012/CS6910</a>"
      ],
      "text/plain": [
       "<IPython.core.display.HTML object>"
      ]
     },
     "metadata": {},
     "output_type": "display_data"
    },
    {
     "data": {
      "text/html": [
       " View sweep at <a href='https://wandb.ai/bs20b012/CS6910/sweeps/4c8n6myl' target=\"_blank\">https://wandb.ai/bs20b012/CS6910/sweeps/4c8n6myl</a>"
      ],
      "text/plain": [
       "<IPython.core.display.HTML object>"
      ]
     },
     "metadata": {},
     "output_type": "display_data"
    },
    {
     "data": {
      "text/html": [
       " View run at <a href='https://wandb.ai/bs20b012/CS6910/runs/zv0wf3ib' target=\"_blank\">https://wandb.ai/bs20b012/CS6910/runs/zv0wf3ib</a>"
      ],
      "text/plain": [
       "<IPython.core.display.HTML object>"
      ]
     },
     "metadata": {},
     "output_type": "display_data"
    },
    {
     "name": "stderr",
     "output_type": "stream",
     "text": [
      "100%|██████████████████████████████████████████████████████████████████████████████████| 10/10 [03:49<00:00, 22.98s/it]"
     ]
    },
    {
     "name": "stdout",
     "output_type": "stream",
     "text": [
      "Training Accuracy: 10.05\n",
      "Validation Accuracy: 9.55\n"
     ]
    },
    {
     "name": "stderr",
     "output_type": "stream",
     "text": [
      "\n"
     ]
    },
    {
     "data": {
      "text/html": [
       "Waiting for W&B process to finish... <strong style=\"color:green\">(success).</strong>"
      ],
      "text/plain": [
       "<IPython.core.display.HTML object>"
      ]
     },
     "metadata": {},
     "output_type": "display_data"
    },
    {
     "data": {
      "text/html": [
       "<style>\n",
       "    table.wandb td:nth-child(1) { padding: 0 10px; text-align: left ; width: auto;} td:nth-child(2) {text-align: left ; width: 100%}\n",
       "    .wandb-row { display: flex; flex-direction: row; flex-wrap: wrap; justify-content: flex-start; width: 100% }\n",
       "    .wandb-col { display: flex; flex-direction: column; flex-basis: 100%; flex: 1; padding: 10px; }\n",
       "    </style>\n",
       "<div class=\"wandb-row\"><div class=\"wandb-col\"><h3>Run history:</h3><br/><table class=\"wandb\"><tr><td>Train_Accuracy</td><td>▁█████████</td></tr><tr><td>Train_Loss</td><td>█▆▆▅▅▄▄▃▂▁</td></tr><tr><td>Validation_Accuracy</td><td>█▁▁▁▁▁▁▁▁▁</td></tr><tr><td>Validation_loss</td><td>▁▃▄▄▄▄▄▅▆█</td></tr><tr><td>epoch</td><td>▁▂▃▃▄▅▆▆▇█</td></tr></table><br/></div><div class=\"wandb-col\"><h3>Run summary:</h3><br/><table class=\"wandb\"><tr><td>Train_Accuracy</td><td>10.05</td></tr><tr><td>Train_Loss</td><td>2.30253</td></tr><tr><td>Validation_Accuracy</td><td>9.55</td></tr><tr><td>Validation_loss</td><td>2.30284</td></tr><tr><td>epoch</td><td>9</td></tr></table><br/></div></div>"
      ],
      "text/plain": [
       "<IPython.core.display.HTML object>"
      ]
     },
     "metadata": {},
     "output_type": "display_data"
    },
    {
     "data": {
      "text/html": [
       " View run <strong style=\"color:#cdcd00\">icy-sweep-10</strong> at: <a href='https://wandb.ai/bs20b012/CS6910/runs/zv0wf3ib' target=\"_blank\">https://wandb.ai/bs20b012/CS6910/runs/zv0wf3ib</a><br/>Synced 6 W&B file(s), 0 media file(s), 0 artifact file(s) and 0 other file(s)"
      ],
      "text/plain": [
       "<IPython.core.display.HTML object>"
      ]
     },
     "metadata": {},
     "output_type": "display_data"
    },
    {
     "data": {
      "text/html": [
       "Find logs at: <code>.\\wandb\\run-20230320_150622-zv0wf3ib\\logs</code>"
      ],
      "text/plain": [
       "<IPython.core.display.HTML object>"
      ]
     },
     "metadata": {},
     "output_type": "display_data"
    },
    {
     "name": "stderr",
     "output_type": "stream",
     "text": [
      "\u001b[34m\u001b[1mwandb\u001b[0m: Sweep Agent: Waiting for job.\n",
      "\u001b[34m\u001b[1mwandb\u001b[0m: Job received.\n",
      "\u001b[34m\u001b[1mwandb\u001b[0m: Agent Starting Run: i7frd7k6 with config:\n",
      "\u001b[34m\u001b[1mwandb\u001b[0m: \tactivation_function: relu\n",
      "\u001b[34m\u001b[1mwandb\u001b[0m: \tinitialization_type: xavier\n",
      "\u001b[34m\u001b[1mwandb\u001b[0m: \tlambd: 0.0005\n",
      "\u001b[34m\u001b[1mwandb\u001b[0m: \tlearning_rate: 0.001\n",
      "\u001b[34m\u001b[1mwandb\u001b[0m: \tmax_epochs: 10\n",
      "\u001b[34m\u001b[1mwandb\u001b[0m: \tmini_batch_size: 16\n",
      "\u001b[34m\u001b[1mwandb\u001b[0m: \tnumber_hidden_layers: 3\n",
      "\u001b[34m\u001b[1mwandb\u001b[0m: \tnumber_neurons: 64\n",
      "\u001b[34m\u001b[1mwandb\u001b[0m: \toptimization_function: nadam\n"
     ]
    },
    {
     "data": {
      "text/html": [
       "Tracking run with wandb version 0.14.0"
      ],
      "text/plain": [
       "<IPython.core.display.HTML object>"
      ]
     },
     "metadata": {},
     "output_type": "display_data"
    },
    {
     "data": {
      "text/html": [
       "Run data is saved locally in <code>C:\\Users\\bones\\wandb\\run-20230320_151040-i7frd7k6</code>"
      ],
      "text/plain": [
       "<IPython.core.display.HTML object>"
      ]
     },
     "metadata": {},
     "output_type": "display_data"
    },
    {
     "data": {
      "text/html": [
       "Syncing run <strong><a href='https://wandb.ai/bs20b012/CS6910/runs/i7frd7k6' target=\"_blank\">decent-sweep-11</a></strong> to <a href='https://wandb.ai/bs20b012/CS6910' target=\"_blank\">Weights & Biases</a> (<a href='https://wandb.me/run' target=\"_blank\">docs</a>)<br/>Sweep page: <a href='https://wandb.ai/bs20b012/CS6910/sweeps/4c8n6myl' target=\"_blank\">https://wandb.ai/bs20b012/CS6910/sweeps/4c8n6myl</a>"
      ],
      "text/plain": [
       "<IPython.core.display.HTML object>"
      ]
     },
     "metadata": {},
     "output_type": "display_data"
    },
    {
     "data": {
      "text/html": [
       " View project at <a href='https://wandb.ai/bs20b012/CS6910' target=\"_blank\">https://wandb.ai/bs20b012/CS6910</a>"
      ],
      "text/plain": [
       "<IPython.core.display.HTML object>"
      ]
     },
     "metadata": {},
     "output_type": "display_data"
    },
    {
     "data": {
      "text/html": [
       " View sweep at <a href='https://wandb.ai/bs20b012/CS6910/sweeps/4c8n6myl' target=\"_blank\">https://wandb.ai/bs20b012/CS6910/sweeps/4c8n6myl</a>"
      ],
      "text/plain": [
       "<IPython.core.display.HTML object>"
      ]
     },
     "metadata": {},
     "output_type": "display_data"
    },
    {
     "data": {
      "text/html": [
       " View run at <a href='https://wandb.ai/bs20b012/CS6910/runs/i7frd7k6' target=\"_blank\">https://wandb.ai/bs20b012/CS6910/runs/i7frd7k6</a>"
      ],
      "text/plain": [
       "<IPython.core.display.HTML object>"
      ]
     },
     "metadata": {},
     "output_type": "display_data"
    },
    {
     "name": "stderr",
     "output_type": "stream",
     "text": [
      "100%|██████████████████████████████████████████████████████████████████████████████████| 10/10 [05:02<00:00, 30.23s/it]"
     ]
    },
    {
     "name": "stdout",
     "output_type": "stream",
     "text": [
      "Training Accuracy: 10.048148148148147\n",
      "Validation Accuracy: 9.566666666666666\n"
     ]
    },
    {
     "name": "stderr",
     "output_type": "stream",
     "text": [
      "\n"
     ]
    },
    {
     "data": {
      "text/html": [
       "Waiting for W&B process to finish... <strong style=\"color:green\">(success).</strong>"
      ],
      "text/plain": [
       "<IPython.core.display.HTML object>"
      ]
     },
     "metadata": {},
     "output_type": "display_data"
    },
    {
     "data": {
      "application/vnd.jupyter.widget-view+json": {
       "model_id": "9a4a3cf2d9d9478586de9ca367f38ae4",
       "version_major": 2,
       "version_minor": 0
      },
      "text/plain": [
       "VBox(children=(Label(value='0.001 MB of 0.001 MB uploaded (0.000 MB deduped)\\r'), FloatProgress(value=1.0, max…"
      ]
     },
     "metadata": {},
     "output_type": "display_data"
    },
    {
     "data": {
      "text/html": [
       "<style>\n",
       "    table.wandb td:nth-child(1) { padding: 0 10px; text-align: left ; width: auto;} td:nth-child(2) {text-align: left ; width: 100%}\n",
       "    .wandb-row { display: flex; flex-direction: row; flex-wrap: wrap; justify-content: flex-start; width: 100% }\n",
       "    .wandb-col { display: flex; flex-direction: column; flex-basis: 100%; flex: 1; padding: 10px; }\n",
       "    </style>\n",
       "<div class=\"wandb-row\"><div class=\"wandb-col\"><h3>Run history:</h3><br/><table class=\"wandb\"><tr><td>Train_Accuracy</td><td>▁▁▁▁▁▁▁▁▁▁</td></tr><tr><td>Validation_Accuracy</td><td>▁▁▁▁▁▁▁▁▁▁</td></tr><tr><td>epoch</td><td>▁▂▃▃▄▅▆▆▇█</td></tr></table><br/></div><div class=\"wandb-col\"><h3>Run summary:</h3><br/><table class=\"wandb\"><tr><td>Train_Accuracy</td><td>10.04815</td></tr><tr><td>Train_Loss</td><td>nan</td></tr><tr><td>Validation_Accuracy</td><td>9.56667</td></tr><tr><td>Validation_loss</td><td>nan</td></tr><tr><td>epoch</td><td>9</td></tr></table><br/></div></div>"
      ],
      "text/plain": [
       "<IPython.core.display.HTML object>"
      ]
     },
     "metadata": {},
     "output_type": "display_data"
    },
    {
     "data": {
      "text/html": [
       " View run <strong style=\"color:#cdcd00\">decent-sweep-11</strong> at: <a href='https://wandb.ai/bs20b012/CS6910/runs/i7frd7k6' target=\"_blank\">https://wandb.ai/bs20b012/CS6910/runs/i7frd7k6</a><br/>Synced 6 W&B file(s), 0 media file(s), 0 artifact file(s) and 0 other file(s)"
      ],
      "text/plain": [
       "<IPython.core.display.HTML object>"
      ]
     },
     "metadata": {},
     "output_type": "display_data"
    },
    {
     "data": {
      "text/html": [
       "Find logs at: <code>.\\wandb\\run-20230320_151040-i7frd7k6\\logs</code>"
      ],
      "text/plain": [
       "<IPython.core.display.HTML object>"
      ]
     },
     "metadata": {},
     "output_type": "display_data"
    },
    {
     "name": "stderr",
     "output_type": "stream",
     "text": [
      "\u001b[34m\u001b[1mwandb\u001b[0m: Sweep Agent: Waiting for job.\n",
      "\u001b[34m\u001b[1mwandb\u001b[0m: Job received.\n",
      "\u001b[34m\u001b[1mwandb\u001b[0m: Agent Starting Run: g83h0mtu with config:\n",
      "\u001b[34m\u001b[1mwandb\u001b[0m: \tactivation_function: tanh\n",
      "\u001b[34m\u001b[1mwandb\u001b[0m: \tinitialization_type: xavier\n",
      "\u001b[34m\u001b[1mwandb\u001b[0m: \tlambd: 0.5\n",
      "\u001b[34m\u001b[1mwandb\u001b[0m: \tlearning_rate: 0.0001\n",
      "\u001b[34m\u001b[1mwandb\u001b[0m: \tmax_epochs: 5\n",
      "\u001b[34m\u001b[1mwandb\u001b[0m: \tmini_batch_size: 32\n",
      "\u001b[34m\u001b[1mwandb\u001b[0m: \tnumber_hidden_layers: 3\n",
      "\u001b[34m\u001b[1mwandb\u001b[0m: \tnumber_neurons: 64\n",
      "\u001b[34m\u001b[1mwandb\u001b[0m: \toptimization_function: adam\n"
     ]
    },
    {
     "data": {
      "text/html": [
       "Tracking run with wandb version 0.14.0"
      ],
      "text/plain": [
       "<IPython.core.display.HTML object>"
      ]
     },
     "metadata": {},
     "output_type": "display_data"
    },
    {
     "data": {
      "text/html": [
       "Run data is saved locally in <code>C:\\Users\\bones\\wandb\\run-20230320_151635-g83h0mtu</code>"
      ],
      "text/plain": [
       "<IPython.core.display.HTML object>"
      ]
     },
     "metadata": {},
     "output_type": "display_data"
    },
    {
     "data": {
      "text/html": [
       "Syncing run <strong><a href='https://wandb.ai/bs20b012/CS6910/runs/g83h0mtu' target=\"_blank\">confused-sweep-12</a></strong> to <a href='https://wandb.ai/bs20b012/CS6910' target=\"_blank\">Weights & Biases</a> (<a href='https://wandb.me/run' target=\"_blank\">docs</a>)<br/>Sweep page: <a href='https://wandb.ai/bs20b012/CS6910/sweeps/4c8n6myl' target=\"_blank\">https://wandb.ai/bs20b012/CS6910/sweeps/4c8n6myl</a>"
      ],
      "text/plain": [
       "<IPython.core.display.HTML object>"
      ]
     },
     "metadata": {},
     "output_type": "display_data"
    },
    {
     "data": {
      "text/html": [
       " View project at <a href='https://wandb.ai/bs20b012/CS6910' target=\"_blank\">https://wandb.ai/bs20b012/CS6910</a>"
      ],
      "text/plain": [
       "<IPython.core.display.HTML object>"
      ]
     },
     "metadata": {},
     "output_type": "display_data"
    },
    {
     "data": {
      "text/html": [
       " View sweep at <a href='https://wandb.ai/bs20b012/CS6910/sweeps/4c8n6myl' target=\"_blank\">https://wandb.ai/bs20b012/CS6910/sweeps/4c8n6myl</a>"
      ],
      "text/plain": [
       "<IPython.core.display.HTML object>"
      ]
     },
     "metadata": {},
     "output_type": "display_data"
    },
    {
     "data": {
      "text/html": [
       " View run at <a href='https://wandb.ai/bs20b012/CS6910/runs/g83h0mtu' target=\"_blank\">https://wandb.ai/bs20b012/CS6910/runs/g83h0mtu</a>"
      ],
      "text/plain": [
       "<IPython.core.display.HTML object>"
      ]
     },
     "metadata": {},
     "output_type": "display_data"
    },
    {
     "name": "stderr",
     "output_type": "stream",
     "text": [
      "100%|████████████████████████████████████████████████████████████████████████████████████| 5/5 [02:01<00:00, 24.33s/it]"
     ]
    },
    {
     "name": "stdout",
     "output_type": "stream",
     "text": [
      "Training Accuracy: 85.31111111111112\n",
      "Validation Accuracy: 84.31666666666666\n"
     ]
    },
    {
     "name": "stderr",
     "output_type": "stream",
     "text": [
      "\n"
     ]
    },
    {
     "data": {
      "text/html": [
       "Waiting for W&B process to finish... <strong style=\"color:green\">(success).</strong>"
      ],
      "text/plain": [
       "<IPython.core.display.HTML object>"
      ]
     },
     "metadata": {},
     "output_type": "display_data"
    },
    {
     "data": {
      "text/html": [
       "<style>\n",
       "    table.wandb td:nth-child(1) { padding: 0 10px; text-align: left ; width: auto;} td:nth-child(2) {text-align: left ; width: 100%}\n",
       "    .wandb-row { display: flex; flex-direction: row; flex-wrap: wrap; justify-content: flex-start; width: 100% }\n",
       "    .wandb-col { display: flex; flex-direction: column; flex-basis: 100%; flex: 1; padding: 10px; }\n",
       "    </style>\n",
       "<div class=\"wandb-row\"><div class=\"wandb-col\"><h3>Run history:</h3><br/><table class=\"wandb\"><tr><td>Train_Accuracy</td><td>▁▅▆▇█</td></tr><tr><td>Train_Loss</td><td>█▅▃▂▁</td></tr><tr><td>Validation_Accuracy</td><td>▁▅▇▇█</td></tr><tr><td>Validation_loss</td><td>█▇▅▃▁</td></tr><tr><td>epoch</td><td>▁▃▅▆█</td></tr></table><br/></div><div class=\"wandb-col\"><h3>Run summary:</h3><br/><table class=\"wandb\"><tr><td>Train_Accuracy</td><td>85.31111</td></tr><tr><td>Train_Loss</td><td>0.42536</td></tr><tr><td>Validation_Accuracy</td><td>84.31667</td></tr><tr><td>Validation_loss</td><td>0.51423</td></tr><tr><td>epoch</td><td>4</td></tr></table><br/></div></div>"
      ],
      "text/plain": [
       "<IPython.core.display.HTML object>"
      ]
     },
     "metadata": {},
     "output_type": "display_data"
    },
    {
     "data": {
      "text/html": [
       " View run <strong style=\"color:#cdcd00\">confused-sweep-12</strong> at: <a href='https://wandb.ai/bs20b012/CS6910/runs/g83h0mtu' target=\"_blank\">https://wandb.ai/bs20b012/CS6910/runs/g83h0mtu</a><br/>Synced 6 W&B file(s), 0 media file(s), 0 artifact file(s) and 0 other file(s)"
      ],
      "text/plain": [
       "<IPython.core.display.HTML object>"
      ]
     },
     "metadata": {},
     "output_type": "display_data"
    },
    {
     "data": {
      "text/html": [
       "Find logs at: <code>.\\wandb\\run-20230320_151635-g83h0mtu\\logs</code>"
      ],
      "text/plain": [
       "<IPython.core.display.HTML object>"
      ]
     },
     "metadata": {},
     "output_type": "display_data"
    },
    {
     "name": "stderr",
     "output_type": "stream",
     "text": [
      "\u001b[34m\u001b[1mwandb\u001b[0m: Agent Starting Run: jrmm106d with config:\n",
      "\u001b[34m\u001b[1mwandb\u001b[0m: \tactivation_function: relu\n",
      "\u001b[34m\u001b[1mwandb\u001b[0m: \tinitialization_type: random\n",
      "\u001b[34m\u001b[1mwandb\u001b[0m: \tlambd: 0.5\n",
      "\u001b[34m\u001b[1mwandb\u001b[0m: \tlearning_rate: 0.0001\n",
      "\u001b[34m\u001b[1mwandb\u001b[0m: \tmax_epochs: 5\n",
      "\u001b[34m\u001b[1mwandb\u001b[0m: \tmini_batch_size: 32\n",
      "\u001b[34m\u001b[1mwandb\u001b[0m: \tnumber_hidden_layers: 3\n",
      "\u001b[34m\u001b[1mwandb\u001b[0m: \tnumber_neurons: 128\n",
      "\u001b[34m\u001b[1mwandb\u001b[0m: \toptimization_function: nadam\n"
     ]
    },
    {
     "data": {
      "text/html": [
       "Tracking run with wandb version 0.14.0"
      ],
      "text/plain": [
       "<IPython.core.display.HTML object>"
      ]
     },
     "metadata": {},
     "output_type": "display_data"
    },
    {
     "data": {
      "text/html": [
       "Run data is saved locally in <code>C:\\Users\\bones\\wandb\\run-20230320_151855-jrmm106d</code>"
      ],
      "text/plain": [
       "<IPython.core.display.HTML object>"
      ]
     },
     "metadata": {},
     "output_type": "display_data"
    },
    {
     "data": {
      "text/html": [
       "Syncing run <strong><a href='https://wandb.ai/bs20b012/CS6910/runs/jrmm106d' target=\"_blank\">stilted-sweep-13</a></strong> to <a href='https://wandb.ai/bs20b012/CS6910' target=\"_blank\">Weights & Biases</a> (<a href='https://wandb.me/run' target=\"_blank\">docs</a>)<br/>Sweep page: <a href='https://wandb.ai/bs20b012/CS6910/sweeps/4c8n6myl' target=\"_blank\">https://wandb.ai/bs20b012/CS6910/sweeps/4c8n6myl</a>"
      ],
      "text/plain": [
       "<IPython.core.display.HTML object>"
      ]
     },
     "metadata": {},
     "output_type": "display_data"
    },
    {
     "data": {
      "text/html": [
       " View project at <a href='https://wandb.ai/bs20b012/CS6910' target=\"_blank\">https://wandb.ai/bs20b012/CS6910</a>"
      ],
      "text/plain": [
       "<IPython.core.display.HTML object>"
      ]
     },
     "metadata": {},
     "output_type": "display_data"
    },
    {
     "data": {
      "text/html": [
       " View sweep at <a href='https://wandb.ai/bs20b012/CS6910/sweeps/4c8n6myl' target=\"_blank\">https://wandb.ai/bs20b012/CS6910/sweeps/4c8n6myl</a>"
      ],
      "text/plain": [
       "<IPython.core.display.HTML object>"
      ]
     },
     "metadata": {},
     "output_type": "display_data"
    },
    {
     "data": {
      "text/html": [
       " View run at <a href='https://wandb.ai/bs20b012/CS6910/runs/jrmm106d' target=\"_blank\">https://wandb.ai/bs20b012/CS6910/runs/jrmm106d</a>"
      ],
      "text/plain": [
       "<IPython.core.display.HTML object>"
      ]
     },
     "metadata": {},
     "output_type": "display_data"
    },
    {
     "name": "stderr",
     "output_type": "stream",
     "text": [
      " 20%|████████████████▊                                                                   | 1/5 [01:08<04:35, 68.89s/it]C:\\Users\\bones\\AppData\\Local\\Temp\\ipykernel_8632\\3666671724.py:22: RuntimeWarning: divide by zero encountered in log\n",
      "  error = - np.sum( np.multiply(y , np.log(y_hat)))/len(y)\n",
      "C:\\Users\\bones\\AppData\\Local\\Temp\\ipykernel_8632\\3666671724.py:22: RuntimeWarning: invalid value encountered in multiply\n",
      "  error = - np.sum( np.multiply(y , np.log(y_hat)))/len(y)\n",
      "100%|████████████████████████████████████████████████████████████████████████████████████| 5/5 [05:18<00:00, 63.73s/it]"
     ]
    },
    {
     "name": "stdout",
     "output_type": "stream",
     "text": [
      "Training Accuracy: 10.048148148148147\n",
      "Validation Accuracy: 9.566666666666666\n"
     ]
    },
    {
     "name": "stderr",
     "output_type": "stream",
     "text": [
      "\n"
     ]
    },
    {
     "data": {
      "text/html": [
       "Waiting for W&B process to finish... <strong style=\"color:green\">(success).</strong>"
      ],
      "text/plain": [
       "<IPython.core.display.HTML object>"
      ]
     },
     "metadata": {},
     "output_type": "display_data"
    },
    {
     "data": {
      "application/vnd.jupyter.widget-view+json": {
       "model_id": "da687a0a13d5474a901e8bdc0c5c834b",
       "version_major": 2,
       "version_minor": 0
      },
      "text/plain": [
       "VBox(children=(Label(value='0.001 MB of 0.001 MB uploaded (0.000 MB deduped)\\r'), FloatProgress(value=1.0, max…"
      ]
     },
     "metadata": {},
     "output_type": "display_data"
    },
    {
     "data": {
      "text/html": [
       "<style>\n",
       "    table.wandb td:nth-child(1) { padding: 0 10px; text-align: left ; width: auto;} td:nth-child(2) {text-align: left ; width: 100%}\n",
       "    .wandb-row { display: flex; flex-direction: row; flex-wrap: wrap; justify-content: flex-start; width: 100% }\n",
       "    .wandb-col { display: flex; flex-direction: column; flex-basis: 100%; flex: 1; padding: 10px; }\n",
       "    </style>\n",
       "<div class=\"wandb-row\"><div class=\"wandb-col\"><h3>Run history:</h3><br/><table class=\"wandb\"><tr><td>Train_Accuracy</td><td>██▁▁▁</td></tr><tr><td>Train_Loss</td><td>▁    </td></tr><tr><td>Validation_Accuracy</td><td>██▁▁▁</td></tr><tr><td>Validation_loss</td><td>▁    </td></tr><tr><td>epoch</td><td>▁▃▅▆█</td></tr></table><br/></div><div class=\"wandb-col\"><h3>Run summary:</h3><br/><table class=\"wandb\"><tr><td>Train_Accuracy</td><td>10.04815</td></tr><tr><td>Train_Loss</td><td>nan</td></tr><tr><td>Validation_Accuracy</td><td>9.56667</td></tr><tr><td>Validation_loss</td><td>nan</td></tr><tr><td>epoch</td><td>4</td></tr></table><br/></div></div>"
      ],
      "text/plain": [
       "<IPython.core.display.HTML object>"
      ]
     },
     "metadata": {},
     "output_type": "display_data"
    },
    {
     "data": {
      "text/html": [
       " View run <strong style=\"color:#cdcd00\">stilted-sweep-13</strong> at: <a href='https://wandb.ai/bs20b012/CS6910/runs/jrmm106d' target=\"_blank\">https://wandb.ai/bs20b012/CS6910/runs/jrmm106d</a><br/>Synced 6 W&B file(s), 0 media file(s), 0 artifact file(s) and 0 other file(s)"
      ],
      "text/plain": [
       "<IPython.core.display.HTML object>"
      ]
     },
     "metadata": {},
     "output_type": "display_data"
    },
    {
     "data": {
      "text/html": [
       "Find logs at: <code>.\\wandb\\run-20230320_151855-jrmm106d\\logs</code>"
      ],
      "text/plain": [
       "<IPython.core.display.HTML object>"
      ]
     },
     "metadata": {},
     "output_type": "display_data"
    },
    {
     "name": "stderr",
     "output_type": "stream",
     "text": [
      "\u001b[34m\u001b[1mwandb\u001b[0m: Agent Starting Run: 8gtow297 with config:\n",
      "\u001b[34m\u001b[1mwandb\u001b[0m: \tactivation_function: tanh\n",
      "\u001b[34m\u001b[1mwandb\u001b[0m: \tinitialization_type: xavier\n",
      "\u001b[34m\u001b[1mwandb\u001b[0m: \tlambd: 0\n",
      "\u001b[34m\u001b[1mwandb\u001b[0m: \tlearning_rate: 0.0001\n",
      "\u001b[34m\u001b[1mwandb\u001b[0m: \tmax_epochs: 5\n",
      "\u001b[34m\u001b[1mwandb\u001b[0m: \tmini_batch_size: 32\n",
      "\u001b[34m\u001b[1mwandb\u001b[0m: \tnumber_hidden_layers: 4\n",
      "\u001b[34m\u001b[1mwandb\u001b[0m: \tnumber_neurons: 64\n",
      "\u001b[34m\u001b[1mwandb\u001b[0m: \toptimization_function: adam\n"
     ]
    },
    {
     "data": {
      "text/html": [
       "Tracking run with wandb version 0.14.0"
      ],
      "text/plain": [
       "<IPython.core.display.HTML object>"
      ]
     },
     "metadata": {},
     "output_type": "display_data"
    },
    {
     "data": {
      "text/html": [
       "Run data is saved locally in <code>C:\\Users\\bones\\wandb\\run-20230320_152457-8gtow297</code>"
      ],
      "text/plain": [
       "<IPython.core.display.HTML object>"
      ]
     },
     "metadata": {},
     "output_type": "display_data"
    },
    {
     "data": {
      "text/html": [
       "Syncing run <strong><a href='https://wandb.ai/bs20b012/CS6910/runs/8gtow297' target=\"_blank\">grateful-sweep-14</a></strong> to <a href='https://wandb.ai/bs20b012/CS6910' target=\"_blank\">Weights & Biases</a> (<a href='https://wandb.me/run' target=\"_blank\">docs</a>)<br/>Sweep page: <a href='https://wandb.ai/bs20b012/CS6910/sweeps/4c8n6myl' target=\"_blank\">https://wandb.ai/bs20b012/CS6910/sweeps/4c8n6myl</a>"
      ],
      "text/plain": [
       "<IPython.core.display.HTML object>"
      ]
     },
     "metadata": {},
     "output_type": "display_data"
    },
    {
     "data": {
      "text/html": [
       " View project at <a href='https://wandb.ai/bs20b012/CS6910' target=\"_blank\">https://wandb.ai/bs20b012/CS6910</a>"
      ],
      "text/plain": [
       "<IPython.core.display.HTML object>"
      ]
     },
     "metadata": {},
     "output_type": "display_data"
    },
    {
     "data": {
      "text/html": [
       " View sweep at <a href='https://wandb.ai/bs20b012/CS6910/sweeps/4c8n6myl' target=\"_blank\">https://wandb.ai/bs20b012/CS6910/sweeps/4c8n6myl</a>"
      ],
      "text/plain": [
       "<IPython.core.display.HTML object>"
      ]
     },
     "metadata": {},
     "output_type": "display_data"
    },
    {
     "data": {
      "text/html": [
       " View run at <a href='https://wandb.ai/bs20b012/CS6910/runs/8gtow297' target=\"_blank\">https://wandb.ai/bs20b012/CS6910/runs/8gtow297</a>"
      ],
      "text/plain": [
       "<IPython.core.display.HTML object>"
      ]
     },
     "metadata": {},
     "output_type": "display_data"
    },
    {
     "name": "stderr",
     "output_type": "stream",
     "text": [
      "100%|████████████████████████████████████████████████████████████████████████████████████| 5/5 [02:01<00:00, 24.24s/it]"
     ]
    },
    {
     "name": "stdout",
     "output_type": "stream",
     "text": [
      "Training Accuracy: 85.84444444444445\n",
      "Validation Accuracy: 84.75\n"
     ]
    },
    {
     "name": "stderr",
     "output_type": "stream",
     "text": [
      "\n"
     ]
    },
    {
     "data": {
      "text/html": [
       "Waiting for W&B process to finish... <strong style=\"color:green\">(success).</strong>"
      ],
      "text/plain": [
       "<IPython.core.display.HTML object>"
      ]
     },
     "metadata": {},
     "output_type": "display_data"
    },
    {
     "data": {
      "text/html": [
       "<style>\n",
       "    table.wandb td:nth-child(1) { padding: 0 10px; text-align: left ; width: auto;} td:nth-child(2) {text-align: left ; width: 100%}\n",
       "    .wandb-row { display: flex; flex-direction: row; flex-wrap: wrap; justify-content: flex-start; width: 100% }\n",
       "    .wandb-col { display: flex; flex-direction: column; flex-basis: 100%; flex: 1; padding: 10px; }\n",
       "    </style>\n",
       "<div class=\"wandb-row\"><div class=\"wandb-col\"><h3>Run history:</h3><br/><table class=\"wandb\"><tr><td>Train_Accuracy</td><td>▁▅▆▇█</td></tr><tr><td>Train_Loss</td><td>█▄▃▂▁</td></tr><tr><td>Validation_Accuracy</td><td>▁▄▆▇█</td></tr><tr><td>Validation_loss</td><td>█▄▂▂▁</td></tr><tr><td>epoch</td><td>▁▃▅▆█</td></tr></table><br/></div><div class=\"wandb-col\"><h3>Run summary:</h3><br/><table class=\"wandb\"><tr><td>Train_Accuracy</td><td>85.84444</td></tr><tr><td>Train_Loss</td><td>0.40633</td></tr><tr><td>Validation_Accuracy</td><td>84.75</td></tr><tr><td>Validation_loss</td><td>0.4319</td></tr><tr><td>epoch</td><td>4</td></tr></table><br/></div></div>"
      ],
      "text/plain": [
       "<IPython.core.display.HTML object>"
      ]
     },
     "metadata": {},
     "output_type": "display_data"
    },
    {
     "data": {
      "text/html": [
       " View run <strong style=\"color:#cdcd00\">grateful-sweep-14</strong> at: <a href='https://wandb.ai/bs20b012/CS6910/runs/8gtow297' target=\"_blank\">https://wandb.ai/bs20b012/CS6910/runs/8gtow297</a><br/>Synced 6 W&B file(s), 0 media file(s), 0 artifact file(s) and 0 other file(s)"
      ],
      "text/plain": [
       "<IPython.core.display.HTML object>"
      ]
     },
     "metadata": {},
     "output_type": "display_data"
    },
    {
     "data": {
      "text/html": [
       "Find logs at: <code>.\\wandb\\run-20230320_152457-8gtow297\\logs</code>"
      ],
      "text/plain": [
       "<IPython.core.display.HTML object>"
      ]
     },
     "metadata": {},
     "output_type": "display_data"
    },
    {
     "name": "stderr",
     "output_type": "stream",
     "text": [
      "\u001b[34m\u001b[1mwandb\u001b[0m: Sweep Agent: Waiting for job.\n",
      "\u001b[34m\u001b[1mwandb\u001b[0m: Job received.\n",
      "\u001b[34m\u001b[1mwandb\u001b[0m: Agent Starting Run: 84tmq7bf with config:\n",
      "\u001b[34m\u001b[1mwandb\u001b[0m: \tactivation_function: tanh\n",
      "\u001b[34m\u001b[1mwandb\u001b[0m: \tinitialization_type: random\n",
      "\u001b[34m\u001b[1mwandb\u001b[0m: \tlambd: 0\n",
      "\u001b[34m\u001b[1mwandb\u001b[0m: \tlearning_rate: 0.001\n",
      "\u001b[34m\u001b[1mwandb\u001b[0m: \tmax_epochs: 10\n",
      "\u001b[34m\u001b[1mwandb\u001b[0m: \tmini_batch_size: 64\n",
      "\u001b[34m\u001b[1mwandb\u001b[0m: \tnumber_hidden_layers: 3\n",
      "\u001b[34m\u001b[1mwandb\u001b[0m: \tnumber_neurons: 64\n",
      "\u001b[34m\u001b[1mwandb\u001b[0m: \toptimization_function: momentum_gd\n"
     ]
    },
    {
     "data": {
      "text/html": [
       "Tracking run with wandb version 0.14.0"
      ],
      "text/plain": [
       "<IPython.core.display.HTML object>"
      ]
     },
     "metadata": {},
     "output_type": "display_data"
    },
    {
     "data": {
      "text/html": [
       "Run data is saved locally in <code>C:\\Users\\bones\\wandb\\run-20230320_152725-84tmq7bf</code>"
      ],
      "text/plain": [
       "<IPython.core.display.HTML object>"
      ]
     },
     "metadata": {},
     "output_type": "display_data"
    },
    {
     "data": {
      "text/html": [
       "Syncing run <strong><a href='https://wandb.ai/bs20b012/CS6910/runs/84tmq7bf' target=\"_blank\">happy-sweep-15</a></strong> to <a href='https://wandb.ai/bs20b012/CS6910' target=\"_blank\">Weights & Biases</a> (<a href='https://wandb.me/run' target=\"_blank\">docs</a>)<br/>Sweep page: <a href='https://wandb.ai/bs20b012/CS6910/sweeps/4c8n6myl' target=\"_blank\">https://wandb.ai/bs20b012/CS6910/sweeps/4c8n6myl</a>"
      ],
      "text/plain": [
       "<IPython.core.display.HTML object>"
      ]
     },
     "metadata": {},
     "output_type": "display_data"
    },
    {
     "data": {
      "text/html": [
       " View project at <a href='https://wandb.ai/bs20b012/CS6910' target=\"_blank\">https://wandb.ai/bs20b012/CS6910</a>"
      ],
      "text/plain": [
       "<IPython.core.display.HTML object>"
      ]
     },
     "metadata": {},
     "output_type": "display_data"
    },
    {
     "data": {
      "text/html": [
       " View sweep at <a href='https://wandb.ai/bs20b012/CS6910/sweeps/4c8n6myl' target=\"_blank\">https://wandb.ai/bs20b012/CS6910/sweeps/4c8n6myl</a>"
      ],
      "text/plain": [
       "<IPython.core.display.HTML object>"
      ]
     },
     "metadata": {},
     "output_type": "display_data"
    },
    {
     "data": {
      "text/html": [
       " View run at <a href='https://wandb.ai/bs20b012/CS6910/runs/84tmq7bf' target=\"_blank\">https://wandb.ai/bs20b012/CS6910/runs/84tmq7bf</a>"
      ],
      "text/plain": [
       "<IPython.core.display.HTML object>"
      ]
     },
     "metadata": {},
     "output_type": "display_data"
    },
    {
     "name": "stderr",
     "output_type": "stream",
     "text": [
      "100%|██████████████████████████████████████████████████████████████████████████████████| 10/10 [03:04<00:00, 18.42s/it]"
     ]
    },
    {
     "name": "stdout",
     "output_type": "stream",
     "text": [
      "Training Accuracy: 88.63333333333333\n",
      "Validation Accuracy: 86.86666666666667\n"
     ]
    },
    {
     "name": "stderr",
     "output_type": "stream",
     "text": [
      "\n"
     ]
    },
    {
     "data": {
      "text/html": [
       "Waiting for W&B process to finish... <strong style=\"color:green\">(success).</strong>"
      ],
      "text/plain": [
       "<IPython.core.display.HTML object>"
      ]
     },
     "metadata": {},
     "output_type": "display_data"
    },
    {
     "data": {
      "text/html": [
       "<style>\n",
       "    table.wandb td:nth-child(1) { padding: 0 10px; text-align: left ; width: auto;} td:nth-child(2) {text-align: left ; width: 100%}\n",
       "    .wandb-row { display: flex; flex-direction: row; flex-wrap: wrap; justify-content: flex-start; width: 100% }\n",
       "    .wandb-col { display: flex; flex-direction: column; flex-basis: 100%; flex: 1; padding: 10px; }\n",
       "    </style>\n",
       "<div class=\"wandb-row\"><div class=\"wandb-col\"><h3>Run history:</h3><br/><table class=\"wandb\"><tr><td>Train_Accuracy</td><td>▁▆▇███████</td></tr><tr><td>Train_Loss</td><td>█▃▂▂▁▁▁▁▁▁</td></tr><tr><td>Validation_Accuracy</td><td>▁▆▇███████</td></tr><tr><td>Validation_loss</td><td>█▃▂▁▁▁▁▁▁▁</td></tr><tr><td>epoch</td><td>▁▂▃▃▄▅▆▆▇█</td></tr></table><br/></div><div class=\"wandb-col\"><h3>Run summary:</h3><br/><table class=\"wandb\"><tr><td>Train_Accuracy</td><td>88.63333</td></tr><tr><td>Train_Loss</td><td>0.31319</td></tr><tr><td>Validation_Accuracy</td><td>86.86667</td></tr><tr><td>Validation_loss</td><td>0.36988</td></tr><tr><td>epoch</td><td>9</td></tr></table><br/></div></div>"
      ],
      "text/plain": [
       "<IPython.core.display.HTML object>"
      ]
     },
     "metadata": {},
     "output_type": "display_data"
    },
    {
     "data": {
      "text/html": [
       " View run <strong style=\"color:#cdcd00\">happy-sweep-15</strong> at: <a href='https://wandb.ai/bs20b012/CS6910/runs/84tmq7bf' target=\"_blank\">https://wandb.ai/bs20b012/CS6910/runs/84tmq7bf</a><br/>Synced 6 W&B file(s), 0 media file(s), 0 artifact file(s) and 0 other file(s)"
      ],
      "text/plain": [
       "<IPython.core.display.HTML object>"
      ]
     },
     "metadata": {},
     "output_type": "display_data"
    },
    {
     "data": {
      "text/html": [
       "Find logs at: <code>.\\wandb\\run-20230320_152725-84tmq7bf\\logs</code>"
      ],
      "text/plain": [
       "<IPython.core.display.HTML object>"
      ]
     },
     "metadata": {},
     "output_type": "display_data"
    },
    {
     "name": "stderr",
     "output_type": "stream",
     "text": [
      "\u001b[34m\u001b[1mwandb\u001b[0m: Agent Starting Run: nfnco0yi with config:\n",
      "\u001b[34m\u001b[1mwandb\u001b[0m: \tactivation_function: sigmoid\n",
      "\u001b[34m\u001b[1mwandb\u001b[0m: \tinitialization_type: random\n",
      "\u001b[34m\u001b[1mwandb\u001b[0m: \tlambd: 0.0005\n",
      "\u001b[34m\u001b[1mwandb\u001b[0m: \tlearning_rate: 0.0001\n",
      "\u001b[34m\u001b[1mwandb\u001b[0m: \tmax_epochs: 10\n",
      "\u001b[34m\u001b[1mwandb\u001b[0m: \tmini_batch_size: 16\n",
      "\u001b[34m\u001b[1mwandb\u001b[0m: \tnumber_hidden_layers: 3\n",
      "\u001b[34m\u001b[1mwandb\u001b[0m: \tnumber_neurons: 128\n",
      "\u001b[34m\u001b[1mwandb\u001b[0m: \toptimization_function: stochastic_gd\n"
     ]
    },
    {
     "data": {
      "text/html": [
       "Tracking run with wandb version 0.14.0"
      ],
      "text/plain": [
       "<IPython.core.display.HTML object>"
      ]
     },
     "metadata": {},
     "output_type": "display_data"
    },
    {
     "data": {
      "text/html": [
       "Run data is saved locally in <code>C:\\Users\\bones\\wandb\\run-20230320_153047-nfnco0yi</code>"
      ],
      "text/plain": [
       "<IPython.core.display.HTML object>"
      ]
     },
     "metadata": {},
     "output_type": "display_data"
    },
    {
     "data": {
      "text/html": [
       "Syncing run <strong><a href='https://wandb.ai/bs20b012/CS6910/runs/nfnco0yi' target=\"_blank\">robust-sweep-16</a></strong> to <a href='https://wandb.ai/bs20b012/CS6910' target=\"_blank\">Weights & Biases</a> (<a href='https://wandb.me/run' target=\"_blank\">docs</a>)<br/>Sweep page: <a href='https://wandb.ai/bs20b012/CS6910/sweeps/4c8n6myl' target=\"_blank\">https://wandb.ai/bs20b012/CS6910/sweeps/4c8n6myl</a>"
      ],
      "text/plain": [
       "<IPython.core.display.HTML object>"
      ]
     },
     "metadata": {},
     "output_type": "display_data"
    },
    {
     "data": {
      "text/html": [
       " View project at <a href='https://wandb.ai/bs20b012/CS6910' target=\"_blank\">https://wandb.ai/bs20b012/CS6910</a>"
      ],
      "text/plain": [
       "<IPython.core.display.HTML object>"
      ]
     },
     "metadata": {},
     "output_type": "display_data"
    },
    {
     "data": {
      "text/html": [
       " View sweep at <a href='https://wandb.ai/bs20b012/CS6910/sweeps/4c8n6myl' target=\"_blank\">https://wandb.ai/bs20b012/CS6910/sweeps/4c8n6myl</a>"
      ],
      "text/plain": [
       "<IPython.core.display.HTML object>"
      ]
     },
     "metadata": {},
     "output_type": "display_data"
    },
    {
     "data": {
      "text/html": [
       " View run at <a href='https://wandb.ai/bs20b012/CS6910/runs/nfnco0yi' target=\"_blank\">https://wandb.ai/bs20b012/CS6910/runs/nfnco0yi</a>"
      ],
      "text/plain": [
       "<IPython.core.display.HTML object>"
      ]
     },
     "metadata": {},
     "output_type": "display_data"
    },
    {
     "name": "stderr",
     "output_type": "stream",
     "text": [
      "100%|██████████████████████████████████████████████████████████████████████████████████| 10/10 [08:06<00:00, 48.65s/it]"
     ]
    },
    {
     "name": "stdout",
     "output_type": "stream",
     "text": [
      "Training Accuracy: 9.974074074074075\n",
      "Validation Accuracy: 10.233333333333333\n"
     ]
    },
    {
     "name": "stderr",
     "output_type": "stream",
     "text": [
      "\n"
     ]
    },
    {
     "data": {
      "text/html": [
       "Waiting for W&B process to finish... <strong style=\"color:green\">(success).</strong>"
      ],
      "text/plain": [
       "<IPython.core.display.HTML object>"
      ]
     },
     "metadata": {},
     "output_type": "display_data"
    },
    {
     "data": {
      "text/html": [
       "<style>\n",
       "    table.wandb td:nth-child(1) { padding: 0 10px; text-align: left ; width: auto;} td:nth-child(2) {text-align: left ; width: 100%}\n",
       "    .wandb-row { display: flex; flex-direction: row; flex-wrap: wrap; justify-content: flex-start; width: 100% }\n",
       "    .wandb-col { display: flex; flex-direction: column; flex-basis: 100%; flex: 1; padding: 10px; }\n",
       "    </style>\n",
       "<div class=\"wandb-row\"><div class=\"wandb-col\"><h3>Run history:</h3><br/><table class=\"wandb\"><tr><td>Train_Accuracy</td><td>▁▁▁▁▁▁▁▁▁▁</td></tr><tr><td>Train_Loss</td><td>█▇▆▆▅▄▃▃▂▁</td></tr><tr><td>Validation_Accuracy</td><td>▁▁▁▁▁▁▁▁▁▁</td></tr><tr><td>Validation_loss</td><td>█▇▇▅▅▄▃▃▁▁</td></tr><tr><td>epoch</td><td>▁▂▃▃▄▅▆▆▇█</td></tr></table><br/></div><div class=\"wandb-col\"><h3>Run summary:</h3><br/><table class=\"wandb\"><tr><td>Train_Accuracy</td><td>9.97407</td></tr><tr><td>Train_Loss</td><td>2.30312</td></tr><tr><td>Validation_Accuracy</td><td>10.23333</td></tr><tr><td>Validation_loss</td><td>2.30279</td></tr><tr><td>epoch</td><td>9</td></tr></table><br/></div></div>"
      ],
      "text/plain": [
       "<IPython.core.display.HTML object>"
      ]
     },
     "metadata": {},
     "output_type": "display_data"
    },
    {
     "data": {
      "text/html": [
       " View run <strong style=\"color:#cdcd00\">robust-sweep-16</strong> at: <a href='https://wandb.ai/bs20b012/CS6910/runs/nfnco0yi' target=\"_blank\">https://wandb.ai/bs20b012/CS6910/runs/nfnco0yi</a><br/>Synced 6 W&B file(s), 0 media file(s), 0 artifact file(s) and 0 other file(s)"
      ],
      "text/plain": [
       "<IPython.core.display.HTML object>"
      ]
     },
     "metadata": {},
     "output_type": "display_data"
    },
    {
     "data": {
      "text/html": [
       "Find logs at: <code>.\\wandb\\run-20230320_153047-nfnco0yi\\logs</code>"
      ],
      "text/plain": [
       "<IPython.core.display.HTML object>"
      ]
     },
     "metadata": {},
     "output_type": "display_data"
    },
    {
     "name": "stderr",
     "output_type": "stream",
     "text": [
      "\u001b[34m\u001b[1mwandb\u001b[0m: Agent Starting Run: r9ycm5pw with config:\n",
      "\u001b[34m\u001b[1mwandb\u001b[0m: \tactivation_function: sigmoid\n",
      "\u001b[34m\u001b[1mwandb\u001b[0m: \tinitialization_type: random\n",
      "\u001b[34m\u001b[1mwandb\u001b[0m: \tlambd: 0.0005\n",
      "\u001b[34m\u001b[1mwandb\u001b[0m: \tlearning_rate: 0.0001\n",
      "\u001b[34m\u001b[1mwandb\u001b[0m: \tmax_epochs: 10\n",
      "\u001b[34m\u001b[1mwandb\u001b[0m: \tmini_batch_size: 32\n",
      "\u001b[34m\u001b[1mwandb\u001b[0m: \tnumber_hidden_layers: 5\n",
      "\u001b[34m\u001b[1mwandb\u001b[0m: \tnumber_neurons: 64\n",
      "\u001b[34m\u001b[1mwandb\u001b[0m: \toptimization_function: adam\n"
     ]
    },
    {
     "data": {
      "text/html": [
       "Tracking run with wandb version 0.14.0"
      ],
      "text/plain": [
       "<IPython.core.display.HTML object>"
      ]
     },
     "metadata": {},
     "output_type": "display_data"
    },
    {
     "data": {
      "text/html": [
       "Run data is saved locally in <code>C:\\Users\\bones\\wandb\\run-20230320_153938-r9ycm5pw</code>"
      ],
      "text/plain": [
       "<IPython.core.display.HTML object>"
      ]
     },
     "metadata": {},
     "output_type": "display_data"
    },
    {
     "data": {
      "text/html": [
       "Syncing run <strong><a href='https://wandb.ai/bs20b012/CS6910/runs/r9ycm5pw' target=\"_blank\">ancient-sweep-17</a></strong> to <a href='https://wandb.ai/bs20b012/CS6910' target=\"_blank\">Weights & Biases</a> (<a href='https://wandb.me/run' target=\"_blank\">docs</a>)<br/>Sweep page: <a href='https://wandb.ai/bs20b012/CS6910/sweeps/4c8n6myl' target=\"_blank\">https://wandb.ai/bs20b012/CS6910/sweeps/4c8n6myl</a>"
      ],
      "text/plain": [
       "<IPython.core.display.HTML object>"
      ]
     },
     "metadata": {},
     "output_type": "display_data"
    },
    {
     "data": {
      "text/html": [
       " View project at <a href='https://wandb.ai/bs20b012/CS6910' target=\"_blank\">https://wandb.ai/bs20b012/CS6910</a>"
      ],
      "text/plain": [
       "<IPython.core.display.HTML object>"
      ]
     },
     "metadata": {},
     "output_type": "display_data"
    },
    {
     "data": {
      "text/html": [
       " View sweep at <a href='https://wandb.ai/bs20b012/CS6910/sweeps/4c8n6myl' target=\"_blank\">https://wandb.ai/bs20b012/CS6910/sweeps/4c8n6myl</a>"
      ],
      "text/plain": [
       "<IPython.core.display.HTML object>"
      ]
     },
     "metadata": {},
     "output_type": "display_data"
    },
    {
     "data": {
      "text/html": [
       " View run at <a href='https://wandb.ai/bs20b012/CS6910/runs/r9ycm5pw' target=\"_blank\">https://wandb.ai/bs20b012/CS6910/runs/r9ycm5pw</a>"
      ],
      "text/plain": [
       "<IPython.core.display.HTML object>"
      ]
     },
     "metadata": {},
     "output_type": "display_data"
    },
    {
     "name": "stderr",
     "output_type": "stream",
     "text": [
      "100%|██████████████████████████████████████████████████████████████████████████████████| 10/10 [04:44<00:00, 28.49s/it]"
     ]
    },
    {
     "name": "stdout",
     "output_type": "stream",
     "text": [
      "Training Accuracy: 10.048148148148147\n",
      "Validation Accuracy: 9.566666666666666\n"
     ]
    },
    {
     "name": "stderr",
     "output_type": "stream",
     "text": [
      "\n"
     ]
    },
    {
     "data": {
      "text/html": [
       "Waiting for W&B process to finish... <strong style=\"color:green\">(success).</strong>"
      ],
      "text/plain": [
       "<IPython.core.display.HTML object>"
      ]
     },
     "metadata": {},
     "output_type": "display_data"
    },
    {
     "data": {
      "application/vnd.jupyter.widget-view+json": {
       "model_id": "b32bdf43a8a14f328154765f873457e8",
       "version_major": 2,
       "version_minor": 0
      },
      "text/plain": [
       "VBox(children=(Label(value='0.001 MB of 0.001 MB uploaded (0.000 MB deduped)\\r'), FloatProgress(value=1.0, max…"
      ]
     },
     "metadata": {},
     "output_type": "display_data"
    },
    {
     "data": {
      "text/html": [
       "<style>\n",
       "    table.wandb td:nth-child(1) { padding: 0 10px; text-align: left ; width: auto;} td:nth-child(2) {text-align: left ; width: 100%}\n",
       "    .wandb-row { display: flex; flex-direction: row; flex-wrap: wrap; justify-content: flex-start; width: 100% }\n",
       "    .wandb-col { display: flex; flex-direction: column; flex-basis: 100%; flex: 1; padding: 10px; }\n",
       "    </style>\n",
       "<div class=\"wandb-row\"><div class=\"wandb-col\"><h3>Run history:</h3><br/><table class=\"wandb\"><tr><td>Train_Accuracy</td><td>▁█████████</td></tr><tr><td>Train_Loss</td><td>▁▂▃▅▆▇████</td></tr><tr><td>Validation_Accuracy</td><td>█▁▁▁▁▁▁▁▁▁</td></tr><tr><td>Validation_loss</td><td>▁▁▂▄▅▆▆▇██</td></tr><tr><td>epoch</td><td>▁▂▃▃▄▅▆▆▇█</td></tr></table><br/></div><div class=\"wandb-col\"><h3>Run summary:</h3><br/><table class=\"wandb\"><tr><td>Train_Accuracy</td><td>10.04815</td></tr><tr><td>Train_Loss</td><td>2.30432</td></tr><tr><td>Validation_Accuracy</td><td>9.56667</td></tr><tr><td>Validation_loss</td><td>2.31282</td></tr><tr><td>epoch</td><td>9</td></tr></table><br/></div></div>"
      ],
      "text/plain": [
       "<IPython.core.display.HTML object>"
      ]
     },
     "metadata": {},
     "output_type": "display_data"
    },
    {
     "data": {
      "text/html": [
       " View run <strong style=\"color:#cdcd00\">ancient-sweep-17</strong> at: <a href='https://wandb.ai/bs20b012/CS6910/runs/r9ycm5pw' target=\"_blank\">https://wandb.ai/bs20b012/CS6910/runs/r9ycm5pw</a><br/>Synced 6 W&B file(s), 0 media file(s), 0 artifact file(s) and 0 other file(s)"
      ],
      "text/plain": [
       "<IPython.core.display.HTML object>"
      ]
     },
     "metadata": {},
     "output_type": "display_data"
    },
    {
     "data": {
      "text/html": [
       "Find logs at: <code>.\\wandb\\run-20230320_153938-r9ycm5pw\\logs</code>"
      ],
      "text/plain": [
       "<IPython.core.display.HTML object>"
      ]
     },
     "metadata": {},
     "output_type": "display_data"
    },
    {
     "name": "stderr",
     "output_type": "stream",
     "text": [
      "\u001b[34m\u001b[1mwandb\u001b[0m: Agent Starting Run: i85tyziv with config:\n",
      "\u001b[34m\u001b[1mwandb\u001b[0m: \tactivation_function: relu\n",
      "\u001b[34m\u001b[1mwandb\u001b[0m: \tinitialization_type: random\n",
      "\u001b[34m\u001b[1mwandb\u001b[0m: \tlambd: 0\n",
      "\u001b[34m\u001b[1mwandb\u001b[0m: \tlearning_rate: 0.0001\n",
      "\u001b[34m\u001b[1mwandb\u001b[0m: \tmax_epochs: 10\n",
      "\u001b[34m\u001b[1mwandb\u001b[0m: \tmini_batch_size: 64\n",
      "\u001b[34m\u001b[1mwandb\u001b[0m: \tnumber_hidden_layers: 3\n",
      "\u001b[34m\u001b[1mwandb\u001b[0m: \tnumber_neurons: 128\n",
      "\u001b[34m\u001b[1mwandb\u001b[0m: \toptimization_function: momentum_gd\n"
     ]
    },
    {
     "data": {
      "text/html": [
       "Tracking run with wandb version 0.14.0"
      ],
      "text/plain": [
       "<IPython.core.display.HTML object>"
      ]
     },
     "metadata": {},
     "output_type": "display_data"
    },
    {
     "data": {
      "text/html": [
       "Run data is saved locally in <code>C:\\Users\\bones\\wandb\\run-20230320_154441-i85tyziv</code>"
      ],
      "text/plain": [
       "<IPython.core.display.HTML object>"
      ]
     },
     "metadata": {},
     "output_type": "display_data"
    },
    {
     "data": {
      "text/html": [
       "Syncing run <strong><a href='https://wandb.ai/bs20b012/CS6910/runs/i85tyziv' target=\"_blank\">honest-sweep-18</a></strong> to <a href='https://wandb.ai/bs20b012/CS6910' target=\"_blank\">Weights & Biases</a> (<a href='https://wandb.me/run' target=\"_blank\">docs</a>)<br/>Sweep page: <a href='https://wandb.ai/bs20b012/CS6910/sweeps/4c8n6myl' target=\"_blank\">https://wandb.ai/bs20b012/CS6910/sweeps/4c8n6myl</a>"
      ],
      "text/plain": [
       "<IPython.core.display.HTML object>"
      ]
     },
     "metadata": {},
     "output_type": "display_data"
    },
    {
     "data": {
      "text/html": [
       " View project at <a href='https://wandb.ai/bs20b012/CS6910' target=\"_blank\">https://wandb.ai/bs20b012/CS6910</a>"
      ],
      "text/plain": [
       "<IPython.core.display.HTML object>"
      ]
     },
     "metadata": {},
     "output_type": "display_data"
    },
    {
     "data": {
      "text/html": [
       " View sweep at <a href='https://wandb.ai/bs20b012/CS6910/sweeps/4c8n6myl' target=\"_blank\">https://wandb.ai/bs20b012/CS6910/sweeps/4c8n6myl</a>"
      ],
      "text/plain": [
       "<IPython.core.display.HTML object>"
      ]
     },
     "metadata": {},
     "output_type": "display_data"
    },
    {
     "data": {
      "text/html": [
       " View run at <a href='https://wandb.ai/bs20b012/CS6910/runs/i85tyziv' target=\"_blank\">https://wandb.ai/bs20b012/CS6910/runs/i85tyziv</a>"
      ],
      "text/plain": [
       "<IPython.core.display.HTML object>"
      ]
     },
     "metadata": {},
     "output_type": "display_data"
    },
    {
     "name": "stderr",
     "output_type": "stream",
     "text": [
      "100%|██████████████████████████████████████████████████████████████████████████████████| 10/10 [08:33<00:00, 51.39s/it]"
     ]
    },
    {
     "name": "stdout",
     "output_type": "stream",
     "text": [
      "Training Accuracy: 19.26666666666667\n",
      "Validation Accuracy: 18.4\n"
     ]
    },
    {
     "name": "stderr",
     "output_type": "stream",
     "text": [
      "\n"
     ]
    },
    {
     "data": {
      "text/html": [
       "Waiting for W&B process to finish... <strong style=\"color:green\">(success).</strong>"
      ],
      "text/plain": [
       "<IPython.core.display.HTML object>"
      ]
     },
     "metadata": {},
     "output_type": "display_data"
    },
    {
     "data": {
      "text/html": [
       "<style>\n",
       "    table.wandb td:nth-child(1) { padding: 0 10px; text-align: left ; width: auto;} td:nth-child(2) {text-align: left ; width: 100%}\n",
       "    .wandb-row { display: flex; flex-direction: row; flex-wrap: wrap; justify-content: flex-start; width: 100% }\n",
       "    .wandb-col { display: flex; flex-direction: column; flex-basis: 100%; flex: 1; padding: 10px; }\n",
       "    </style>\n",
       "<div class=\"wandb-row\"><div class=\"wandb-col\"><h3>Run history:</h3><br/><table class=\"wandb\"><tr><td>Train_Accuracy</td><td>▁▁▁▁▁▁▁▂▆█</td></tr><tr><td>Train_Loss</td><td>████████▇▁</td></tr><tr><td>Validation_Accuracy</td><td>▁▁▁▁▁▁▁▁▆█</td></tr><tr><td>Validation_loss</td><td>████████▇▁</td></tr><tr><td>epoch</td><td>▁▂▃▃▄▅▆▆▇█</td></tr></table><br/></div><div class=\"wandb-col\"><h3>Run summary:</h3><br/><table class=\"wandb\"><tr><td>Train_Accuracy</td><td>19.26667</td></tr><tr><td>Train_Loss</td><td>2.29249</td></tr><tr><td>Validation_Accuracy</td><td>18.4</td></tr><tr><td>Validation_loss</td><td>2.2926</td></tr><tr><td>epoch</td><td>9</td></tr></table><br/></div></div>"
      ],
      "text/plain": [
       "<IPython.core.display.HTML object>"
      ]
     },
     "metadata": {},
     "output_type": "display_data"
    },
    {
     "data": {
      "text/html": [
       " View run <strong style=\"color:#cdcd00\">honest-sweep-18</strong> at: <a href='https://wandb.ai/bs20b012/CS6910/runs/i85tyziv' target=\"_blank\">https://wandb.ai/bs20b012/CS6910/runs/i85tyziv</a><br/>Synced 6 W&B file(s), 0 media file(s), 0 artifact file(s) and 0 other file(s)"
      ],
      "text/plain": [
       "<IPython.core.display.HTML object>"
      ]
     },
     "metadata": {},
     "output_type": "display_data"
    },
    {
     "data": {
      "text/html": [
       "Find logs at: <code>.\\wandb\\run-20230320_154441-i85tyziv\\logs</code>"
      ],
      "text/plain": [
       "<IPython.core.display.HTML object>"
      ]
     },
     "metadata": {},
     "output_type": "display_data"
    },
    {
     "name": "stderr",
     "output_type": "stream",
     "text": [
      "\u001b[34m\u001b[1mwandb\u001b[0m: Agent Starting Run: j0qs82cw with config:\n",
      "\u001b[34m\u001b[1mwandb\u001b[0m: \tactivation_function: tanh\n",
      "\u001b[34m\u001b[1mwandb\u001b[0m: \tinitialization_type: random\n",
      "\u001b[34m\u001b[1mwandb\u001b[0m: \tlambd: 0\n",
      "\u001b[34m\u001b[1mwandb\u001b[0m: \tlearning_rate: 0.001\n",
      "\u001b[34m\u001b[1mwandb\u001b[0m: \tmax_epochs: 5\n",
      "\u001b[34m\u001b[1mwandb\u001b[0m: \tmini_batch_size: 32\n",
      "\u001b[34m\u001b[1mwandb\u001b[0m: \tnumber_hidden_layers: 5\n",
      "\u001b[34m\u001b[1mwandb\u001b[0m: \tnumber_neurons: 128\n",
      "\u001b[34m\u001b[1mwandb\u001b[0m: \toptimization_function: rmsprop\n"
     ]
    },
    {
     "data": {
      "text/html": [
       "Tracking run with wandb version 0.14.0"
      ],
      "text/plain": [
       "<IPython.core.display.HTML object>"
      ]
     },
     "metadata": {},
     "output_type": "display_data"
    },
    {
     "data": {
      "text/html": [
       "Run data is saved locally in <code>C:\\Users\\bones\\wandb\\run-20230320_155359-j0qs82cw</code>"
      ],
      "text/plain": [
       "<IPython.core.display.HTML object>"
      ]
     },
     "metadata": {},
     "output_type": "display_data"
    },
    {
     "data": {
      "text/html": [
       "Syncing run <strong><a href='https://wandb.ai/bs20b012/CS6910/runs/j0qs82cw' target=\"_blank\">peach-sweep-19</a></strong> to <a href='https://wandb.ai/bs20b012/CS6910' target=\"_blank\">Weights & Biases</a> (<a href='https://wandb.me/run' target=\"_blank\">docs</a>)<br/>Sweep page: <a href='https://wandb.ai/bs20b012/CS6910/sweeps/4c8n6myl' target=\"_blank\">https://wandb.ai/bs20b012/CS6910/sweeps/4c8n6myl</a>"
      ],
      "text/plain": [
       "<IPython.core.display.HTML object>"
      ]
     },
     "metadata": {},
     "output_type": "display_data"
    },
    {
     "data": {
      "text/html": [
       " View project at <a href='https://wandb.ai/bs20b012/CS6910' target=\"_blank\">https://wandb.ai/bs20b012/CS6910</a>"
      ],
      "text/plain": [
       "<IPython.core.display.HTML object>"
      ]
     },
     "metadata": {},
     "output_type": "display_data"
    },
    {
     "data": {
      "text/html": [
       " View sweep at <a href='https://wandb.ai/bs20b012/CS6910/sweeps/4c8n6myl' target=\"_blank\">https://wandb.ai/bs20b012/CS6910/sweeps/4c8n6myl</a>"
      ],
      "text/plain": [
       "<IPython.core.display.HTML object>"
      ]
     },
     "metadata": {},
     "output_type": "display_data"
    },
    {
     "data": {
      "text/html": [
       " View run at <a href='https://wandb.ai/bs20b012/CS6910/runs/j0qs82cw' target=\"_blank\">https://wandb.ai/bs20b012/CS6910/runs/j0qs82cw</a>"
      ],
      "text/plain": [
       "<IPython.core.display.HTML object>"
      ]
     },
     "metadata": {},
     "output_type": "display_data"
    },
    {
     "name": "stderr",
     "output_type": "stream",
     "text": [
      "100%|████████████████████████████████████████████████████████████████████████████████████| 5/5 [07:16<00:00, 87.33s/it]"
     ]
    },
    {
     "name": "stdout",
     "output_type": "stream",
     "text": [
      "Training Accuracy: 83.96481481481482\n",
      "Validation Accuracy: 83.31666666666668\n"
     ]
    },
    {
     "name": "stderr",
     "output_type": "stream",
     "text": [
      "\n"
     ]
    },
    {
     "data": {
      "text/html": [
       "Waiting for W&B process to finish... <strong style=\"color:green\">(success).</strong>"
      ],
      "text/plain": [
       "<IPython.core.display.HTML object>"
      ]
     },
     "metadata": {},
     "output_type": "display_data"
    },
    {
     "data": {
      "text/html": [
       "<style>\n",
       "    table.wandb td:nth-child(1) { padding: 0 10px; text-align: left ; width: auto;} td:nth-child(2) {text-align: left ; width: 100%}\n",
       "    .wandb-row { display: flex; flex-direction: row; flex-wrap: wrap; justify-content: flex-start; width: 100% }\n",
       "    .wandb-col { display: flex; flex-direction: column; flex-basis: 100%; flex: 1; padding: 10px; }\n",
       "    </style>\n",
       "<div class=\"wandb-row\"><div class=\"wandb-col\"><h3>Run history:</h3><br/><table class=\"wandb\"><tr><td>Train_Accuracy</td><td>▁▆█▇█</td></tr><tr><td>Train_Loss</td><td>█▂▁▂▄</td></tr><tr><td>Validation_Accuracy</td><td>▁▆█▇█</td></tr><tr><td>Validation_loss</td><td>█▂▁▃▄</td></tr><tr><td>epoch</td><td>▁▃▅▆█</td></tr></table><br/></div><div class=\"wandb-col\"><h3>Run summary:</h3><br/><table class=\"wandb\"><tr><td>Train_Accuracy</td><td>83.96481</td></tr><tr><td>Train_Loss</td><td>0.62717</td></tr><tr><td>Validation_Accuracy</td><td>83.31667</td></tr><tr><td>Validation_loss</td><td>0.67032</td></tr><tr><td>epoch</td><td>4</td></tr></table><br/></div></div>"
      ],
      "text/plain": [
       "<IPython.core.display.HTML object>"
      ]
     },
     "metadata": {},
     "output_type": "display_data"
    },
    {
     "data": {
      "text/html": [
       " View run <strong style=\"color:#cdcd00\">peach-sweep-19</strong> at: <a href='https://wandb.ai/bs20b012/CS6910/runs/j0qs82cw' target=\"_blank\">https://wandb.ai/bs20b012/CS6910/runs/j0qs82cw</a><br/>Synced 6 W&B file(s), 0 media file(s), 0 artifact file(s) and 0 other file(s)"
      ],
      "text/plain": [
       "<IPython.core.display.HTML object>"
      ]
     },
     "metadata": {},
     "output_type": "display_data"
    },
    {
     "data": {
      "text/html": [
       "Find logs at: <code>.\\wandb\\run-20230320_155359-j0qs82cw\\logs</code>"
      ],
      "text/plain": [
       "<IPython.core.display.HTML object>"
      ]
     },
     "metadata": {},
     "output_type": "display_data"
    },
    {
     "name": "stderr",
     "output_type": "stream",
     "text": [
      "\u001b[34m\u001b[1mwandb\u001b[0m: Sweep Agent: Waiting for job.\n",
      "\u001b[34m\u001b[1mwandb\u001b[0m: Job received.\n",
      "\u001b[34m\u001b[1mwandb\u001b[0m: Agent Starting Run: vfbw5iyf with config:\n",
      "\u001b[34m\u001b[1mwandb\u001b[0m: \tactivation_function: tanh\n",
      "\u001b[34m\u001b[1mwandb\u001b[0m: \tinitialization_type: random\n",
      "\u001b[34m\u001b[1mwandb\u001b[0m: \tlambd: 0\n",
      "\u001b[34m\u001b[1mwandb\u001b[0m: \tlearning_rate: 0.0001\n",
      "\u001b[34m\u001b[1mwandb\u001b[0m: \tmax_epochs: 10\n",
      "\u001b[34m\u001b[1mwandb\u001b[0m: \tmini_batch_size: 32\n",
      "\u001b[34m\u001b[1mwandb\u001b[0m: \tnumber_hidden_layers: 5\n",
      "\u001b[34m\u001b[1mwandb\u001b[0m: \tnumber_neurons: 64\n",
      "\u001b[34m\u001b[1mwandb\u001b[0m: \toptimization_function: momentum_gd\n"
     ]
    },
    {
     "data": {
      "text/html": [
       "Tracking run with wandb version 0.14.0"
      ],
      "text/plain": [
       "<IPython.core.display.HTML object>"
      ]
     },
     "metadata": {},
     "output_type": "display_data"
    },
    {
     "data": {
      "text/html": [
       "Run data is saved locally in <code>C:\\Users\\bones\\wandb\\run-20230320_160203-vfbw5iyf</code>"
      ],
      "text/plain": [
       "<IPython.core.display.HTML object>"
      ]
     },
     "metadata": {},
     "output_type": "display_data"
    },
    {
     "data": {
      "text/html": [
       "Syncing run <strong><a href='https://wandb.ai/bs20b012/CS6910/runs/vfbw5iyf' target=\"_blank\">zany-sweep-20</a></strong> to <a href='https://wandb.ai/bs20b012/CS6910' target=\"_blank\">Weights & Biases</a> (<a href='https://wandb.me/run' target=\"_blank\">docs</a>)<br/>Sweep page: <a href='https://wandb.ai/bs20b012/CS6910/sweeps/4c8n6myl' target=\"_blank\">https://wandb.ai/bs20b012/CS6910/sweeps/4c8n6myl</a>"
      ],
      "text/plain": [
       "<IPython.core.display.HTML object>"
      ]
     },
     "metadata": {},
     "output_type": "display_data"
    },
    {
     "data": {
      "text/html": [
       " View project at <a href='https://wandb.ai/bs20b012/CS6910' target=\"_blank\">https://wandb.ai/bs20b012/CS6910</a>"
      ],
      "text/plain": [
       "<IPython.core.display.HTML object>"
      ]
     },
     "metadata": {},
     "output_type": "display_data"
    },
    {
     "data": {
      "text/html": [
       " View sweep at <a href='https://wandb.ai/bs20b012/CS6910/sweeps/4c8n6myl' target=\"_blank\">https://wandb.ai/bs20b012/CS6910/sweeps/4c8n6myl</a>"
      ],
      "text/plain": [
       "<IPython.core.display.HTML object>"
      ]
     },
     "metadata": {},
     "output_type": "display_data"
    },
    {
     "data": {
      "text/html": [
       " View run at <a href='https://wandb.ai/bs20b012/CS6910/runs/vfbw5iyf' target=\"_blank\">https://wandb.ai/bs20b012/CS6910/runs/vfbw5iyf</a>"
      ],
      "text/plain": [
       "<IPython.core.display.HTML object>"
      ]
     },
     "metadata": {},
     "output_type": "display_data"
    },
    {
     "name": "stderr",
     "output_type": "stream",
     "text": [
      "100%|██████████████████████████████████████████████████████████████████████████████████| 10/10 [04:28<00:00, 26.87s/it]"
     ]
    },
    {
     "name": "stdout",
     "output_type": "stream",
     "text": [
      "Training Accuracy: 10.05\n",
      "Validation Accuracy: 9.55\n"
     ]
    },
    {
     "name": "stderr",
     "output_type": "stream",
     "text": [
      "\n"
     ]
    },
    {
     "data": {
      "text/html": [
       "Waiting for W&B process to finish... <strong style=\"color:green\">(success).</strong>"
      ],
      "text/plain": [
       "<IPython.core.display.HTML object>"
      ]
     },
     "metadata": {},
     "output_type": "display_data"
    },
    {
     "data": {
      "text/html": [
       "<style>\n",
       "    table.wandb td:nth-child(1) { padding: 0 10px; text-align: left ; width: auto;} td:nth-child(2) {text-align: left ; width: 100%}\n",
       "    .wandb-row { display: flex; flex-direction: row; flex-wrap: wrap; justify-content: flex-start; width: 100% }\n",
       "    .wandb-col { display: flex; flex-direction: column; flex-basis: 100%; flex: 1; padding: 10px; }\n",
       "    </style>\n",
       "<div class=\"wandb-row\"><div class=\"wandb-col\"><h3>Run history:</h3><br/><table class=\"wandb\"><tr><td>Train_Accuracy</td><td>▁▁▁▁▁▁▁▁▁▁</td></tr><tr><td>Train_Loss</td><td>█▁▂▃▃▃▃▃▃▃</td></tr><tr><td>Validation_Accuracy</td><td>▁▁▁▁▁▁▁▁▁▁</td></tr><tr><td>Validation_loss</td><td>▁▅▇███████</td></tr><tr><td>epoch</td><td>▁▂▃▃▄▅▆▆▇█</td></tr></table><br/></div><div class=\"wandb-col\"><h3>Run summary:</h3><br/><table class=\"wandb\"><tr><td>Train_Accuracy</td><td>10.05</td></tr><tr><td>Train_Loss</td><td>2.30258</td></tr><tr><td>Validation_Accuracy</td><td>9.55</td></tr><tr><td>Validation_loss</td><td>2.30273</td></tr><tr><td>epoch</td><td>9</td></tr></table><br/></div></div>"
      ],
      "text/plain": [
       "<IPython.core.display.HTML object>"
      ]
     },
     "metadata": {},
     "output_type": "display_data"
    },
    {
     "data": {
      "text/html": [
       " View run <strong style=\"color:#cdcd00\">zany-sweep-20</strong> at: <a href='https://wandb.ai/bs20b012/CS6910/runs/vfbw5iyf' target=\"_blank\">https://wandb.ai/bs20b012/CS6910/runs/vfbw5iyf</a><br/>Synced 6 W&B file(s), 0 media file(s), 0 artifact file(s) and 0 other file(s)"
      ],
      "text/plain": [
       "<IPython.core.display.HTML object>"
      ]
     },
     "metadata": {},
     "output_type": "display_data"
    },
    {
     "data": {
      "text/html": [
       "Find logs at: <code>.\\wandb\\run-20230320_160203-vfbw5iyf\\logs</code>"
      ],
      "text/plain": [
       "<IPython.core.display.HTML object>"
      ]
     },
     "metadata": {},
     "output_type": "display_data"
    },
    {
     "name": "stderr",
     "output_type": "stream",
     "text": [
      "\u001b[34m\u001b[1mwandb\u001b[0m: Sweep Agent: Waiting for job.\n",
      "\u001b[34m\u001b[1mwandb\u001b[0m: Job received.\n",
      "\u001b[34m\u001b[1mwandb\u001b[0m: Agent Starting Run: 6ifwtpwr with config:\n",
      "\u001b[34m\u001b[1mwandb\u001b[0m: \tactivation_function: tanh\n",
      "\u001b[34m\u001b[1mwandb\u001b[0m: \tinitialization_type: xavier\n",
      "\u001b[34m\u001b[1mwandb\u001b[0m: \tlambd: 0.0005\n",
      "\u001b[34m\u001b[1mwandb\u001b[0m: \tlearning_rate: 0.001\n",
      "\u001b[34m\u001b[1mwandb\u001b[0m: \tmax_epochs: 10\n",
      "\u001b[34m\u001b[1mwandb\u001b[0m: \tmini_batch_size: 32\n",
      "\u001b[34m\u001b[1mwandb\u001b[0m: \tnumber_hidden_layers: 3\n",
      "\u001b[34m\u001b[1mwandb\u001b[0m: \tnumber_neurons: 128\n",
      "\u001b[34m\u001b[1mwandb\u001b[0m: \toptimization_function: stochastic_gd\n"
     ]
    },
    {
     "data": {
      "text/html": [
       "Tracking run with wandb version 0.14.0"
      ],
      "text/plain": [
       "<IPython.core.display.HTML object>"
      ]
     },
     "metadata": {},
     "output_type": "display_data"
    },
    {
     "data": {
      "text/html": [
       "Run data is saved locally in <code>C:\\Users\\bones\\wandb\\run-20230320_160700-6ifwtpwr</code>"
      ],
      "text/plain": [
       "<IPython.core.display.HTML object>"
      ]
     },
     "metadata": {},
     "output_type": "display_data"
    },
    {
     "data": {
      "text/html": [
       "Syncing run <strong><a href='https://wandb.ai/bs20b012/CS6910/runs/6ifwtpwr' target=\"_blank\">effortless-sweep-21</a></strong> to <a href='https://wandb.ai/bs20b012/CS6910' target=\"_blank\">Weights & Biases</a> (<a href='https://wandb.me/run' target=\"_blank\">docs</a>)<br/>Sweep page: <a href='https://wandb.ai/bs20b012/CS6910/sweeps/4c8n6myl' target=\"_blank\">https://wandb.ai/bs20b012/CS6910/sweeps/4c8n6myl</a>"
      ],
      "text/plain": [
       "<IPython.core.display.HTML object>"
      ]
     },
     "metadata": {},
     "output_type": "display_data"
    },
    {
     "data": {
      "text/html": [
       " View project at <a href='https://wandb.ai/bs20b012/CS6910' target=\"_blank\">https://wandb.ai/bs20b012/CS6910</a>"
      ],
      "text/plain": [
       "<IPython.core.display.HTML object>"
      ]
     },
     "metadata": {},
     "output_type": "display_data"
    },
    {
     "data": {
      "text/html": [
       " View sweep at <a href='https://wandb.ai/bs20b012/CS6910/sweeps/4c8n6myl' target=\"_blank\">https://wandb.ai/bs20b012/CS6910/sweeps/4c8n6myl</a>"
      ],
      "text/plain": [
       "<IPython.core.display.HTML object>"
      ]
     },
     "metadata": {},
     "output_type": "display_data"
    },
    {
     "data": {
      "text/html": [
       " View run at <a href='https://wandb.ai/bs20b012/CS6910/runs/6ifwtpwr' target=\"_blank\">https://wandb.ai/bs20b012/CS6910/runs/6ifwtpwr</a>"
      ],
      "text/plain": [
       "<IPython.core.display.HTML object>"
      ]
     },
     "metadata": {},
     "output_type": "display_data"
    },
    {
     "name": "stderr",
     "output_type": "stream",
     "text": [
      "100%|██████████████████████████████████████████████████████████████████████████████████| 10/10 [11:13<00:00, 67.30s/it]"
     ]
    },
    {
     "name": "stdout",
     "output_type": "stream",
     "text": [
      "Training Accuracy: 91.03888888888889\n",
      "Validation Accuracy: 87.86666666666667\n"
     ]
    },
    {
     "name": "stderr",
     "output_type": "stream",
     "text": [
      "\n"
     ]
    },
    {
     "data": {
      "text/html": [
       "Waiting for W&B process to finish... <strong style=\"color:green\">(success).</strong>"
      ],
      "text/plain": [
       "<IPython.core.display.HTML object>"
      ]
     },
     "metadata": {},
     "output_type": "display_data"
    },
    {
     "data": {
      "application/vnd.jupyter.widget-view+json": {
       "model_id": "5e2560c3aa744128850a042d80d21af9",
       "version_major": 2,
       "version_minor": 0
      },
      "text/plain": [
       "VBox(children=(Label(value='0.001 MB of 0.001 MB uploaded (0.000 MB deduped)\\r'), FloatProgress(value=1.0, max…"
      ]
     },
     "metadata": {},
     "output_type": "display_data"
    },
    {
     "data": {
      "text/html": [
       "<style>\n",
       "    table.wandb td:nth-child(1) { padding: 0 10px; text-align: left ; width: auto;} td:nth-child(2) {text-align: left ; width: 100%}\n",
       "    .wandb-row { display: flex; flex-direction: row; flex-wrap: wrap; justify-content: flex-start; width: 100% }\n",
       "    .wandb-col { display: flex; flex-direction: column; flex-basis: 100%; flex: 1; padding: 10px; }\n",
       "    </style>\n",
       "<div class=\"wandb-row\"><div class=\"wandb-col\"><h3>Run history:</h3><br/><table class=\"wandb\"><tr><td>Train_Accuracy</td><td>▁▃▄▅▆▇▇▇██</td></tr><tr><td>Train_Loss</td><td>█▆▅▄▃▃▂▂▁▁</td></tr><tr><td>Validation_Accuracy</td><td>▁▄▅▆▇▇▇███</td></tr><tr><td>Validation_loss</td><td>█▅▄▃▃▂▂▁▁▁</td></tr><tr><td>epoch</td><td>▁▂▃▃▄▅▆▆▇█</td></tr></table><br/></div><div class=\"wandb-col\"><h3>Run summary:</h3><br/><table class=\"wandb\"><tr><td>Train_Accuracy</td><td>91.03889</td></tr><tr><td>Train_Loss</td><td>0.24205</td></tr><tr><td>Validation_Accuracy</td><td>87.86667</td></tr><tr><td>Validation_loss</td><td>0.32843</td></tr><tr><td>epoch</td><td>9</td></tr></table><br/></div></div>"
      ],
      "text/plain": [
       "<IPython.core.display.HTML object>"
      ]
     },
     "metadata": {},
     "output_type": "display_data"
    },
    {
     "data": {
      "text/html": [
       " View run <strong style=\"color:#cdcd00\">effortless-sweep-21</strong> at: <a href='https://wandb.ai/bs20b012/CS6910/runs/6ifwtpwr' target=\"_blank\">https://wandb.ai/bs20b012/CS6910/runs/6ifwtpwr</a><br/>Synced 6 W&B file(s), 0 media file(s), 0 artifact file(s) and 0 other file(s)"
      ],
      "text/plain": [
       "<IPython.core.display.HTML object>"
      ]
     },
     "metadata": {},
     "output_type": "display_data"
    },
    {
     "data": {
      "text/html": [
       "Find logs at: <code>.\\wandb\\run-20230320_160700-6ifwtpwr\\logs</code>"
      ],
      "text/plain": [
       "<IPython.core.display.HTML object>"
      ]
     },
     "metadata": {},
     "output_type": "display_data"
    },
    {
     "name": "stderr",
     "output_type": "stream",
     "text": [
      "\u001b[34m\u001b[1mwandb\u001b[0m: Agent Starting Run: ixeya0qi with config:\n",
      "\u001b[34m\u001b[1mwandb\u001b[0m: \tactivation_function: tanh\n",
      "\u001b[34m\u001b[1mwandb\u001b[0m: \tinitialization_type: xavier\n",
      "\u001b[34m\u001b[1mwandb\u001b[0m: \tlambd: 0.5\n",
      "\u001b[34m\u001b[1mwandb\u001b[0m: \tlearning_rate: 0.0001\n",
      "\u001b[34m\u001b[1mwandb\u001b[0m: \tmax_epochs: 10\n",
      "\u001b[34m\u001b[1mwandb\u001b[0m: \tmini_batch_size: 32\n",
      "\u001b[34m\u001b[1mwandb\u001b[0m: \tnumber_hidden_layers: 3\n",
      "\u001b[34m\u001b[1mwandb\u001b[0m: \tnumber_neurons: 32\n",
      "\u001b[34m\u001b[1mwandb\u001b[0m: \toptimization_function: rmsprop\n"
     ]
    },
    {
     "data": {
      "text/html": [
       "Tracking run with wandb version 0.14.0"
      ],
      "text/plain": [
       "<IPython.core.display.HTML object>"
      ]
     },
     "metadata": {},
     "output_type": "display_data"
    },
    {
     "data": {
      "text/html": [
       "Run data is saved locally in <code>C:\\Users\\bones\\wandb\\run-20230320_161859-ixeya0qi</code>"
      ],
      "text/plain": [
       "<IPython.core.display.HTML object>"
      ]
     },
     "metadata": {},
     "output_type": "display_data"
    },
    {
     "data": {
      "text/html": [
       "Syncing run <strong><a href='https://wandb.ai/bs20b012/CS6910/runs/ixeya0qi' target=\"_blank\">lunar-sweep-22</a></strong> to <a href='https://wandb.ai/bs20b012/CS6910' target=\"_blank\">Weights & Biases</a> (<a href='https://wandb.me/run' target=\"_blank\">docs</a>)<br/>Sweep page: <a href='https://wandb.ai/bs20b012/CS6910/sweeps/4c8n6myl' target=\"_blank\">https://wandb.ai/bs20b012/CS6910/sweeps/4c8n6myl</a>"
      ],
      "text/plain": [
       "<IPython.core.display.HTML object>"
      ]
     },
     "metadata": {},
     "output_type": "display_data"
    },
    {
     "data": {
      "text/html": [
       " View project at <a href='https://wandb.ai/bs20b012/CS6910' target=\"_blank\">https://wandb.ai/bs20b012/CS6910</a>"
      ],
      "text/plain": [
       "<IPython.core.display.HTML object>"
      ]
     },
     "metadata": {},
     "output_type": "display_data"
    },
    {
     "data": {
      "text/html": [
       " View sweep at <a href='https://wandb.ai/bs20b012/CS6910/sweeps/4c8n6myl' target=\"_blank\">https://wandb.ai/bs20b012/CS6910/sweeps/4c8n6myl</a>"
      ],
      "text/plain": [
       "<IPython.core.display.HTML object>"
      ]
     },
     "metadata": {},
     "output_type": "display_data"
    },
    {
     "data": {
      "text/html": [
       " View run at <a href='https://wandb.ai/bs20b012/CS6910/runs/ixeya0qi' target=\"_blank\">https://wandb.ai/bs20b012/CS6910/runs/ixeya0qi</a>"
      ],
      "text/plain": [
       "<IPython.core.display.HTML object>"
      ]
     },
     "metadata": {},
     "output_type": "display_data"
    },
    {
     "name": "stderr",
     "output_type": "stream",
     "text": [
      "100%|██████████████████████████████████████████████████████████████████████████████████| 10/10 [04:28<00:00, 26.88s/it]"
     ]
    },
    {
     "name": "stdout",
     "output_type": "stream",
     "text": [
      "Training Accuracy: 86.72962962962963\n",
      "Validation Accuracy: 85.03333333333333\n"
     ]
    },
    {
     "name": "stderr",
     "output_type": "stream",
     "text": [
      "\n"
     ]
    },
    {
     "data": {
      "text/html": [
       "Waiting for W&B process to finish... <strong style=\"color:green\">(success).</strong>"
      ],
      "text/plain": [
       "<IPython.core.display.HTML object>"
      ]
     },
     "metadata": {},
     "output_type": "display_data"
    },
    {
     "data": {
      "text/html": [
       "<style>\n",
       "    table.wandb td:nth-child(1) { padding: 0 10px; text-align: left ; width: auto;} td:nth-child(2) {text-align: left ; width: 100%}\n",
       "    .wandb-row { display: flex; flex-direction: row; flex-wrap: wrap; justify-content: flex-start; width: 100% }\n",
       "    .wandb-col { display: flex; flex-direction: column; flex-basis: 100%; flex: 1; padding: 10px; }\n",
       "    </style>\n",
       "<div class=\"wandb-row\"><div class=\"wandb-col\"><h3>Run history:</h3><br/><table class=\"wandb\"><tr><td>Train_Accuracy</td><td>▁▃▄▆▆▇▇███</td></tr><tr><td>Train_Loss</td><td>█▅▃▂▂▂▂▂▁▁</td></tr><tr><td>Validation_Accuracy</td><td>▁▄▅▆▆▇▇███</td></tr><tr><td>Validation_loss</td><td>▄▂▁▁▂▄▇█▅▅</td></tr><tr><td>epoch</td><td>▁▂▃▃▄▅▆▆▇█</td></tr></table><br/></div><div class=\"wandb-col\"><h3>Run summary:</h3><br/><table class=\"wandb\"><tr><td>Train_Accuracy</td><td>86.72963</td></tr><tr><td>Train_Loss</td><td>0.40579</td></tr><tr><td>Validation_Accuracy</td><td>85.03333</td></tr><tr><td>Validation_loss</td><td>0.54442</td></tr><tr><td>epoch</td><td>9</td></tr></table><br/></div></div>"
      ],
      "text/plain": [
       "<IPython.core.display.HTML object>"
      ]
     },
     "metadata": {},
     "output_type": "display_data"
    },
    {
     "data": {
      "text/html": [
       " View run <strong style=\"color:#cdcd00\">lunar-sweep-22</strong> at: <a href='https://wandb.ai/bs20b012/CS6910/runs/ixeya0qi' target=\"_blank\">https://wandb.ai/bs20b012/CS6910/runs/ixeya0qi</a><br/>Synced 6 W&B file(s), 0 media file(s), 0 artifact file(s) and 0 other file(s)"
      ],
      "text/plain": [
       "<IPython.core.display.HTML object>"
      ]
     },
     "metadata": {},
     "output_type": "display_data"
    },
    {
     "data": {
      "text/html": [
       "Find logs at: <code>.\\wandb\\run-20230320_161859-ixeya0qi\\logs</code>"
      ],
      "text/plain": [
       "<IPython.core.display.HTML object>"
      ]
     },
     "metadata": {},
     "output_type": "display_data"
    },
    {
     "name": "stderr",
     "output_type": "stream",
     "text": [
      "\u001b[34m\u001b[1mwandb\u001b[0m: Agent Starting Run: 7f4cfyek with config:\n",
      "\u001b[34m\u001b[1mwandb\u001b[0m: \tactivation_function: sigmoid\n",
      "\u001b[34m\u001b[1mwandb\u001b[0m: \tinitialization_type: xavier\n",
      "\u001b[34m\u001b[1mwandb\u001b[0m: \tlambd: 0\n",
      "\u001b[34m\u001b[1mwandb\u001b[0m: \tlearning_rate: 0.0001\n",
      "\u001b[34m\u001b[1mwandb\u001b[0m: \tmax_epochs: 5\n",
      "\u001b[34m\u001b[1mwandb\u001b[0m: \tmini_batch_size: 16\n",
      "\u001b[34m\u001b[1mwandb\u001b[0m: \tnumber_hidden_layers: 4\n",
      "\u001b[34m\u001b[1mwandb\u001b[0m: \tnumber_neurons: 32\n",
      "\u001b[34m\u001b[1mwandb\u001b[0m: \toptimization_function: adam\n"
     ]
    },
    {
     "data": {
      "text/html": [
       "Tracking run with wandb version 0.14.0"
      ],
      "text/plain": [
       "<IPython.core.display.HTML object>"
      ]
     },
     "metadata": {},
     "output_type": "display_data"
    },
    {
     "data": {
      "text/html": [
       "Run data is saved locally in <code>C:\\Users\\bones\\wandb\\run-20230320_162354-7f4cfyek</code>"
      ],
      "text/plain": [
       "<IPython.core.display.HTML object>"
      ]
     },
     "metadata": {},
     "output_type": "display_data"
    },
    {
     "data": {
      "text/html": [
       "Syncing run <strong><a href='https://wandb.ai/bs20b012/CS6910/runs/7f4cfyek' target=\"_blank\">lunar-sweep-23</a></strong> to <a href='https://wandb.ai/bs20b012/CS6910' target=\"_blank\">Weights & Biases</a> (<a href='https://wandb.me/run' target=\"_blank\">docs</a>)<br/>Sweep page: <a href='https://wandb.ai/bs20b012/CS6910/sweeps/4c8n6myl' target=\"_blank\">https://wandb.ai/bs20b012/CS6910/sweeps/4c8n6myl</a>"
      ],
      "text/plain": [
       "<IPython.core.display.HTML object>"
      ]
     },
     "metadata": {},
     "output_type": "display_data"
    },
    {
     "data": {
      "text/html": [
       " View project at <a href='https://wandb.ai/bs20b012/CS6910' target=\"_blank\">https://wandb.ai/bs20b012/CS6910</a>"
      ],
      "text/plain": [
       "<IPython.core.display.HTML object>"
      ]
     },
     "metadata": {},
     "output_type": "display_data"
    },
    {
     "data": {
      "text/html": [
       " View sweep at <a href='https://wandb.ai/bs20b012/CS6910/sweeps/4c8n6myl' target=\"_blank\">https://wandb.ai/bs20b012/CS6910/sweeps/4c8n6myl</a>"
      ],
      "text/plain": [
       "<IPython.core.display.HTML object>"
      ]
     },
     "metadata": {},
     "output_type": "display_data"
    },
    {
     "data": {
      "text/html": [
       " View run at <a href='https://wandb.ai/bs20b012/CS6910/runs/7f4cfyek' target=\"_blank\">https://wandb.ai/bs20b012/CS6910/runs/7f4cfyek</a>"
      ],
      "text/plain": [
       "<IPython.core.display.HTML object>"
      ]
     },
     "metadata": {},
     "output_type": "display_data"
    },
    {
     "name": "stderr",
     "output_type": "stream",
     "text": [
      "100%|████████████████████████████████████████████████████████████████████████████████████| 5/5 [03:03<00:00, 36.73s/it]"
     ]
    },
    {
     "name": "stdout",
     "output_type": "stream",
     "text": [
      "Training Accuracy: 68.95740740740742\n",
      "Validation Accuracy: 69.81666666666668\n"
     ]
    },
    {
     "name": "stderr",
     "output_type": "stream",
     "text": [
      "\n"
     ]
    },
    {
     "data": {
      "text/html": [
       "Waiting for W&B process to finish... <strong style=\"color:green\">(success).</strong>"
      ],
      "text/plain": [
       "<IPython.core.display.HTML object>"
      ]
     },
     "metadata": {},
     "output_type": "display_data"
    },
    {
     "data": {
      "text/html": [
       "<style>\n",
       "    table.wandb td:nth-child(1) { padding: 0 10px; text-align: left ; width: auto;} td:nth-child(2) {text-align: left ; width: 100%}\n",
       "    .wandb-row { display: flex; flex-direction: row; flex-wrap: wrap; justify-content: flex-start; width: 100% }\n",
       "    .wandb-col { display: flex; flex-direction: column; flex-basis: 100%; flex: 1; padding: 10px; }\n",
       "    </style>\n",
       "<div class=\"wandb-row\"><div class=\"wandb-col\"><h3>Run history:</h3><br/><table class=\"wandb\"><tr><td>Train_Accuracy</td><td>▁▅▆▇█</td></tr><tr><td>Train_Loss</td><td>█▅▃▂▁</td></tr><tr><td>Validation_Accuracy</td><td>▁▅▆▇█</td></tr><tr><td>Validation_loss</td><td>█▅▃▂▁</td></tr><tr><td>epoch</td><td>▁▃▅▆█</td></tr></table><br/></div><div class=\"wandb-col\"><h3>Run summary:</h3><br/><table class=\"wandb\"><tr><td>Train_Accuracy</td><td>68.95741</td></tr><tr><td>Train_Loss</td><td>0.98295</td></tr><tr><td>Validation_Accuracy</td><td>69.81667</td></tr><tr><td>Validation_loss</td><td>0.98433</td></tr><tr><td>epoch</td><td>4</td></tr></table><br/></div></div>"
      ],
      "text/plain": [
       "<IPython.core.display.HTML object>"
      ]
     },
     "metadata": {},
     "output_type": "display_data"
    },
    {
     "data": {
      "text/html": [
       " View run <strong style=\"color:#cdcd00\">lunar-sweep-23</strong> at: <a href='https://wandb.ai/bs20b012/CS6910/runs/7f4cfyek' target=\"_blank\">https://wandb.ai/bs20b012/CS6910/runs/7f4cfyek</a><br/>Synced 6 W&B file(s), 0 media file(s), 0 artifact file(s) and 0 other file(s)"
      ],
      "text/plain": [
       "<IPython.core.display.HTML object>"
      ]
     },
     "metadata": {},
     "output_type": "display_data"
    },
    {
     "data": {
      "text/html": [
       "Find logs at: <code>.\\wandb\\run-20230320_162354-7f4cfyek\\logs</code>"
      ],
      "text/plain": [
       "<IPython.core.display.HTML object>"
      ]
     },
     "metadata": {},
     "output_type": "display_data"
    },
    {
     "name": "stderr",
     "output_type": "stream",
     "text": [
      "\u001b[34m\u001b[1mwandb\u001b[0m: Agent Starting Run: 84qngtnc with config:\n",
      "\u001b[34m\u001b[1mwandb\u001b[0m: \tactivation_function: relu\n",
      "\u001b[34m\u001b[1mwandb\u001b[0m: \tinitialization_type: random\n",
      "\u001b[34m\u001b[1mwandb\u001b[0m: \tlambd: 0.0005\n",
      "\u001b[34m\u001b[1mwandb\u001b[0m: \tlearning_rate: 0.0001\n",
      "\u001b[34m\u001b[1mwandb\u001b[0m: \tmax_epochs: 10\n",
      "\u001b[34m\u001b[1mwandb\u001b[0m: \tmini_batch_size: 64\n",
      "\u001b[34m\u001b[1mwandb\u001b[0m: \tnumber_hidden_layers: 4\n",
      "\u001b[34m\u001b[1mwandb\u001b[0m: \tnumber_neurons: 128\n",
      "\u001b[34m\u001b[1mwandb\u001b[0m: \toptimization_function: adam\n"
     ]
    },
    {
     "data": {
      "text/html": [
       "Tracking run with wandb version 0.14.0"
      ],
      "text/plain": [
       "<IPython.core.display.HTML object>"
      ]
     },
     "metadata": {},
     "output_type": "display_data"
    },
    {
     "data": {
      "text/html": [
       "Run data is saved locally in <code>C:\\Users\\bones\\wandb\\run-20230320_162725-84qngtnc</code>"
      ],
      "text/plain": [
       "<IPython.core.display.HTML object>"
      ]
     },
     "metadata": {},
     "output_type": "display_data"
    },
    {
     "data": {
      "text/html": [
       "Syncing run <strong><a href='https://wandb.ai/bs20b012/CS6910/runs/84qngtnc' target=\"_blank\">dulcet-sweep-24</a></strong> to <a href='https://wandb.ai/bs20b012/CS6910' target=\"_blank\">Weights & Biases</a> (<a href='https://wandb.me/run' target=\"_blank\">docs</a>)<br/>Sweep page: <a href='https://wandb.ai/bs20b012/CS6910/sweeps/4c8n6myl' target=\"_blank\">https://wandb.ai/bs20b012/CS6910/sweeps/4c8n6myl</a>"
      ],
      "text/plain": [
       "<IPython.core.display.HTML object>"
      ]
     },
     "metadata": {},
     "output_type": "display_data"
    },
    {
     "data": {
      "text/html": [
       " View project at <a href='https://wandb.ai/bs20b012/CS6910' target=\"_blank\">https://wandb.ai/bs20b012/CS6910</a>"
      ],
      "text/plain": [
       "<IPython.core.display.HTML object>"
      ]
     },
     "metadata": {},
     "output_type": "display_data"
    },
    {
     "data": {
      "text/html": [
       " View sweep at <a href='https://wandb.ai/bs20b012/CS6910/sweeps/4c8n6myl' target=\"_blank\">https://wandb.ai/bs20b012/CS6910/sweeps/4c8n6myl</a>"
      ],
      "text/plain": [
       "<IPython.core.display.HTML object>"
      ]
     },
     "metadata": {},
     "output_type": "display_data"
    },
    {
     "data": {
      "text/html": [
       " View run at <a href='https://wandb.ai/bs20b012/CS6910/runs/84qngtnc' target=\"_blank\">https://wandb.ai/bs20b012/CS6910/runs/84qngtnc</a>"
      ],
      "text/plain": [
       "<IPython.core.display.HTML object>"
      ]
     },
     "metadata": {},
     "output_type": "display_data"
    },
    {
     "name": "stderr",
     "output_type": "stream",
     "text": [
      "100%|█████████████████████████████████████████████████████████████████████████████████| 10/10 [37:54<00:00, 227.47s/it]"
     ]
    },
    {
     "name": "stdout",
     "output_type": "stream",
     "text": [
      "Training Accuracy: 72.27962962962962\n",
      "Validation Accuracy: 72.58333333333333\n"
     ]
    },
    {
     "name": "stderr",
     "output_type": "stream",
     "text": [
      "\n"
     ]
    },
    {
     "data": {
      "text/html": [
       "Waiting for W&B process to finish... <strong style=\"color:green\">(success).</strong>"
      ],
      "text/plain": [
       "<IPython.core.display.HTML object>"
      ]
     },
     "metadata": {},
     "output_type": "display_data"
    },
    {
     "data": {
      "application/vnd.jupyter.widget-view+json": {
       "model_id": "f1da28f89502435ab109f135b11f720a",
       "version_major": 2,
       "version_minor": 0
      },
      "text/plain": [
       "VBox(children=(Label(value='0.001 MB of 0.001 MB uploaded (0.000 MB deduped)\\r'), FloatProgress(value=1.0, max…"
      ]
     },
     "metadata": {},
     "output_type": "display_data"
    },
    {
     "data": {
      "text/html": [
       "<style>\n",
       "    table.wandb td:nth-child(1) { padding: 0 10px; text-align: left ; width: auto;} td:nth-child(2) {text-align: left ; width: 100%}\n",
       "    .wandb-row { display: flex; flex-direction: row; flex-wrap: wrap; justify-content: flex-start; width: 100% }\n",
       "    .wandb-col { display: flex; flex-direction: column; flex-basis: 100%; flex: 1; padding: 10px; }\n",
       "    </style>\n",
       "<div class=\"wandb-row\"><div class=\"wandb-col\"><h3>Run history:</h3><br/><table class=\"wandb\"><tr><td>Train_Accuracy</td><td>▁▃▄▅▅▆▆▇▇█</td></tr><tr><td>Train_Loss</td><td>█▇▆▅▅▄▄▃▂▁</td></tr><tr><td>Validation_Accuracy</td><td>▁▃▃▄▅▅▆▇██</td></tr><tr><td>Validation_loss</td><td>█▇▇▆▅▄▄▃▂▁</td></tr><tr><td>epoch</td><td>▁▂▃▃▄▅▆▆▇█</td></tr></table><br/></div><div class=\"wandb-col\"><h3>Run summary:</h3><br/><table class=\"wandb\"><tr><td>Train_Accuracy</td><td>72.27963</td></tr><tr><td>Train_Loss</td><td>0.84758</td></tr><tr><td>Validation_Accuracy</td><td>72.58333</td></tr><tr><td>Validation_loss</td><td>0.93945</td></tr><tr><td>epoch</td><td>9</td></tr></table><br/></div></div>"
      ],
      "text/plain": [
       "<IPython.core.display.HTML object>"
      ]
     },
     "metadata": {},
     "output_type": "display_data"
    },
    {
     "data": {
      "text/html": [
       " View run <strong style=\"color:#cdcd00\">dulcet-sweep-24</strong> at: <a href='https://wandb.ai/bs20b012/CS6910/runs/84qngtnc' target=\"_blank\">https://wandb.ai/bs20b012/CS6910/runs/84qngtnc</a><br/>Synced 6 W&B file(s), 0 media file(s), 0 artifact file(s) and 0 other file(s)"
      ],
      "text/plain": [
       "<IPython.core.display.HTML object>"
      ]
     },
     "metadata": {},
     "output_type": "display_data"
    },
    {
     "data": {
      "text/html": [
       "Find logs at: <code>.\\wandb\\run-20230320_162725-84qngtnc\\logs</code>"
      ],
      "text/plain": [
       "<IPython.core.display.HTML object>"
      ]
     },
     "metadata": {},
     "output_type": "display_data"
    },
    {
     "name": "stderr",
     "output_type": "stream",
     "text": [
      "\u001b[34m\u001b[1mwandb\u001b[0m: Sweep Agent: Waiting for job.\n",
      "\u001b[34m\u001b[1mwandb\u001b[0m: Job received.\n",
      "\u001b[34m\u001b[1mwandb\u001b[0m: Agent Starting Run: 027tkmt9 with config:\n",
      "\u001b[34m\u001b[1mwandb\u001b[0m: \tactivation_function: tanh\n",
      "\u001b[34m\u001b[1mwandb\u001b[0m: \tinitialization_type: random\n",
      "\u001b[34m\u001b[1mwandb\u001b[0m: \tlambd: 0\n",
      "\u001b[34m\u001b[1mwandb\u001b[0m: \tlearning_rate: 0.001\n",
      "\u001b[34m\u001b[1mwandb\u001b[0m: \tmax_epochs: 10\n",
      "\u001b[34m\u001b[1mwandb\u001b[0m: \tmini_batch_size: 64\n",
      "\u001b[34m\u001b[1mwandb\u001b[0m: \tnumber_hidden_layers: 4\n",
      "\u001b[34m\u001b[1mwandb\u001b[0m: \tnumber_neurons: 128\n",
      "\u001b[34m\u001b[1mwandb\u001b[0m: \toptimization_function: stochastic_gd\n"
     ]
    },
    {
     "data": {
      "text/html": [
       "Tracking run with wandb version 0.14.0"
      ],
      "text/plain": [
       "<IPython.core.display.HTML object>"
      ]
     },
     "metadata": {},
     "output_type": "display_data"
    },
    {
     "data": {
      "text/html": [
       "Run data is saved locally in <code>C:\\Users\\bones\\wandb\\run-20230320_170552-027tkmt9</code>"
      ],
      "text/plain": [
       "<IPython.core.display.HTML object>"
      ]
     },
     "metadata": {},
     "output_type": "display_data"
    },
    {
     "data": {
      "text/html": [
       "Syncing run <strong><a href='https://wandb.ai/bs20b012/CS6910/runs/027tkmt9' target=\"_blank\">swift-sweep-25</a></strong> to <a href='https://wandb.ai/bs20b012/CS6910' target=\"_blank\">Weights & Biases</a> (<a href='https://wandb.me/run' target=\"_blank\">docs</a>)<br/>Sweep page: <a href='https://wandb.ai/bs20b012/CS6910/sweeps/4c8n6myl' target=\"_blank\">https://wandb.ai/bs20b012/CS6910/sweeps/4c8n6myl</a>"
      ],
      "text/plain": [
       "<IPython.core.display.HTML object>"
      ]
     },
     "metadata": {},
     "output_type": "display_data"
    },
    {
     "data": {
      "text/html": [
       " View project at <a href='https://wandb.ai/bs20b012/CS6910' target=\"_blank\">https://wandb.ai/bs20b012/CS6910</a>"
      ],
      "text/plain": [
       "<IPython.core.display.HTML object>"
      ]
     },
     "metadata": {},
     "output_type": "display_data"
    },
    {
     "data": {
      "text/html": [
       " View sweep at <a href='https://wandb.ai/bs20b012/CS6910/sweeps/4c8n6myl' target=\"_blank\">https://wandb.ai/bs20b012/CS6910/sweeps/4c8n6myl</a>"
      ],
      "text/plain": [
       "<IPython.core.display.HTML object>"
      ]
     },
     "metadata": {},
     "output_type": "display_data"
    },
    {
     "data": {
      "text/html": [
       " View run at <a href='https://wandb.ai/bs20b012/CS6910/runs/027tkmt9' target=\"_blank\">https://wandb.ai/bs20b012/CS6910/runs/027tkmt9</a>"
      ],
      "text/plain": [
       "<IPython.core.display.HTML object>"
      ]
     },
     "metadata": {},
     "output_type": "display_data"
    },
    {
     "name": "stderr",
     "output_type": "stream",
     "text": [
      "100%|█████████████████████████████████████████████████████████████████████████████████| 10/10 [16:51<00:00, 101.13s/it]"
     ]
    },
    {
     "name": "stdout",
     "output_type": "stream",
     "text": [
      "Training Accuracy: 84.91666666666666\n",
      "Validation Accuracy: 83.76666666666667\n"
     ]
    },
    {
     "name": "stderr",
     "output_type": "stream",
     "text": [
      "\n"
     ]
    },
    {
     "data": {
      "text/html": [
       "Waiting for W&B process to finish... <strong style=\"color:green\">(success).</strong>"
      ],
      "text/plain": [
       "<IPython.core.display.HTML object>"
      ]
     },
     "metadata": {},
     "output_type": "display_data"
    },
    {
     "data": {
      "application/vnd.jupyter.widget-view+json": {
       "model_id": "941ef5c2a1314585b500f5d91c63f999",
       "version_major": 2,
       "version_minor": 0
      },
      "text/plain": [
       "VBox(children=(Label(value='0.001 MB of 0.001 MB uploaded (0.000 MB deduped)\\r'), FloatProgress(value=1.0, max…"
      ]
     },
     "metadata": {},
     "output_type": "display_data"
    },
    {
     "data": {
      "text/html": [
       "<style>\n",
       "    table.wandb td:nth-child(1) { padding: 0 10px; text-align: left ; width: auto;} td:nth-child(2) {text-align: left ; width: 100%}\n",
       "    .wandb-row { display: flex; flex-direction: row; flex-wrap: wrap; justify-content: flex-start; width: 100% }\n",
       "    .wandb-col { display: flex; flex-direction: column; flex-basis: 100%; flex: 1; padding: 10px; }\n",
       "    </style>\n",
       "<div class=\"wandb-row\"><div class=\"wandb-col\"><h3>Run history:</h3><br/><table class=\"wandb\"><tr><td>Train_Accuracy</td><td>▁▁▁▂▅▇▇███</td></tr><tr><td>Train_Loss</td><td>████▃▂▂▁▁▁</td></tr><tr><td>Validation_Accuracy</td><td>▁▁▁▂▅▇▇███</td></tr><tr><td>Validation_loss</td><td>████▃▂▂▁▁▁</td></tr><tr><td>epoch</td><td>▁▂▃▃▄▅▆▆▇█</td></tr></table><br/></div><div class=\"wandb-col\"><h3>Run summary:</h3><br/><table class=\"wandb\"><tr><td>Train_Accuracy</td><td>84.91667</td></tr><tr><td>Train_Loss</td><td>0.42543</td></tr><tr><td>Validation_Accuracy</td><td>83.76667</td></tr><tr><td>Validation_loss</td><td>0.45619</td></tr><tr><td>epoch</td><td>9</td></tr></table><br/></div></div>"
      ],
      "text/plain": [
       "<IPython.core.display.HTML object>"
      ]
     },
     "metadata": {},
     "output_type": "display_data"
    },
    {
     "data": {
      "text/html": [
       " View run <strong style=\"color:#cdcd00\">swift-sweep-25</strong> at: <a href='https://wandb.ai/bs20b012/CS6910/runs/027tkmt9' target=\"_blank\">https://wandb.ai/bs20b012/CS6910/runs/027tkmt9</a><br/>Synced 6 W&B file(s), 0 media file(s), 0 artifact file(s) and 0 other file(s)"
      ],
      "text/plain": [
       "<IPython.core.display.HTML object>"
      ]
     },
     "metadata": {},
     "output_type": "display_data"
    },
    {
     "data": {
      "text/html": [
       "Find logs at: <code>.\\wandb\\run-20230320_170552-027tkmt9\\logs</code>"
      ],
      "text/plain": [
       "<IPython.core.display.HTML object>"
      ]
     },
     "metadata": {},
     "output_type": "display_data"
    },
    {
     "name": "stderr",
     "output_type": "stream",
     "text": [
      "\u001b[34m\u001b[1mwandb\u001b[0m: Agent Starting Run: uxymlric with config:\n",
      "\u001b[34m\u001b[1mwandb\u001b[0m: \tactivation_function: relu\n",
      "\u001b[34m\u001b[1mwandb\u001b[0m: \tinitialization_type: random\n",
      "\u001b[34m\u001b[1mwandb\u001b[0m: \tlambd: 0\n",
      "\u001b[34m\u001b[1mwandb\u001b[0m: \tlearning_rate: 0.001\n",
      "\u001b[34m\u001b[1mwandb\u001b[0m: \tmax_epochs: 10\n",
      "\u001b[34m\u001b[1mwandb\u001b[0m: \tmini_batch_size: 64\n",
      "\u001b[34m\u001b[1mwandb\u001b[0m: \tnumber_hidden_layers: 4\n",
      "\u001b[34m\u001b[1mwandb\u001b[0m: \tnumber_neurons: 128\n",
      "\u001b[34m\u001b[1mwandb\u001b[0m: \toptimization_function: momentum_gd\n"
     ]
    },
    {
     "data": {
      "text/html": [
       "Tracking run with wandb version 0.14.0"
      ],
      "text/plain": [
       "<IPython.core.display.HTML object>"
      ]
     },
     "metadata": {},
     "output_type": "display_data"
    },
    {
     "data": {
      "text/html": [
       "Run data is saved locally in <code>C:\\Users\\bones\\wandb\\run-20230320_172331-uxymlric</code>"
      ],
      "text/plain": [
       "<IPython.core.display.HTML object>"
      ]
     },
     "metadata": {},
     "output_type": "display_data"
    },
    {
     "data": {
      "text/html": [
       "Syncing run <strong><a href='https://wandb.ai/bs20b012/CS6910/runs/uxymlric' target=\"_blank\">expert-sweep-26</a></strong> to <a href='https://wandb.ai/bs20b012/CS6910' target=\"_blank\">Weights & Biases</a> (<a href='https://wandb.me/run' target=\"_blank\">docs</a>)<br/>Sweep page: <a href='https://wandb.ai/bs20b012/CS6910/sweeps/4c8n6myl' target=\"_blank\">https://wandb.ai/bs20b012/CS6910/sweeps/4c8n6myl</a>"
      ],
      "text/plain": [
       "<IPython.core.display.HTML object>"
      ]
     },
     "metadata": {},
     "output_type": "display_data"
    },
    {
     "data": {
      "text/html": [
       " View project at <a href='https://wandb.ai/bs20b012/CS6910' target=\"_blank\">https://wandb.ai/bs20b012/CS6910</a>"
      ],
      "text/plain": [
       "<IPython.core.display.HTML object>"
      ]
     },
     "metadata": {},
     "output_type": "display_data"
    },
    {
     "data": {
      "text/html": [
       " View sweep at <a href='https://wandb.ai/bs20b012/CS6910/sweeps/4c8n6myl' target=\"_blank\">https://wandb.ai/bs20b012/CS6910/sweeps/4c8n6myl</a>"
      ],
      "text/plain": [
       "<IPython.core.display.HTML object>"
      ]
     },
     "metadata": {},
     "output_type": "display_data"
    },
    {
     "data": {
      "text/html": [
       " View run at <a href='https://wandb.ai/bs20b012/CS6910/runs/uxymlric' target=\"_blank\">https://wandb.ai/bs20b012/CS6910/runs/uxymlric</a>"
      ],
      "text/plain": [
       "<IPython.core.display.HTML object>"
      ]
     },
     "metadata": {},
     "output_type": "display_data"
    },
    {
     "name": "stderr",
     "output_type": "stream",
     "text": [
      "100%|██████████████████████████████████████████████████████████████████████████████████| 10/10 [16:06<00:00, 96.62s/it]"
     ]
    },
    {
     "name": "stdout",
     "output_type": "stream",
     "text": [
      "Training Accuracy: 82.30185185185185\n",
      "Validation Accuracy: 81.0\n"
     ]
    },
    {
     "name": "stderr",
     "output_type": "stream",
     "text": [
      "\n"
     ]
    },
    {
     "data": {
      "text/html": [
       "Waiting for W&B process to finish... <strong style=\"color:green\">(success).</strong>"
      ],
      "text/plain": [
       "<IPython.core.display.HTML object>"
      ]
     },
     "metadata": {},
     "output_type": "display_data"
    },
    {
     "data": {
      "text/html": [
       "<style>\n",
       "    table.wandb td:nth-child(1) { padding: 0 10px; text-align: left ; width: auto;} td:nth-child(2) {text-align: left ; width: 100%}\n",
       "    .wandb-row { display: flex; flex-direction: row; flex-wrap: wrap; justify-content: flex-start; width: 100% }\n",
       "    .wandb-col { display: flex; flex-direction: column; flex-basis: 100%; flex: 1; padding: 10px; }\n",
       "    </style>\n",
       "<div class=\"wandb-row\"><div class=\"wandb-col\"><h3>Run history:</h3><br/><table class=\"wandb\"><tr><td>Train_Accuracy</td><td>▁▁▁▁▁▁▁▆██</td></tr><tr><td>Train_Loss</td><td>███████▃▁▁</td></tr><tr><td>Validation_Accuracy</td><td>▁▁▁▁▁▁▁▆██</td></tr><tr><td>Validation_loss</td><td>███████▃▁▁</td></tr><tr><td>epoch</td><td>▁▂▃▃▄▅▆▆▇█</td></tr></table><br/></div><div class=\"wandb-col\"><h3>Run summary:</h3><br/><table class=\"wandb\"><tr><td>Train_Accuracy</td><td>82.30185</td></tr><tr><td>Train_Loss</td><td>0.50146</td></tr><tr><td>Validation_Accuracy</td><td>81.0</td></tr><tr><td>Validation_loss</td><td>0.53338</td></tr><tr><td>epoch</td><td>9</td></tr></table><br/></div></div>"
      ],
      "text/plain": [
       "<IPython.core.display.HTML object>"
      ]
     },
     "metadata": {},
     "output_type": "display_data"
    },
    {
     "data": {
      "text/html": [
       " View run <strong style=\"color:#cdcd00\">expert-sweep-26</strong> at: <a href='https://wandb.ai/bs20b012/CS6910/runs/uxymlric' target=\"_blank\">https://wandb.ai/bs20b012/CS6910/runs/uxymlric</a><br/>Synced 6 W&B file(s), 0 media file(s), 0 artifact file(s) and 0 other file(s)"
      ],
      "text/plain": [
       "<IPython.core.display.HTML object>"
      ]
     },
     "metadata": {},
     "output_type": "display_data"
    },
    {
     "data": {
      "text/html": [
       "Find logs at: <code>.\\wandb\\run-20230320_172331-uxymlric\\logs</code>"
      ],
      "text/plain": [
       "<IPython.core.display.HTML object>"
      ]
     },
     "metadata": {},
     "output_type": "display_data"
    },
    {
     "name": "stderr",
     "output_type": "stream",
     "text": [
      "\u001b[34m\u001b[1mwandb\u001b[0m: Sweep Agent: Waiting for job.\n",
      "\u001b[34m\u001b[1mwandb\u001b[0m: Job received.\n",
      "\u001b[34m\u001b[1mwandb\u001b[0m: Agent Starting Run: ts3pubz4 with config:\n",
      "\u001b[34m\u001b[1mwandb\u001b[0m: \tactivation_function: tanh\n",
      "\u001b[34m\u001b[1mwandb\u001b[0m: \tinitialization_type: xavier\n",
      "\u001b[34m\u001b[1mwandb\u001b[0m: \tlambd: 0.5\n",
      "\u001b[34m\u001b[1mwandb\u001b[0m: \tlearning_rate: 0.0001\n",
      "\u001b[34m\u001b[1mwandb\u001b[0m: \tmax_epochs: 10\n",
      "\u001b[34m\u001b[1mwandb\u001b[0m: \tmini_batch_size: 64\n",
      "\u001b[34m\u001b[1mwandb\u001b[0m: \tnumber_hidden_layers: 4\n",
      "\u001b[34m\u001b[1mwandb\u001b[0m: \tnumber_neurons: 64\n",
      "\u001b[34m\u001b[1mwandb\u001b[0m: \toptimization_function: adam\n"
     ]
    },
    {
     "data": {
      "text/html": [
       "Tracking run with wandb version 0.14.0"
      ],
      "text/plain": [
       "<IPython.core.display.HTML object>"
      ]
     },
     "metadata": {},
     "output_type": "display_data"
    },
    {
     "data": {
      "text/html": [
       "Run data is saved locally in <code>C:\\Users\\bones\\wandb\\run-20230320_174032-ts3pubz4</code>"
      ],
      "text/plain": [
       "<IPython.core.display.HTML object>"
      ]
     },
     "metadata": {},
     "output_type": "display_data"
    },
    {
     "data": {
      "text/html": [
       "Syncing run <strong><a href='https://wandb.ai/bs20b012/CS6910/runs/ts3pubz4' target=\"_blank\">usual-sweep-27</a></strong> to <a href='https://wandb.ai/bs20b012/CS6910' target=\"_blank\">Weights & Biases</a> (<a href='https://wandb.me/run' target=\"_blank\">docs</a>)<br/>Sweep page: <a href='https://wandb.ai/bs20b012/CS6910/sweeps/4c8n6myl' target=\"_blank\">https://wandb.ai/bs20b012/CS6910/sweeps/4c8n6myl</a>"
      ],
      "text/plain": [
       "<IPython.core.display.HTML object>"
      ]
     },
     "metadata": {},
     "output_type": "display_data"
    },
    {
     "data": {
      "text/html": [
       " View project at <a href='https://wandb.ai/bs20b012/CS6910' target=\"_blank\">https://wandb.ai/bs20b012/CS6910</a>"
      ],
      "text/plain": [
       "<IPython.core.display.HTML object>"
      ]
     },
     "metadata": {},
     "output_type": "display_data"
    },
    {
     "data": {
      "text/html": [
       " View sweep at <a href='https://wandb.ai/bs20b012/CS6910/sweeps/4c8n6myl' target=\"_blank\">https://wandb.ai/bs20b012/CS6910/sweeps/4c8n6myl</a>"
      ],
      "text/plain": [
       "<IPython.core.display.HTML object>"
      ]
     },
     "metadata": {},
     "output_type": "display_data"
    },
    {
     "data": {
      "text/html": [
       " View run at <a href='https://wandb.ai/bs20b012/CS6910/runs/ts3pubz4' target=\"_blank\">https://wandb.ai/bs20b012/CS6910/runs/ts3pubz4</a>"
      ],
      "text/plain": [
       "<IPython.core.display.HTML object>"
      ]
     },
     "metadata": {},
     "output_type": "display_data"
    },
    {
     "name": "stderr",
     "output_type": "stream",
     "text": [
      "100%|██████████████████████████████████████████████████████████████████████████████████| 10/10 [04:59<00:00, 29.93s/it]"
     ]
    },
    {
     "name": "stdout",
     "output_type": "stream",
     "text": [
      "Training Accuracy: 86.9074074074074\n",
      "Validation Accuracy: 85.33333333333334\n"
     ]
    },
    {
     "name": "stderr",
     "output_type": "stream",
     "text": [
      "\n"
     ]
    },
    {
     "data": {
      "text/html": [
       "Waiting for W&B process to finish... <strong style=\"color:green\">(success).</strong>"
      ],
      "text/plain": [
       "<IPython.core.display.HTML object>"
      ]
     },
     "metadata": {},
     "output_type": "display_data"
    },
    {
     "data": {
      "application/vnd.jupyter.widget-view+json": {
       "model_id": "49eb9b962cf4482685ce5adf8022e12f",
       "version_major": 2,
       "version_minor": 0
      },
      "text/plain": [
       "VBox(children=(Label(value='0.001 MB of 0.001 MB uploaded (0.000 MB deduped)\\r'), FloatProgress(value=1.0, max…"
      ]
     },
     "metadata": {},
     "output_type": "display_data"
    },
    {
     "data": {
      "text/html": [
       "<style>\n",
       "    table.wandb td:nth-child(1) { padding: 0 10px; text-align: left ; width: auto;} td:nth-child(2) {text-align: left ; width: 100%}\n",
       "    .wandb-row { display: flex; flex-direction: row; flex-wrap: wrap; justify-content: flex-start; width: 100% }\n",
       "    .wandb-col { display: flex; flex-direction: column; flex-basis: 100%; flex: 1; padding: 10px; }\n",
       "    </style>\n",
       "<div class=\"wandb-row\"><div class=\"wandb-col\"><h3>Run history:</h3><br/><table class=\"wandb\"><tr><td>Train_Accuracy</td><td>▁▄▅▆▆▇▇▇██</td></tr><tr><td>Train_Loss</td><td>█▅▄▃▃▂▂▁▁▁</td></tr><tr><td>Validation_Accuracy</td><td>▁▃▅▅▆▇▇▇▇█</td></tr><tr><td>Validation_loss</td><td>█▅▄▃▃▂▂▂▁▁</td></tr><tr><td>epoch</td><td>▁▂▃▃▄▅▆▆▇█</td></tr></table><br/></div><div class=\"wandb-col\"><h3>Run summary:</h3><br/><table class=\"wandb\"><tr><td>Train_Accuracy</td><td>86.90741</td></tr><tr><td>Train_Loss</td><td>0.37932</td></tr><tr><td>Validation_Accuracy</td><td>85.33333</td></tr><tr><td>Validation_loss</td><td>0.42067</td></tr><tr><td>epoch</td><td>9</td></tr></table><br/></div></div>"
      ],
      "text/plain": [
       "<IPython.core.display.HTML object>"
      ]
     },
     "metadata": {},
     "output_type": "display_data"
    },
    {
     "data": {
      "text/html": [
       " View run <strong style=\"color:#cdcd00\">usual-sweep-27</strong> at: <a href='https://wandb.ai/bs20b012/CS6910/runs/ts3pubz4' target=\"_blank\">https://wandb.ai/bs20b012/CS6910/runs/ts3pubz4</a><br/>Synced 6 W&B file(s), 0 media file(s), 0 artifact file(s) and 0 other file(s)"
      ],
      "text/plain": [
       "<IPython.core.display.HTML object>"
      ]
     },
     "metadata": {},
     "output_type": "display_data"
    },
    {
     "data": {
      "text/html": [
       "Find logs at: <code>.\\wandb\\run-20230320_174032-ts3pubz4\\logs</code>"
      ],
      "text/plain": [
       "<IPython.core.display.HTML object>"
      ]
     },
     "metadata": {},
     "output_type": "display_data"
    },
    {
     "name": "stderr",
     "output_type": "stream",
     "text": [
      "\u001b[34m\u001b[1mwandb\u001b[0m: Sweep Agent: Waiting for job.\n",
      "\u001b[34m\u001b[1mwandb\u001b[0m: Job received.\n",
      "\u001b[34m\u001b[1mwandb\u001b[0m: Agent Starting Run: 291z4oqu with config:\n",
      "\u001b[34m\u001b[1mwandb\u001b[0m: \tactivation_function: relu\n",
      "\u001b[34m\u001b[1mwandb\u001b[0m: \tinitialization_type: xavier\n",
      "\u001b[34m\u001b[1mwandb\u001b[0m: \tlambd: 0.5\n",
      "\u001b[34m\u001b[1mwandb\u001b[0m: \tlearning_rate: 0.0001\n",
      "\u001b[34m\u001b[1mwandb\u001b[0m: \tmax_epochs: 10\n",
      "\u001b[34m\u001b[1mwandb\u001b[0m: \tmini_batch_size: 64\n",
      "\u001b[34m\u001b[1mwandb\u001b[0m: \tnumber_hidden_layers: 4\n",
      "\u001b[34m\u001b[1mwandb\u001b[0m: \tnumber_neurons: 32\n",
      "\u001b[34m\u001b[1mwandb\u001b[0m: \toptimization_function: rmsprop\n"
     ]
    },
    {
     "data": {
      "text/html": [
       "Tracking run with wandb version 0.14.0"
      ],
      "text/plain": [
       "<IPython.core.display.HTML object>"
      ]
     },
     "metadata": {},
     "output_type": "display_data"
    },
    {
     "data": {
      "text/html": [
       "Run data is saved locally in <code>C:\\Users\\bones\\wandb\\run-20230320_174620-291z4oqu</code>"
      ],
      "text/plain": [
       "<IPython.core.display.HTML object>"
      ]
     },
     "metadata": {},
     "output_type": "display_data"
    },
    {
     "data": {
      "text/html": [
       "Syncing run <strong><a href='https://wandb.ai/bs20b012/CS6910/runs/291z4oqu' target=\"_blank\">drawn-sweep-28</a></strong> to <a href='https://wandb.ai/bs20b012/CS6910' target=\"_blank\">Weights & Biases</a> (<a href='https://wandb.me/run' target=\"_blank\">docs</a>)<br/>Sweep page: <a href='https://wandb.ai/bs20b012/CS6910/sweeps/4c8n6myl' target=\"_blank\">https://wandb.ai/bs20b012/CS6910/sweeps/4c8n6myl</a>"
      ],
      "text/plain": [
       "<IPython.core.display.HTML object>"
      ]
     },
     "metadata": {},
     "output_type": "display_data"
    },
    {
     "data": {
      "text/html": [
       " View project at <a href='https://wandb.ai/bs20b012/CS6910' target=\"_blank\">https://wandb.ai/bs20b012/CS6910</a>"
      ],
      "text/plain": [
       "<IPython.core.display.HTML object>"
      ]
     },
     "metadata": {},
     "output_type": "display_data"
    },
    {
     "data": {
      "text/html": [
       " View sweep at <a href='https://wandb.ai/bs20b012/CS6910/sweeps/4c8n6myl' target=\"_blank\">https://wandb.ai/bs20b012/CS6910/sweeps/4c8n6myl</a>"
      ],
      "text/plain": [
       "<IPython.core.display.HTML object>"
      ]
     },
     "metadata": {},
     "output_type": "display_data"
    },
    {
     "data": {
      "text/html": [
       " View run at <a href='https://wandb.ai/bs20b012/CS6910/runs/291z4oqu' target=\"_blank\">https://wandb.ai/bs20b012/CS6910/runs/291z4oqu</a>"
      ],
      "text/plain": [
       "<IPython.core.display.HTML object>"
      ]
     },
     "metadata": {},
     "output_type": "display_data"
    },
    {
     "name": "stderr",
     "output_type": "stream",
     "text": [
      "100%|██████████████████████████████████████████████████████████████████████████████████| 10/10 [03:57<00:00, 23.75s/it]"
     ]
    },
    {
     "name": "stdout",
     "output_type": "stream",
     "text": [
      "Training Accuracy: 10.048148148148147\n",
      "Validation Accuracy: 9.566666666666666\n"
     ]
    },
    {
     "name": "stderr",
     "output_type": "stream",
     "text": [
      "\n"
     ]
    },
    {
     "data": {
      "text/html": [
       "Waiting for W&B process to finish... <strong style=\"color:green\">(success).</strong>"
      ],
      "text/plain": [
       "<IPython.core.display.HTML object>"
      ]
     },
     "metadata": {},
     "output_type": "display_data"
    },
    {
     "data": {
      "text/html": [
       "<style>\n",
       "    table.wandb td:nth-child(1) { padding: 0 10px; text-align: left ; width: auto;} td:nth-child(2) {text-align: left ; width: 100%}\n",
       "    .wandb-row { display: flex; flex-direction: row; flex-wrap: wrap; justify-content: flex-start; width: 100% }\n",
       "    .wandb-col { display: flex; flex-direction: column; flex-basis: 100%; flex: 1; padding: 10px; }\n",
       "    </style>\n",
       "<div class=\"wandb-row\"><div class=\"wandb-col\"><h3>Run history:</h3><br/><table class=\"wandb\"><tr><td>Train_Accuracy</td><td>██████▁▁▁▁</td></tr><tr><td>Train_Loss</td><td>▁▂▃▆█     </td></tr><tr><td>Validation_Accuracy</td><td>██████▁▁▁▁</td></tr><tr><td>Validation_loss</td><td>▁▂▃▄▆█    </td></tr><tr><td>epoch</td><td>▁▂▃▃▄▅▆▆▇█</td></tr></table><br/></div><div class=\"wandb-col\"><h3>Run summary:</h3><br/><table class=\"wandb\"><tr><td>Train_Accuracy</td><td>10.04815</td></tr><tr><td>Train_Loss</td><td>nan</td></tr><tr><td>Validation_Accuracy</td><td>9.56667</td></tr><tr><td>Validation_loss</td><td>nan</td></tr><tr><td>epoch</td><td>9</td></tr></table><br/></div></div>"
      ],
      "text/plain": [
       "<IPython.core.display.HTML object>"
      ]
     },
     "metadata": {},
     "output_type": "display_data"
    },
    {
     "data": {
      "text/html": [
       " View run <strong style=\"color:#cdcd00\">drawn-sweep-28</strong> at: <a href='https://wandb.ai/bs20b012/CS6910/runs/291z4oqu' target=\"_blank\">https://wandb.ai/bs20b012/CS6910/runs/291z4oqu</a><br/>Synced 6 W&B file(s), 0 media file(s), 0 artifact file(s) and 0 other file(s)"
      ],
      "text/plain": [
       "<IPython.core.display.HTML object>"
      ]
     },
     "metadata": {},
     "output_type": "display_data"
    },
    {
     "data": {
      "text/html": [
       "Find logs at: <code>.\\wandb\\run-20230320_174620-291z4oqu\\logs</code>"
      ],
      "text/plain": [
       "<IPython.core.display.HTML object>"
      ]
     },
     "metadata": {},
     "output_type": "display_data"
    },
    {
     "name": "stderr",
     "output_type": "stream",
     "text": [
      "\u001b[34m\u001b[1mwandb\u001b[0m: Agent Starting Run: w5b5g89q with config:\n",
      "\u001b[34m\u001b[1mwandb\u001b[0m: \tactivation_function: tanh\n",
      "\u001b[34m\u001b[1mwandb\u001b[0m: \tinitialization_type: xavier\n",
      "\u001b[34m\u001b[1mwandb\u001b[0m: \tlambd: 0\n",
      "\u001b[34m\u001b[1mwandb\u001b[0m: \tlearning_rate: 0.0001\n",
      "\u001b[34m\u001b[1mwandb\u001b[0m: \tmax_epochs: 5\n",
      "\u001b[34m\u001b[1mwandb\u001b[0m: \tmini_batch_size: 64\n",
      "\u001b[34m\u001b[1mwandb\u001b[0m: \tnumber_hidden_layers: 4\n",
      "\u001b[34m\u001b[1mwandb\u001b[0m: \tnumber_neurons: 128\n",
      "\u001b[34m\u001b[1mwandb\u001b[0m: \toptimization_function: nadam\n"
     ]
    },
    {
     "data": {
      "text/html": [
       "Tracking run with wandb version 0.14.0"
      ],
      "text/plain": [
       "<IPython.core.display.HTML object>"
      ]
     },
     "metadata": {},
     "output_type": "display_data"
    },
    {
     "data": {
      "text/html": [
       "Run data is saved locally in <code>C:\\Users\\bones\\wandb\\run-20230320_175042-w5b5g89q</code>"
      ],
      "text/plain": [
       "<IPython.core.display.HTML object>"
      ]
     },
     "metadata": {},
     "output_type": "display_data"
    },
    {
     "data": {
      "text/html": [
       "Syncing run <strong><a href='https://wandb.ai/bs20b012/CS6910/runs/w5b5g89q' target=\"_blank\">vibrant-sweep-29</a></strong> to <a href='https://wandb.ai/bs20b012/CS6910' target=\"_blank\">Weights & Biases</a> (<a href='https://wandb.me/run' target=\"_blank\">docs</a>)<br/>Sweep page: <a href='https://wandb.ai/bs20b012/CS6910/sweeps/4c8n6myl' target=\"_blank\">https://wandb.ai/bs20b012/CS6910/sweeps/4c8n6myl</a>"
      ],
      "text/plain": [
       "<IPython.core.display.HTML object>"
      ]
     },
     "metadata": {},
     "output_type": "display_data"
    },
    {
     "data": {
      "text/html": [
       " View project at <a href='https://wandb.ai/bs20b012/CS6910' target=\"_blank\">https://wandb.ai/bs20b012/CS6910</a>"
      ],
      "text/plain": [
       "<IPython.core.display.HTML object>"
      ]
     },
     "metadata": {},
     "output_type": "display_data"
    },
    {
     "data": {
      "text/html": [
       " View sweep at <a href='https://wandb.ai/bs20b012/CS6910/sweeps/4c8n6myl' target=\"_blank\">https://wandb.ai/bs20b012/CS6910/sweeps/4c8n6myl</a>"
      ],
      "text/plain": [
       "<IPython.core.display.HTML object>"
      ]
     },
     "metadata": {},
     "output_type": "display_data"
    },
    {
     "data": {
      "text/html": [
       " View run at <a href='https://wandb.ai/bs20b012/CS6910/runs/w5b5g89q' target=\"_blank\">https://wandb.ai/bs20b012/CS6910/runs/w5b5g89q</a>"
      ],
      "text/plain": [
       "<IPython.core.display.HTML object>"
      ]
     },
     "metadata": {},
     "output_type": "display_data"
    },
    {
     "name": "stderr",
     "output_type": "stream",
     "text": [
      "100%|████████████████████████████████████████████████████████████████████████████████████| 5/5 [06:50<00:00, 82.05s/it]"
     ]
    },
    {
     "name": "stdout",
     "output_type": "stream",
     "text": [
      "Training Accuracy: 88.87592592592593\n",
      "Validation Accuracy: 86.53333333333333\n"
     ]
    },
    {
     "name": "stderr",
     "output_type": "stream",
     "text": [
      "\n"
     ]
    },
    {
     "data": {
      "text/html": [
       "Waiting for W&B process to finish... <strong style=\"color:green\">(success).</strong>"
      ],
      "text/plain": [
       "<IPython.core.display.HTML object>"
      ]
     },
     "metadata": {},
     "output_type": "display_data"
    },
    {
     "data": {
      "text/html": [
       "<style>\n",
       "    table.wandb td:nth-child(1) { padding: 0 10px; text-align: left ; width: auto;} td:nth-child(2) {text-align: left ; width: 100%}\n",
       "    .wandb-row { display: flex; flex-direction: row; flex-wrap: wrap; justify-content: flex-start; width: 100% }\n",
       "    .wandb-col { display: flex; flex-direction: column; flex-basis: 100%; flex: 1; padding: 10px; }\n",
       "    </style>\n",
       "<div class=\"wandb-row\"><div class=\"wandb-col\"><h3>Run history:</h3><br/><table class=\"wandb\"><tr><td>Train_Accuracy</td><td>▁▆▇██</td></tr><tr><td>Train_Loss</td><td>█▃▂▁▁</td></tr><tr><td>Validation_Accuracy</td><td>▁▇███</td></tr><tr><td>Validation_loss</td><td>█▃▁▁▁</td></tr><tr><td>epoch</td><td>▁▃▅▆█</td></tr></table><br/></div><div class=\"wandb-col\"><h3>Run summary:</h3><br/><table class=\"wandb\"><tr><td>Train_Accuracy</td><td>88.87593</td></tr><tr><td>Train_Loss</td><td>0.32508</td></tr><tr><td>Validation_Accuracy</td><td>86.53333</td></tr><tr><td>Validation_loss</td><td>0.3876</td></tr><tr><td>epoch</td><td>4</td></tr></table><br/></div></div>"
      ],
      "text/plain": [
       "<IPython.core.display.HTML object>"
      ]
     },
     "metadata": {},
     "output_type": "display_data"
    },
    {
     "data": {
      "text/html": [
       " View run <strong style=\"color:#cdcd00\">vibrant-sweep-29</strong> at: <a href='https://wandb.ai/bs20b012/CS6910/runs/w5b5g89q' target=\"_blank\">https://wandb.ai/bs20b012/CS6910/runs/w5b5g89q</a><br/>Synced 6 W&B file(s), 0 media file(s), 0 artifact file(s) and 0 other file(s)"
      ],
      "text/plain": [
       "<IPython.core.display.HTML object>"
      ]
     },
     "metadata": {},
     "output_type": "display_data"
    },
    {
     "data": {
      "text/html": [
       "Find logs at: <code>.\\wandb\\run-20230320_175042-w5b5g89q\\logs</code>"
      ],
      "text/plain": [
       "<IPython.core.display.HTML object>"
      ]
     },
     "metadata": {},
     "output_type": "display_data"
    },
    {
     "name": "stderr",
     "output_type": "stream",
     "text": [
      "\u001b[34m\u001b[1mwandb\u001b[0m: Agent Starting Run: 0x7sn5ho with config:\n",
      "\u001b[34m\u001b[1mwandb\u001b[0m: \tactivation_function: tanh\n",
      "\u001b[34m\u001b[1mwandb\u001b[0m: \tinitialization_type: xavier\n",
      "\u001b[34m\u001b[1mwandb\u001b[0m: \tlambd: 0.0005\n",
      "\u001b[34m\u001b[1mwandb\u001b[0m: \tlearning_rate: 0.0001\n",
      "\u001b[34m\u001b[1mwandb\u001b[0m: \tmax_epochs: 10\n",
      "\u001b[34m\u001b[1mwandb\u001b[0m: \tmini_batch_size: 64\n",
      "\u001b[34m\u001b[1mwandb\u001b[0m: \tnumber_hidden_layers: 4\n",
      "\u001b[34m\u001b[1mwandb\u001b[0m: \tnumber_neurons: 128\n",
      "\u001b[34m\u001b[1mwandb\u001b[0m: \toptimization_function: adam\n"
     ]
    },
    {
     "data": {
      "text/html": [
       "Tracking run with wandb version 0.14.0"
      ],
      "text/plain": [
       "<IPython.core.display.HTML object>"
      ]
     },
     "metadata": {},
     "output_type": "display_data"
    },
    {
     "data": {
      "text/html": [
       "Run data is saved locally in <code>C:\\Users\\bones\\wandb\\run-20230320_175814-0x7sn5ho</code>"
      ],
      "text/plain": [
       "<IPython.core.display.HTML object>"
      ]
     },
     "metadata": {},
     "output_type": "display_data"
    },
    {
     "data": {
      "text/html": [
       "Syncing run <strong><a href='https://wandb.ai/bs20b012/CS6910/runs/0x7sn5ho' target=\"_blank\">brisk-sweep-30</a></strong> to <a href='https://wandb.ai/bs20b012/CS6910' target=\"_blank\">Weights & Biases</a> (<a href='https://wandb.me/run' target=\"_blank\">docs</a>)<br/>Sweep page: <a href='https://wandb.ai/bs20b012/CS6910/sweeps/4c8n6myl' target=\"_blank\">https://wandb.ai/bs20b012/CS6910/sweeps/4c8n6myl</a>"
      ],
      "text/plain": [
       "<IPython.core.display.HTML object>"
      ]
     },
     "metadata": {},
     "output_type": "display_data"
    },
    {
     "data": {
      "text/html": [
       " View project at <a href='https://wandb.ai/bs20b012/CS6910' target=\"_blank\">https://wandb.ai/bs20b012/CS6910</a>"
      ],
      "text/plain": [
       "<IPython.core.display.HTML object>"
      ]
     },
     "metadata": {},
     "output_type": "display_data"
    },
    {
     "data": {
      "text/html": [
       " View sweep at <a href='https://wandb.ai/bs20b012/CS6910/sweeps/4c8n6myl' target=\"_blank\">https://wandb.ai/bs20b012/CS6910/sweeps/4c8n6myl</a>"
      ],
      "text/plain": [
       "<IPython.core.display.HTML object>"
      ]
     },
     "metadata": {},
     "output_type": "display_data"
    },
    {
     "data": {
      "text/html": [
       " View run at <a href='https://wandb.ai/bs20b012/CS6910/runs/0x7sn5ho' target=\"_blank\">https://wandb.ai/bs20b012/CS6910/runs/0x7sn5ho</a>"
      ],
      "text/plain": [
       "<IPython.core.display.HTML object>"
      ]
     },
     "metadata": {},
     "output_type": "display_data"
    },
    {
     "name": "stderr",
     "output_type": "stream",
     "text": [
      "100%|██████████████████████████████████████████████████████████████████████████████████| 10/10 [13:00<00:00, 78.02s/it]"
     ]
    },
    {
     "name": "stdout",
     "output_type": "stream",
     "text": [
      "Training Accuracy: 88.1111111111111\n",
      "Validation Accuracy: 86.58333333333333\n"
     ]
    },
    {
     "name": "stderr",
     "output_type": "stream",
     "text": [
      "\n"
     ]
    },
    {
     "data": {
      "text/html": [
       "Waiting for W&B process to finish... <strong style=\"color:green\">(success).</strong>"
      ],
      "text/plain": [
       "<IPython.core.display.HTML object>"
      ]
     },
     "metadata": {},
     "output_type": "display_data"
    },
    {
     "data": {
      "text/html": [
       "<style>\n",
       "    table.wandb td:nth-child(1) { padding: 0 10px; text-align: left ; width: auto;} td:nth-child(2) {text-align: left ; width: 100%}\n",
       "    .wandb-row { display: flex; flex-direction: row; flex-wrap: wrap; justify-content: flex-start; width: 100% }\n",
       "    .wandb-col { display: flex; flex-direction: column; flex-basis: 100%; flex: 1; padding: 10px; }\n",
       "    </style>\n",
       "<div class=\"wandb-row\"><div class=\"wandb-col\"><h3>Run history:</h3><br/><table class=\"wandb\"><tr><td>Train_Accuracy</td><td>▁▄▅▆▇▇▇███</td></tr><tr><td>Train_Loss</td><td>█▅▄▃▂▂▂▁▁▁</td></tr><tr><td>Validation_Accuracy</td><td>▁▄▆▇▇▇████</td></tr><tr><td>Validation_loss</td><td>█▅▃▂▂▁▁▁▁▁</td></tr><tr><td>epoch</td><td>▁▂▃▃▄▅▆▆▇█</td></tr></table><br/></div><div class=\"wandb-col\"><h3>Run summary:</h3><br/><table class=\"wandb\"><tr><td>Train_Accuracy</td><td>88.11111</td></tr><tr><td>Train_Loss</td><td>0.33844</td></tr><tr><td>Validation_Accuracy</td><td>86.58333</td></tr><tr><td>Validation_loss</td><td>0.38208</td></tr><tr><td>epoch</td><td>9</td></tr></table><br/></div></div>"
      ],
      "text/plain": [
       "<IPython.core.display.HTML object>"
      ]
     },
     "metadata": {},
     "output_type": "display_data"
    },
    {
     "data": {
      "text/html": [
       " View run <strong style=\"color:#cdcd00\">brisk-sweep-30</strong> at: <a href='https://wandb.ai/bs20b012/CS6910/runs/0x7sn5ho' target=\"_blank\">https://wandb.ai/bs20b012/CS6910/runs/0x7sn5ho</a><br/>Synced 6 W&B file(s), 0 media file(s), 0 artifact file(s) and 0 other file(s)"
      ],
      "text/plain": [
       "<IPython.core.display.HTML object>"
      ]
     },
     "metadata": {},
     "output_type": "display_data"
    },
    {
     "data": {
      "text/html": [
       "Find logs at: <code>.\\wandb\\run-20230320_175814-0x7sn5ho\\logs</code>"
      ],
      "text/plain": [
       "<IPython.core.display.HTML object>"
      ]
     },
     "metadata": {},
     "output_type": "display_data"
    },
    {
     "name": "stderr",
     "output_type": "stream",
     "text": [
      "\u001b[34m\u001b[1mwandb\u001b[0m: Sweep Agent: Waiting for job.\n",
      "\u001b[34m\u001b[1mwandb\u001b[0m: Job received.\n",
      "\u001b[34m\u001b[1mwandb\u001b[0m: Agent Starting Run: 3a5zb9gr with config:\n",
      "\u001b[34m\u001b[1mwandb\u001b[0m: \tactivation_function: tanh\n",
      "\u001b[34m\u001b[1mwandb\u001b[0m: \tinitialization_type: random\n",
      "\u001b[34m\u001b[1mwandb\u001b[0m: \tlambd: 0\n",
      "\u001b[34m\u001b[1mwandb\u001b[0m: \tlearning_rate: 0.0001\n",
      "\u001b[34m\u001b[1mwandb\u001b[0m: \tmax_epochs: 10\n",
      "\u001b[34m\u001b[1mwandb\u001b[0m: \tmini_batch_size: 64\n",
      "\u001b[34m\u001b[1mwandb\u001b[0m: \tnumber_hidden_layers: 4\n",
      "\u001b[34m\u001b[1mwandb\u001b[0m: \tnumber_neurons: 128\n",
      "\u001b[34m\u001b[1mwandb\u001b[0m: \toptimization_function: momentum_gd\n"
     ]
    },
    {
     "data": {
      "text/html": [
       "Tracking run with wandb version 0.14.0"
      ],
      "text/plain": [
       "<IPython.core.display.HTML object>"
      ]
     },
     "metadata": {},
     "output_type": "display_data"
    },
    {
     "data": {
      "text/html": [
       "Run data is saved locally in <code>C:\\Users\\bones\\wandb\\run-20230320_181202-3a5zb9gr</code>"
      ],
      "text/plain": [
       "<IPython.core.display.HTML object>"
      ]
     },
     "metadata": {},
     "output_type": "display_data"
    },
    {
     "data": {
      "text/html": [
       "Syncing run <strong><a href='https://wandb.ai/bs20b012/CS6910/runs/3a5zb9gr' target=\"_blank\">usual-sweep-31</a></strong> to <a href='https://wandb.ai/bs20b012/CS6910' target=\"_blank\">Weights & Biases</a> (<a href='https://wandb.me/run' target=\"_blank\">docs</a>)<br/>Sweep page: <a href='https://wandb.ai/bs20b012/CS6910/sweeps/4c8n6myl' target=\"_blank\">https://wandb.ai/bs20b012/CS6910/sweeps/4c8n6myl</a>"
      ],
      "text/plain": [
       "<IPython.core.display.HTML object>"
      ]
     },
     "metadata": {},
     "output_type": "display_data"
    },
    {
     "data": {
      "text/html": [
       " View project at <a href='https://wandb.ai/bs20b012/CS6910' target=\"_blank\">https://wandb.ai/bs20b012/CS6910</a>"
      ],
      "text/plain": [
       "<IPython.core.display.HTML object>"
      ]
     },
     "metadata": {},
     "output_type": "display_data"
    },
    {
     "data": {
      "text/html": [
       " View sweep at <a href='https://wandb.ai/bs20b012/CS6910/sweeps/4c8n6myl' target=\"_blank\">https://wandb.ai/bs20b012/CS6910/sweeps/4c8n6myl</a>"
      ],
      "text/plain": [
       "<IPython.core.display.HTML object>"
      ]
     },
     "metadata": {},
     "output_type": "display_data"
    },
    {
     "data": {
      "text/html": [
       " View run at <a href='https://wandb.ai/bs20b012/CS6910/runs/3a5zb9gr' target=\"_blank\">https://wandb.ai/bs20b012/CS6910/runs/3a5zb9gr</a>"
      ],
      "text/plain": [
       "<IPython.core.display.HTML object>"
      ]
     },
     "metadata": {},
     "output_type": "display_data"
    },
    {
     "name": "stderr",
     "output_type": "stream",
     "text": [
      "100%|██████████████████████████████████████████████████████████████████████████████████| 10/10 [10:32<00:00, 63.22s/it]"
     ]
    },
    {
     "name": "stdout",
     "output_type": "stream",
     "text": [
      "Training Accuracy: 10.05\n",
      "Validation Accuracy: 9.55\n"
     ]
    },
    {
     "name": "stderr",
     "output_type": "stream",
     "text": [
      "\n"
     ]
    },
    {
     "data": {
      "text/html": [
       "Waiting for W&B process to finish... <strong style=\"color:green\">(success).</strong>"
      ],
      "text/plain": [
       "<IPython.core.display.HTML object>"
      ]
     },
     "metadata": {},
     "output_type": "display_data"
    },
    {
     "data": {
      "application/vnd.jupyter.widget-view+json": {
       "model_id": "affa65e38728471187a69d67b2aa3fa5",
       "version_major": 2,
       "version_minor": 0
      },
      "text/plain": [
       "VBox(children=(Label(value='0.001 MB of 0.001 MB uploaded (0.000 MB deduped)\\r'), FloatProgress(value=1.0, max…"
      ]
     },
     "metadata": {},
     "output_type": "display_data"
    },
    {
     "data": {
      "text/html": [
       "<style>\n",
       "    table.wandb td:nth-child(1) { padding: 0 10px; text-align: left ; width: auto;} td:nth-child(2) {text-align: left ; width: 100%}\n",
       "    .wandb-row { display: flex; flex-direction: row; flex-wrap: wrap; justify-content: flex-start; width: 100% }\n",
       "    .wandb-col { display: flex; flex-direction: column; flex-basis: 100%; flex: 1; padding: 10px; }\n",
       "    </style>\n",
       "<div class=\"wandb-row\"><div class=\"wandb-col\"><h3>Run history:</h3><br/><table class=\"wandb\"><tr><td>Train_Accuracy</td><td>▁█████████</td></tr><tr><td>Train_Loss</td><td>█▇▆▆▅▅▄▃▂▁</td></tr><tr><td>Validation_Accuracy</td><td>█▁▁▁▁▁▁▁▁▁</td></tr><tr><td>Validation_loss</td><td>▁▆██▇▆▅▄▃▁</td></tr><tr><td>epoch</td><td>▁▂▃▃▄▅▆▆▇█</td></tr></table><br/></div><div class=\"wandb-col\"><h3>Run summary:</h3><br/><table class=\"wandb\"><tr><td>Train_Accuracy</td><td>10.05</td></tr><tr><td>Train_Loss</td><td>2.30253</td></tr><tr><td>Validation_Accuracy</td><td>9.55</td></tr><tr><td>Validation_loss</td><td>2.30268</td></tr><tr><td>epoch</td><td>9</td></tr></table><br/></div></div>"
      ],
      "text/plain": [
       "<IPython.core.display.HTML object>"
      ]
     },
     "metadata": {},
     "output_type": "display_data"
    },
    {
     "data": {
      "text/html": [
       " View run <strong style=\"color:#cdcd00\">usual-sweep-31</strong> at: <a href='https://wandb.ai/bs20b012/CS6910/runs/3a5zb9gr' target=\"_blank\">https://wandb.ai/bs20b012/CS6910/runs/3a5zb9gr</a><br/>Synced 6 W&B file(s), 0 media file(s), 0 artifact file(s) and 0 other file(s)"
      ],
      "text/plain": [
       "<IPython.core.display.HTML object>"
      ]
     },
     "metadata": {},
     "output_type": "display_data"
    },
    {
     "data": {
      "text/html": [
       "Find logs at: <code>.\\wandb\\run-20230320_181202-3a5zb9gr\\logs</code>"
      ],
      "text/plain": [
       "<IPython.core.display.HTML object>"
      ]
     },
     "metadata": {},
     "output_type": "display_data"
    },
    {
     "name": "stderr",
     "output_type": "stream",
     "text": [
      "\u001b[34m\u001b[1mwandb\u001b[0m: Agent Starting Run: rug5ue3k with config:\n",
      "\u001b[34m\u001b[1mwandb\u001b[0m: \tactivation_function: relu\n",
      "\u001b[34m\u001b[1mwandb\u001b[0m: \tinitialization_type: random\n",
      "\u001b[34m\u001b[1mwandb\u001b[0m: \tlambd: 0.5\n",
      "\u001b[34m\u001b[1mwandb\u001b[0m: \tlearning_rate: 0.0001\n",
      "\u001b[34m\u001b[1mwandb\u001b[0m: \tmax_epochs: 10\n",
      "\u001b[34m\u001b[1mwandb\u001b[0m: \tmini_batch_size: 64\n",
      "\u001b[34m\u001b[1mwandb\u001b[0m: \tnumber_hidden_layers: 4\n",
      "\u001b[34m\u001b[1mwandb\u001b[0m: \tnumber_neurons: 64\n",
      "\u001b[34m\u001b[1mwandb\u001b[0m: \toptimization_function: nadam\n"
     ]
    },
    {
     "data": {
      "text/html": [
       "Tracking run with wandb version 0.14.0"
      ],
      "text/plain": [
       "<IPython.core.display.HTML object>"
      ]
     },
     "metadata": {},
     "output_type": "display_data"
    },
    {
     "data": {
      "text/html": [
       "Run data is saved locally in <code>C:\\Users\\bones\\wandb\\run-20230320_182312-rug5ue3k</code>"
      ],
      "text/plain": [
       "<IPython.core.display.HTML object>"
      ]
     },
     "metadata": {},
     "output_type": "display_data"
    },
    {
     "data": {
      "text/html": [
       "Syncing run <strong><a href='https://wandb.ai/bs20b012/CS6910/runs/rug5ue3k' target=\"_blank\">unique-sweep-32</a></strong> to <a href='https://wandb.ai/bs20b012/CS6910' target=\"_blank\">Weights & Biases</a> (<a href='https://wandb.me/run' target=\"_blank\">docs</a>)<br/>Sweep page: <a href='https://wandb.ai/bs20b012/CS6910/sweeps/4c8n6myl' target=\"_blank\">https://wandb.ai/bs20b012/CS6910/sweeps/4c8n6myl</a>"
      ],
      "text/plain": [
       "<IPython.core.display.HTML object>"
      ]
     },
     "metadata": {},
     "output_type": "display_data"
    },
    {
     "data": {
      "text/html": [
       " View project at <a href='https://wandb.ai/bs20b012/CS6910' target=\"_blank\">https://wandb.ai/bs20b012/CS6910</a>"
      ],
      "text/plain": [
       "<IPython.core.display.HTML object>"
      ]
     },
     "metadata": {},
     "output_type": "display_data"
    },
    {
     "data": {
      "text/html": [
       " View sweep at <a href='https://wandb.ai/bs20b012/CS6910/sweeps/4c8n6myl' target=\"_blank\">https://wandb.ai/bs20b012/CS6910/sweeps/4c8n6myl</a>"
      ],
      "text/plain": [
       "<IPython.core.display.HTML object>"
      ]
     },
     "metadata": {},
     "output_type": "display_data"
    },
    {
     "data": {
      "text/html": [
       " View run at <a href='https://wandb.ai/bs20b012/CS6910/runs/rug5ue3k' target=\"_blank\">https://wandb.ai/bs20b012/CS6910/runs/rug5ue3k</a>"
      ],
      "text/plain": [
       "<IPython.core.display.HTML object>"
      ]
     },
     "metadata": {},
     "output_type": "display_data"
    },
    {
     "name": "stderr",
     "output_type": "stream",
     "text": [
      "100%|██████████████████████████████████████████████████████████████████████████████████| 10/10 [04:24<00:00, 26.47s/it]"
     ]
    },
    {
     "name": "stdout",
     "output_type": "stream",
     "text": [
      "Training Accuracy: 82.30555555555556\n",
      "Validation Accuracy: 82.53333333333333\n"
     ]
    },
    {
     "name": "stderr",
     "output_type": "stream",
     "text": [
      "\n"
     ]
    },
    {
     "data": {
      "text/html": [
       "Waiting for W&B process to finish... <strong style=\"color:green\">(success).</strong>"
      ],
      "text/plain": [
       "<IPython.core.display.HTML object>"
      ]
     },
     "metadata": {},
     "output_type": "display_data"
    },
    {
     "data": {
      "text/html": [
       "<style>\n",
       "    table.wandb td:nth-child(1) { padding: 0 10px; text-align: left ; width: auto;} td:nth-child(2) {text-align: left ; width: 100%}\n",
       "    .wandb-row { display: flex; flex-direction: row; flex-wrap: wrap; justify-content: flex-start; width: 100% }\n",
       "    .wandb-col { display: flex; flex-direction: column; flex-basis: 100%; flex: 1; padding: 10px; }\n",
       "    </style>\n",
       "<div class=\"wandb-row\"><div class=\"wandb-col\"><h3>Run history:</h3><br/><table class=\"wandb\"><tr><td>Train_Accuracy</td><td>▁▅▆▇▇█████</td></tr><tr><td>Train_Loss</td><td>▁▄▅▆▇▇▇███</td></tr><tr><td>Validation_Accuracy</td><td>▁▅▆▇▇█████</td></tr><tr><td>Validation_loss</td><td>▁▄▅▆▇▇▇███</td></tr><tr><td>epoch</td><td>▁▂▃▃▄▅▆▆▇█</td></tr></table><br/></div><div class=\"wandb-col\"><h3>Run summary:</h3><br/><table class=\"wandb\"><tr><td>Train_Accuracy</td><td>82.30556</td></tr><tr><td>Train_Loss</td><td>14.08508</td></tr><tr><td>Validation_Accuracy</td><td>82.53333</td></tr><tr><td>Validation_loss</td><td>122.18673</td></tr><tr><td>epoch</td><td>9</td></tr></table><br/></div></div>"
      ],
      "text/plain": [
       "<IPython.core.display.HTML object>"
      ]
     },
     "metadata": {},
     "output_type": "display_data"
    },
    {
     "data": {
      "text/html": [
       " View run <strong style=\"color:#cdcd00\">unique-sweep-32</strong> at: <a href='https://wandb.ai/bs20b012/CS6910/runs/rug5ue3k' target=\"_blank\">https://wandb.ai/bs20b012/CS6910/runs/rug5ue3k</a><br/>Synced 6 W&B file(s), 0 media file(s), 0 artifact file(s) and 0 other file(s)"
      ],
      "text/plain": [
       "<IPython.core.display.HTML object>"
      ]
     },
     "metadata": {},
     "output_type": "display_data"
    },
    {
     "data": {
      "text/html": [
       "Find logs at: <code>.\\wandb\\run-20230320_182312-rug5ue3k\\logs</code>"
      ],
      "text/plain": [
       "<IPython.core.display.HTML object>"
      ]
     },
     "metadata": {},
     "output_type": "display_data"
    },
    {
     "name": "stderr",
     "output_type": "stream",
     "text": [
      "\u001b[34m\u001b[1mwandb\u001b[0m: Agent Starting Run: y7as38vc with config:\n",
      "\u001b[34m\u001b[1mwandb\u001b[0m: \tactivation_function: tanh\n",
      "\u001b[34m\u001b[1mwandb\u001b[0m: \tinitialization_type: xavier\n",
      "\u001b[34m\u001b[1mwandb\u001b[0m: \tlambd: 0.0005\n",
      "\u001b[34m\u001b[1mwandb\u001b[0m: \tlearning_rate: 0.0001\n",
      "\u001b[34m\u001b[1mwandb\u001b[0m: \tmax_epochs: 10\n",
      "\u001b[34m\u001b[1mwandb\u001b[0m: \tmini_batch_size: 64\n",
      "\u001b[34m\u001b[1mwandb\u001b[0m: \tnumber_hidden_layers: 5\n",
      "\u001b[34m\u001b[1mwandb\u001b[0m: \tnumber_neurons: 64\n",
      "\u001b[34m\u001b[1mwandb\u001b[0m: \toptimization_function: nadam\n"
     ]
    },
    {
     "data": {
      "text/html": [
       "Tracking run with wandb version 0.14.0"
      ],
      "text/plain": [
       "<IPython.core.display.HTML object>"
      ]
     },
     "metadata": {},
     "output_type": "display_data"
    },
    {
     "data": {
      "text/html": [
       "Run data is saved locally in <code>C:\\Users\\bones\\wandb\\run-20230320_182755-y7as38vc</code>"
      ],
      "text/plain": [
       "<IPython.core.display.HTML object>"
      ]
     },
     "metadata": {},
     "output_type": "display_data"
    },
    {
     "data": {
      "text/html": [
       "Syncing run <strong><a href='https://wandb.ai/bs20b012/CS6910/runs/y7as38vc' target=\"_blank\">kind-sweep-33</a></strong> to <a href='https://wandb.ai/bs20b012/CS6910' target=\"_blank\">Weights & Biases</a> (<a href='https://wandb.me/run' target=\"_blank\">docs</a>)<br/>Sweep page: <a href='https://wandb.ai/bs20b012/CS6910/sweeps/4c8n6myl' target=\"_blank\">https://wandb.ai/bs20b012/CS6910/sweeps/4c8n6myl</a>"
      ],
      "text/plain": [
       "<IPython.core.display.HTML object>"
      ]
     },
     "metadata": {},
     "output_type": "display_data"
    },
    {
     "data": {
      "text/html": [
       " View project at <a href='https://wandb.ai/bs20b012/CS6910' target=\"_blank\">https://wandb.ai/bs20b012/CS6910</a>"
      ],
      "text/plain": [
       "<IPython.core.display.HTML object>"
      ]
     },
     "metadata": {},
     "output_type": "display_data"
    },
    {
     "data": {
      "text/html": [
       " View sweep at <a href='https://wandb.ai/bs20b012/CS6910/sweeps/4c8n6myl' target=\"_blank\">https://wandb.ai/bs20b012/CS6910/sweeps/4c8n6myl</a>"
      ],
      "text/plain": [
       "<IPython.core.display.HTML object>"
      ]
     },
     "metadata": {},
     "output_type": "display_data"
    },
    {
     "data": {
      "text/html": [
       " View run at <a href='https://wandb.ai/bs20b012/CS6910/runs/y7as38vc' target=\"_blank\">https://wandb.ai/bs20b012/CS6910/runs/y7as38vc</a>"
      ],
      "text/plain": [
       "<IPython.core.display.HTML object>"
      ]
     },
     "metadata": {},
     "output_type": "display_data"
    },
    {
     "name": "stderr",
     "output_type": "stream",
     "text": [
      "100%|██████████████████████████████████████████████████████████████████████████████████| 10/10 [04:31<00:00, 27.19s/it]"
     ]
    },
    {
     "name": "stdout",
     "output_type": "stream",
     "text": [
      "Training Accuracy: 88.28148148148148\n",
      "Validation Accuracy: 86.76666666666667\n"
     ]
    },
    {
     "name": "stderr",
     "output_type": "stream",
     "text": [
      "\n"
     ]
    },
    {
     "data": {
      "text/html": [
       "Waiting for W&B process to finish... <strong style=\"color:green\">(success).</strong>"
      ],
      "text/plain": [
       "<IPython.core.display.HTML object>"
      ]
     },
     "metadata": {},
     "output_type": "display_data"
    },
    {
     "data": {
      "text/html": [
       "<style>\n",
       "    table.wandb td:nth-child(1) { padding: 0 10px; text-align: left ; width: auto;} td:nth-child(2) {text-align: left ; width: 100%}\n",
       "    .wandb-row { display: flex; flex-direction: row; flex-wrap: wrap; justify-content: flex-start; width: 100% }\n",
       "    .wandb-col { display: flex; flex-direction: column; flex-basis: 100%; flex: 1; padding: 10px; }\n",
       "    </style>\n",
       "<div class=\"wandb-row\"><div class=\"wandb-col\"><h3>Run history:</h3><br/><table class=\"wandb\"><tr><td>Train_Accuracy</td><td>▁▆▆▇▇█████</td></tr><tr><td>Train_Loss</td><td>█▄▃▂▂▂▁▁▁▁</td></tr><tr><td>Validation_Accuracy</td><td>▁▅▇▇▇█████</td></tr><tr><td>Validation_loss</td><td>█▃▃▂▂▁▁▁▁▁</td></tr><tr><td>epoch</td><td>▁▂▃▃▄▅▆▆▇█</td></tr></table><br/></div><div class=\"wandb-col\"><h3>Run summary:</h3><br/><table class=\"wandb\"><tr><td>Train_Accuracy</td><td>88.28148</td></tr><tr><td>Train_Loss</td><td>0.33772</td></tr><tr><td>Validation_Accuracy</td><td>86.76667</td></tr><tr><td>Validation_loss</td><td>0.396</td></tr><tr><td>epoch</td><td>9</td></tr></table><br/></div></div>"
      ],
      "text/plain": [
       "<IPython.core.display.HTML object>"
      ]
     },
     "metadata": {},
     "output_type": "display_data"
    },
    {
     "data": {
      "text/html": [
       " View run <strong style=\"color:#cdcd00\">kind-sweep-33</strong> at: <a href='https://wandb.ai/bs20b012/CS6910/runs/y7as38vc' target=\"_blank\">https://wandb.ai/bs20b012/CS6910/runs/y7as38vc</a><br/>Synced 6 W&B file(s), 0 media file(s), 0 artifact file(s) and 0 other file(s)"
      ],
      "text/plain": [
       "<IPython.core.display.HTML object>"
      ]
     },
     "metadata": {},
     "output_type": "display_data"
    },
    {
     "data": {
      "text/html": [
       "Find logs at: <code>.\\wandb\\run-20230320_182755-y7as38vc\\logs</code>"
      ],
      "text/plain": [
       "<IPython.core.display.HTML object>"
      ]
     },
     "metadata": {},
     "output_type": "display_data"
    },
    {
     "name": "stderr",
     "output_type": "stream",
     "text": [
      "\u001b[34m\u001b[1mwandb\u001b[0m: Sweep Agent: Waiting for job.\n",
      "\u001b[34m\u001b[1mwandb\u001b[0m: Job received.\n",
      "\u001b[34m\u001b[1mwandb\u001b[0m: Agent Starting Run: m2f8musc with config:\n",
      "\u001b[34m\u001b[1mwandb\u001b[0m: \tactivation_function: tanh\n",
      "\u001b[34m\u001b[1mwandb\u001b[0m: \tinitialization_type: random\n",
      "\u001b[34m\u001b[1mwandb\u001b[0m: \tlambd: 0.0005\n",
      "\u001b[34m\u001b[1mwandb\u001b[0m: \tlearning_rate: 0.0001\n",
      "\u001b[34m\u001b[1mwandb\u001b[0m: \tmax_epochs: 10\n",
      "\u001b[34m\u001b[1mwandb\u001b[0m: \tmini_batch_size: 64\n",
      "\u001b[34m\u001b[1mwandb\u001b[0m: \tnumber_hidden_layers: 5\n",
      "\u001b[34m\u001b[1mwandb\u001b[0m: \tnumber_neurons: 128\n",
      "\u001b[34m\u001b[1mwandb\u001b[0m: \toptimization_function: adam\n"
     ]
    },
    {
     "data": {
      "text/html": [
       "Tracking run with wandb version 0.14.0"
      ],
      "text/plain": [
       "<IPython.core.display.HTML object>"
      ]
     },
     "metadata": {},
     "output_type": "display_data"
    },
    {
     "data": {
      "text/html": [
       "Run data is saved locally in <code>C:\\Users\\bones\\wandb\\run-20230320_183256-m2f8musc</code>"
      ],
      "text/plain": [
       "<IPython.core.display.HTML object>"
      ]
     },
     "metadata": {},
     "output_type": "display_data"
    },
    {
     "data": {
      "text/html": [
       "Syncing run <strong><a href='https://wandb.ai/bs20b012/CS6910/runs/m2f8musc' target=\"_blank\">avid-sweep-34</a></strong> to <a href='https://wandb.ai/bs20b012/CS6910' target=\"_blank\">Weights & Biases</a> (<a href='https://wandb.me/run' target=\"_blank\">docs</a>)<br/>Sweep page: <a href='https://wandb.ai/bs20b012/CS6910/sweeps/4c8n6myl' target=\"_blank\">https://wandb.ai/bs20b012/CS6910/sweeps/4c8n6myl</a>"
      ],
      "text/plain": [
       "<IPython.core.display.HTML object>"
      ]
     },
     "metadata": {},
     "output_type": "display_data"
    },
    {
     "data": {
      "text/html": [
       " View project at <a href='https://wandb.ai/bs20b012/CS6910' target=\"_blank\">https://wandb.ai/bs20b012/CS6910</a>"
      ],
      "text/plain": [
       "<IPython.core.display.HTML object>"
      ]
     },
     "metadata": {},
     "output_type": "display_data"
    },
    {
     "data": {
      "text/html": [
       " View sweep at <a href='https://wandb.ai/bs20b012/CS6910/sweeps/4c8n6myl' target=\"_blank\">https://wandb.ai/bs20b012/CS6910/sweeps/4c8n6myl</a>"
      ],
      "text/plain": [
       "<IPython.core.display.HTML object>"
      ]
     },
     "metadata": {},
     "output_type": "display_data"
    },
    {
     "data": {
      "text/html": [
       " View run at <a href='https://wandb.ai/bs20b012/CS6910/runs/m2f8musc' target=\"_blank\">https://wandb.ai/bs20b012/CS6910/runs/m2f8musc</a>"
      ],
      "text/plain": [
       "<IPython.core.display.HTML object>"
      ]
     },
     "metadata": {},
     "output_type": "display_data"
    },
    {
     "name": "stderr",
     "output_type": "stream",
     "text": [
      "100%|██████████████████████████████████████████████████████████████████████████████████| 10/10 [13:50<00:00, 83.01s/it]"
     ]
    },
    {
     "name": "stdout",
     "output_type": "stream",
     "text": [
      "Training Accuracy: 80.23148148148148\n",
      "Validation Accuracy: 79.58333333333333\n"
     ]
    },
    {
     "name": "stderr",
     "output_type": "stream",
     "text": [
      "\n"
     ]
    },
    {
     "data": {
      "text/html": [
       "Waiting for W&B process to finish... <strong style=\"color:green\">(success).</strong>"
      ],
      "text/plain": [
       "<IPython.core.display.HTML object>"
      ]
     },
     "metadata": {},
     "output_type": "display_data"
    },
    {
     "data": {
      "text/html": [
       "<style>\n",
       "    table.wandb td:nth-child(1) { padding: 0 10px; text-align: left ; width: auto;} td:nth-child(2) {text-align: left ; width: 100%}\n",
       "    .wandb-row { display: flex; flex-direction: row; flex-wrap: wrap; justify-content: flex-start; width: 100% }\n",
       "    .wandb-col { display: flex; flex-direction: column; flex-basis: 100%; flex: 1; padding: 10px; }\n",
       "    </style>\n",
       "<div class=\"wandb-row\"><div class=\"wandb-col\"><h3>Run history:</h3><br/><table class=\"wandb\"><tr><td>Train_Accuracy</td><td>▁▄▆▇▇█████</td></tr><tr><td>Train_Loss</td><td>█▅▃▂▂▂▁▁▁▁</td></tr><tr><td>Validation_Accuracy</td><td>▁▄▆▇▇█████</td></tr><tr><td>Validation_loss</td><td>█▅▃▃▂▂▁▁▁▁</td></tr><tr><td>epoch</td><td>▁▂▃▃▄▅▆▆▇█</td></tr></table><br/></div><div class=\"wandb-col\"><h3>Run summary:</h3><br/><table class=\"wandb\"><tr><td>Train_Accuracy</td><td>80.23148</td></tr><tr><td>Train_Loss</td><td>0.59437</td></tr><tr><td>Validation_Accuracy</td><td>79.58333</td></tr><tr><td>Validation_loss</td><td>0.61108</td></tr><tr><td>epoch</td><td>9</td></tr></table><br/></div></div>"
      ],
      "text/plain": [
       "<IPython.core.display.HTML object>"
      ]
     },
     "metadata": {},
     "output_type": "display_data"
    },
    {
     "data": {
      "text/html": [
       " View run <strong style=\"color:#cdcd00\">avid-sweep-34</strong> at: <a href='https://wandb.ai/bs20b012/CS6910/runs/m2f8musc' target=\"_blank\">https://wandb.ai/bs20b012/CS6910/runs/m2f8musc</a><br/>Synced 6 W&B file(s), 0 media file(s), 0 artifact file(s) and 0 other file(s)"
      ],
      "text/plain": [
       "<IPython.core.display.HTML object>"
      ]
     },
     "metadata": {},
     "output_type": "display_data"
    },
    {
     "data": {
      "text/html": [
       "Find logs at: <code>.\\wandb\\run-20230320_183256-m2f8musc\\logs</code>"
      ],
      "text/plain": [
       "<IPython.core.display.HTML object>"
      ]
     },
     "metadata": {},
     "output_type": "display_data"
    },
    {
     "name": "stderr",
     "output_type": "stream",
     "text": [
      "\u001b[34m\u001b[1mwandb\u001b[0m: Agent Starting Run: tvddngxs with config:\n",
      "\u001b[34m\u001b[1mwandb\u001b[0m: \tactivation_function: relu\n",
      "\u001b[34m\u001b[1mwandb\u001b[0m: \tinitialization_type: random\n",
      "\u001b[34m\u001b[1mwandb\u001b[0m: \tlambd: 0.5\n",
      "\u001b[34m\u001b[1mwandb\u001b[0m: \tlearning_rate: 0.0001\n",
      "\u001b[34m\u001b[1mwandb\u001b[0m: \tmax_epochs: 10\n",
      "\u001b[34m\u001b[1mwandb\u001b[0m: \tmini_batch_size: 64\n",
      "\u001b[34m\u001b[1mwandb\u001b[0m: \tnumber_hidden_layers: 5\n",
      "\u001b[34m\u001b[1mwandb\u001b[0m: \tnumber_neurons: 128\n",
      "\u001b[34m\u001b[1mwandb\u001b[0m: \toptimization_function: nadam\n"
     ]
    },
    {
     "data": {
      "text/html": [
       "Tracking run with wandb version 0.14.0"
      ],
      "text/plain": [
       "<IPython.core.display.HTML object>"
      ]
     },
     "metadata": {},
     "output_type": "display_data"
    },
    {
     "data": {
      "text/html": [
       "Run data is saved locally in <code>C:\\Users\\bones\\wandb\\run-20230320_184727-tvddngxs</code>"
      ],
      "text/plain": [
       "<IPython.core.display.HTML object>"
      ]
     },
     "metadata": {},
     "output_type": "display_data"
    },
    {
     "data": {
      "text/html": [
       "Syncing run <strong><a href='https://wandb.ai/bs20b012/CS6910/runs/tvddngxs' target=\"_blank\">super-sweep-35</a></strong> to <a href='https://wandb.ai/bs20b012/CS6910' target=\"_blank\">Weights & Biases</a> (<a href='https://wandb.me/run' target=\"_blank\">docs</a>)<br/>Sweep page: <a href='https://wandb.ai/bs20b012/CS6910/sweeps/4c8n6myl' target=\"_blank\">https://wandb.ai/bs20b012/CS6910/sweeps/4c8n6myl</a>"
      ],
      "text/plain": [
       "<IPython.core.display.HTML object>"
      ]
     },
     "metadata": {},
     "output_type": "display_data"
    },
    {
     "data": {
      "text/html": [
       " View project at <a href='https://wandb.ai/bs20b012/CS6910' target=\"_blank\">https://wandb.ai/bs20b012/CS6910</a>"
      ],
      "text/plain": [
       "<IPython.core.display.HTML object>"
      ]
     },
     "metadata": {},
     "output_type": "display_data"
    },
    {
     "data": {
      "text/html": [
       " View sweep at <a href='https://wandb.ai/bs20b012/CS6910/sweeps/4c8n6myl' target=\"_blank\">https://wandb.ai/bs20b012/CS6910/sweeps/4c8n6myl</a>"
      ],
      "text/plain": [
       "<IPython.core.display.HTML object>"
      ]
     },
     "metadata": {},
     "output_type": "display_data"
    },
    {
     "data": {
      "text/html": [
       " View run at <a href='https://wandb.ai/bs20b012/CS6910/runs/tvddngxs' target=\"_blank\">https://wandb.ai/bs20b012/CS6910/runs/tvddngxs</a>"
      ],
      "text/plain": [
       "<IPython.core.display.HTML object>"
      ]
     },
     "metadata": {},
     "output_type": "display_data"
    },
    {
     "name": "stderr",
     "output_type": "stream",
     "text": [
      " 40%|█████████████████████████████████▏                                                 | 4/10 [06:08<09:26, 94.40s/it]C:\\Users\\bones\\AppData\\Local\\Temp\\ipykernel_8632\\2674793555.py:77: RuntimeWarning: divide by zero encountered in divide\n",
      "  grad[\"dh\"+str(len(layers)-1)] = -(y/y_hat)\n",
      "100%|██████████████████████████████████████████████████████████████████████████████████| 10/10 [15:14<00:00, 91.41s/it]"
     ]
    },
    {
     "name": "stdout",
     "output_type": "stream",
     "text": [
      "Training Accuracy: 10.048148148148147\n",
      "Validation Accuracy: 9.566666666666666\n"
     ]
    },
    {
     "name": "stderr",
     "output_type": "stream",
     "text": [
      "\n"
     ]
    },
    {
     "data": {
      "text/html": [
       "Waiting for W&B process to finish... <strong style=\"color:green\">(success).</strong>"
      ],
      "text/plain": [
       "<IPython.core.display.HTML object>"
      ]
     },
     "metadata": {},
     "output_type": "display_data"
    },
    {
     "data": {
      "application/vnd.jupyter.widget-view+json": {
       "model_id": "dbef18236b4341da90f24326c81f88d9",
       "version_major": 2,
       "version_minor": 0
      },
      "text/plain": [
       "VBox(children=(Label(value='0.001 MB of 0.001 MB uploaded (0.000 MB deduped)\\r'), FloatProgress(value=1.0, max…"
      ]
     },
     "metadata": {},
     "output_type": "display_data"
    },
    {
     "data": {
      "text/html": [
       "<style>\n",
       "    table.wandb td:nth-child(1) { padding: 0 10px; text-align: left ; width: auto;} td:nth-child(2) {text-align: left ; width: 100%}\n",
       "    .wandb-row { display: flex; flex-direction: row; flex-wrap: wrap; justify-content: flex-start; width: 100% }\n",
       "    .wandb-col { display: flex; flex-direction: column; flex-basis: 100%; flex: 1; padding: 10px; }\n",
       "    </style>\n",
       "<div class=\"wandb-row\"><div class=\"wandb-col\"><h3>Run history:</h3><br/><table class=\"wandb\"><tr><td>Train_Accuracy</td><td>▄████▁▁▁▁▁</td></tr><tr><td>Train_Loss</td><td>▁▄█       </td></tr><tr><td>Validation_Accuracy</td><td>▄████▁▁▁▁▁</td></tr><tr><td>Validation_loss</td><td>▁▆█       </td></tr><tr><td>epoch</td><td>▁▂▃▃▄▅▆▆▇█</td></tr></table><br/></div><div class=\"wandb-col\"><h3>Run summary:</h3><br/><table class=\"wandb\"><tr><td>Train_Accuracy</td><td>10.04815</td></tr><tr><td>Train_Loss</td><td>nan</td></tr><tr><td>Validation_Accuracy</td><td>9.56667</td></tr><tr><td>Validation_loss</td><td>nan</td></tr><tr><td>epoch</td><td>9</td></tr></table><br/></div></div>"
      ],
      "text/plain": [
       "<IPython.core.display.HTML object>"
      ]
     },
     "metadata": {},
     "output_type": "display_data"
    },
    {
     "data": {
      "text/html": [
       " View run <strong style=\"color:#cdcd00\">super-sweep-35</strong> at: <a href='https://wandb.ai/bs20b012/CS6910/runs/tvddngxs' target=\"_blank\">https://wandb.ai/bs20b012/CS6910/runs/tvddngxs</a><br/>Synced 6 W&B file(s), 0 media file(s), 0 artifact file(s) and 0 other file(s)"
      ],
      "text/plain": [
       "<IPython.core.display.HTML object>"
      ]
     },
     "metadata": {},
     "output_type": "display_data"
    },
    {
     "data": {
      "text/html": [
       "Find logs at: <code>.\\wandb\\run-20230320_184727-tvddngxs\\logs</code>"
      ],
      "text/plain": [
       "<IPython.core.display.HTML object>"
      ]
     },
     "metadata": {},
     "output_type": "display_data"
    },
    {
     "name": "stderr",
     "output_type": "stream",
     "text": [
      "\u001b[34m\u001b[1mwandb\u001b[0m: Agent Starting Run: 6uyznhp3 with config:\n",
      "\u001b[34m\u001b[1mwandb\u001b[0m: \tactivation_function: tanh\n",
      "\u001b[34m\u001b[1mwandb\u001b[0m: \tinitialization_type: random\n",
      "\u001b[34m\u001b[1mwandb\u001b[0m: \tlambd: 0.0005\n",
      "\u001b[34m\u001b[1mwandb\u001b[0m: \tlearning_rate: 0.0001\n",
      "\u001b[34m\u001b[1mwandb\u001b[0m: \tmax_epochs: 5\n",
      "\u001b[34m\u001b[1mwandb\u001b[0m: \tmini_batch_size: 64\n",
      "\u001b[34m\u001b[1mwandb\u001b[0m: \tnumber_hidden_layers: 5\n",
      "\u001b[34m\u001b[1mwandb\u001b[0m: \tnumber_neurons: 128\n",
      "\u001b[34m\u001b[1mwandb\u001b[0m: \toptimization_function: nadam\n"
     ]
    },
    {
     "data": {
      "text/html": [
       "Tracking run with wandb version 0.14.0"
      ],
      "text/plain": [
       "<IPython.core.display.HTML object>"
      ]
     },
     "metadata": {},
     "output_type": "display_data"
    },
    {
     "data": {
      "text/html": [
       "Run data is saved locally in <code>C:\\Users\\bones\\wandb\\run-20230320_190321-6uyznhp3</code>"
      ],
      "text/plain": [
       "<IPython.core.display.HTML object>"
      ]
     },
     "metadata": {},
     "output_type": "display_data"
    },
    {
     "data": {
      "text/html": [
       "Syncing run <strong><a href='https://wandb.ai/bs20b012/CS6910/runs/6uyznhp3' target=\"_blank\">revived-sweep-36</a></strong> to <a href='https://wandb.ai/bs20b012/CS6910' target=\"_blank\">Weights & Biases</a> (<a href='https://wandb.me/run' target=\"_blank\">docs</a>)<br/>Sweep page: <a href='https://wandb.ai/bs20b012/CS6910/sweeps/4c8n6myl' target=\"_blank\">https://wandb.ai/bs20b012/CS6910/sweeps/4c8n6myl</a>"
      ],
      "text/plain": [
       "<IPython.core.display.HTML object>"
      ]
     },
     "metadata": {},
     "output_type": "display_data"
    },
    {
     "data": {
      "text/html": [
       " View project at <a href='https://wandb.ai/bs20b012/CS6910' target=\"_blank\">https://wandb.ai/bs20b012/CS6910</a>"
      ],
      "text/plain": [
       "<IPython.core.display.HTML object>"
      ]
     },
     "metadata": {},
     "output_type": "display_data"
    },
    {
     "data": {
      "text/html": [
       " View sweep at <a href='https://wandb.ai/bs20b012/CS6910/sweeps/4c8n6myl' target=\"_blank\">https://wandb.ai/bs20b012/CS6910/sweeps/4c8n6myl</a>"
      ],
      "text/plain": [
       "<IPython.core.display.HTML object>"
      ]
     },
     "metadata": {},
     "output_type": "display_data"
    },
    {
     "data": {
      "text/html": [
       " View run at <a href='https://wandb.ai/bs20b012/CS6910/runs/6uyznhp3' target=\"_blank\">https://wandb.ai/bs20b012/CS6910/runs/6uyznhp3</a>"
      ],
      "text/plain": [
       "<IPython.core.display.HTML object>"
      ]
     },
     "metadata": {},
     "output_type": "display_data"
    },
    {
     "name": "stderr",
     "output_type": "stream",
     "text": [
      "100%|████████████████████████████████████████████████████████████████████████████████████| 5/5 [07:30<00:00, 90.13s/it]"
     ]
    },
    {
     "name": "stdout",
     "output_type": "stream",
     "text": [
      "Training Accuracy: 85.59629629629629\n",
      "Validation Accuracy: 84.51666666666667\n"
     ]
    },
    {
     "name": "stderr",
     "output_type": "stream",
     "text": [
      "\n"
     ]
    },
    {
     "data": {
      "text/html": [
       "Waiting for W&B process to finish... <strong style=\"color:green\">(success).</strong>"
      ],
      "text/plain": [
       "<IPython.core.display.HTML object>"
      ]
     },
     "metadata": {},
     "output_type": "display_data"
    },
    {
     "data": {
      "text/html": [
       "<style>\n",
       "    table.wandb td:nth-child(1) { padding: 0 10px; text-align: left ; width: auto;} td:nth-child(2) {text-align: left ; width: 100%}\n",
       "    .wandb-row { display: flex; flex-direction: row; flex-wrap: wrap; justify-content: flex-start; width: 100% }\n",
       "    .wandb-col { display: flex; flex-direction: column; flex-basis: 100%; flex: 1; padding: 10px; }\n",
       "    </style>\n",
       "<div class=\"wandb-row\"><div class=\"wandb-col\"><h3>Run history:</h3><br/><table class=\"wandb\"><tr><td>Train_Accuracy</td><td>▁▆▇██</td></tr><tr><td>Train_Loss</td><td>█▃▂▁▁</td></tr><tr><td>Validation_Accuracy</td><td>▁▆███</td></tr><tr><td>Validation_loss</td><td>█▃▂▁▁</td></tr><tr><td>epoch</td><td>▁▃▅▆█</td></tr></table><br/></div><div class=\"wandb-col\"><h3>Run summary:</h3><br/><table class=\"wandb\"><tr><td>Train_Accuracy</td><td>85.5963</td></tr><tr><td>Train_Loss</td><td>0.4307</td></tr><tr><td>Validation_Accuracy</td><td>84.51667</td></tr><tr><td>Validation_loss</td><td>0.47299</td></tr><tr><td>epoch</td><td>4</td></tr></table><br/></div></div>"
      ],
      "text/plain": [
       "<IPython.core.display.HTML object>"
      ]
     },
     "metadata": {},
     "output_type": "display_data"
    },
    {
     "data": {
      "text/html": [
       " View run <strong style=\"color:#cdcd00\">revived-sweep-36</strong> at: <a href='https://wandb.ai/bs20b012/CS6910/runs/6uyznhp3' target=\"_blank\">https://wandb.ai/bs20b012/CS6910/runs/6uyznhp3</a><br/>Synced 6 W&B file(s), 0 media file(s), 0 artifact file(s) and 0 other file(s)"
      ],
      "text/plain": [
       "<IPython.core.display.HTML object>"
      ]
     },
     "metadata": {},
     "output_type": "display_data"
    },
    {
     "data": {
      "text/html": [
       "Find logs at: <code>.\\wandb\\run-20230320_190321-6uyznhp3\\logs</code>"
      ],
      "text/plain": [
       "<IPython.core.display.HTML object>"
      ]
     },
     "metadata": {},
     "output_type": "display_data"
    },
    {
     "name": "stderr",
     "output_type": "stream",
     "text": [
      "\u001b[34m\u001b[1mwandb\u001b[0m: Agent Starting Run: 2ba6b760 with config:\n",
      "\u001b[34m\u001b[1mwandb\u001b[0m: \tactivation_function: tanh\n",
      "\u001b[34m\u001b[1mwandb\u001b[0m: \tinitialization_type: xavier\n",
      "\u001b[34m\u001b[1mwandb\u001b[0m: \tlambd: 0.5\n",
      "\u001b[34m\u001b[1mwandb\u001b[0m: \tlearning_rate: 0.0001\n",
      "\u001b[34m\u001b[1mwandb\u001b[0m: \tmax_epochs: 10\n",
      "\u001b[34m\u001b[1mwandb\u001b[0m: \tmini_batch_size: 64\n",
      "\u001b[34m\u001b[1mwandb\u001b[0m: \tnumber_hidden_layers: 4\n",
      "\u001b[34m\u001b[1mwandb\u001b[0m: \tnumber_neurons: 128\n",
      "\u001b[34m\u001b[1mwandb\u001b[0m: \toptimization_function: nadam\n"
     ]
    },
    {
     "data": {
      "text/html": [
       "Tracking run with wandb version 0.14.0"
      ],
      "text/plain": [
       "<IPython.core.display.HTML object>"
      ]
     },
     "metadata": {},
     "output_type": "display_data"
    },
    {
     "data": {
      "text/html": [
       "Run data is saved locally in <code>C:\\Users\\bones\\wandb\\run-20230320_191135-2ba6b760</code>"
      ],
      "text/plain": [
       "<IPython.core.display.HTML object>"
      ]
     },
     "metadata": {},
     "output_type": "display_data"
    },
    {
     "data": {
      "text/html": [
       "Syncing run <strong><a href='https://wandb.ai/bs20b012/CS6910/runs/2ba6b760' target=\"_blank\">fluent-sweep-37</a></strong> to <a href='https://wandb.ai/bs20b012/CS6910' target=\"_blank\">Weights & Biases</a> (<a href='https://wandb.me/run' target=\"_blank\">docs</a>)<br/>Sweep page: <a href='https://wandb.ai/bs20b012/CS6910/sweeps/4c8n6myl' target=\"_blank\">https://wandb.ai/bs20b012/CS6910/sweeps/4c8n6myl</a>"
      ],
      "text/plain": [
       "<IPython.core.display.HTML object>"
      ]
     },
     "metadata": {},
     "output_type": "display_data"
    },
    {
     "data": {
      "text/html": [
       " View project at <a href='https://wandb.ai/bs20b012/CS6910' target=\"_blank\">https://wandb.ai/bs20b012/CS6910</a>"
      ],
      "text/plain": [
       "<IPython.core.display.HTML object>"
      ]
     },
     "metadata": {},
     "output_type": "display_data"
    },
    {
     "data": {
      "text/html": [
       " View sweep at <a href='https://wandb.ai/bs20b012/CS6910/sweeps/4c8n6myl' target=\"_blank\">https://wandb.ai/bs20b012/CS6910/sweeps/4c8n6myl</a>"
      ],
      "text/plain": [
       "<IPython.core.display.HTML object>"
      ]
     },
     "metadata": {},
     "output_type": "display_data"
    },
    {
     "data": {
      "text/html": [
       " View run at <a href='https://wandb.ai/bs20b012/CS6910/runs/2ba6b760' target=\"_blank\">https://wandb.ai/bs20b012/CS6910/runs/2ba6b760</a>"
      ],
      "text/plain": [
       "<IPython.core.display.HTML object>"
      ]
     },
     "metadata": {},
     "output_type": "display_data"
    },
    {
     "name": "stderr",
     "output_type": "stream",
     "text": [
      "100%|██████████████████████████████████████████████████████████████████████████████████| 10/10 [16:19<00:00, 97.96s/it]"
     ]
    },
    {
     "name": "stdout",
     "output_type": "stream",
     "text": [
      "Training Accuracy: 89.80555555555556\n",
      "Validation Accuracy: 87.55\n"
     ]
    },
    {
     "name": "stderr",
     "output_type": "stream",
     "text": [
      "\n"
     ]
    },
    {
     "data": {
      "text/html": [
       "Waiting for W&B process to finish... <strong style=\"color:green\">(success).</strong>"
      ],
      "text/plain": [
       "<IPython.core.display.HTML object>"
      ]
     },
     "metadata": {},
     "output_type": "display_data"
    },
    {
     "data": {
      "text/html": [
       "<style>\n",
       "    table.wandb td:nth-child(1) { padding: 0 10px; text-align: left ; width: auto;} td:nth-child(2) {text-align: left ; width: 100%}\n",
       "    .wandb-row { display: flex; flex-direction: row; flex-wrap: wrap; justify-content: flex-start; width: 100% }\n",
       "    .wandb-col { display: flex; flex-direction: column; flex-basis: 100%; flex: 1; padding: 10px; }\n",
       "    </style>\n",
       "<div class=\"wandb-row\"><div class=\"wandb-col\"><h3>Run history:</h3><br/><table class=\"wandb\"><tr><td>Train_Accuracy</td><td>▁▅▆▇▇▇████</td></tr><tr><td>Train_Loss</td><td>█▃▁▁▁▁▁▁▁▁</td></tr><tr><td>Validation_Accuracy</td><td>▁▆▇▇▇▇▇███</td></tr><tr><td>Validation_loss</td><td>█▂▁▂▂▃▃▄▅▆</td></tr><tr><td>epoch</td><td>▁▂▃▃▄▅▆▆▇█</td></tr></table><br/></div><div class=\"wandb-col\"><h3>Run summary:</h3><br/><table class=\"wandb\"><tr><td>Train_Accuracy</td><td>89.80556</td></tr><tr><td>Train_Loss</td><td>0.35873</td></tr><tr><td>Validation_Accuracy</td><td>87.55</td></tr><tr><td>Validation_loss</td><td>0.92855</td></tr><tr><td>epoch</td><td>9</td></tr></table><br/></div></div>"
      ],
      "text/plain": [
       "<IPython.core.display.HTML object>"
      ]
     },
     "metadata": {},
     "output_type": "display_data"
    },
    {
     "data": {
      "text/html": [
       " View run <strong style=\"color:#cdcd00\">fluent-sweep-37</strong> at: <a href='https://wandb.ai/bs20b012/CS6910/runs/2ba6b760' target=\"_blank\">https://wandb.ai/bs20b012/CS6910/runs/2ba6b760</a><br/>Synced 6 W&B file(s), 0 media file(s), 0 artifact file(s) and 0 other file(s)"
      ],
      "text/plain": [
       "<IPython.core.display.HTML object>"
      ]
     },
     "metadata": {},
     "output_type": "display_data"
    },
    {
     "data": {
      "text/html": [
       "Find logs at: <code>.\\wandb\\run-20230320_191135-2ba6b760\\logs</code>"
      ],
      "text/plain": [
       "<IPython.core.display.HTML object>"
      ]
     },
     "metadata": {},
     "output_type": "display_data"
    },
    {
     "name": "stderr",
     "output_type": "stream",
     "text": [
      "\u001b[34m\u001b[1mwandb\u001b[0m: Agent Starting Run: v7i3tfq2 with config:\n",
      "\u001b[34m\u001b[1mwandb\u001b[0m: \tactivation_function: tanh\n",
      "\u001b[34m\u001b[1mwandb\u001b[0m: \tinitialization_type: xavier\n",
      "\u001b[34m\u001b[1mwandb\u001b[0m: \tlambd: 0.0005\n",
      "\u001b[34m\u001b[1mwandb\u001b[0m: \tlearning_rate: 0.0001\n",
      "\u001b[34m\u001b[1mwandb\u001b[0m: \tmax_epochs: 10\n",
      "\u001b[34m\u001b[1mwandb\u001b[0m: \tmini_batch_size: 64\n",
      "\u001b[34m\u001b[1mwandb\u001b[0m: \tnumber_hidden_layers: 5\n",
      "\u001b[34m\u001b[1mwandb\u001b[0m: \tnumber_neurons: 64\n",
      "\u001b[34m\u001b[1mwandb\u001b[0m: \toptimization_function: nadam\n"
     ]
    },
    {
     "data": {
      "text/html": [
       "Tracking run with wandb version 0.14.0"
      ],
      "text/plain": [
       "<IPython.core.display.HTML object>"
      ]
     },
     "metadata": {},
     "output_type": "display_data"
    },
    {
     "data": {
      "text/html": [
       "Run data is saved locally in <code>C:\\Users\\bones\\wandb\\run-20230320_192836-v7i3tfq2</code>"
      ],
      "text/plain": [
       "<IPython.core.display.HTML object>"
      ]
     },
     "metadata": {},
     "output_type": "display_data"
    },
    {
     "data": {
      "text/html": [
       "Syncing run <strong><a href='https://wandb.ai/bs20b012/CS6910/runs/v7i3tfq2' target=\"_blank\">woven-sweep-38</a></strong> to <a href='https://wandb.ai/bs20b012/CS6910' target=\"_blank\">Weights & Biases</a> (<a href='https://wandb.me/run' target=\"_blank\">docs</a>)<br/>Sweep page: <a href='https://wandb.ai/bs20b012/CS6910/sweeps/4c8n6myl' target=\"_blank\">https://wandb.ai/bs20b012/CS6910/sweeps/4c8n6myl</a>"
      ],
      "text/plain": [
       "<IPython.core.display.HTML object>"
      ]
     },
     "metadata": {},
     "output_type": "display_data"
    },
    {
     "data": {
      "text/html": [
       " View project at <a href='https://wandb.ai/bs20b012/CS6910' target=\"_blank\">https://wandb.ai/bs20b012/CS6910</a>"
      ],
      "text/plain": [
       "<IPython.core.display.HTML object>"
      ]
     },
     "metadata": {},
     "output_type": "display_data"
    },
    {
     "data": {
      "text/html": [
       " View sweep at <a href='https://wandb.ai/bs20b012/CS6910/sweeps/4c8n6myl' target=\"_blank\">https://wandb.ai/bs20b012/CS6910/sweeps/4c8n6myl</a>"
      ],
      "text/plain": [
       "<IPython.core.display.HTML object>"
      ]
     },
     "metadata": {},
     "output_type": "display_data"
    },
    {
     "data": {
      "text/html": [
       " View run at <a href='https://wandb.ai/bs20b012/CS6910/runs/v7i3tfq2' target=\"_blank\">https://wandb.ai/bs20b012/CS6910/runs/v7i3tfq2</a>"
      ],
      "text/plain": [
       "<IPython.core.display.HTML object>"
      ]
     },
     "metadata": {},
     "output_type": "display_data"
    },
    {
     "name": "stderr",
     "output_type": "stream",
     "text": [
      "100%|██████████████████████████████████████████████████████████████████████████████████| 10/10 [07:24<00:00, 44.47s/it]"
     ]
    },
    {
     "name": "stdout",
     "output_type": "stream",
     "text": [
      "Training Accuracy: 88.28148148148148\n",
      "Validation Accuracy: 86.86666666666667\n"
     ]
    },
    {
     "name": "stderr",
     "output_type": "stream",
     "text": [
      "\n"
     ]
    },
    {
     "data": {
      "text/html": [
       "Waiting for W&B process to finish... <strong style=\"color:green\">(success).</strong>"
      ],
      "text/plain": [
       "<IPython.core.display.HTML object>"
      ]
     },
     "metadata": {},
     "output_type": "display_data"
    },
    {
     "data": {
      "application/vnd.jupyter.widget-view+json": {
       "model_id": "521330fdca8d4e2c9fc6786f72f01d89",
       "version_major": 2,
       "version_minor": 0
      },
      "text/plain": [
       "VBox(children=(Label(value='0.001 MB of 0.001 MB uploaded (0.000 MB deduped)\\r'), FloatProgress(value=1.0, max…"
      ]
     },
     "metadata": {},
     "output_type": "display_data"
    },
    {
     "data": {
      "text/html": [
       "<style>\n",
       "    table.wandb td:nth-child(1) { padding: 0 10px; text-align: left ; width: auto;} td:nth-child(2) {text-align: left ; width: 100%}\n",
       "    .wandb-row { display: flex; flex-direction: row; flex-wrap: wrap; justify-content: flex-start; width: 100% }\n",
       "    .wandb-col { display: flex; flex-direction: column; flex-basis: 100%; flex: 1; padding: 10px; }\n",
       "    </style>\n",
       "<div class=\"wandb-row\"><div class=\"wandb-col\"><h3>Run history:</h3><br/><table class=\"wandb\"><tr><td>Train_Accuracy</td><td>▁▅▆▇▇█████</td></tr><tr><td>Train_Loss</td><td>█▄▃▂▂▁▁▁▁▁</td></tr><tr><td>Validation_Accuracy</td><td>▁▆▇▇██████</td></tr><tr><td>Validation_loss</td><td>█▄▃▂▁▁▁▁▁▁</td></tr><tr><td>epoch</td><td>▁▂▃▃▄▅▆▆▇█</td></tr></table><br/></div><div class=\"wandb-col\"><h3>Run summary:</h3><br/><table class=\"wandb\"><tr><td>Train_Accuracy</td><td>88.28148</td></tr><tr><td>Train_Loss</td><td>0.34161</td></tr><tr><td>Validation_Accuracy</td><td>86.86667</td></tr><tr><td>Validation_loss</td><td>0.3902</td></tr><tr><td>epoch</td><td>9</td></tr></table><br/></div></div>"
      ],
      "text/plain": [
       "<IPython.core.display.HTML object>"
      ]
     },
     "metadata": {},
     "output_type": "display_data"
    },
    {
     "data": {
      "text/html": [
       " View run <strong style=\"color:#cdcd00\">woven-sweep-38</strong> at: <a href='https://wandb.ai/bs20b012/CS6910/runs/v7i3tfq2' target=\"_blank\">https://wandb.ai/bs20b012/CS6910/runs/v7i3tfq2</a><br/>Synced 6 W&B file(s), 0 media file(s), 0 artifact file(s) and 0 other file(s)"
      ],
      "text/plain": [
       "<IPython.core.display.HTML object>"
      ]
     },
     "metadata": {},
     "output_type": "display_data"
    },
    {
     "data": {
      "text/html": [
       "Find logs at: <code>.\\wandb\\run-20230320_192836-v7i3tfq2\\logs</code>"
      ],
      "text/plain": [
       "<IPython.core.display.HTML object>"
      ]
     },
     "metadata": {},
     "output_type": "display_data"
    },
    {
     "name": "stderr",
     "output_type": "stream",
     "text": [
      "\u001b[34m\u001b[1mwandb\u001b[0m: Agent Starting Run: p7p0nnjr with config:\n",
      "\u001b[34m\u001b[1mwandb\u001b[0m: \tactivation_function: tanh\n",
      "\u001b[34m\u001b[1mwandb\u001b[0m: \tinitialization_type: random\n",
      "\u001b[34m\u001b[1mwandb\u001b[0m: \tlambd: 0.0005\n",
      "\u001b[34m\u001b[1mwandb\u001b[0m: \tlearning_rate: 0.0001\n",
      "\u001b[34m\u001b[1mwandb\u001b[0m: \tmax_epochs: 10\n",
      "\u001b[34m\u001b[1mwandb\u001b[0m: \tmini_batch_size: 32\n",
      "\u001b[34m\u001b[1mwandb\u001b[0m: \tnumber_hidden_layers: 4\n",
      "\u001b[34m\u001b[1mwandb\u001b[0m: \tnumber_neurons: 128\n",
      "\u001b[34m\u001b[1mwandb\u001b[0m: \toptimization_function: nadam\n"
     ]
    },
    {
     "data": {
      "text/html": [
       "Tracking run with wandb version 0.14.0"
      ],
      "text/plain": [
       "<IPython.core.display.HTML object>"
      ]
     },
     "metadata": {},
     "output_type": "display_data"
    },
    {
     "data": {
      "text/html": [
       "Run data is saved locally in <code>C:\\Users\\bones\\wandb\\run-20230320_193647-p7p0nnjr</code>"
      ],
      "text/plain": [
       "<IPython.core.display.HTML object>"
      ]
     },
     "metadata": {},
     "output_type": "display_data"
    },
    {
     "data": {
      "text/html": [
       "Syncing run <strong><a href='https://wandb.ai/bs20b012/CS6910/runs/p7p0nnjr' target=\"_blank\">lemon-sweep-39</a></strong> to <a href='https://wandb.ai/bs20b012/CS6910' target=\"_blank\">Weights & Biases</a> (<a href='https://wandb.me/run' target=\"_blank\">docs</a>)<br/>Sweep page: <a href='https://wandb.ai/bs20b012/CS6910/sweeps/4c8n6myl' target=\"_blank\">https://wandb.ai/bs20b012/CS6910/sweeps/4c8n6myl</a>"
      ],
      "text/plain": [
       "<IPython.core.display.HTML object>"
      ]
     },
     "metadata": {},
     "output_type": "display_data"
    },
    {
     "data": {
      "text/html": [
       " View project at <a href='https://wandb.ai/bs20b012/CS6910' target=\"_blank\">https://wandb.ai/bs20b012/CS6910</a>"
      ],
      "text/plain": [
       "<IPython.core.display.HTML object>"
      ]
     },
     "metadata": {},
     "output_type": "display_data"
    },
    {
     "data": {
      "text/html": [
       " View sweep at <a href='https://wandb.ai/bs20b012/CS6910/sweeps/4c8n6myl' target=\"_blank\">https://wandb.ai/bs20b012/CS6910/sweeps/4c8n6myl</a>"
      ],
      "text/plain": [
       "<IPython.core.display.HTML object>"
      ]
     },
     "metadata": {},
     "output_type": "display_data"
    },
    {
     "data": {
      "text/html": [
       " View run at <a href='https://wandb.ai/bs20b012/CS6910/runs/p7p0nnjr' target=\"_blank\">https://wandb.ai/bs20b012/CS6910/runs/p7p0nnjr</a>"
      ],
      "text/plain": [
       "<IPython.core.display.HTML object>"
      ]
     },
     "metadata": {},
     "output_type": "display_data"
    },
    {
     "name": "stderr",
     "output_type": "stream",
     "text": [
      "100%|█████████████████████████████████████████████████████████████████████████████████| 10/10 [17:21<00:00, 104.19s/it]"
     ]
    },
    {
     "name": "stdout",
     "output_type": "stream",
     "text": [
      "Training Accuracy: 86.56481481481481\n",
      "Validation Accuracy: 85.61666666666666\n"
     ]
    },
    {
     "name": "stderr",
     "output_type": "stream",
     "text": [
      "\n"
     ]
    },
    {
     "data": {
      "text/html": [
       "Waiting for W&B process to finish... <strong style=\"color:green\">(success).</strong>"
      ],
      "text/plain": [
       "<IPython.core.display.HTML object>"
      ]
     },
     "metadata": {},
     "output_type": "display_data"
    },
    {
     "data": {
      "application/vnd.jupyter.widget-view+json": {
       "model_id": "4615a4889e81413da5ac25d3df2222b0",
       "version_major": 2,
       "version_minor": 0
      },
      "text/plain": [
       "VBox(children=(Label(value='0.001 MB of 0.001 MB uploaded (0.000 MB deduped)\\r'), FloatProgress(value=1.0, max…"
      ]
     },
     "metadata": {},
     "output_type": "display_data"
    },
    {
     "data": {
      "text/html": [
       "<style>\n",
       "    table.wandb td:nth-child(1) { padding: 0 10px; text-align: left ; width: auto;} td:nth-child(2) {text-align: left ; width: 100%}\n",
       "    .wandb-row { display: flex; flex-direction: row; flex-wrap: wrap; justify-content: flex-start; width: 100% }\n",
       "    .wandb-col { display: flex; flex-direction: column; flex-basis: 100%; flex: 1; padding: 10px; }\n",
       "    </style>\n",
       "<div class=\"wandb-row\"><div class=\"wandb-col\"><h3>Run history:</h3><br/><table class=\"wandb\"><tr><td>Train_Accuracy</td><td>▁▅▆▇▇▇████</td></tr><tr><td>Train_Loss</td><td>█▅▃▂▂▂▁▁▁▁</td></tr><tr><td>Validation_Accuracy</td><td>▁▅▆▇▇▇████</td></tr><tr><td>Validation_loss</td><td>█▅▃▂▂▁▁▁▁▁</td></tr><tr><td>epoch</td><td>▁▂▃▃▄▅▆▆▇█</td></tr></table><br/></div><div class=\"wandb-col\"><h3>Run summary:</h3><br/><table class=\"wandb\"><tr><td>Train_Accuracy</td><td>86.56481</td></tr><tr><td>Train_Loss</td><td>0.39811</td></tr><tr><td>Validation_Accuracy</td><td>85.61667</td></tr><tr><td>Validation_loss</td><td>0.43363</td></tr><tr><td>epoch</td><td>9</td></tr></table><br/></div></div>"
      ],
      "text/plain": [
       "<IPython.core.display.HTML object>"
      ]
     },
     "metadata": {},
     "output_type": "display_data"
    },
    {
     "data": {
      "text/html": [
       " View run <strong style=\"color:#cdcd00\">lemon-sweep-39</strong> at: <a href='https://wandb.ai/bs20b012/CS6910/runs/p7p0nnjr' target=\"_blank\">https://wandb.ai/bs20b012/CS6910/runs/p7p0nnjr</a><br/>Synced 6 W&B file(s), 0 media file(s), 0 artifact file(s) and 0 other file(s)"
      ],
      "text/plain": [
       "<IPython.core.display.HTML object>"
      ]
     },
     "metadata": {},
     "output_type": "display_data"
    },
    {
     "data": {
      "text/html": [
       "Find logs at: <code>.\\wandb\\run-20230320_193647-p7p0nnjr\\logs</code>"
      ],
      "text/plain": [
       "<IPython.core.display.HTML object>"
      ]
     },
     "metadata": {},
     "output_type": "display_data"
    },
    {
     "name": "stderr",
     "output_type": "stream",
     "text": [
      "\u001b[34m\u001b[1mwandb\u001b[0m: Sweep Agent: Waiting for job.\n",
      "\u001b[34m\u001b[1mwandb\u001b[0m: Job received.\n",
      "\u001b[34m\u001b[1mwandb\u001b[0m: Agent Starting Run: mama5dgh with config:\n",
      "\u001b[34m\u001b[1mwandb\u001b[0m: \tactivation_function: tanh\n",
      "\u001b[34m\u001b[1mwandb\u001b[0m: \tinitialization_type: random\n",
      "\u001b[34m\u001b[1mwandb\u001b[0m: \tlambd: 0.5\n",
      "\u001b[34m\u001b[1mwandb\u001b[0m: \tlearning_rate: 0.0001\n",
      "\u001b[34m\u001b[1mwandb\u001b[0m: \tmax_epochs: 10\n",
      "\u001b[34m\u001b[1mwandb\u001b[0m: \tmini_batch_size: 64\n",
      "\u001b[34m\u001b[1mwandb\u001b[0m: \tnumber_hidden_layers: 5\n",
      "\u001b[34m\u001b[1mwandb\u001b[0m: \tnumber_neurons: 128\n",
      "\u001b[34m\u001b[1mwandb\u001b[0m: \toptimization_function: nadam\n"
     ]
    },
    {
     "data": {
      "text/html": [
       "Tracking run with wandb version 0.14.0"
      ],
      "text/plain": [
       "<IPython.core.display.HTML object>"
      ]
     },
     "metadata": {},
     "output_type": "display_data"
    },
    {
     "data": {
      "text/html": [
       "Run data is saved locally in <code>C:\\Users\\bones\\wandb\\run-20230320_195502-mama5dgh</code>"
      ],
      "text/plain": [
       "<IPython.core.display.HTML object>"
      ]
     },
     "metadata": {},
     "output_type": "display_data"
    },
    {
     "data": {
      "text/html": [
       "Syncing run <strong><a href='https://wandb.ai/bs20b012/CS6910/runs/mama5dgh' target=\"_blank\">cosmic-sweep-40</a></strong> to <a href='https://wandb.ai/bs20b012/CS6910' target=\"_blank\">Weights & Biases</a> (<a href='https://wandb.me/run' target=\"_blank\">docs</a>)<br/>Sweep page: <a href='https://wandb.ai/bs20b012/CS6910/sweeps/4c8n6myl' target=\"_blank\">https://wandb.ai/bs20b012/CS6910/sweeps/4c8n6myl</a>"
      ],
      "text/plain": [
       "<IPython.core.display.HTML object>"
      ]
     },
     "metadata": {},
     "output_type": "display_data"
    },
    {
     "data": {
      "text/html": [
       " View project at <a href='https://wandb.ai/bs20b012/CS6910' target=\"_blank\">https://wandb.ai/bs20b012/CS6910</a>"
      ],
      "text/plain": [
       "<IPython.core.display.HTML object>"
      ]
     },
     "metadata": {},
     "output_type": "display_data"
    },
    {
     "data": {
      "text/html": [
       " View sweep at <a href='https://wandb.ai/bs20b012/CS6910/sweeps/4c8n6myl' target=\"_blank\">https://wandb.ai/bs20b012/CS6910/sweeps/4c8n6myl</a>"
      ],
      "text/plain": [
       "<IPython.core.display.HTML object>"
      ]
     },
     "metadata": {},
     "output_type": "display_data"
    },
    {
     "data": {
      "text/html": [
       " View run at <a href='https://wandb.ai/bs20b012/CS6910/runs/mama5dgh' target=\"_blank\">https://wandb.ai/bs20b012/CS6910/runs/mama5dgh</a>"
      ],
      "text/plain": [
       "<IPython.core.display.HTML object>"
      ]
     },
     "metadata": {},
     "output_type": "display_data"
    },
    {
     "name": "stderr",
     "output_type": "stream",
     "text": [
      "100%|█████████████████████████████████████████████████████████████████████████████████| 10/10 [20:58<00:00, 125.83s/it]"
     ]
    },
    {
     "name": "stdout",
     "output_type": "stream",
     "text": [
      "Training Accuracy: 86.86481481481482\n",
      "Validation Accuracy: 85.7\n"
     ]
    },
    {
     "name": "stderr",
     "output_type": "stream",
     "text": [
      "\n"
     ]
    },
    {
     "data": {
      "text/html": [
       "Waiting for W&B process to finish... <strong style=\"color:green\">(success).</strong>"
      ],
      "text/plain": [
       "<IPython.core.display.HTML object>"
      ]
     },
     "metadata": {},
     "output_type": "display_data"
    },
    {
     "data": {
      "text/html": [
       "<style>\n",
       "    table.wandb td:nth-child(1) { padding: 0 10px; text-align: left ; width: auto;} td:nth-child(2) {text-align: left ; width: 100%}\n",
       "    .wandb-row { display: flex; flex-direction: row; flex-wrap: wrap; justify-content: flex-start; width: 100% }\n",
       "    .wandb-col { display: flex; flex-direction: column; flex-basis: 100%; flex: 1; padding: 10px; }\n",
       "    </style>\n",
       "<div class=\"wandb-row\"><div class=\"wandb-col\"><h3>Run history:</h3><br/><table class=\"wandb\"><tr><td>Train_Accuracy</td><td>▁▆▇▇▇▇████</td></tr><tr><td>Train_Loss</td><td>█▃▃▂▂▂▁▁▁▁</td></tr><tr><td>Validation_Accuracy</td><td>▁▆▇▇▇▇████</td></tr><tr><td>Validation_loss</td><td>█▆▇▁▃▂▁▁▁▂</td></tr><tr><td>epoch</td><td>▁▂▃▃▄▅▆▆▇█</td></tr></table><br/></div><div class=\"wandb-col\"><h3>Run summary:</h3><br/><table class=\"wandb\"><tr><td>Train_Accuracy</td><td>86.86481</td></tr><tr><td>Train_Loss</td><td>0.40308</td></tr><tr><td>Validation_Accuracy</td><td>85.7</td></tr><tr><td>Validation_loss</td><td>0.54353</td></tr><tr><td>epoch</td><td>9</td></tr></table><br/></div></div>"
      ],
      "text/plain": [
       "<IPython.core.display.HTML object>"
      ]
     },
     "metadata": {},
     "output_type": "display_data"
    },
    {
     "data": {
      "text/html": [
       " View run <strong style=\"color:#cdcd00\">cosmic-sweep-40</strong> at: <a href='https://wandb.ai/bs20b012/CS6910/runs/mama5dgh' target=\"_blank\">https://wandb.ai/bs20b012/CS6910/runs/mama5dgh</a><br/>Synced 6 W&B file(s), 0 media file(s), 0 artifact file(s) and 0 other file(s)"
      ],
      "text/plain": [
       "<IPython.core.display.HTML object>"
      ]
     },
     "metadata": {},
     "output_type": "display_data"
    },
    {
     "data": {
      "text/html": [
       "Find logs at: <code>.\\wandb\\run-20230320_195502-mama5dgh\\logs</code>"
      ],
      "text/plain": [
       "<IPython.core.display.HTML object>"
      ]
     },
     "metadata": {},
     "output_type": "display_data"
    },
    {
     "name": "stderr",
     "output_type": "stream",
     "text": [
      "\u001b[34m\u001b[1mwandb\u001b[0m: Agent Starting Run: 9xyf0sr1 with config:\n",
      "\u001b[34m\u001b[1mwandb\u001b[0m: \tactivation_function: tanh\n",
      "\u001b[34m\u001b[1mwandb\u001b[0m: \tinitialization_type: random\n",
      "\u001b[34m\u001b[1mwandb\u001b[0m: \tlambd: 0.0005\n",
      "\u001b[34m\u001b[1mwandb\u001b[0m: \tlearning_rate: 0.0001\n",
      "\u001b[34m\u001b[1mwandb\u001b[0m: \tmax_epochs: 10\n",
      "\u001b[34m\u001b[1mwandb\u001b[0m: \tmini_batch_size: 64\n",
      "\u001b[34m\u001b[1mwandb\u001b[0m: \tnumber_hidden_layers: 4\n",
      "\u001b[34m\u001b[1mwandb\u001b[0m: \tnumber_neurons: 64\n",
      "\u001b[34m\u001b[1mwandb\u001b[0m: \toptimization_function: nadam\n"
     ]
    },
    {
     "data": {
      "text/html": [
       "Tracking run with wandb version 0.14.0"
      ],
      "text/plain": [
       "<IPython.core.display.HTML object>"
      ]
     },
     "metadata": {},
     "output_type": "display_data"
    },
    {
     "data": {
      "text/html": [
       "Run data is saved locally in <code>C:\\Users\\bones\\wandb\\run-20230320_201644-9xyf0sr1</code>"
      ],
      "text/plain": [
       "<IPython.core.display.HTML object>"
      ]
     },
     "metadata": {},
     "output_type": "display_data"
    },
    {
     "data": {
      "text/html": [
       "Syncing run <strong><a href='https://wandb.ai/bs20b012/CS6910/runs/9xyf0sr1' target=\"_blank\">golden-sweep-41</a></strong> to <a href='https://wandb.ai/bs20b012/CS6910' target=\"_blank\">Weights & Biases</a> (<a href='https://wandb.me/run' target=\"_blank\">docs</a>)<br/>Sweep page: <a href='https://wandb.ai/bs20b012/CS6910/sweeps/4c8n6myl' target=\"_blank\">https://wandb.ai/bs20b012/CS6910/sweeps/4c8n6myl</a>"
      ],
      "text/plain": [
       "<IPython.core.display.HTML object>"
      ]
     },
     "metadata": {},
     "output_type": "display_data"
    },
    {
     "data": {
      "text/html": [
       " View project at <a href='https://wandb.ai/bs20b012/CS6910' target=\"_blank\">https://wandb.ai/bs20b012/CS6910</a>"
      ],
      "text/plain": [
       "<IPython.core.display.HTML object>"
      ]
     },
     "metadata": {},
     "output_type": "display_data"
    },
    {
     "data": {
      "text/html": [
       " View sweep at <a href='https://wandb.ai/bs20b012/CS6910/sweeps/4c8n6myl' target=\"_blank\">https://wandb.ai/bs20b012/CS6910/sweeps/4c8n6myl</a>"
      ],
      "text/plain": [
       "<IPython.core.display.HTML object>"
      ]
     },
     "metadata": {},
     "output_type": "display_data"
    },
    {
     "data": {
      "text/html": [
       " View run at <a href='https://wandb.ai/bs20b012/CS6910/runs/9xyf0sr1' target=\"_blank\">https://wandb.ai/bs20b012/CS6910/runs/9xyf0sr1</a>"
      ],
      "text/plain": [
       "<IPython.core.display.HTML object>"
      ]
     },
     "metadata": {},
     "output_type": "display_data"
    },
    {
     "name": "stderr",
     "output_type": "stream",
     "text": [
      "100%|██████████████████████████████████████████████████████████████████████████████████| 10/10 [04:16<00:00, 25.63s/it]"
     ]
    },
    {
     "name": "stdout",
     "output_type": "stream",
     "text": [
      "Training Accuracy: 86.12962962962963\n",
      "Validation Accuracy: 85.26666666666667\n"
     ]
    },
    {
     "name": "stderr",
     "output_type": "stream",
     "text": [
      "\n"
     ]
    },
    {
     "data": {
      "text/html": [
       "Waiting for W&B process to finish... <strong style=\"color:green\">(success).</strong>"
      ],
      "text/plain": [
       "<IPython.core.display.HTML object>"
      ]
     },
     "metadata": {},
     "output_type": "display_data"
    },
    {
     "data": {
      "text/html": [
       "<style>\n",
       "    table.wandb td:nth-child(1) { padding: 0 10px; text-align: left ; width: auto;} td:nth-child(2) {text-align: left ; width: 100%}\n",
       "    .wandb-row { display: flex; flex-direction: row; flex-wrap: wrap; justify-content: flex-start; width: 100% }\n",
       "    .wandb-col { display: flex; flex-direction: column; flex-basis: 100%; flex: 1; padding: 10px; }\n",
       "    </style>\n",
       "<div class=\"wandb-row\"><div class=\"wandb-col\"><h3>Run history:</h3><br/><table class=\"wandb\"><tr><td>Train_Accuracy</td><td>▁▄▆▇▇█████</td></tr><tr><td>Train_Loss</td><td>█▅▃▂▂▁▁▁▁▁</td></tr><tr><td>Validation_Accuracy</td><td>▁▄▇▇▇█████</td></tr><tr><td>Validation_loss</td><td>█▅▃▂▁▁▁▁▁▁</td></tr><tr><td>epoch</td><td>▁▂▃▃▄▅▆▆▇█</td></tr></table><br/></div><div class=\"wandb-col\"><h3>Run summary:</h3><br/><table class=\"wandb\"><tr><td>Train_Accuracy</td><td>86.12963</td></tr><tr><td>Train_Loss</td><td>0.41448</td></tr><tr><td>Validation_Accuracy</td><td>85.26667</td></tr><tr><td>Validation_loss</td><td>0.45054</td></tr><tr><td>epoch</td><td>9</td></tr></table><br/></div></div>"
      ],
      "text/plain": [
       "<IPython.core.display.HTML object>"
      ]
     },
     "metadata": {},
     "output_type": "display_data"
    },
    {
     "data": {
      "text/html": [
       " View run <strong style=\"color:#cdcd00\">golden-sweep-41</strong> at: <a href='https://wandb.ai/bs20b012/CS6910/runs/9xyf0sr1' target=\"_blank\">https://wandb.ai/bs20b012/CS6910/runs/9xyf0sr1</a><br/>Synced 6 W&B file(s), 0 media file(s), 0 artifact file(s) and 0 other file(s)"
      ],
      "text/plain": [
       "<IPython.core.display.HTML object>"
      ]
     },
     "metadata": {},
     "output_type": "display_data"
    },
    {
     "data": {
      "text/html": [
       "Find logs at: <code>.\\wandb\\run-20230320_201644-9xyf0sr1\\logs</code>"
      ],
      "text/plain": [
       "<IPython.core.display.HTML object>"
      ]
     },
     "metadata": {},
     "output_type": "display_data"
    },
    {
     "name": "stderr",
     "output_type": "stream",
     "text": [
      "\u001b[34m\u001b[1mwandb\u001b[0m: Sweep Agent: Waiting for job.\n",
      "\u001b[34m\u001b[1mwandb\u001b[0m: Job received.\n",
      "\u001b[34m\u001b[1mwandb\u001b[0m: Agent Starting Run: 5okfe0ve with config:\n",
      "\u001b[34m\u001b[1mwandb\u001b[0m: \tactivation_function: tanh\n",
      "\u001b[34m\u001b[1mwandb\u001b[0m: \tinitialization_type: random\n",
      "\u001b[34m\u001b[1mwandb\u001b[0m: \tlambd: 0.0005\n",
      "\u001b[34m\u001b[1mwandb\u001b[0m: \tlearning_rate: 0.0001\n",
      "\u001b[34m\u001b[1mwandb\u001b[0m: \tmax_epochs: 10\n",
      "\u001b[34m\u001b[1mwandb\u001b[0m: \tmini_batch_size: 64\n",
      "\u001b[34m\u001b[1mwandb\u001b[0m: \tnumber_hidden_layers: 4\n",
      "\u001b[34m\u001b[1mwandb\u001b[0m: \tnumber_neurons: 64\n",
      "\u001b[34m\u001b[1mwandb\u001b[0m: \toptimization_function: nadam\n"
     ]
    },
    {
     "data": {
      "text/html": [
       "Tracking run with wandb version 0.14.0"
      ],
      "text/plain": [
       "<IPython.core.display.HTML object>"
      ]
     },
     "metadata": {},
     "output_type": "display_data"
    },
    {
     "data": {
      "text/html": [
       "Run data is saved locally in <code>C:\\Users\\bones\\wandb\\run-20230320_202127-5okfe0ve</code>"
      ],
      "text/plain": [
       "<IPython.core.display.HTML object>"
      ]
     },
     "metadata": {},
     "output_type": "display_data"
    },
    {
     "data": {
      "text/html": [
       "Syncing run <strong><a href='https://wandb.ai/bs20b012/CS6910/runs/5okfe0ve' target=\"_blank\">ancient-sweep-42</a></strong> to <a href='https://wandb.ai/bs20b012/CS6910' target=\"_blank\">Weights & Biases</a> (<a href='https://wandb.me/run' target=\"_blank\">docs</a>)<br/>Sweep page: <a href='https://wandb.ai/bs20b012/CS6910/sweeps/4c8n6myl' target=\"_blank\">https://wandb.ai/bs20b012/CS6910/sweeps/4c8n6myl</a>"
      ],
      "text/plain": [
       "<IPython.core.display.HTML object>"
      ]
     },
     "metadata": {},
     "output_type": "display_data"
    },
    {
     "data": {
      "text/html": [
       " View project at <a href='https://wandb.ai/bs20b012/CS6910' target=\"_blank\">https://wandb.ai/bs20b012/CS6910</a>"
      ],
      "text/plain": [
       "<IPython.core.display.HTML object>"
      ]
     },
     "metadata": {},
     "output_type": "display_data"
    },
    {
     "data": {
      "text/html": [
       " View sweep at <a href='https://wandb.ai/bs20b012/CS6910/sweeps/4c8n6myl' target=\"_blank\">https://wandb.ai/bs20b012/CS6910/sweeps/4c8n6myl</a>"
      ],
      "text/plain": [
       "<IPython.core.display.HTML object>"
      ]
     },
     "metadata": {},
     "output_type": "display_data"
    },
    {
     "data": {
      "text/html": [
       " View run at <a href='https://wandb.ai/bs20b012/CS6910/runs/5okfe0ve' target=\"_blank\">https://wandb.ai/bs20b012/CS6910/runs/5okfe0ve</a>"
      ],
      "text/plain": [
       "<IPython.core.display.HTML object>"
      ]
     },
     "metadata": {},
     "output_type": "display_data"
    },
    {
     "name": "stderr",
     "output_type": "stream",
     "text": [
      "100%|██████████████████████████████████████████████████████████████████████████████████| 10/10 [03:50<00:00, 23.09s/it]"
     ]
    },
    {
     "name": "stdout",
     "output_type": "stream",
     "text": [
      "Training Accuracy: 84.77777777777777\n",
      "Validation Accuracy: 83.88333333333333\n"
     ]
    },
    {
     "name": "stderr",
     "output_type": "stream",
     "text": [
      "\n"
     ]
    },
    {
     "data": {
      "text/html": [
       "Waiting for W&B process to finish... <strong style=\"color:green\">(success).</strong>"
      ],
      "text/plain": [
       "<IPython.core.display.HTML object>"
      ]
     },
     "metadata": {},
     "output_type": "display_data"
    },
    {
     "data": {
      "text/html": [
       "<style>\n",
       "    table.wandb td:nth-child(1) { padding: 0 10px; text-align: left ; width: auto;} td:nth-child(2) {text-align: left ; width: 100%}\n",
       "    .wandb-row { display: flex; flex-direction: row; flex-wrap: wrap; justify-content: flex-start; width: 100% }\n",
       "    .wandb-col { display: flex; flex-direction: column; flex-basis: 100%; flex: 1; padding: 10px; }\n",
       "    </style>\n",
       "<div class=\"wandb-row\"><div class=\"wandb-col\"><h3>Run history:</h3><br/><table class=\"wandb\"><tr><td>Train_Accuracy</td><td>▁▅▆▇▇▇████</td></tr><tr><td>Train_Loss</td><td>█▅▄▃▃▂▂▁▁▁</td></tr><tr><td>Validation_Accuracy</td><td>▁▆▆▇▇▇████</td></tr><tr><td>Validation_loss</td><td>█▅▄▃▃▃▂▂▁▁</td></tr><tr><td>epoch</td><td>▁▂▃▃▄▅▆▆▇█</td></tr></table><br/></div><div class=\"wandb-col\"><h3>Run summary:</h3><br/><table class=\"wandb\"><tr><td>Train_Accuracy</td><td>84.77778</td></tr><tr><td>Train_Loss</td><td>0.46861</td></tr><tr><td>Validation_Accuracy</td><td>83.88333</td></tr><tr><td>Validation_loss</td><td>0.50126</td></tr><tr><td>epoch</td><td>9</td></tr></table><br/></div></div>"
      ],
      "text/plain": [
       "<IPython.core.display.HTML object>"
      ]
     },
     "metadata": {},
     "output_type": "display_data"
    },
    {
     "data": {
      "text/html": [
       " View run <strong style=\"color:#cdcd00\">ancient-sweep-42</strong> at: <a href='https://wandb.ai/bs20b012/CS6910/runs/5okfe0ve' target=\"_blank\">https://wandb.ai/bs20b012/CS6910/runs/5okfe0ve</a><br/>Synced 6 W&B file(s), 0 media file(s), 0 artifact file(s) and 0 other file(s)"
      ],
      "text/plain": [
       "<IPython.core.display.HTML object>"
      ]
     },
     "metadata": {},
     "output_type": "display_data"
    },
    {
     "data": {
      "text/html": [
       "Find logs at: <code>.\\wandb\\run-20230320_202127-5okfe0ve\\logs</code>"
      ],
      "text/plain": [
       "<IPython.core.display.HTML object>"
      ]
     },
     "metadata": {},
     "output_type": "display_data"
    },
    {
     "name": "stderr",
     "output_type": "stream",
     "text": [
      "\u001b[34m\u001b[1mwandb\u001b[0m: Agent Starting Run: k394y3g7 with config:\n",
      "\u001b[34m\u001b[1mwandb\u001b[0m: \tactivation_function: tanh\n",
      "\u001b[34m\u001b[1mwandb\u001b[0m: \tinitialization_type: random\n",
      "\u001b[34m\u001b[1mwandb\u001b[0m: \tlambd: 0.0005\n",
      "\u001b[34m\u001b[1mwandb\u001b[0m: \tlearning_rate: 0.0001\n",
      "\u001b[34m\u001b[1mwandb\u001b[0m: \tmax_epochs: 10\n",
      "\u001b[34m\u001b[1mwandb\u001b[0m: \tmini_batch_size: 64\n",
      "\u001b[34m\u001b[1mwandb\u001b[0m: \tnumber_hidden_layers: 5\n",
      "\u001b[34m\u001b[1mwandb\u001b[0m: \tnumber_neurons: 128\n",
      "\u001b[34m\u001b[1mwandb\u001b[0m: \toptimization_function: nadam\n"
     ]
    },
    {
     "data": {
      "application/vnd.jupyter.widget-view+json": {
       "model_id": "2021ab63d9d24535905f71bd313cbeb7",
       "version_major": 2,
       "version_minor": 0
      },
      "text/plain": [
       "VBox(children=(Label(value='Waiting for wandb.init()...\\r'), FloatProgress(value=0.01693333333338766, max=1.0)…"
      ]
     },
     "metadata": {},
     "output_type": "display_data"
    },
    {
     "data": {
      "text/html": [
       "Tracking run with wandb version 0.14.0"
      ],
      "text/plain": [
       "<IPython.core.display.HTML object>"
      ]
     },
     "metadata": {},
     "output_type": "display_data"
    },
    {
     "data": {
      "text/html": [
       "Run data is saved locally in <code>C:\\Users\\bones\\wandb\\run-20230320_202538-k394y3g7</code>"
      ],
      "text/plain": [
       "<IPython.core.display.HTML object>"
      ]
     },
     "metadata": {},
     "output_type": "display_data"
    },
    {
     "data": {
      "text/html": [
       "Syncing run <strong><a href='https://wandb.ai/bs20b012/CS6910/runs/k394y3g7' target=\"_blank\">sweet-sweep-43</a></strong> to <a href='https://wandb.ai/bs20b012/CS6910' target=\"_blank\">Weights & Biases</a> (<a href='https://wandb.me/run' target=\"_blank\">docs</a>)<br/>Sweep page: <a href='https://wandb.ai/bs20b012/CS6910/sweeps/4c8n6myl' target=\"_blank\">https://wandb.ai/bs20b012/CS6910/sweeps/4c8n6myl</a>"
      ],
      "text/plain": [
       "<IPython.core.display.HTML object>"
      ]
     },
     "metadata": {},
     "output_type": "display_data"
    },
    {
     "data": {
      "text/html": [
       " View project at <a href='https://wandb.ai/bs20b012/CS6910' target=\"_blank\">https://wandb.ai/bs20b012/CS6910</a>"
      ],
      "text/plain": [
       "<IPython.core.display.HTML object>"
      ]
     },
     "metadata": {},
     "output_type": "display_data"
    },
    {
     "data": {
      "text/html": [
       " View sweep at <a href='https://wandb.ai/bs20b012/CS6910/sweeps/4c8n6myl' target=\"_blank\">https://wandb.ai/bs20b012/CS6910/sweeps/4c8n6myl</a>"
      ],
      "text/plain": [
       "<IPython.core.display.HTML object>"
      ]
     },
     "metadata": {},
     "output_type": "display_data"
    },
    {
     "data": {
      "text/html": [
       " View run at <a href='https://wandb.ai/bs20b012/CS6910/runs/k394y3g7' target=\"_blank\">https://wandb.ai/bs20b012/CS6910/runs/k394y3g7</a>"
      ],
      "text/plain": [
       "<IPython.core.display.HTML object>"
      ]
     },
     "metadata": {},
     "output_type": "display_data"
    },
    {
     "name": "stderr",
     "output_type": "stream",
     "text": [
      "100%|██████████████████████████████████████████████████████████████████████████████████| 10/10 [14:42<00:00, 88.28s/it]"
     ]
    },
    {
     "name": "stdout",
     "output_type": "stream",
     "text": [
      "Training Accuracy: 86.32222222222222\n",
      "Validation Accuracy: 85.16666666666667\n"
     ]
    },
    {
     "name": "stderr",
     "output_type": "stream",
     "text": [
      "\n"
     ]
    },
    {
     "data": {
      "text/html": [
       "Waiting for W&B process to finish... <strong style=\"color:green\">(success).</strong>"
      ],
      "text/plain": [
       "<IPython.core.display.HTML object>"
      ]
     },
     "metadata": {},
     "output_type": "display_data"
    },
    {
     "data": {
      "text/html": [
       "<style>\n",
       "    table.wandb td:nth-child(1) { padding: 0 10px; text-align: left ; width: auto;} td:nth-child(2) {text-align: left ; width: 100%}\n",
       "    .wandb-row { display: flex; flex-direction: row; flex-wrap: wrap; justify-content: flex-start; width: 100% }\n",
       "    .wandb-col { display: flex; flex-direction: column; flex-basis: 100%; flex: 1; padding: 10px; }\n",
       "    </style>\n",
       "<div class=\"wandb-row\"><div class=\"wandb-col\"><h3>Run history:</h3><br/><table class=\"wandb\"><tr><td>Train_Accuracy</td><td>▁▅▆▇▇█████</td></tr><tr><td>Train_Loss</td><td>█▄▃▂▂▁▁▁▁▁</td></tr><tr><td>Validation_Accuracy</td><td>▁▆▇▇███▇██</td></tr><tr><td>Validation_loss</td><td>█▄▃▂▁▁▁▁▁▁</td></tr><tr><td>epoch</td><td>▁▂▃▃▄▅▆▆▇█</td></tr></table><br/></div><div class=\"wandb-col\"><h3>Run summary:</h3><br/><table class=\"wandb\"><tr><td>Train_Accuracy</td><td>86.32222</td></tr><tr><td>Train_Loss</td><td>0.40763</td></tr><tr><td>Validation_Accuracy</td><td>85.16667</td></tr><tr><td>Validation_loss</td><td>0.45207</td></tr><tr><td>epoch</td><td>9</td></tr></table><br/></div></div>"
      ],
      "text/plain": [
       "<IPython.core.display.HTML object>"
      ]
     },
     "metadata": {},
     "output_type": "display_data"
    },
    {
     "data": {
      "text/html": [
       " View run <strong style=\"color:#cdcd00\">sweet-sweep-43</strong> at: <a href='https://wandb.ai/bs20b012/CS6910/runs/k394y3g7' target=\"_blank\">https://wandb.ai/bs20b012/CS6910/runs/k394y3g7</a><br/>Synced 6 W&B file(s), 0 media file(s), 0 artifact file(s) and 0 other file(s)"
      ],
      "text/plain": [
       "<IPython.core.display.HTML object>"
      ]
     },
     "metadata": {},
     "output_type": "display_data"
    },
    {
     "data": {
      "text/html": [
       "Find logs at: <code>.\\wandb\\run-20230320_202538-k394y3g7\\logs</code>"
      ],
      "text/plain": [
       "<IPython.core.display.HTML object>"
      ]
     },
     "metadata": {},
     "output_type": "display_data"
    },
    {
     "name": "stderr",
     "output_type": "stream",
     "text": [
      "\u001b[34m\u001b[1mwandb\u001b[0m: Agent Starting Run: de3ppxme with config:\n",
      "\u001b[34m\u001b[1mwandb\u001b[0m: \tactivation_function: tanh\n",
      "\u001b[34m\u001b[1mwandb\u001b[0m: \tinitialization_type: random\n",
      "\u001b[34m\u001b[1mwandb\u001b[0m: \tlambd: 0\n",
      "\u001b[34m\u001b[1mwandb\u001b[0m: \tlearning_rate: 0.0001\n",
      "\u001b[34m\u001b[1mwandb\u001b[0m: \tmax_epochs: 5\n",
      "\u001b[34m\u001b[1mwandb\u001b[0m: \tmini_batch_size: 64\n",
      "\u001b[34m\u001b[1mwandb\u001b[0m: \tnumber_hidden_layers: 5\n",
      "\u001b[34m\u001b[1mwandb\u001b[0m: \tnumber_neurons: 128\n",
      "\u001b[34m\u001b[1mwandb\u001b[0m: \toptimization_function: adam\n"
     ]
    },
    {
     "data": {
      "text/html": [
       "Tracking run with wandb version 0.14.0"
      ],
      "text/plain": [
       "<IPython.core.display.HTML object>"
      ]
     },
     "metadata": {},
     "output_type": "display_data"
    },
    {
     "data": {
      "text/html": [
       "Run data is saved locally in <code>C:\\Users\\bones\\wandb\\run-20230320_204102-de3ppxme</code>"
      ],
      "text/plain": [
       "<IPython.core.display.HTML object>"
      ]
     },
     "metadata": {},
     "output_type": "display_data"
    },
    {
     "data": {
      "text/html": [
       "Syncing run <strong><a href='https://wandb.ai/bs20b012/CS6910/runs/de3ppxme' target=\"_blank\">ethereal-sweep-44</a></strong> to <a href='https://wandb.ai/bs20b012/CS6910' target=\"_blank\">Weights & Biases</a> (<a href='https://wandb.me/run' target=\"_blank\">docs</a>)<br/>Sweep page: <a href='https://wandb.ai/bs20b012/CS6910/sweeps/4c8n6myl' target=\"_blank\">https://wandb.ai/bs20b012/CS6910/sweeps/4c8n6myl</a>"
      ],
      "text/plain": [
       "<IPython.core.display.HTML object>"
      ]
     },
     "metadata": {},
     "output_type": "display_data"
    },
    {
     "data": {
      "text/html": [
       " View project at <a href='https://wandb.ai/bs20b012/CS6910' target=\"_blank\">https://wandb.ai/bs20b012/CS6910</a>"
      ],
      "text/plain": [
       "<IPython.core.display.HTML object>"
      ]
     },
     "metadata": {},
     "output_type": "display_data"
    },
    {
     "data": {
      "text/html": [
       " View sweep at <a href='https://wandb.ai/bs20b012/CS6910/sweeps/4c8n6myl' target=\"_blank\">https://wandb.ai/bs20b012/CS6910/sweeps/4c8n6myl</a>"
      ],
      "text/plain": [
       "<IPython.core.display.HTML object>"
      ]
     },
     "metadata": {},
     "output_type": "display_data"
    },
    {
     "data": {
      "text/html": [
       " View run at <a href='https://wandb.ai/bs20b012/CS6910/runs/de3ppxme' target=\"_blank\">https://wandb.ai/bs20b012/CS6910/runs/de3ppxme</a>"
      ],
      "text/plain": [
       "<IPython.core.display.HTML object>"
      ]
     },
     "metadata": {},
     "output_type": "display_data"
    },
    {
     "name": "stderr",
     "output_type": "stream",
     "text": [
      "100%|████████████████████████████████████████████████████████████████████████████████████| 5/5 [06:58<00:00, 83.71s/it]"
     ]
    },
    {
     "name": "stdout",
     "output_type": "stream",
     "text": [
      "Training Accuracy: 73.75\n",
      "Validation Accuracy: 72.46666666666667\n"
     ]
    },
    {
     "name": "stderr",
     "output_type": "stream",
     "text": [
      "\n"
     ]
    },
    {
     "data": {
      "text/html": [
       "Waiting for W&B process to finish... <strong style=\"color:green\">(success).</strong>"
      ],
      "text/plain": [
       "<IPython.core.display.HTML object>"
      ]
     },
     "metadata": {},
     "output_type": "display_data"
    },
    {
     "data": {
      "application/vnd.jupyter.widget-view+json": {
       "model_id": "58283923d5e5425a90c295ae2970ca23",
       "version_major": 2,
       "version_minor": 0
      },
      "text/plain": [
       "VBox(children=(Label(value='0.001 MB of 0.001 MB uploaded (0.000 MB deduped)\\r'), FloatProgress(value=1.0, max…"
      ]
     },
     "metadata": {},
     "output_type": "display_data"
    },
    {
     "data": {
      "text/html": [
       "<style>\n",
       "    table.wandb td:nth-child(1) { padding: 0 10px; text-align: left ; width: auto;} td:nth-child(2) {text-align: left ; width: 100%}\n",
       "    .wandb-row { display: flex; flex-direction: row; flex-wrap: wrap; justify-content: flex-start; width: 100% }\n",
       "    .wandb-col { display: flex; flex-direction: column; flex-basis: 100%; flex: 1; padding: 10px; }\n",
       "    </style>\n",
       "<div class=\"wandb-row\"><div class=\"wandb-col\"><h3>Run history:</h3><br/><table class=\"wandb\"><tr><td>Train_Accuracy</td><td>▁▄▆▇█</td></tr><tr><td>Train_Loss</td><td>█▅▃▂▁</td></tr><tr><td>Validation_Accuracy</td><td>▁▄▆██</td></tr><tr><td>Validation_loss</td><td>█▅▃▂▁</td></tr><tr><td>epoch</td><td>▁▃▅▆█</td></tr></table><br/></div><div class=\"wandb-col\"><h3>Run summary:</h3><br/><table class=\"wandb\"><tr><td>Train_Accuracy</td><td>73.75</td></tr><tr><td>Train_Loss</td><td>0.78118</td></tr><tr><td>Validation_Accuracy</td><td>72.46667</td></tr><tr><td>Validation_loss</td><td>0.80548</td></tr><tr><td>epoch</td><td>4</td></tr></table><br/></div></div>"
      ],
      "text/plain": [
       "<IPython.core.display.HTML object>"
      ]
     },
     "metadata": {},
     "output_type": "display_data"
    },
    {
     "data": {
      "text/html": [
       " View run <strong style=\"color:#cdcd00\">ethereal-sweep-44</strong> at: <a href='https://wandb.ai/bs20b012/CS6910/runs/de3ppxme' target=\"_blank\">https://wandb.ai/bs20b012/CS6910/runs/de3ppxme</a><br/>Synced 6 W&B file(s), 0 media file(s), 0 artifact file(s) and 0 other file(s)"
      ],
      "text/plain": [
       "<IPython.core.display.HTML object>"
      ]
     },
     "metadata": {},
     "output_type": "display_data"
    },
    {
     "data": {
      "text/html": [
       "Find logs at: <code>.\\wandb\\run-20230320_204102-de3ppxme\\logs</code>"
      ],
      "text/plain": [
       "<IPython.core.display.HTML object>"
      ]
     },
     "metadata": {},
     "output_type": "display_data"
    },
    {
     "name": "stderr",
     "output_type": "stream",
     "text": [
      "\u001b[34m\u001b[1mwandb\u001b[0m: Agent Starting Run: ihk3okf4 with config:\n",
      "\u001b[34m\u001b[1mwandb\u001b[0m: \tactivation_function: tanh\n",
      "\u001b[34m\u001b[1mwandb\u001b[0m: \tinitialization_type: xavier\n",
      "\u001b[34m\u001b[1mwandb\u001b[0m: \tlambd: 0.5\n",
      "\u001b[34m\u001b[1mwandb\u001b[0m: \tlearning_rate: 0.0001\n",
      "\u001b[34m\u001b[1mwandb\u001b[0m: \tmax_epochs: 10\n",
      "\u001b[34m\u001b[1mwandb\u001b[0m: \tmini_batch_size: 32\n",
      "\u001b[34m\u001b[1mwandb\u001b[0m: \tnumber_hidden_layers: 4\n",
      "\u001b[34m\u001b[1mwandb\u001b[0m: \tnumber_neurons: 64\n",
      "\u001b[34m\u001b[1mwandb\u001b[0m: \toptimization_function: adam\n"
     ]
    },
    {
     "data": {
      "text/html": [
       "Tracking run with wandb version 0.14.0"
      ],
      "text/plain": [
       "<IPython.core.display.HTML object>"
      ]
     },
     "metadata": {},
     "output_type": "display_data"
    },
    {
     "data": {
      "text/html": [
       "Run data is saved locally in <code>C:\\Users\\bones\\wandb\\run-20230320_204839-ihk3okf4</code>"
      ],
      "text/plain": [
       "<IPython.core.display.HTML object>"
      ]
     },
     "metadata": {},
     "output_type": "display_data"
    },
    {
     "data": {
      "text/html": [
       "Syncing run <strong><a href='https://wandb.ai/bs20b012/CS6910/runs/ihk3okf4' target=\"_blank\">classic-sweep-45</a></strong> to <a href='https://wandb.ai/bs20b012/CS6910' target=\"_blank\">Weights & Biases</a> (<a href='https://wandb.me/run' target=\"_blank\">docs</a>)<br/>Sweep page: <a href='https://wandb.ai/bs20b012/CS6910/sweeps/4c8n6myl' target=\"_blank\">https://wandb.ai/bs20b012/CS6910/sweeps/4c8n6myl</a>"
      ],
      "text/plain": [
       "<IPython.core.display.HTML object>"
      ]
     },
     "metadata": {},
     "output_type": "display_data"
    },
    {
     "data": {
      "text/html": [
       " View project at <a href='https://wandb.ai/bs20b012/CS6910' target=\"_blank\">https://wandb.ai/bs20b012/CS6910</a>"
      ],
      "text/plain": [
       "<IPython.core.display.HTML object>"
      ]
     },
     "metadata": {},
     "output_type": "display_data"
    },
    {
     "data": {
      "text/html": [
       " View sweep at <a href='https://wandb.ai/bs20b012/CS6910/sweeps/4c8n6myl' target=\"_blank\">https://wandb.ai/bs20b012/CS6910/sweeps/4c8n6myl</a>"
      ],
      "text/plain": [
       "<IPython.core.display.HTML object>"
      ]
     },
     "metadata": {},
     "output_type": "display_data"
    },
    {
     "data": {
      "text/html": [
       " View run at <a href='https://wandb.ai/bs20b012/CS6910/runs/ihk3okf4' target=\"_blank\">https://wandb.ai/bs20b012/CS6910/runs/ihk3okf4</a>"
      ],
      "text/plain": [
       "<IPython.core.display.HTML object>"
      ]
     },
     "metadata": {},
     "output_type": "display_data"
    },
    {
     "name": "stderr",
     "output_type": "stream",
     "text": [
      "100%|██████████████████████████████████████████████████████████████████████████████████| 10/10 [04:01<00:00, 24.15s/it]"
     ]
    },
    {
     "name": "stdout",
     "output_type": "stream",
     "text": [
      "Training Accuracy: 86.47777777777777\n",
      "Validation Accuracy: 85.21666666666667\n"
     ]
    },
    {
     "name": "stderr",
     "output_type": "stream",
     "text": [
      "\n"
     ]
    },
    {
     "data": {
      "text/html": [
       "Waiting for W&B process to finish... <strong style=\"color:green\">(success).</strong>"
      ],
      "text/plain": [
       "<IPython.core.display.HTML object>"
      ]
     },
     "metadata": {},
     "output_type": "display_data"
    },
    {
     "data": {
      "text/html": [
       "<style>\n",
       "    table.wandb td:nth-child(1) { padding: 0 10px; text-align: left ; width: auto;} td:nth-child(2) {text-align: left ; width: 100%}\n",
       "    .wandb-row { display: flex; flex-direction: row; flex-wrap: wrap; justify-content: flex-start; width: 100% }\n",
       "    .wandb-col { display: flex; flex-direction: column; flex-basis: 100%; flex: 1; padding: 10px; }\n",
       "    </style>\n",
       "<div class=\"wandb-row\"><div class=\"wandb-col\"><h3>Run history:</h3><br/><table class=\"wandb\"><tr><td>Train_Accuracy</td><td>▁▄▅▆▆▇▇███</td></tr><tr><td>Train_Loss</td><td>█▅▄▃▂▂▂▁▁▁</td></tr><tr><td>Validation_Accuracy</td><td>▁▄▅▆▆▇▇███</td></tr><tr><td>Validation_loss</td><td>█▅▄▃▂▁▁▁▁▂</td></tr><tr><td>epoch</td><td>▁▂▃▃▄▅▆▆▇█</td></tr></table><br/></div><div class=\"wandb-col\"><h3>Run summary:</h3><br/><table class=\"wandb\"><tr><td>Train_Accuracy</td><td>86.47778</td></tr><tr><td>Train_Loss</td><td>0.39449</td></tr><tr><td>Validation_Accuracy</td><td>85.21667</td></tr><tr><td>Validation_loss</td><td>0.46555</td></tr><tr><td>epoch</td><td>9</td></tr></table><br/></div></div>"
      ],
      "text/plain": [
       "<IPython.core.display.HTML object>"
      ]
     },
     "metadata": {},
     "output_type": "display_data"
    },
    {
     "data": {
      "text/html": [
       " View run <strong style=\"color:#cdcd00\">classic-sweep-45</strong> at: <a href='https://wandb.ai/bs20b012/CS6910/runs/ihk3okf4' target=\"_blank\">https://wandb.ai/bs20b012/CS6910/runs/ihk3okf4</a><br/>Synced 6 W&B file(s), 0 media file(s), 0 artifact file(s) and 0 other file(s)"
      ],
      "text/plain": [
       "<IPython.core.display.HTML object>"
      ]
     },
     "metadata": {},
     "output_type": "display_data"
    },
    {
     "data": {
      "text/html": [
       "Find logs at: <code>.\\wandb\\run-20230320_204839-ihk3okf4\\logs</code>"
      ],
      "text/plain": [
       "<IPython.core.display.HTML object>"
      ]
     },
     "metadata": {},
     "output_type": "display_data"
    },
    {
     "name": "stderr",
     "output_type": "stream",
     "text": [
      "\u001b[34m\u001b[1mwandb\u001b[0m: Sweep Agent: Waiting for job.\n",
      "\u001b[34m\u001b[1mwandb\u001b[0m: Job received.\n",
      "\u001b[34m\u001b[1mwandb\u001b[0m: Agent Starting Run: 5nuq1jhc with config:\n",
      "\u001b[34m\u001b[1mwandb\u001b[0m: \tactivation_function: sigmoid\n",
      "\u001b[34m\u001b[1mwandb\u001b[0m: \tinitialization_type: xavier\n",
      "\u001b[34m\u001b[1mwandb\u001b[0m: \tlambd: 0.5\n",
      "\u001b[34m\u001b[1mwandb\u001b[0m: \tlearning_rate: 0.0001\n",
      "\u001b[34m\u001b[1mwandb\u001b[0m: \tmax_epochs: 5\n",
      "\u001b[34m\u001b[1mwandb\u001b[0m: \tmini_batch_size: 64\n",
      "\u001b[34m\u001b[1mwandb\u001b[0m: \tnumber_hidden_layers: 5\n",
      "\u001b[34m\u001b[1mwandb\u001b[0m: \tnumber_neurons: 64\n",
      "\u001b[34m\u001b[1mwandb\u001b[0m: \toptimization_function: nadam\n"
     ]
    },
    {
     "data": {
      "text/html": [
       "Tracking run with wandb version 0.14.0"
      ],
      "text/plain": [
       "<IPython.core.display.HTML object>"
      ]
     },
     "metadata": {},
     "output_type": "display_data"
    },
    {
     "data": {
      "text/html": [
       "Run data is saved locally in <code>C:\\Users\\bones\\wandb\\run-20230320_205309-5nuq1jhc</code>"
      ],
      "text/plain": [
       "<IPython.core.display.HTML object>"
      ]
     },
     "metadata": {},
     "output_type": "display_data"
    },
    {
     "data": {
      "text/html": [
       "Syncing run <strong><a href='https://wandb.ai/bs20b012/CS6910/runs/5nuq1jhc' target=\"_blank\">charmed-sweep-46</a></strong> to <a href='https://wandb.ai/bs20b012/CS6910' target=\"_blank\">Weights & Biases</a> (<a href='https://wandb.me/run' target=\"_blank\">docs</a>)<br/>Sweep page: <a href='https://wandb.ai/bs20b012/CS6910/sweeps/4c8n6myl' target=\"_blank\">https://wandb.ai/bs20b012/CS6910/sweeps/4c8n6myl</a>"
      ],
      "text/plain": [
       "<IPython.core.display.HTML object>"
      ]
     },
     "metadata": {},
     "output_type": "display_data"
    },
    {
     "data": {
      "text/html": [
       " View project at <a href='https://wandb.ai/bs20b012/CS6910' target=\"_blank\">https://wandb.ai/bs20b012/CS6910</a>"
      ],
      "text/plain": [
       "<IPython.core.display.HTML object>"
      ]
     },
     "metadata": {},
     "output_type": "display_data"
    },
    {
     "data": {
      "text/html": [
       " View sweep at <a href='https://wandb.ai/bs20b012/CS6910/sweeps/4c8n6myl' target=\"_blank\">https://wandb.ai/bs20b012/CS6910/sweeps/4c8n6myl</a>"
      ],
      "text/plain": [
       "<IPython.core.display.HTML object>"
      ]
     },
     "metadata": {},
     "output_type": "display_data"
    },
    {
     "data": {
      "text/html": [
       " View run at <a href='https://wandb.ai/bs20b012/CS6910/runs/5nuq1jhc' target=\"_blank\">https://wandb.ai/bs20b012/CS6910/runs/5nuq1jhc</a>"
      ],
      "text/plain": [
       "<IPython.core.display.HTML object>"
      ]
     },
     "metadata": {},
     "output_type": "display_data"
    },
    {
     "name": "stderr",
     "output_type": "stream",
     "text": [
      "100%|████████████████████████████████████████████████████████████████████████████████████| 5/5 [02:32<00:00, 30.56s/it]"
     ]
    },
    {
     "name": "stdout",
     "output_type": "stream",
     "text": [
      "Training Accuracy: 83.9925925925926\n",
      "Validation Accuracy: 83.98333333333333\n"
     ]
    },
    {
     "name": "stderr",
     "output_type": "stream",
     "text": [
      "\n"
     ]
    },
    {
     "data": {
      "text/html": [
       "Waiting for W&B process to finish... <strong style=\"color:green\">(success).</strong>"
      ],
      "text/plain": [
       "<IPython.core.display.HTML object>"
      ]
     },
     "metadata": {},
     "output_type": "display_data"
    },
    {
     "data": {
      "application/vnd.jupyter.widget-view+json": {
       "model_id": "04e11b3e026c4cf2b097d6de92779725",
       "version_major": 2,
       "version_minor": 0
      },
      "text/plain": [
       "VBox(children=(Label(value='0.001 MB of 0.001 MB uploaded (0.000 MB deduped)\\r'), FloatProgress(value=1.0, max…"
      ]
     },
     "metadata": {},
     "output_type": "display_data"
    },
    {
     "data": {
      "text/html": [
       "<style>\n",
       "    table.wandb td:nth-child(1) { padding: 0 10px; text-align: left ; width: auto;} td:nth-child(2) {text-align: left ; width: 100%}\n",
       "    .wandb-row { display: flex; flex-direction: row; flex-wrap: wrap; justify-content: flex-start; width: 100% }\n",
       "    .wandb-col { display: flex; flex-direction: column; flex-basis: 100%; flex: 1; padding: 10px; }\n",
       "    </style>\n",
       "<div class=\"wandb-row\"><div class=\"wandb-col\"><h3>Run history:</h3><br/><table class=\"wandb\"><tr><td>Train_Accuracy</td><td>▁▆▇██</td></tr><tr><td>Train_Loss</td><td>▂▁▃▅█</td></tr><tr><td>Validation_Accuracy</td><td>▁▆▇██</td></tr><tr><td>Validation_loss</td><td>▁▃▅▆█</td></tr><tr><td>epoch</td><td>▁▃▅▆█</td></tr></table><br/></div><div class=\"wandb-col\"><h3>Run summary:</h3><br/><table class=\"wandb\"><tr><td>Train_Accuracy</td><td>83.99259</td></tr><tr><td>Train_Loss</td><td>0.78338</td></tr><tr><td>Validation_Accuracy</td><td>83.98333</td></tr><tr><td>Validation_loss</td><td>3.16374</td></tr><tr><td>epoch</td><td>4</td></tr></table><br/></div></div>"
      ],
      "text/plain": [
       "<IPython.core.display.HTML object>"
      ]
     },
     "metadata": {},
     "output_type": "display_data"
    },
    {
     "data": {
      "text/html": [
       " View run <strong style=\"color:#cdcd00\">charmed-sweep-46</strong> at: <a href='https://wandb.ai/bs20b012/CS6910/runs/5nuq1jhc' target=\"_blank\">https://wandb.ai/bs20b012/CS6910/runs/5nuq1jhc</a><br/>Synced 6 W&B file(s), 0 media file(s), 0 artifact file(s) and 0 other file(s)"
      ],
      "text/plain": [
       "<IPython.core.display.HTML object>"
      ]
     },
     "metadata": {},
     "output_type": "display_data"
    },
    {
     "data": {
      "text/html": [
       "Find logs at: <code>.\\wandb\\run-20230320_205309-5nuq1jhc\\logs</code>"
      ],
      "text/plain": [
       "<IPython.core.display.HTML object>"
      ]
     },
     "metadata": {},
     "output_type": "display_data"
    },
    {
     "name": "stderr",
     "output_type": "stream",
     "text": [
      "\u001b[34m\u001b[1mwandb\u001b[0m: Agent Starting Run: dqvm979h with config:\n",
      "\u001b[34m\u001b[1mwandb\u001b[0m: \tactivation_function: relu\n",
      "\u001b[34m\u001b[1mwandb\u001b[0m: \tinitialization_type: xavier\n",
      "\u001b[34m\u001b[1mwandb\u001b[0m: \tlambd: 0.0005\n",
      "\u001b[34m\u001b[1mwandb\u001b[0m: \tlearning_rate: 0.0001\n",
      "\u001b[34m\u001b[1mwandb\u001b[0m: \tmax_epochs: 10\n",
      "\u001b[34m\u001b[1mwandb\u001b[0m: \tmini_batch_size: 64\n",
      "\u001b[34m\u001b[1mwandb\u001b[0m: \tnumber_hidden_layers: 5\n",
      "\u001b[34m\u001b[1mwandb\u001b[0m: \tnumber_neurons: 64\n",
      "\u001b[34m\u001b[1mwandb\u001b[0m: \toptimization_function: nadam\n"
     ]
    },
    {
     "data": {
      "text/html": [
       "Tracking run with wandb version 0.14.0"
      ],
      "text/plain": [
       "<IPython.core.display.HTML object>"
      ]
     },
     "metadata": {},
     "output_type": "display_data"
    },
    {
     "data": {
      "text/html": [
       "Run data is saved locally in <code>C:\\Users\\bones\\wandb\\run-20230320_205601-dqvm979h</code>"
      ],
      "text/plain": [
       "<IPython.core.display.HTML object>"
      ]
     },
     "metadata": {},
     "output_type": "display_data"
    },
    {
     "data": {
      "text/html": [
       "Syncing run <strong><a href='https://wandb.ai/bs20b012/CS6910/runs/dqvm979h' target=\"_blank\">silvery-sweep-47</a></strong> to <a href='https://wandb.ai/bs20b012/CS6910' target=\"_blank\">Weights & Biases</a> (<a href='https://wandb.me/run' target=\"_blank\">docs</a>)<br/>Sweep page: <a href='https://wandb.ai/bs20b012/CS6910/sweeps/4c8n6myl' target=\"_blank\">https://wandb.ai/bs20b012/CS6910/sweeps/4c8n6myl</a>"
      ],
      "text/plain": [
       "<IPython.core.display.HTML object>"
      ]
     },
     "metadata": {},
     "output_type": "display_data"
    },
    {
     "data": {
      "text/html": [
       " View project at <a href='https://wandb.ai/bs20b012/CS6910' target=\"_blank\">https://wandb.ai/bs20b012/CS6910</a>"
      ],
      "text/plain": [
       "<IPython.core.display.HTML object>"
      ]
     },
     "metadata": {},
     "output_type": "display_data"
    },
    {
     "data": {
      "text/html": [
       " View sweep at <a href='https://wandb.ai/bs20b012/CS6910/sweeps/4c8n6myl' target=\"_blank\">https://wandb.ai/bs20b012/CS6910/sweeps/4c8n6myl</a>"
      ],
      "text/plain": [
       "<IPython.core.display.HTML object>"
      ]
     },
     "metadata": {},
     "output_type": "display_data"
    },
    {
     "data": {
      "text/html": [
       " View run at <a href='https://wandb.ai/bs20b012/CS6910/runs/dqvm979h' target=\"_blank\">https://wandb.ai/bs20b012/CS6910/runs/dqvm979h</a>"
      ],
      "text/plain": [
       "<IPython.core.display.HTML object>"
      ]
     },
     "metadata": {},
     "output_type": "display_data"
    },
    {
     "name": "stderr",
     "output_type": "stream",
     "text": [
      "100%|██████████████████████████████████████████████████████████████████████████████████| 10/10 [04:46<00:00, 28.62s/it]"
     ]
    },
    {
     "name": "stdout",
     "output_type": "stream",
     "text": [
      "Training Accuracy: 10.048148148148147\n",
      "Validation Accuracy: 9.566666666666666\n"
     ]
    },
    {
     "name": "stderr",
     "output_type": "stream",
     "text": [
      "\n"
     ]
    },
    {
     "data": {
      "text/html": [
       "Waiting for W&B process to finish... <strong style=\"color:green\">(success).</strong>"
      ],
      "text/plain": [
       "<IPython.core.display.HTML object>"
      ]
     },
     "metadata": {},
     "output_type": "display_data"
    },
    {
     "data": {
      "text/html": [
       "<style>\n",
       "    table.wandb td:nth-child(1) { padding: 0 10px; text-align: left ; width: auto;} td:nth-child(2) {text-align: left ; width: 100%}\n",
       "    .wandb-row { display: flex; flex-direction: row; flex-wrap: wrap; justify-content: flex-start; width: 100% }\n",
       "    .wandb-col { display: flex; flex-direction: column; flex-basis: 100%; flex: 1; padding: 10px; }\n",
       "    </style>\n",
       "<div class=\"wandb-row\"><div class=\"wandb-col\"><h3>Run history:</h3><br/><table class=\"wandb\"><tr><td>Train_Accuracy</td><td>█▁▁▁▁▁▁▁▁▁</td></tr><tr><td>Validation_Accuracy</td><td>█▁▁▁▁▁▁▁▁▁</td></tr><tr><td>epoch</td><td>▁▂▃▃▄▅▆▆▇█</td></tr></table><br/></div><div class=\"wandb-col\"><h3>Run summary:</h3><br/><table class=\"wandb\"><tr><td>Train_Accuracy</td><td>10.04815</td></tr><tr><td>Train_Loss</td><td>nan</td></tr><tr><td>Validation_Accuracy</td><td>9.56667</td></tr><tr><td>Validation_loss</td><td>nan</td></tr><tr><td>epoch</td><td>9</td></tr></table><br/></div></div>"
      ],
      "text/plain": [
       "<IPython.core.display.HTML object>"
      ]
     },
     "metadata": {},
     "output_type": "display_data"
    },
    {
     "data": {
      "text/html": [
       " View run <strong style=\"color:#cdcd00\">silvery-sweep-47</strong> at: <a href='https://wandb.ai/bs20b012/CS6910/runs/dqvm979h' target=\"_blank\">https://wandb.ai/bs20b012/CS6910/runs/dqvm979h</a><br/>Synced 6 W&B file(s), 0 media file(s), 0 artifact file(s) and 0 other file(s)"
      ],
      "text/plain": [
       "<IPython.core.display.HTML object>"
      ]
     },
     "metadata": {},
     "output_type": "display_data"
    },
    {
     "data": {
      "text/html": [
       "Find logs at: <code>.\\wandb\\run-20230320_205601-dqvm979h\\logs</code>"
      ],
      "text/plain": [
       "<IPython.core.display.HTML object>"
      ]
     },
     "metadata": {},
     "output_type": "display_data"
    },
    {
     "name": "stderr",
     "output_type": "stream",
     "text": [
      "\u001b[34m\u001b[1mwandb\u001b[0m: Agent Starting Run: w6opngly with config:\n",
      "\u001b[34m\u001b[1mwandb\u001b[0m: \tactivation_function: tanh\n",
      "\u001b[34m\u001b[1mwandb\u001b[0m: \tinitialization_type: xavier\n",
      "\u001b[34m\u001b[1mwandb\u001b[0m: \tlambd: 0\n",
      "\u001b[34m\u001b[1mwandb\u001b[0m: \tlearning_rate: 0.0001\n",
      "\u001b[34m\u001b[1mwandb\u001b[0m: \tmax_epochs: 10\n",
      "\u001b[34m\u001b[1mwandb\u001b[0m: \tmini_batch_size: 64\n",
      "\u001b[34m\u001b[1mwandb\u001b[0m: \tnumber_hidden_layers: 4\n",
      "\u001b[34m\u001b[1mwandb\u001b[0m: \tnumber_neurons: 64\n",
      "\u001b[34m\u001b[1mwandb\u001b[0m: \toptimization_function: nadam\n"
     ]
    },
    {
     "data": {
      "text/html": [
       "Tracking run with wandb version 0.14.0"
      ],
      "text/plain": [
       "<IPython.core.display.HTML object>"
      ]
     },
     "metadata": {},
     "output_type": "display_data"
    },
    {
     "data": {
      "text/html": [
       "Run data is saved locally in <code>C:\\Users\\bones\\wandb\\run-20230320_210109-w6opngly</code>"
      ],
      "text/plain": [
       "<IPython.core.display.HTML object>"
      ]
     },
     "metadata": {},
     "output_type": "display_data"
    },
    {
     "data": {
      "text/html": [
       "Syncing run <strong><a href='https://wandb.ai/bs20b012/CS6910/runs/w6opngly' target=\"_blank\">fanciful-sweep-48</a></strong> to <a href='https://wandb.ai/bs20b012/CS6910' target=\"_blank\">Weights & Biases</a> (<a href='https://wandb.me/run' target=\"_blank\">docs</a>)<br/>Sweep page: <a href='https://wandb.ai/bs20b012/CS6910/sweeps/4c8n6myl' target=\"_blank\">https://wandb.ai/bs20b012/CS6910/sweeps/4c8n6myl</a>"
      ],
      "text/plain": [
       "<IPython.core.display.HTML object>"
      ]
     },
     "metadata": {},
     "output_type": "display_data"
    },
    {
     "data": {
      "text/html": [
       " View project at <a href='https://wandb.ai/bs20b012/CS6910' target=\"_blank\">https://wandb.ai/bs20b012/CS6910</a>"
      ],
      "text/plain": [
       "<IPython.core.display.HTML object>"
      ]
     },
     "metadata": {},
     "output_type": "display_data"
    },
    {
     "data": {
      "text/html": [
       " View sweep at <a href='https://wandb.ai/bs20b012/CS6910/sweeps/4c8n6myl' target=\"_blank\">https://wandb.ai/bs20b012/CS6910/sweeps/4c8n6myl</a>"
      ],
      "text/plain": [
       "<IPython.core.display.HTML object>"
      ]
     },
     "metadata": {},
     "output_type": "display_data"
    },
    {
     "data": {
      "text/html": [
       " View run at <a href='https://wandb.ai/bs20b012/CS6910/runs/w6opngly' target=\"_blank\">https://wandb.ai/bs20b012/CS6910/runs/w6opngly</a>"
      ],
      "text/plain": [
       "<IPython.core.display.HTML object>"
      ]
     },
     "metadata": {},
     "output_type": "display_data"
    },
    {
     "name": "stderr",
     "output_type": "stream",
     "text": [
      "100%|██████████████████████████████████████████████████████████████████████████████████| 10/10 [04:15<00:00, 25.55s/it]"
     ]
    },
    {
     "name": "stdout",
     "output_type": "stream",
     "text": [
      "Training Accuracy: 88.32962962962962\n",
      "Validation Accuracy: 86.73333333333333\n"
     ]
    },
    {
     "name": "stderr",
     "output_type": "stream",
     "text": [
      "\n"
     ]
    },
    {
     "data": {
      "text/html": [
       "Waiting for W&B process to finish... <strong style=\"color:green\">(success).</strong>"
      ],
      "text/plain": [
       "<IPython.core.display.HTML object>"
      ]
     },
     "metadata": {},
     "output_type": "display_data"
    },
    {
     "data": {
      "text/html": [
       "<style>\n",
       "    table.wandb td:nth-child(1) { padding: 0 10px; text-align: left ; width: auto;} td:nth-child(2) {text-align: left ; width: 100%}\n",
       "    .wandb-row { display: flex; flex-direction: row; flex-wrap: wrap; justify-content: flex-start; width: 100% }\n",
       "    .wandb-col { display: flex; flex-direction: column; flex-basis: 100%; flex: 1; padding: 10px; }\n",
       "    </style>\n",
       "<div class=\"wandb-row\"><div class=\"wandb-col\"><h3>Run history:</h3><br/><table class=\"wandb\"><tr><td>Train_Accuracy</td><td>▁▅▆▇▇▇▇███</td></tr><tr><td>Train_Loss</td><td>█▄▃▂▂▂▁▁▁▁</td></tr><tr><td>Validation_Accuracy</td><td>▁▅▆▇▇█████</td></tr><tr><td>Validation_loss</td><td>█▄▃▂▂▂▂▁▁▁</td></tr><tr><td>epoch</td><td>▁▂▃▃▄▅▆▆▇█</td></tr></table><br/></div><div class=\"wandb-col\"><h3>Run summary:</h3><br/><table class=\"wandb\"><tr><td>Train_Accuracy</td><td>88.32963</td></tr><tr><td>Train_Loss</td><td>0.34227</td></tr><tr><td>Validation_Accuracy</td><td>86.73333</td></tr><tr><td>Validation_loss</td><td>0.38594</td></tr><tr><td>epoch</td><td>9</td></tr></table><br/></div></div>"
      ],
      "text/plain": [
       "<IPython.core.display.HTML object>"
      ]
     },
     "metadata": {},
     "output_type": "display_data"
    },
    {
     "data": {
      "text/html": [
       " View run <strong style=\"color:#cdcd00\">fanciful-sweep-48</strong> at: <a href='https://wandb.ai/bs20b012/CS6910/runs/w6opngly' target=\"_blank\">https://wandb.ai/bs20b012/CS6910/runs/w6opngly</a><br/>Synced 6 W&B file(s), 0 media file(s), 0 artifact file(s) and 0 other file(s)"
      ],
      "text/plain": [
       "<IPython.core.display.HTML object>"
      ]
     },
     "metadata": {},
     "output_type": "display_data"
    },
    {
     "data": {
      "text/html": [
       "Find logs at: <code>.\\wandb\\run-20230320_210109-w6opngly\\logs</code>"
      ],
      "text/plain": [
       "<IPython.core.display.HTML object>"
      ]
     },
     "metadata": {},
     "output_type": "display_data"
    },
    {
     "name": "stderr",
     "output_type": "stream",
     "text": [
      "\u001b[34m\u001b[1mwandb\u001b[0m: Agent Starting Run: ry0p85op with config:\n",
      "\u001b[34m\u001b[1mwandb\u001b[0m: \tactivation_function: sigmoid\n",
      "\u001b[34m\u001b[1mwandb\u001b[0m: \tinitialization_type: random\n",
      "\u001b[34m\u001b[1mwandb\u001b[0m: \tlambd: 0.5\n",
      "\u001b[34m\u001b[1mwandb\u001b[0m: \tlearning_rate: 0.0001\n",
      "\u001b[34m\u001b[1mwandb\u001b[0m: \tmax_epochs: 5\n",
      "\u001b[34m\u001b[1mwandb\u001b[0m: \tmini_batch_size: 64\n",
      "\u001b[34m\u001b[1mwandb\u001b[0m: \tnumber_hidden_layers: 4\n",
      "\u001b[34m\u001b[1mwandb\u001b[0m: \tnumber_neurons: 64\n",
      "\u001b[34m\u001b[1mwandb\u001b[0m: \toptimization_function: adam\n"
     ]
    },
    {
     "data": {
      "text/html": [
       "Tracking run with wandb version 0.14.0"
      ],
      "text/plain": [
       "<IPython.core.display.HTML object>"
      ]
     },
     "metadata": {},
     "output_type": "display_data"
    },
    {
     "data": {
      "text/html": [
       "Run data is saved locally in <code>C:\\Users\\bones\\wandb\\run-20230320_210544-ry0p85op</code>"
      ],
      "text/plain": [
       "<IPython.core.display.HTML object>"
      ]
     },
     "metadata": {},
     "output_type": "display_data"
    },
    {
     "data": {
      "text/html": [
       "Syncing run <strong><a href='https://wandb.ai/bs20b012/CS6910/runs/ry0p85op' target=\"_blank\">atomic-sweep-49</a></strong> to <a href='https://wandb.ai/bs20b012/CS6910' target=\"_blank\">Weights & Biases</a> (<a href='https://wandb.me/run' target=\"_blank\">docs</a>)<br/>Sweep page: <a href='https://wandb.ai/bs20b012/CS6910/sweeps/4c8n6myl' target=\"_blank\">https://wandb.ai/bs20b012/CS6910/sweeps/4c8n6myl</a>"
      ],
      "text/plain": [
       "<IPython.core.display.HTML object>"
      ]
     },
     "metadata": {},
     "output_type": "display_data"
    },
    {
     "data": {
      "text/html": [
       " View project at <a href='https://wandb.ai/bs20b012/CS6910' target=\"_blank\">https://wandb.ai/bs20b012/CS6910</a>"
      ],
      "text/plain": [
       "<IPython.core.display.HTML object>"
      ]
     },
     "metadata": {},
     "output_type": "display_data"
    },
    {
     "data": {
      "text/html": [
       " View sweep at <a href='https://wandb.ai/bs20b012/CS6910/sweeps/4c8n6myl' target=\"_blank\">https://wandb.ai/bs20b012/CS6910/sweeps/4c8n6myl</a>"
      ],
      "text/plain": [
       "<IPython.core.display.HTML object>"
      ]
     },
     "metadata": {},
     "output_type": "display_data"
    },
    {
     "data": {
      "text/html": [
       " View run at <a href='https://wandb.ai/bs20b012/CS6910/runs/ry0p85op' target=\"_blank\">https://wandb.ai/bs20b012/CS6910/runs/ry0p85op</a>"
      ],
      "text/plain": [
       "<IPython.core.display.HTML object>"
      ]
     },
     "metadata": {},
     "output_type": "display_data"
    },
    {
     "name": "stderr",
     "output_type": "stream",
     "text": [
      "100%|████████████████████████████████████████████████████████████████████████████████████| 5/5 [02:34<00:00, 30.88s/it]"
     ]
    },
    {
     "name": "stdout",
     "output_type": "stream",
     "text": [
      "Training Accuracy: 10.048148148148147\n",
      "Validation Accuracy: 9.566666666666666\n"
     ]
    },
    {
     "name": "stderr",
     "output_type": "stream",
     "text": [
      "\n"
     ]
    },
    {
     "data": {
      "text/html": [
       "Waiting for W&B process to finish... <strong style=\"color:green\">(success).</strong>"
      ],
      "text/plain": [
       "<IPython.core.display.HTML object>"
      ]
     },
     "metadata": {},
     "output_type": "display_data"
    },
    {
     "data": {
      "application/vnd.jupyter.widget-view+json": {
       "model_id": "7b561fa779e44ab188ab9855db87121c",
       "version_major": 2,
       "version_minor": 0
      },
      "text/plain": [
       "VBox(children=(Label(value='0.001 MB of 0.001 MB uploaded (0.000 MB deduped)\\r'), FloatProgress(value=1.0, max…"
      ]
     },
     "metadata": {},
     "output_type": "display_data"
    },
    {
     "data": {
      "text/html": [
       "<style>\n",
       "    table.wandb td:nth-child(1) { padding: 0 10px; text-align: left ; width: auto;} td:nth-child(2) {text-align: left ; width: 100%}\n",
       "    .wandb-row { display: flex; flex-direction: row; flex-wrap: wrap; justify-content: flex-start; width: 100% }\n",
       "    .wandb-col { display: flex; flex-direction: column; flex-basis: 100%; flex: 1; padding: 10px; }\n",
       "    </style>\n",
       "<div class=\"wandb-row\"><div class=\"wandb-col\"><h3>Run history:</h3><br/><table class=\"wandb\"><tr><td>Train_Accuracy</td><td>█▁▁▁▁</td></tr><tr><td>Train_Loss</td><td>▁▄▆▇█</td></tr><tr><td>Validation_Accuracy</td><td>█▁▁▁▁</td></tr><tr><td>Validation_loss</td><td>▁▄▅▇█</td></tr><tr><td>epoch</td><td>▁▃▅▆█</td></tr></table><br/></div><div class=\"wandb-col\"><h3>Run summary:</h3><br/><table class=\"wandb\"><tr><td>Train_Accuracy</td><td>10.04815</td></tr><tr><td>Train_Loss</td><td>3.32139</td></tr><tr><td>Validation_Accuracy</td><td>9.56667</td></tr><tr><td>Validation_loss</td><td>11.96027</td></tr><tr><td>epoch</td><td>4</td></tr></table><br/></div></div>"
      ],
      "text/plain": [
       "<IPython.core.display.HTML object>"
      ]
     },
     "metadata": {},
     "output_type": "display_data"
    },
    {
     "data": {
      "text/html": [
       " View run <strong style=\"color:#cdcd00\">atomic-sweep-49</strong> at: <a href='https://wandb.ai/bs20b012/CS6910/runs/ry0p85op' target=\"_blank\">https://wandb.ai/bs20b012/CS6910/runs/ry0p85op</a><br/>Synced 6 W&B file(s), 0 media file(s), 0 artifact file(s) and 0 other file(s)"
      ],
      "text/plain": [
       "<IPython.core.display.HTML object>"
      ]
     },
     "metadata": {},
     "output_type": "display_data"
    },
    {
     "data": {
      "text/html": [
       "Find logs at: <code>.\\wandb\\run-20230320_210544-ry0p85op\\logs</code>"
      ],
      "text/plain": [
       "<IPython.core.display.HTML object>"
      ]
     },
     "metadata": {},
     "output_type": "display_data"
    },
    {
     "name": "stderr",
     "output_type": "stream",
     "text": [
      "\u001b[34m\u001b[1mwandb\u001b[0m: Agent Starting Run: 92oogz2j with config:\n",
      "\u001b[34m\u001b[1mwandb\u001b[0m: \tactivation_function: tanh\n",
      "\u001b[34m\u001b[1mwandb\u001b[0m: \tinitialization_type: xavier\n",
      "\u001b[34m\u001b[1mwandb\u001b[0m: \tlambd: 0.5\n",
      "\u001b[34m\u001b[1mwandb\u001b[0m: \tlearning_rate: 0.0001\n",
      "\u001b[34m\u001b[1mwandb\u001b[0m: \tmax_epochs: 10\n",
      "\u001b[34m\u001b[1mwandb\u001b[0m: \tmini_batch_size: 64\n",
      "\u001b[34m\u001b[1mwandb\u001b[0m: \tnumber_hidden_layers: 5\n",
      "\u001b[34m\u001b[1mwandb\u001b[0m: \tnumber_neurons: 64\n",
      "\u001b[34m\u001b[1mwandb\u001b[0m: \toptimization_function: nadam\n"
     ]
    },
    {
     "data": {
      "text/html": [
       "Tracking run with wandb version 0.14.0"
      ],
      "text/plain": [
       "<IPython.core.display.HTML object>"
      ]
     },
     "metadata": {},
     "output_type": "display_data"
    },
    {
     "data": {
      "text/html": [
       "Run data is saved locally in <code>C:\\Users\\bones\\wandb\\run-20230320_210841-92oogz2j</code>"
      ],
      "text/plain": [
       "<IPython.core.display.HTML object>"
      ]
     },
     "metadata": {},
     "output_type": "display_data"
    },
    {
     "data": {
      "text/html": [
       "Syncing run <strong><a href='https://wandb.ai/bs20b012/CS6910/runs/92oogz2j' target=\"_blank\">solar-sweep-50</a></strong> to <a href='https://wandb.ai/bs20b012/CS6910' target=\"_blank\">Weights & Biases</a> (<a href='https://wandb.me/run' target=\"_blank\">docs</a>)<br/>Sweep page: <a href='https://wandb.ai/bs20b012/CS6910/sweeps/4c8n6myl' target=\"_blank\">https://wandb.ai/bs20b012/CS6910/sweeps/4c8n6myl</a>"
      ],
      "text/plain": [
       "<IPython.core.display.HTML object>"
      ]
     },
     "metadata": {},
     "output_type": "display_data"
    },
    {
     "data": {
      "text/html": [
       " View project at <a href='https://wandb.ai/bs20b012/CS6910' target=\"_blank\">https://wandb.ai/bs20b012/CS6910</a>"
      ],
      "text/plain": [
       "<IPython.core.display.HTML object>"
      ]
     },
     "metadata": {},
     "output_type": "display_data"
    },
    {
     "data": {
      "text/html": [
       " View sweep at <a href='https://wandb.ai/bs20b012/CS6910/sweeps/4c8n6myl' target=\"_blank\">https://wandb.ai/bs20b012/CS6910/sweeps/4c8n6myl</a>"
      ],
      "text/plain": [
       "<IPython.core.display.HTML object>"
      ]
     },
     "metadata": {},
     "output_type": "display_data"
    },
    {
     "data": {
      "text/html": [
       " View run at <a href='https://wandb.ai/bs20b012/CS6910/runs/92oogz2j' target=\"_blank\">https://wandb.ai/bs20b012/CS6910/runs/92oogz2j</a>"
      ],
      "text/plain": [
       "<IPython.core.display.HTML object>"
      ]
     },
     "metadata": {},
     "output_type": "display_data"
    },
    {
     "name": "stderr",
     "output_type": "stream",
     "text": [
      "100%|██████████████████████████████████████████████████████████████████████████████████| 10/10 [05:36<00:00, 33.65s/it]"
     ]
    },
    {
     "name": "stdout",
     "output_type": "stream",
     "text": [
      "Training Accuracy: 88.48703703703704\n",
      "Validation Accuracy: 86.7\n"
     ]
    },
    {
     "name": "stderr",
     "output_type": "stream",
     "text": [
      "\n"
     ]
    },
    {
     "data": {
      "text/html": [
       "Waiting for W&B process to finish... <strong style=\"color:green\">(success).</strong>"
      ],
      "text/plain": [
       "<IPython.core.display.HTML object>"
      ]
     },
     "metadata": {},
     "output_type": "display_data"
    },
    {
     "data": {
      "text/html": [
       "<style>\n",
       "    table.wandb td:nth-child(1) { padding: 0 10px; text-align: left ; width: auto;} td:nth-child(2) {text-align: left ; width: 100%}\n",
       "    .wandb-row { display: flex; flex-direction: row; flex-wrap: wrap; justify-content: flex-start; width: 100% }\n",
       "    .wandb-col { display: flex; flex-direction: column; flex-basis: 100%; flex: 1; padding: 10px; }\n",
       "    </style>\n",
       "<div class=\"wandb-row\"><div class=\"wandb-col\"><h3>Run history:</h3><br/><table class=\"wandb\"><tr><td>Train_Accuracy</td><td>▁▆▇▇▇▇████</td></tr><tr><td>Train_Loss</td><td>█▃▂▂▁▂▂▂▁▁</td></tr><tr><td>Validation_Accuracy</td><td>▁▆▇▇▇█████</td></tr><tr><td>Validation_loss</td><td>▆▁▁▂▄▆██▆▅</td></tr><tr><td>epoch</td><td>▁▂▃▃▄▅▆▆▇█</td></tr></table><br/></div><div class=\"wandb-col\"><h3>Run summary:</h3><br/><table class=\"wandb\"><tr><td>Train_Accuracy</td><td>88.48704</td></tr><tr><td>Train_Loss</td><td>0.36988</td></tr><tr><td>Validation_Accuracy</td><td>86.7</td></tr><tr><td>Validation_loss</td><td>0.70047</td></tr><tr><td>epoch</td><td>9</td></tr></table><br/></div></div>"
      ],
      "text/plain": [
       "<IPython.core.display.HTML object>"
      ]
     },
     "metadata": {},
     "output_type": "display_data"
    },
    {
     "data": {
      "text/html": [
       " View run <strong style=\"color:#cdcd00\">solar-sweep-50</strong> at: <a href='https://wandb.ai/bs20b012/CS6910/runs/92oogz2j' target=\"_blank\">https://wandb.ai/bs20b012/CS6910/runs/92oogz2j</a><br/>Synced 6 W&B file(s), 0 media file(s), 0 artifact file(s) and 0 other file(s)"
      ],
      "text/plain": [
       "<IPython.core.display.HTML object>"
      ]
     },
     "metadata": {},
     "output_type": "display_data"
    },
    {
     "data": {
      "text/html": [
       "Find logs at: <code>.\\wandb\\run-20230320_210841-92oogz2j\\logs</code>"
      ],
      "text/plain": [
       "<IPython.core.display.HTML object>"
      ]
     },
     "metadata": {},
     "output_type": "display_data"
    },
    {
     "name": "stderr",
     "output_type": "stream",
     "text": [
      "\u001b[34m\u001b[1mwandb\u001b[0m: Agent Starting Run: 23xn687y with config:\n",
      "\u001b[34m\u001b[1mwandb\u001b[0m: \tactivation_function: relu\n",
      "\u001b[34m\u001b[1mwandb\u001b[0m: \tinitialization_type: xavier\n",
      "\u001b[34m\u001b[1mwandb\u001b[0m: \tlambd: 0.0005\n",
      "\u001b[34m\u001b[1mwandb\u001b[0m: \tlearning_rate: 0.0001\n",
      "\u001b[34m\u001b[1mwandb\u001b[0m: \tmax_epochs: 10\n",
      "\u001b[34m\u001b[1mwandb\u001b[0m: \tmini_batch_size: 64\n",
      "\u001b[34m\u001b[1mwandb\u001b[0m: \tnumber_hidden_layers: 5\n",
      "\u001b[34m\u001b[1mwandb\u001b[0m: \tnumber_neurons: 128\n",
      "\u001b[34m\u001b[1mwandb\u001b[0m: \toptimization_function: nadam\n"
     ]
    },
    {
     "data": {
      "text/html": [
       "Tracking run with wandb version 0.14.0"
      ],
      "text/plain": [
       "<IPython.core.display.HTML object>"
      ]
     },
     "metadata": {},
     "output_type": "display_data"
    },
    {
     "data": {
      "text/html": [
       "Run data is saved locally in <code>C:\\Users\\bones\\wandb\\run-20230320_211500-23xn687y</code>"
      ],
      "text/plain": [
       "<IPython.core.display.HTML object>"
      ]
     },
     "metadata": {},
     "output_type": "display_data"
    },
    {
     "data": {
      "text/html": [
       "Syncing run <strong><a href='https://wandb.ai/bs20b012/CS6910/runs/23xn687y' target=\"_blank\">major-sweep-51</a></strong> to <a href='https://wandb.ai/bs20b012/CS6910' target=\"_blank\">Weights & Biases</a> (<a href='https://wandb.me/run' target=\"_blank\">docs</a>)<br/>Sweep page: <a href='https://wandb.ai/bs20b012/CS6910/sweeps/4c8n6myl' target=\"_blank\">https://wandb.ai/bs20b012/CS6910/sweeps/4c8n6myl</a>"
      ],
      "text/plain": [
       "<IPython.core.display.HTML object>"
      ]
     },
     "metadata": {},
     "output_type": "display_data"
    },
    {
     "data": {
      "text/html": [
       " View project at <a href='https://wandb.ai/bs20b012/CS6910' target=\"_blank\">https://wandb.ai/bs20b012/CS6910</a>"
      ],
      "text/plain": [
       "<IPython.core.display.HTML object>"
      ]
     },
     "metadata": {},
     "output_type": "display_data"
    },
    {
     "data": {
      "text/html": [
       " View sweep at <a href='https://wandb.ai/bs20b012/CS6910/sweeps/4c8n6myl' target=\"_blank\">https://wandb.ai/bs20b012/CS6910/sweeps/4c8n6myl</a>"
      ],
      "text/plain": [
       "<IPython.core.display.HTML object>"
      ]
     },
     "metadata": {},
     "output_type": "display_data"
    },
    {
     "data": {
      "text/html": [
       " View run at <a href='https://wandb.ai/bs20b012/CS6910/runs/23xn687y' target=\"_blank\">https://wandb.ai/bs20b012/CS6910/runs/23xn687y</a>"
      ],
      "text/plain": [
       "<IPython.core.display.HTML object>"
      ]
     },
     "metadata": {},
     "output_type": "display_data"
    },
    {
     "name": "stderr",
     "output_type": "stream",
     "text": [
      "100%|█████████████████████████████████████████████████████████████████████████████████| 10/10 [22:00<00:00, 132.02s/it]"
     ]
    },
    {
     "name": "stdout",
     "output_type": "stream",
     "text": [
      "Training Accuracy: 10.048148148148147\n",
      "Validation Accuracy: 9.566666666666666\n"
     ]
    },
    {
     "name": "stderr",
     "output_type": "stream",
     "text": [
      "\n"
     ]
    },
    {
     "data": {
      "text/html": [
       "Waiting for W&B process to finish... <strong style=\"color:green\">(success).</strong>"
      ],
      "text/plain": [
       "<IPython.core.display.HTML object>"
      ]
     },
     "metadata": {},
     "output_type": "display_data"
    },
    {
     "data": {
      "application/vnd.jupyter.widget-view+json": {
       "model_id": "5f63db7f941d434d8d39dc49d0064974",
       "version_major": 2,
       "version_minor": 0
      },
      "text/plain": [
       "VBox(children=(Label(value='0.001 MB of 0.001 MB uploaded (0.000 MB deduped)\\r'), FloatProgress(value=1.0, max…"
      ]
     },
     "metadata": {},
     "output_type": "display_data"
    },
    {
     "data": {
      "text/html": [
       "<style>\n",
       "    table.wandb td:nth-child(1) { padding: 0 10px; text-align: left ; width: auto;} td:nth-child(2) {text-align: left ; width: 100%}\n",
       "    .wandb-row { display: flex; flex-direction: row; flex-wrap: wrap; justify-content: flex-start; width: 100% }\n",
       "    .wandb-col { display: flex; flex-direction: column; flex-basis: 100%; flex: 1; padding: 10px; }\n",
       "    </style>\n",
       "<div class=\"wandb-row\"><div class=\"wandb-col\"><h3>Run history:</h3><br/><table class=\"wandb\"><tr><td>Train_Accuracy</td><td>█▁▁▁▁▁▁▁▁▁</td></tr><tr><td>Validation_Accuracy</td><td>█▁▁▁▁▁▁▁▁▁</td></tr><tr><td>Validation_loss</td><td>▁         </td></tr><tr><td>epoch</td><td>▁▂▃▃▄▅▆▆▇█</td></tr></table><br/></div><div class=\"wandb-col\"><h3>Run summary:</h3><br/><table class=\"wandb\"><tr><td>Train_Accuracy</td><td>10.04815</td></tr><tr><td>Train_Loss</td><td>nan</td></tr><tr><td>Validation_Accuracy</td><td>9.56667</td></tr><tr><td>Validation_loss</td><td>nan</td></tr><tr><td>epoch</td><td>9</td></tr></table><br/></div></div>"
      ],
      "text/plain": [
       "<IPython.core.display.HTML object>"
      ]
     },
     "metadata": {},
     "output_type": "display_data"
    },
    {
     "data": {
      "text/html": [
       " View run <strong style=\"color:#cdcd00\">major-sweep-51</strong> at: <a href='https://wandb.ai/bs20b012/CS6910/runs/23xn687y' target=\"_blank\">https://wandb.ai/bs20b012/CS6910/runs/23xn687y</a><br/>Synced 6 W&B file(s), 0 media file(s), 0 artifact file(s) and 0 other file(s)"
      ],
      "text/plain": [
       "<IPython.core.display.HTML object>"
      ]
     },
     "metadata": {},
     "output_type": "display_data"
    },
    {
     "data": {
      "text/html": [
       "Find logs at: <code>.\\wandb\\run-20230320_211500-23xn687y\\logs</code>"
      ],
      "text/plain": [
       "<IPython.core.display.HTML object>"
      ]
     },
     "metadata": {},
     "output_type": "display_data"
    },
    {
     "name": "stderr",
     "output_type": "stream",
     "text": [
      "\u001b[34m\u001b[1mwandb\u001b[0m: Agent Starting Run: jv3e7gl4 with config:\n",
      "\u001b[34m\u001b[1mwandb\u001b[0m: \tactivation_function: tanh\n",
      "\u001b[34m\u001b[1mwandb\u001b[0m: \tinitialization_type: random\n",
      "\u001b[34m\u001b[1mwandb\u001b[0m: \tlambd: 0.5\n",
      "\u001b[34m\u001b[1mwandb\u001b[0m: \tlearning_rate: 0.0001\n",
      "\u001b[34m\u001b[1mwandb\u001b[0m: \tmax_epochs: 10\n",
      "\u001b[34m\u001b[1mwandb\u001b[0m: \tmini_batch_size: 32\n",
      "\u001b[34m\u001b[1mwandb\u001b[0m: \tnumber_hidden_layers: 5\n",
      "\u001b[34m\u001b[1mwandb\u001b[0m: \tnumber_neurons: 128\n",
      "\u001b[34m\u001b[1mwandb\u001b[0m: \toptimization_function: nadam\n"
     ]
    },
    {
     "data": {
      "text/html": [
       "Tracking run with wandb version 0.14.0"
      ],
      "text/plain": [
       "<IPython.core.display.HTML object>"
      ]
     },
     "metadata": {},
     "output_type": "display_data"
    },
    {
     "data": {
      "text/html": [
       "Run data is saved locally in <code>C:\\Users\\bones\\wandb\\run-20230320_213757-jv3e7gl4</code>"
      ],
      "text/plain": [
       "<IPython.core.display.HTML object>"
      ]
     },
     "metadata": {},
     "output_type": "display_data"
    },
    {
     "data": {
      "text/html": [
       "Syncing run <strong><a href='https://wandb.ai/bs20b012/CS6910/runs/jv3e7gl4' target=\"_blank\">divine-sweep-52</a></strong> to <a href='https://wandb.ai/bs20b012/CS6910' target=\"_blank\">Weights & Biases</a> (<a href='https://wandb.me/run' target=\"_blank\">docs</a>)<br/>Sweep page: <a href='https://wandb.ai/bs20b012/CS6910/sweeps/4c8n6myl' target=\"_blank\">https://wandb.ai/bs20b012/CS6910/sweeps/4c8n6myl</a>"
      ],
      "text/plain": [
       "<IPython.core.display.HTML object>"
      ]
     },
     "metadata": {},
     "output_type": "display_data"
    },
    {
     "data": {
      "text/html": [
       " View project at <a href='https://wandb.ai/bs20b012/CS6910' target=\"_blank\">https://wandb.ai/bs20b012/CS6910</a>"
      ],
      "text/plain": [
       "<IPython.core.display.HTML object>"
      ]
     },
     "metadata": {},
     "output_type": "display_data"
    },
    {
     "data": {
      "text/html": [
       " View sweep at <a href='https://wandb.ai/bs20b012/CS6910/sweeps/4c8n6myl' target=\"_blank\">https://wandb.ai/bs20b012/CS6910/sweeps/4c8n6myl</a>"
      ],
      "text/plain": [
       "<IPython.core.display.HTML object>"
      ]
     },
     "metadata": {},
     "output_type": "display_data"
    },
    {
     "data": {
      "text/html": [
       " View run at <a href='https://wandb.ai/bs20b012/CS6910/runs/jv3e7gl4' target=\"_blank\">https://wandb.ai/bs20b012/CS6910/runs/jv3e7gl4</a>"
      ],
      "text/plain": [
       "<IPython.core.display.HTML object>"
      ]
     },
     "metadata": {},
     "output_type": "display_data"
    },
    {
     "name": "stderr",
     "output_type": "stream",
     "text": [
      "100%|█████████████████████████████████████████████████████████████████████████████████| 10/10 [23:25<00:00, 140.55s/it]"
     ]
    },
    {
     "name": "stdout",
     "output_type": "stream",
     "text": [
      "Training Accuracy: 86.48518518518519\n",
      "Validation Accuracy: 85.48333333333333\n"
     ]
    },
    {
     "name": "stderr",
     "output_type": "stream",
     "text": [
      "\n"
     ]
    },
    {
     "data": {
      "text/html": [
       "Waiting for W&B process to finish... <strong style=\"color:green\">(success).</strong>"
      ],
      "text/plain": [
       "<IPython.core.display.HTML object>"
      ]
     },
     "metadata": {},
     "output_type": "display_data"
    },
    {
     "data": {
      "application/vnd.jupyter.widget-view+json": {
       "model_id": "565bdf83a08d496da2ae8edc67a3a8a4",
       "version_major": 2,
       "version_minor": 0
      },
      "text/plain": [
       "VBox(children=(Label(value='0.001 MB of 0.001 MB uploaded (0.000 MB deduped)\\r'), FloatProgress(value=1.0, max…"
      ]
     },
     "metadata": {},
     "output_type": "display_data"
    },
    {
     "data": {
      "text/html": [
       "<style>\n",
       "    table.wandb td:nth-child(1) { padding: 0 10px; text-align: left ; width: auto;} td:nth-child(2) {text-align: left ; width: 100%}\n",
       "    .wandb-row { display: flex; flex-direction: row; flex-wrap: wrap; justify-content: flex-start; width: 100% }\n",
       "    .wandb-col { display: flex; flex-direction: column; flex-basis: 100%; flex: 1; padding: 10px; }\n",
       "    </style>\n",
       "<div class=\"wandb-row\"><div class=\"wandb-col\"><h3>Run history:</h3><br/><table class=\"wandb\"><tr><td>Train_Accuracy</td><td>▁▅▆▇▇█████</td></tr><tr><td>Train_Loss</td><td>██▆▃▅▅▅▂▁▁</td></tr><tr><td>Validation_Accuracy</td><td>▁▅▆▇▇▇▇███</td></tr><tr><td>Validation_loss</td><td>▁▇▇▅▇██▅▄▄</td></tr><tr><td>epoch</td><td>▁▂▃▃▄▅▆▆▇█</td></tr></table><br/></div><div class=\"wandb-col\"><h3>Run summary:</h3><br/><table class=\"wandb\"><tr><td>Train_Accuracy</td><td>86.48519</td></tr><tr><td>Train_Loss</td><td>0.62796</td></tr><tr><td>Validation_Accuracy</td><td>85.48333</td></tr><tr><td>Validation_loss</td><td>2.43491</td></tr><tr><td>epoch</td><td>9</td></tr></table><br/></div></div>"
      ],
      "text/plain": [
       "<IPython.core.display.HTML object>"
      ]
     },
     "metadata": {},
     "output_type": "display_data"
    },
    {
     "data": {
      "text/html": [
       " View run <strong style=\"color:#cdcd00\">divine-sweep-52</strong> at: <a href='https://wandb.ai/bs20b012/CS6910/runs/jv3e7gl4' target=\"_blank\">https://wandb.ai/bs20b012/CS6910/runs/jv3e7gl4</a><br/>Synced 6 W&B file(s), 0 media file(s), 0 artifact file(s) and 0 other file(s)"
      ],
      "text/plain": [
       "<IPython.core.display.HTML object>"
      ]
     },
     "metadata": {},
     "output_type": "display_data"
    },
    {
     "data": {
      "text/html": [
       "Find logs at: <code>.\\wandb\\run-20230320_213757-jv3e7gl4\\logs</code>"
      ],
      "text/plain": [
       "<IPython.core.display.HTML object>"
      ]
     },
     "metadata": {},
     "output_type": "display_data"
    },
    {
     "name": "stderr",
     "output_type": "stream",
     "text": [
      "\u001b[34m\u001b[1mwandb\u001b[0m: Agent Starting Run: 973chpwg with config:\n",
      "\u001b[34m\u001b[1mwandb\u001b[0m: \tactivation_function: tanh\n",
      "\u001b[34m\u001b[1mwandb\u001b[0m: \tinitialization_type: random\n",
      "\u001b[34m\u001b[1mwandb\u001b[0m: \tlambd: 0.5\n",
      "\u001b[34m\u001b[1mwandb\u001b[0m: \tlearning_rate: 0.0001\n",
      "\u001b[34m\u001b[1mwandb\u001b[0m: \tmax_epochs: 10\n",
      "\u001b[34m\u001b[1mwandb\u001b[0m: \tmini_batch_size: 64\n",
      "\u001b[34m\u001b[1mwandb\u001b[0m: \tnumber_hidden_layers: 4\n",
      "\u001b[34m\u001b[1mwandb\u001b[0m: \tnumber_neurons: 128\n",
      "\u001b[34m\u001b[1mwandb\u001b[0m: \toptimization_function: nadam\n"
     ]
    },
    {
     "data": {
      "text/html": [
       "Tracking run with wandb version 0.14.0"
      ],
      "text/plain": [
       "<IPython.core.display.HTML object>"
      ]
     },
     "metadata": {},
     "output_type": "display_data"
    },
    {
     "data": {
      "text/html": [
       "Run data is saved locally in <code>C:\\Users\\bones\\wandb\\run-20230320_220214-973chpwg</code>"
      ],
      "text/plain": [
       "<IPython.core.display.HTML object>"
      ]
     },
     "metadata": {},
     "output_type": "display_data"
    },
    {
     "data": {
      "text/html": [
       "Syncing run <strong><a href='https://wandb.ai/bs20b012/CS6910/runs/973chpwg' target=\"_blank\">swept-sweep-53</a></strong> to <a href='https://wandb.ai/bs20b012/CS6910' target=\"_blank\">Weights & Biases</a> (<a href='https://wandb.me/run' target=\"_blank\">docs</a>)<br/>Sweep page: <a href='https://wandb.ai/bs20b012/CS6910/sweeps/4c8n6myl' target=\"_blank\">https://wandb.ai/bs20b012/CS6910/sweeps/4c8n6myl</a>"
      ],
      "text/plain": [
       "<IPython.core.display.HTML object>"
      ]
     },
     "metadata": {},
     "output_type": "display_data"
    },
    {
     "data": {
      "text/html": [
       " View project at <a href='https://wandb.ai/bs20b012/CS6910' target=\"_blank\">https://wandb.ai/bs20b012/CS6910</a>"
      ],
      "text/plain": [
       "<IPython.core.display.HTML object>"
      ]
     },
     "metadata": {},
     "output_type": "display_data"
    },
    {
     "data": {
      "text/html": [
       " View sweep at <a href='https://wandb.ai/bs20b012/CS6910/sweeps/4c8n6myl' target=\"_blank\">https://wandb.ai/bs20b012/CS6910/sweeps/4c8n6myl</a>"
      ],
      "text/plain": [
       "<IPython.core.display.HTML object>"
      ]
     },
     "metadata": {},
     "output_type": "display_data"
    },
    {
     "data": {
      "text/html": [
       " View run at <a href='https://wandb.ai/bs20b012/CS6910/runs/973chpwg' target=\"_blank\">https://wandb.ai/bs20b012/CS6910/runs/973chpwg</a>"
      ],
      "text/plain": [
       "<IPython.core.display.HTML object>"
      ]
     },
     "metadata": {},
     "output_type": "display_data"
    },
    {
     "name": "stderr",
     "output_type": "stream",
     "text": [
      "100%|██████████████████████████████████████████████████████████████████████████████████| 10/10 [14:29<00:00, 86.93s/it]"
     ]
    },
    {
     "name": "stdout",
     "output_type": "stream",
     "text": [
      "Training Accuracy: 86.86111111111111\n",
      "Validation Accuracy: 85.86666666666667\n"
     ]
    },
    {
     "name": "stderr",
     "output_type": "stream",
     "text": [
      "\n"
     ]
    },
    {
     "data": {
      "text/html": [
       "Waiting for W&B process to finish... <strong style=\"color:green\">(success).</strong>"
      ],
      "text/plain": [
       "<IPython.core.display.HTML object>"
      ]
     },
     "metadata": {},
     "output_type": "display_data"
    },
    {
     "data": {
      "application/vnd.jupyter.widget-view+json": {
       "model_id": "bf55af5299d74393932edc1d4cad2916",
       "version_major": 2,
       "version_minor": 0
      },
      "text/plain": [
       "VBox(children=(Label(value='0.001 MB of 0.001 MB uploaded (0.000 MB deduped)\\r'), FloatProgress(value=1.0, max…"
      ]
     },
     "metadata": {},
     "output_type": "display_data"
    },
    {
     "data": {
      "text/html": [
       "<style>\n",
       "    table.wandb td:nth-child(1) { padding: 0 10px; text-align: left ; width: auto;} td:nth-child(2) {text-align: left ; width: 100%}\n",
       "    .wandb-row { display: flex; flex-direction: row; flex-wrap: wrap; justify-content: flex-start; width: 100% }\n",
       "    .wandb-col { display: flex; flex-direction: column; flex-basis: 100%; flex: 1; padding: 10px; }\n",
       "    </style>\n",
       "<div class=\"wandb-row\"><div class=\"wandb-col\"><h3>Run history:</h3><br/><table class=\"wandb\"><tr><td>Train_Accuracy</td><td>▁▅▆▇▇█████</td></tr><tr><td>Train_Loss</td><td>█▄▃▃▂▂▁▁▁▁</td></tr><tr><td>Validation_Accuracy</td><td>▁▅▆▇▇▇████</td></tr><tr><td>Validation_loss</td><td>█▃▂▅▇▅▃▁▁▄</td></tr><tr><td>epoch</td><td>▁▂▃▃▄▅▆▆▇█</td></tr></table><br/></div><div class=\"wandb-col\"><h3>Run summary:</h3><br/><table class=\"wandb\"><tr><td>Train_Accuracy</td><td>86.86111</td></tr><tr><td>Train_Loss</td><td>0.40748</td></tr><tr><td>Validation_Accuracy</td><td>85.86667</td></tr><tr><td>Validation_loss</td><td>0.57179</td></tr><tr><td>epoch</td><td>9</td></tr></table><br/></div></div>"
      ],
      "text/plain": [
       "<IPython.core.display.HTML object>"
      ]
     },
     "metadata": {},
     "output_type": "display_data"
    },
    {
     "data": {
      "text/html": [
       " View run <strong style=\"color:#cdcd00\">swept-sweep-53</strong> at: <a href='https://wandb.ai/bs20b012/CS6910/runs/973chpwg' target=\"_blank\">https://wandb.ai/bs20b012/CS6910/runs/973chpwg</a><br/>Synced 6 W&B file(s), 0 media file(s), 0 artifact file(s) and 0 other file(s)"
      ],
      "text/plain": [
       "<IPython.core.display.HTML object>"
      ]
     },
     "metadata": {},
     "output_type": "display_data"
    },
    {
     "data": {
      "text/html": [
       "Find logs at: <code>.\\wandb\\run-20230320_220214-973chpwg\\logs</code>"
      ],
      "text/plain": [
       "<IPython.core.display.HTML object>"
      ]
     },
     "metadata": {},
     "output_type": "display_data"
    },
    {
     "name": "stderr",
     "output_type": "stream",
     "text": [
      "\u001b[34m\u001b[1mwandb\u001b[0m: Ctrl + C detected. Stopping sweep.\n"
     ]
    }
   ],
   "source": [
    "do_sweep(entity_name,project_name)"
   ]
  },
  {
   "cell_type": "markdown",
   "metadata": {
    "id": "9Lmq_xnQyjdz"
   },
   "source": [
    "Plotting Confusion Matrix\n"
   ]
  },
  {
   "cell_type": "code",
   "execution_count": null,
   "metadata": {
    "id": "dXp1_n-quxi8"
   },
   "outputs": [
    {
     "name": "stderr",
     "output_type": "stream",
     "text": [
      "\u001b[34m\u001b[1mwandb\u001b[0m: Currently logged in as: \u001b[33mbs20b012\u001b[0m. Use \u001b[1m`wandb login --relogin`\u001b[0m to force relogin\n"
     ]
    },
    {
     "data": {
      "text/html": [
       "Tracking run with wandb version 0.14.0"
      ],
      "text/plain": [
       "<IPython.core.display.HTML object>"
      ]
     },
     "metadata": {},
     "output_type": "display_data"
    },
    {
     "data": {
      "text/html": [
       "Run data is saved locally in <code>C:\\Users\\bones\\wandb\\run-20230320_223422-c4q6hmqt</code>"
      ],
      "text/plain": [
       "<IPython.core.display.HTML object>"
      ]
     },
     "metadata": {},
     "output_type": "display_data"
    },
    {
     "data": {
      "text/html": [
       "Syncing run <strong><a href='https://wandb.ai/bs20b012/CS6910/runs/c4q6hmqt' target=\"_blank\">vague-elevator-63</a></strong> to <a href='https://wandb.ai/bs20b012/CS6910' target=\"_blank\">Weights & Biases</a> (<a href='https://wandb.me/run' target=\"_blank\">docs</a>)<br/>"
      ],
      "text/plain": [
       "<IPython.core.display.HTML object>"
      ]
     },
     "metadata": {},
     "output_type": "display_data"
    },
    {
     "data": {
      "text/html": [
       " View project at <a href='https://wandb.ai/bs20b012/CS6910' target=\"_blank\">https://wandb.ai/bs20b012/CS6910</a>"
      ],
      "text/plain": [
       "<IPython.core.display.HTML object>"
      ]
     },
     "metadata": {},
     "output_type": "display_data"
    },
    {
     "data": {
      "text/html": [
       " View run at <a href='https://wandb.ai/bs20b012/CS6910/runs/c4q6hmqt' target=\"_blank\">https://wandb.ai/bs20b012/CS6910/runs/c4q6hmqt</a>"
      ],
      "text/plain": [
       "<IPython.core.display.HTML object>"
      ]
     },
     "metadata": {},
     "output_type": "display_data"
    },
    {
     "name": "stderr",
     "output_type": "stream",
     "text": [
      "  0%|                                                                                           | 0/10 [00:00<?, ?it/s]"
     ]
    }
   ],
   "source": [
    "# Hyperparameters with validation accuracy: 86.86666666666667\n",
    "activation_function= \"tanh\"\n",
    "initialization_type= \"xavier\"\n",
    "lambd=0.0005\n",
    "learning_rate=0.0001\n",
    "max_epochs=10\n",
    "mini_batch_size=64\n",
    "number_hidden_layers=5\n",
    "number_neurons=128\n",
    "optimization_function=nadam\n",
    "loss_function = \"cross_entropy\"\n",
    "\n",
    "layers=[784]\n",
    "for i in range(number_hidden_layers):\n",
    "  layers=layers+[number_neurons]\n",
    "layers=layers+[10]\n",
    "\n",
    "\n",
    "config_confmat = {\n",
    "      'number_hidden_layers': 5,\n",
    "      'number_neurons': 128,\n",
    "      'learning_rate': 0.0001,\n",
    "      'initialization_type': \"xavier\",\n",
    "      'activation_function':'tanh',\n",
    "      'mini_batch_size' : 16,\n",
    "      'max_epochs': 5,\n",
    "      'lambd': 0,\n",
    "      'optimization_function': \"nadam\"\n",
    "  }\n",
    "\n",
    "wandb.init(config=config_confmat,entity=entity_name, project=project_name)\n",
    "wandb.run.name=\"Confusion_matrix\"\n",
    "wandb_log=True\n",
    "\n",
    "w=weights(layers)\n",
    "parameters = w.weight_init(init_type = initialization_type)\n",
    "parameters, train_acc, val_acc = gradient_descent(X_train, y_train,learning_rate, max_epochs, layers, mini_batch_size, lambd, loss_function, activation_function, parameters,optimization_function,wandb_log)\n",
    "res = run_inference(X_test,y_test, parameters, activation_function, layers)\n",
    "\n",
    "\n",
    "accuracy=accuracy_calc(res,y_test)\n",
    "print(\"Test Accuracy:\",accuracy)\n",
    "#converting 1 hot labels to class ids\n",
    "\n",
    "y=[]\n",
    "\n",
    "for i in range(len(y_test)):\n",
    "  y.append(y_test[i].argmax())\n",
    "\n",
    "y_hat=[]\n",
    "\n",
    "for i in range(len(res)):\n",
    "  y_hat.append(res[i].argmax())\n",
    "\n",
    "wandb.log({\"conf_mat\":wandb.plot.confusion_matrix(preds=y_hat,y_true=y,class_names=labels),\"Test Accuracy\": accuracy}) \n",
    "    \n",
    "wandb.run.save()\n",
    "wandb.run.finish()\n",
    "\n"
   ]
  },
  {
   "cell_type": "markdown",
   "metadata": {
    "id": "2Yg3Xu6c5UiS"
   },
   "source": [
    "### CROSS ENTROPY vs MEAN SQUARE ERROR"
   ]
  },
  {
   "cell_type": "code",
   "execution_count": 18,
   "metadata": {
    "id": "Vd0iK1RQ5Lmq"
   },
   "outputs": [],
   "source": [
    "def compare_loss(entity_name,project_name):\n",
    "\n",
    "\n",
    "  #We fix all hyperparameters except for the loss function \n",
    "  hyperparameters = {\n",
    "      \"learning_rate\":{\n",
    "        'values': [0.0001]\n",
    "      },\n",
    "\n",
    "      \"number_hidden_layers\": {\n",
    "          'values' : [5]\n",
    "      },\n",
    "\n",
    "      \"number_neurons\": {\n",
    "        'values': [128]\n",
    "      },\n",
    "\n",
    "      \"initialization_type\": {\n",
    "          'values' : [\"xavier\"]\n",
    "      },\n",
    "\n",
    "      \"activation_function\": {\n",
    "          'values': [\"tanh\"]\n",
    "      },\n",
    "\n",
    "      \"mini_batch_size\": {\n",
    "          'values': [16]\n",
    "      },\n",
    "\n",
    "      \"max_epochs\": {\n",
    "          'values': [5]\n",
    "      },\n",
    "\n",
    "      \"loss_function\": {\n",
    "          'values' : [\"cross_entropy\",\"squared_loss\"]      \n",
    "          \n",
    "      },\n",
    "\n",
    "      \"lambd\": {\n",
    "          'values': [0.0005]\n",
    "      },\n",
    "\n",
    "      \"optimization_function\": {\n",
    "          'values': [\"adam\"]\n",
    "      }\n",
    "\n",
    "  }\n",
    "\n",
    "\n",
    "  sweep_config = {\n",
    "      'method' : 'bayes',\n",
    "      'metric' :{\n",
    "          'name': 'Validation_Accuracy',\n",
    "          'goal': 'maximize'\n",
    "      },\n",
    "      'parameters': hyperparameters\n",
    "  }\n",
    "\n",
    "  sweep_id = wandb.sweep(sweep_config, entity=entity_name, project=project_name)\n",
    "  wandb.agent(sweep_id, train)"
   ]
  },
  {
   "cell_type": "code",
   "execution_count": null,
   "metadata": {
    "id": "Wof9TyIl6bR2"
   },
   "outputs": [
    {
     "name": "stdout",
     "output_type": "stream",
     "text": [
      "Create sweep with ID: zt7fbs5c\n",
      "Sweep URL: https://wandb.ai/bs20b012/CS6910/sweeps/zt7fbs5c\n"
     ]
    },
    {
     "name": "stderr",
     "output_type": "stream",
     "text": [
      "\u001b[34m\u001b[1mwandb\u001b[0m: Agent Starting Run: pf0a9voi with config:\n",
      "\u001b[34m\u001b[1mwandb\u001b[0m: \tactivation_function: tanh\n",
      "\u001b[34m\u001b[1mwandb\u001b[0m: \tinitialization_type: xavier\n",
      "\u001b[34m\u001b[1mwandb\u001b[0m: \tlambd: 0.0005\n",
      "\u001b[34m\u001b[1mwandb\u001b[0m: \tlearning_rate: 0.0001\n",
      "\u001b[34m\u001b[1mwandb\u001b[0m: \tloss_function: cross_entropy\n",
      "\u001b[34m\u001b[1mwandb\u001b[0m: \tmax_epochs: 5\n",
      "\u001b[34m\u001b[1mwandb\u001b[0m: \tmini_batch_size: 16\n",
      "\u001b[34m\u001b[1mwandb\u001b[0m: \tnumber_hidden_layers: 5\n",
      "\u001b[34m\u001b[1mwandb\u001b[0m: \tnumber_neurons: 128\n",
      "\u001b[34m\u001b[1mwandb\u001b[0m: \toptimization_function: adam\n"
     ]
    },
    {
     "data": {
      "text/html": [
       "Tracking run with wandb version 0.14.0"
      ],
      "text/plain": [
       "<IPython.core.display.HTML object>"
      ]
     },
     "metadata": {},
     "output_type": "display_data"
    },
    {
     "data": {
      "text/html": [
       "Run data is saved locally in <code>C:\\Users\\bones\\wandb\\run-20230320_222909-pf0a9voi</code>"
      ],
      "text/plain": [
       "<IPython.core.display.HTML object>"
      ]
     },
     "metadata": {},
     "output_type": "display_data"
    },
    {
     "data": {
      "text/html": [
       "Syncing run <strong><a href='https://wandb.ai/bs20b012/CS6910/runs/pf0a9voi' target=\"_blank\">dandy-sweep-1</a></strong> to <a href='https://wandb.ai/bs20b012/CS6910' target=\"_blank\">Weights & Biases</a> (<a href='https://wandb.me/run' target=\"_blank\">docs</a>)<br/>Sweep page: <a href='https://wandb.ai/bs20b012/CS6910/sweeps/zt7fbs5c' target=\"_blank\">https://wandb.ai/bs20b012/CS6910/sweeps/zt7fbs5c</a>"
      ],
      "text/plain": [
       "<IPython.core.display.HTML object>"
      ]
     },
     "metadata": {},
     "output_type": "display_data"
    },
    {
     "data": {
      "text/html": [
       " View project at <a href='https://wandb.ai/bs20b012/CS6910' target=\"_blank\">https://wandb.ai/bs20b012/CS6910</a>"
      ],
      "text/plain": [
       "<IPython.core.display.HTML object>"
      ]
     },
     "metadata": {},
     "output_type": "display_data"
    },
    {
     "data": {
      "text/html": [
       " View sweep at <a href='https://wandb.ai/bs20b012/CS6910/sweeps/zt7fbs5c' target=\"_blank\">https://wandb.ai/bs20b012/CS6910/sweeps/zt7fbs5c</a>"
      ],
      "text/plain": [
       "<IPython.core.display.HTML object>"
      ]
     },
     "metadata": {},
     "output_type": "display_data"
    },
    {
     "data": {
      "text/html": [
       " View run at <a href='https://wandb.ai/bs20b012/CS6910/runs/pf0a9voi' target=\"_blank\">https://wandb.ai/bs20b012/CS6910/runs/pf0a9voi</a>"
      ],
      "text/plain": [
       "<IPython.core.display.HTML object>"
      ]
     },
     "metadata": {},
     "output_type": "display_data"
    },
    {
     "name": "stderr",
     "output_type": "stream",
     "text": [
      " 40%|█████████████████████████████████▏                                                 | 2/5 [03:29<05:07, 102.66s/it]"
     ]
    }
   ],
   "source": [
    "compare_loss(entity_name,project_name)"
   ]
  },
  {
   "cell_type": "markdown",
   "metadata": {
    "id": "pOYmTPmIJXeb"
   },
   "source": [
    "# MNSIT TRIALS\n"
   ]
  },
  {
   "cell_type": "code",
   "execution_count": null,
   "metadata": {
    "id": "XPQlOzCMJY-z"
   },
   "outputs": [],
   "source": [
    "from sklearn.model_selection import train_test_split\n",
    "from keras.datasets import mnist\n",
    "\n",
    "(train_x,train_y),(test_x,test_y)=mnist.load_data()\n",
    "num_classes = 10\n",
    "labels=np.arange(0,10,1)\n",
    "\n",
    "\n",
    "#performing the train-validation split\n",
    "train_x, val_x, train_y, val_y = train_test_split(train_x, train_y, test_size=0.1, random_state=40)\n",
    "  \n",
    "\n",
    "  \n",
    "#storing the number of points in each set\n",
    "  \n",
    "X_train=np.zeros((len(train_x),784))\n",
    "X_val=np.zeros((len(val_x),784))\n",
    "X_test=np.zeros((len(test_x),784))\n",
    "  \n",
    "# converting the images into grayscale by normalizing\n",
    "for i in range(len(train_x)):\n",
    "  X_train[i]=(copy.deepcopy(train_x[i].flatten()))/255.0 \n",
    "for i in range(len(val_x)):\n",
    "  X_val[i]=(copy.deepcopy(val_x[i].flatten()))/255.0\n",
    "for i in range(len(test_x)):\n",
    "  X_test[i]=(copy.deepcopy(test_x[i].flatten()))/255.0\n",
    "  \n",
    "y_train = np.zeros((train_y.size, 10))\n",
    "y_train[np.arange(train_y.size), train_y] = 1\n",
    "\n",
    "y_val = np.zeros((val_y.size, 10))\n",
    "y_val[np.arange(val_y.size), val_y] = 1\n",
    "\n",
    "y_test = np.zeros((test_y.size, 10))\n",
    "y_test[np.arange(test_y.size), test_y] = 1\n"
   ]
  },
  {
   "cell_type": "markdown",
   "metadata": {
    "id": "E2EtX7SybUo7"
   },
   "source": [
    "### CONFIG-1:\n",
    "The following are the key param changes\n",
    "\n",
    "\n",
    "*   lambd = 0\n",
    "*   mini_batch = 16\n",
    "*   optimizer = nadam\n",
    "*   epochs = 10\n",
    "\n",
    "\n",
    "\n"
   ]
  },
  {
   "cell_type": "code",
   "execution_count": null,
   "metadata": {
    "id": "n2hw3m0MLVwa"
   },
   "outputs": [],
   "source": [
    "activation_function= \"tanh\"\n",
    "initialization_type= \"xavier\"\n",
    "lambd=0\n",
    "learning_rate=0.001\n",
    "max_epochs=10\n",
    "mini_batch_size=16\n",
    "number_hidden_layers=5\n",
    "number_neurons=128\n",
    "optimization_function=nadam\n",
    "loss_function = \"cross_entropy\"\n",
    "\n",
    "layers=[784]\n",
    "for i in range(number_hidden_layers):\n",
    "  layers=layers+[number_neurons]\n",
    "layers=layers+[10]\n",
    "\n",
    "\n",
    "config_confmat = {\n",
    "      'number_hidden_layers': 5,\n",
    "      'number_neurons': 128,\n",
    "      'learning_rate': 0.0001,\n",
    "      'initialization_type': \"xavier\",\n",
    "      'activation_function':'tanh',\n",
    "      'mini_batch_size' : 16,\n",
    "      'max_epochs': 5,\n",
    "      'lambd': 0,\n",
    "      'optimization_function': \"nadam\"\n",
    "  }\n",
    "\n",
    "wandb.init(config=config_confmat,entity=entity_name, project=project_name)\n",
    "wandb.run.name=\"MNIST_trials\"\n",
    "wandb_log=True\n",
    "\n",
    "w=weights(layers)\n",
    "parameters = w.weight_init(init_type = initialization_type)\n",
    "parameters, train_acc, val_acc = gradient_descent(X_train, y_train,learning_rate, max_epochs, layers, mini_batch_size, lambd, loss_function, activation_function, parameters,optimization_function,wandb_log)\n",
    "res = run_inference(X_test,y_test, parameters, activation_function, layers)\n",
    "\n",
    "\n",
    "accuracy=accuracy_calc(res,y_test)\n",
    "print(\"Test Accuracy:\",accuracy)"
   ]
  },
  {
   "cell_type": "markdown",
   "metadata": {
    "id": "7GK1M50bcCFp"
   },
   "source": [
    "### CONFIG-2:\n",
    "The following are the key param changes\n",
    "\n",
    "*   lambd = 0.0005\n",
    "*   mini_batch = 32\n",
    "*   optimizer = rmsprop\n",
    "*   epochs = 7\n",
    "\n"
   ]
  },
  {
   "cell_type": "code",
   "execution_count": null,
   "metadata": {
    "id": "2q5W8Jv6NdWJ"
   },
   "outputs": [],
   "source": [
    "activation_function= \"tanh\"\n",
    "initialization_type= \"xavier\"\n",
    "lambd=0.0005\n",
    "learning_rate=0.001\n",
    "max_epochs=7\n",
    "mini_batch_size=32\n",
    "number_hidden_layers=5\n",
    "number_neurons=128\n",
    "optimization_function=rmsprop\n",
    "loss_function = \"cross_entropy\"\n",
    "\n",
    "layers=[784]\n",
    "for i in range(number_hidden_layers):\n",
    "  layers=layers+[number_neurons]\n",
    "layers=layers+[10]\n",
    "\n",
    "\n",
    "config_confmat = {\n",
    "      'number_hidden_layers': 5,\n",
    "      'number_neurons': 128,\n",
    "      'learning_rate': 0.0001,\n",
    "      'initialization_type': \"xavier\",\n",
    "      'activation_function':'tanh',\n",
    "      'mini_batch_size' : 32,\n",
    "      'max_epochs': 7,\n",
    "      'lambd': 0.0005,\n",
    "      'optimization_function': \"rmsprop\"\n",
    "  }\n",
    "\n",
    "wandb.init(config=config_confmat,entity=entity_name, project=project_name)\n",
    "wandb.run.name=\"MNIST_trials\"\n",
    "wandb_log=True\n",
    "\n",
    "w=weights(layers)\n",
    "parameters = w.weight_init(init_type = initialization_type)\n",
    "parameters, train_acc, val_acc = gradient_descent(X_train, y_train,learning_rate, max_epochs, layers, mini_batch_size, lambd, loss_function, activation_function, parameters,optimization_function,wandb_log)\n",
    "res = run_inference(X_test,y_test, parameters, activation_function, layers)\n",
    "\n",
    "\n",
    "accuracy=accuracy_calc(res,y_test)\n",
    "print(\"Test Accuracy:\",accuracy)"
   ]
  },
  {
   "cell_type": "markdown",
   "metadata": {
    "id": "AEpMesqlcZVO"
   },
   "source": [
    "### CONFIG 3:\n",
    "The following are the key param changes\n",
    "\n",
    "\n",
    "*   lambd = 0\n",
    "*   mini_batch = 64\n",
    "*   optimizer = adam\n",
    "*   epochs = 7\n"
   ]
  },
  {
   "cell_type": "code",
   "execution_count": null,
   "metadata": {
    "id": "ylwzQNfWPbM5"
   },
   "outputs": [],
   "source": [
    "activation_function= \"tanh\"\n",
    "initialization_type= \"xavier\"\n",
    "lambd=0\n",
    "learning_rate=0.001\n",
    "max_epochs=7\n",
    "mini_batch_size=64\n",
    "number_hidden_layers=5\n",
    "number_neurons=64\n",
    "optimization_function=adam\n",
    "loss_function = \"cross_entropy\"\n",
    "\n",
    "layers=[784]\n",
    "for i in range(number_hidden_layers):\n",
    "  layers=layers+[number_neurons]\n",
    "layers=layers+[10]\n",
    "\n",
    "\n",
    "config_confmat = {\n",
    "      'number_hidden_layers': 5,\n",
    "      'number_neurons': 64,\n",
    "      'learning_rate': 0.0001,\n",
    "      'initialization_type': \"xavier\",\n",
    "      'activation_function':'tanh',\n",
    "      'mini_batch_size' : 64,\n",
    "      'max_epochs': 7,\n",
    "      'lambd': 0,\n",
    "      'optimization_function': \"adam\"\n",
    "  }\n",
    "\n",
    "wandb.init(config=config_confmat,entity=entity_name, project=project_name)\n",
    "wandb.run.name=\"MNIST_trials\"\n",
    "wandb_log=True\n",
    "\n",
    "w=weights(layers)\n",
    "parameters = w.weight_init(init_type = initialization_type)\n",
    "parameters, train_acc, val_acc = gradient_descent(X_train, y_train,learning_rate, max_epochs, layers, mini_batch_size, lambd, loss_function, activation_function, parameters,optimization_function,wandb_log)\n",
    "res = run_inference(X_test,y_test, parameters, activation_function, layers)\n",
    "\n",
    "\n",
    "accuracy=accuracy_calc(res,y_test)\n",
    "print(\"Test Accuracy:\",accuracy)"
   ]
  },
  {
   "cell_type": "markdown",
   "metadata": {
    "id": "AJqRKjCbgWhc"
   },
   "source": [
    "### Question-1"
   ]
  },
  {
   "cell_type": "code",
   "execution_count": null,
   "metadata": {
    "id": "WE_HrE_agZ74"
   },
   "outputs": [],
   "source": [
    "# Importing required libraries\n",
    "import numpy as np\n",
    "from numpy import random\n",
    "import pandas as pd\n",
    "import keras \n",
    "import tensorflow as tf\n",
    "import matplotlib.pyplot as plt\n",
    "\n",
    "# Importing fashion MNIST dataset using keras.datasets\n",
    "from keras.datasets import fashion_mnist"
   ]
  },
  {
   "cell_type": "code",
   "execution_count": null,
   "metadata": {
    "id": "gaONuX4qgsMr"
   },
   "outputs": [],
   "source": [
    "(x_train, y_train), (x_test, y_test) = fashion_mnist.load_data()"
   ]
  },
  {
   "cell_type": "code",
   "execution_count": null,
   "metadata": {
    "id": "E-_So2UDgtPT"
   },
   "outputs": [],
   "source": [
    "# Creating a dictionary called \"label\" for extracting the id or y value for plotting images with their respective classes\n",
    "\n",
    "label = {0:\"T-shirt/top\",1:\"Trouser\", 2:\"Pullover\", 3:\"Dress\", 4: \"Coat\", 5:\"Sandal\", 6:\"Shirt\", 7:\"Sneaker\", 8: \"Bag\", 9: \"Ankle boot\"}\n",
    "image_list = []\n",
    "key_list = []\n",
    "columns = 5\n",
    "rows= 2\n",
    "\n",
    "# setting the title, figure size and setting the x and y axis labels to null or emoty list to avoid the numbers or plots\n",
    "\n",
    "fig = plt.figure(figsize=(8, 8))\n",
    "plt.title('FASHION MNIST DATASET',fontsize=18) \n",
    "plt.yticks([]) \n",
    "plt.xticks([])\n",
    "\n",
    "# Extracting the images with unique classes and storing their names and id's in a sample set of 30\n",
    "\n",
    "for i in range(1,30):\n",
    "    if y_train[i] not in image_list:\n",
    "        image_list.append(y_train[i])\n",
    "        key_list.append(i)\n",
    "        \n",
    "# Storing the names of the classes\n",
    "\n",
    "images_names = [label[image_list[i]] for i in range(len(image_list))]\n",
    "\n",
    "# Plotting the images using the ids and names extracted\n",
    "\n",
    "for k,j in enumerate(key_list):\n",
    "    img = x_train[j]\n",
    "    fig.add_subplot(rows, columns,k+1 )\n",
    "    plt.xlabel(images_names[k])\n",
    "    plt.yticks([]) \n",
    "    plt.xticks([])\n",
    "    plt.imshow(img,cmap = \"gray\")\n",
    "\n",
    "plt.show()"
   ]
  },
  {
   "cell_type": "code",
   "execution_count": null,
   "metadata": {
    "id": "BRWExNUWgtX4"
   },
   "outputs": [],
   "source": []
  },
  {
   "cell_type": "code",
   "execution_count": null,
   "metadata": {
    "id": "y2nOFIsHc-UF"
   },
   "outputs": [],
   "source": [
    "print(\"CODE ENDS HERE :)  \")"
   ]
  }
 ],
 "metadata": {
  "colab": {
   "provenance": []
  },
  "gpuClass": "standard",
  "kernelspec": {
   "display_name": "Python 3 (ipykernel)",
   "language": "python",
   "name": "python3"
  },
  "language_info": {
   "codemirror_mode": {
    "name": "ipython",
    "version": 3
   },
   "file_extension": ".py",
   "mimetype": "text/x-python",
   "name": "python",
   "nbconvert_exporter": "python",
   "pygments_lexer": "ipython3",
   "version": "3.9.15"
  },
  "widgets": {
   "application/vnd.jupyter.widget-state+json": {
    "3ceb9da6056e4404b02b7c224b466b02": {
     "model_module": "@jupyter-widgets/controls",
     "model_module_version": "1.5.0",
     "model_name": "ProgressStyleModel",
     "state": {
      "_model_module": "@jupyter-widgets/controls",
      "_model_module_version": "1.5.0",
      "_model_name": "ProgressStyleModel",
      "_view_count": null,
      "_view_module": "@jupyter-widgets/base",
      "_view_module_version": "1.2.0",
      "_view_name": "StyleView",
      "bar_color": null,
      "description_width": ""
     }
    },
    "4615076314914edab20a0ebea23b5cae": {
     "model_module": "@jupyter-widgets/controls",
     "model_module_version": "1.5.0",
     "model_name": "VBoxModel",
     "state": {
      "_dom_classes": [],
      "_model_module": "@jupyter-widgets/controls",
      "_model_module_version": "1.5.0",
      "_model_name": "VBoxModel",
      "_view_count": null,
      "_view_module": "@jupyter-widgets/controls",
      "_view_module_version": "1.5.0",
      "_view_name": "VBoxView",
      "box_style": "",
      "children": [
       "IPY_MODEL_dc1355461734480a989376baff69c8b6",
       "IPY_MODEL_a9a0e607d012455cb7ccc8fb30f621c6"
      ],
      "layout": "IPY_MODEL_733f89a65877494cb28aa3f94df38393"
     }
    },
    "522e585412c94be1867fc73175cdb0fb": {
     "model_module": "@jupyter-widgets/controls",
     "model_module_version": "1.5.0",
     "model_name": "DescriptionStyleModel",
     "state": {
      "_model_module": "@jupyter-widgets/controls",
      "_model_module_version": "1.5.0",
      "_model_name": "DescriptionStyleModel",
      "_view_count": null,
      "_view_module": "@jupyter-widgets/base",
      "_view_module_version": "1.2.0",
      "_view_name": "StyleView",
      "description_width": ""
     }
    },
    "5bcb63cc25aa41f3895bf83dcdfd24a9": {
     "model_module": "@jupyter-widgets/base",
     "model_module_version": "1.2.0",
     "model_name": "LayoutModel",
     "state": {
      "_model_module": "@jupyter-widgets/base",
      "_model_module_version": "1.2.0",
      "_model_name": "LayoutModel",
      "_view_count": null,
      "_view_module": "@jupyter-widgets/base",
      "_view_module_version": "1.2.0",
      "_view_name": "LayoutView",
      "align_content": null,
      "align_items": null,
      "align_self": null,
      "border": null,
      "bottom": null,
      "display": null,
      "flex": null,
      "flex_flow": null,
      "grid_area": null,
      "grid_auto_columns": null,
      "grid_auto_flow": null,
      "grid_auto_rows": null,
      "grid_column": null,
      "grid_gap": null,
      "grid_row": null,
      "grid_template_areas": null,
      "grid_template_columns": null,
      "grid_template_rows": null,
      "height": null,
      "justify_content": null,
      "justify_items": null,
      "left": null,
      "margin": null,
      "max_height": null,
      "max_width": null,
      "min_height": null,
      "min_width": null,
      "object_fit": null,
      "object_position": null,
      "order": null,
      "overflow": null,
      "overflow_x": null,
      "overflow_y": null,
      "padding": null,
      "right": null,
      "top": null,
      "visibility": null,
      "width": null
     }
    },
    "687bb980b9ee4974878af46ed5b5e407": {
     "model_module": "@jupyter-widgets/base",
     "model_module_version": "1.2.0",
     "model_name": "LayoutModel",
     "state": {
      "_model_module": "@jupyter-widgets/base",
      "_model_module_version": "1.2.0",
      "_model_name": "LayoutModel",
      "_view_count": null,
      "_view_module": "@jupyter-widgets/base",
      "_view_module_version": "1.2.0",
      "_view_name": "LayoutView",
      "align_content": null,
      "align_items": null,
      "align_self": null,
      "border": null,
      "bottom": null,
      "display": null,
      "flex": null,
      "flex_flow": null,
      "grid_area": null,
      "grid_auto_columns": null,
      "grid_auto_flow": null,
      "grid_auto_rows": null,
      "grid_column": null,
      "grid_gap": null,
      "grid_row": null,
      "grid_template_areas": null,
      "grid_template_columns": null,
      "grid_template_rows": null,
      "height": null,
      "justify_content": null,
      "justify_items": null,
      "left": null,
      "margin": null,
      "max_height": null,
      "max_width": null,
      "min_height": null,
      "min_width": null,
      "object_fit": null,
      "object_position": null,
      "order": null,
      "overflow": null,
      "overflow_x": null,
      "overflow_y": null,
      "padding": null,
      "right": null,
      "top": null,
      "visibility": null,
      "width": null
     }
    },
    "733f89a65877494cb28aa3f94df38393": {
     "model_module": "@jupyter-widgets/base",
     "model_module_version": "1.2.0",
     "model_name": "LayoutModel",
     "state": {
      "_model_module": "@jupyter-widgets/base",
      "_model_module_version": "1.2.0",
      "_model_name": "LayoutModel",
      "_view_count": null,
      "_view_module": "@jupyter-widgets/base",
      "_view_module_version": "1.2.0",
      "_view_name": "LayoutView",
      "align_content": null,
      "align_items": null,
      "align_self": null,
      "border": null,
      "bottom": null,
      "display": null,
      "flex": null,
      "flex_flow": null,
      "grid_area": null,
      "grid_auto_columns": null,
      "grid_auto_flow": null,
      "grid_auto_rows": null,
      "grid_column": null,
      "grid_gap": null,
      "grid_row": null,
      "grid_template_areas": null,
      "grid_template_columns": null,
      "grid_template_rows": null,
      "height": null,
      "justify_content": null,
      "justify_items": null,
      "left": null,
      "margin": null,
      "max_height": null,
      "max_width": null,
      "min_height": null,
      "min_width": null,
      "object_fit": null,
      "object_position": null,
      "order": null,
      "overflow": null,
      "overflow_x": null,
      "overflow_y": null,
      "padding": null,
      "right": null,
      "top": null,
      "visibility": null,
      "width": null
     }
    },
    "a9a0e607d012455cb7ccc8fb30f621c6": {
     "model_module": "@jupyter-widgets/controls",
     "model_module_version": "1.5.0",
     "model_name": "FloatProgressModel",
     "state": {
      "_dom_classes": [],
      "_model_module": "@jupyter-widgets/controls",
      "_model_module_version": "1.5.0",
      "_model_name": "FloatProgressModel",
      "_view_count": null,
      "_view_module": "@jupyter-widgets/controls",
      "_view_module_version": "1.5.0",
      "_view_name": "ProgressView",
      "bar_style": "",
      "description": "",
      "description_tooltip": null,
      "layout": "IPY_MODEL_5bcb63cc25aa41f3895bf83dcdfd24a9",
      "max": 1,
      "min": 0,
      "orientation": "horizontal",
      "style": "IPY_MODEL_3ceb9da6056e4404b02b7c224b466b02",
      "value": 0.11354201727813307
     }
    },
    "dc1355461734480a989376baff69c8b6": {
     "model_module": "@jupyter-widgets/controls",
     "model_module_version": "1.5.0",
     "model_name": "LabelModel",
     "state": {
      "_dom_classes": [],
      "_model_module": "@jupyter-widgets/controls",
      "_model_module_version": "1.5.0",
      "_model_name": "LabelModel",
      "_view_count": null,
      "_view_module": "@jupyter-widgets/controls",
      "_view_module_version": "1.5.0",
      "_view_name": "LabelView",
      "description": "",
      "description_tooltip": null,
      "layout": "IPY_MODEL_687bb980b9ee4974878af46ed5b5e407",
      "placeholder": "​",
      "style": "IPY_MODEL_522e585412c94be1867fc73175cdb0fb",
      "value": "0.001 MB of 0.009 MB uploaded (0.000 MB deduped)\r"
     }
    }
   }
  }
 },
 "nbformat": 4,
 "nbformat_minor": 1
}
